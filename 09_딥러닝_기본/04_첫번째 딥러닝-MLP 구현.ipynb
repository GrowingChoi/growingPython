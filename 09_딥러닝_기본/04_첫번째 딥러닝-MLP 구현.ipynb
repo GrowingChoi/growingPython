{
 "cells": [
  {
   "cell_type": "markdown",
   "metadata": {
    "slideshow": {
     "slide_type": "slide"
    }
   },
   "source": [
    "# Pytorch 개발 Process"
   ]
  },
  {
   "cell_type": "markdown",
   "metadata": {
    "slideshow": {
     "slide_type": "fragment"
    }
   },
   "source": [
    "1. **데이터 준비**\n",
    "    - Dataset 준비\n",
    "    - Dataloader 생성"
   ]
  },
  {
   "cell_type": "markdown",
   "metadata": {
    "slideshow": {
     "slide_type": "fragment"
    }
   },
   "source": [
    "2. **입력과 출력을 연결하는 Layer(층)으로 이뤄진 네트워크(모델)을 정의**\n",
    "    - **Sequential 방식**: 순서대로 쌓아올린 네트워크로 이뤄진 모델을 생성하는 방식\n",
    "        - layer를 순서대로 쌓은 모델을 구현할때 간단히 모델을 정의할 수 있다.\n",
    "        - layer block을 정의하는데 사용할 수 있다.\n",
    "    - **Subclass 방식**: 네트워크를 정의하는 클래스를 구현.\n",
    "        - 다양한 구조의 모델을 정의할 수 있다.\n",
    "        - inializer에서 필요한 layer들을 생성한다.\n",
    "        - forward(self, X) 메소드에 forward propagation 계산을 구현한다.\n",
    "    "
   ]
  },
  {
   "cell_type": "markdown",
   "metadata": {
    "slideshow": {
     "slide_type": "fragment"
    }
   },
   "source": [
    "3. **train**\n",
    "    - train 함수, test 함수 정의"
   ]
  },
  {
   "cell_type": "markdown",
   "metadata": {
    "slideshow": {
     "slide_type": "fragment"
    }
   },
   "source": [
    "4. test set 최종평가"
   ]
  },
  {
   "cell_type": "markdown",
   "metadata": {
    "slideshow": {
     "slide_type": "slide"
    }
   },
   "source": [
    "# MNIST 이미지 분류 \n",
    "- **[MNIST](https://ko.wikipedia.org/wiki/MNIST_%EB%8D%B0%EC%9D%B4%ED%84%B0%EB%B2%A0%EC%9D%B4%EC%8A%A4) (Modified National Institute of Standards and Technology) database**\n",
    "- 흑백 손글씨 숫자 0-9까지 10개의 범주로 구분해놓은 데이터셋\n",
    "- 하나의 이미지는 28 * 28 pixel 의 크기\n",
    "- 6만개의 Train 이미지와 1만개의 Test 이미지로 구성됨."
   ]
  },
  {
   "cell_type": "markdown",
   "metadata": {},
   "source": [
    "## import"
   ]
  },
  {
   "cell_type": "code",
   "execution_count": 1,
   "metadata": {},
   "outputs": [],
   "source": [
    "import torch\n",
    "import torch.nn as nn  # 다양한 layer/모델 들이 정의된 패키지. (Neural Network)\n",
    "from torch.utils.data import DataLoader # DataLoader 클래스 -> 모델에 데이터들을 제공하는 역할.\n",
    "from torchvision import datasets, transforms \n",
    "# torchvision 패키지(라이브러리): pytorch의 영상상 전용 sub package\n",
    "## datasets(모듈): Vision(영상)관련 공개개 데이터셋들을 제공하는 모듈\n",
    "## transforms: 영상 데이터 전처리 기능들을 제공하는 모듈\n",
    "\n",
    "import matplotlib.pyplot as plt"
   ]
  },
  {
   "cell_type": "markdown",
   "metadata": {},
   "source": [
    "### device 설정"
   ]
  },
  {
   "cell_type": "code",
   "execution_count": 2,
   "metadata": {},
   "outputs": [
    {
     "name": "stdout",
     "output_type": "stream",
     "text": [
      "False\n",
      "cpu\n"
     ]
    }
   ],
   "source": [
    "# 어느 Device에서 연산처리를 할지 지정. (cpu, cuda(GPU))\n",
    "# device = \"cpu\"\n",
    "print(torch.cuda.is_available())  # cuda를 사용할 수있는 환경인지 조회\n",
    "device = \"cuda\" if torch.cuda.is_available() else \"cpu\" # 2.0이전: torch.Device(\"cuda\")\n",
    "print(device)"
   ]
  },
  {
   "cell_type": "code",
   "execution_count": 2,
   "metadata": {},
   "outputs": [
    {
     "name": "stdout",
     "output_type": "stream",
     "text": [
      "mps\n"
     ]
    }
   ],
   "source": [
    "# MAC OS  (\"cpu\", \"mps\")\n",
    "device = \"mps\" if torch.backends.mps.is_available() else \"cpu\"\n",
    "print(device)"
   ]
  },
  {
   "cell_type": "markdown",
   "metadata": {},
   "source": [
    "### 하이퍼파라미터, 변수 설정"
   ]
  },
  {
   "cell_type": "code",
   "execution_count": 3,
   "metadata": {},
   "outputs": [],
   "source": [
    "lr = 0.001 # 학습률. 0 ~ 1 실수. \n",
    "batch_size = 256  # 모델이 학습할 때 한 번에 몇 개씩 모델에 제공할지 개수. \n",
    "epochs = 20\n",
    "# step: 모델의 파라미터들을 update하는 단위.\n",
    "#  - 1 step: batch_size(256)개수의 데이터로 파라미터를 한번 update한 것.\n",
    "# epoch: train set 전체를 학습하는 단위. \n",
    "#  - 1 epoch: 전체 데이터를 한번 다 학습한 것."
   ]
  },
  {
   "cell_type": "code",
   "execution_count": 4,
   "metadata": {},
   "outputs": [],
   "source": [
    "import os\n",
    "# 학습이 끝난 모델을 저장할 디렉토리.\n",
    "model_dir = \"models\"\n",
    "os.makedirs(model_dir, exist_ok=True)\n",
    "# Dataset을 저장할 디렉토리\n",
    "dataset_dir = \"datasets/mnist\"\n",
    "os.makedirs(dataset_dir, exist_ok=True)"
   ]
  },
  {
   "cell_type": "markdown",
   "metadata": {
    "ExecuteTime": {
     "end_time": "2021-08-30T05:02:52.852140Z",
     "start_time": "2021-08-30T05:02:52.563117Z"
    },
    "slideshow": {
     "slide_type": "slide"
    }
   },
   "source": [
    "### MNIST dataset Loading\n",
    "\n",
    "#### Dataset"
   ]
  },
  {
   "cell_type": "code",
<<<<<<< Updated upstream
   "execution_count": 11,
=======
   "execution_count": 5,
>>>>>>> Stashed changes
   "metadata": {},
   "outputs": [],
   "source": [
    "trainset = datasets.MNIST(\n",
    "    root=dataset_dir, # Dataset을 읽어올 디렉토리.\n",
    "    download=True,    # root 에 dataset이 없을 경우 다운로드 받을지 여부.\n",
    "    transform=transforms.ToTensor()\n",
    ")\n",
    "testset = datasets.MNIST(\n",
    "    root=dataset_dir,\n",
    "    download=True,\n",
    "    train=False,       # Trainset인지 여부. True(default): train set, False: test set\n",
    "    transform=transforms.ToTensor()\n",
    ")\n",
    "######################################################################################\n",
    "#  transform=함수 -> input data를 전처리하는 함수를 전달.\n",
    "######################################################################################\n",
    "# transforms.ToTensor 가 하는 처리\n",
    "## ndarray, PIL.Image 객체를 torch.Tensor 로 변환.\n",
    "## (height, width, channel) 순서를 channel first (channel, height, width) 형태로 변환.\n",
    "## pixcel값들(0~255 정수)을 0 ~ 1 로 정규화. (Feature Scaling - MinMaxScaling)"
   ]
  },
  {
   "cell_type": "code",
   "execution_count": 6,
   "metadata": {},
   "outputs": [
    {
     "data": {
      "text/plain": [
       "Dataset MNIST\n",
       "    Number of datapoints: 60000\n",
       "    Root location: datasets/mnist\n",
<<<<<<< Updated upstream
       "    Split: Train"
=======
       "    Split: Train\n",
       "    StandardTransform\n",
       "Transform: ToTensor()"
>>>>>>> Stashed changes
      ]
     },
     "execution_count": 6,
     "metadata": {},
     "output_type": "execute_result"
    }
   ],
<<<<<<< Updated upstream
=======
   "source": [
    "trainset"
   ]
  },
  {
   "cell_type": "code",
   "execution_count": 7,
   "metadata": {},
   "outputs": [
    {
     "data": {
      "text/plain": [
       "Dataset MNIST\n",
       "    Number of datapoints: 10000\n",
       "    Root location: datasets/mnist\n",
       "    Split: Test\n",
       "    StandardTransform\n",
       "Transform: ToTensor()"
      ]
     },
     "execution_count": 7,
     "metadata": {},
     "output_type": "execute_result"
    }
   ],
>>>>>>> Stashed changes
   "source": [
    "#testset\n",
    "trainset"
   ]
  },
  {
   "cell_type": "code",
<<<<<<< Updated upstream
   "execution_count": 7,
=======
   "execution_count": 8,
>>>>>>> Stashed changes
   "metadata": {},
   "outputs": [
    {
     "data": {
      "text/plain": [
<<<<<<< Updated upstream
       "(<PIL.Image.Image image mode=L size=28x28>, 5)"
      ]
     },
     "execution_count": 7,
=======
       "(tensor([[[0.0000, 0.0000, 0.0000, 0.0000, 0.0000, 0.0000, 0.0000, 0.0000,\n",
       "           0.0000, 0.0000, 0.0000, 0.0000, 0.0000, 0.0000, 0.0000, 0.0000,\n",
       "           0.0000, 0.0000, 0.0000, 0.0000, 0.0000, 0.0000, 0.0000, 0.0000,\n",
       "           0.0000, 0.0000, 0.0000, 0.0000],\n",
       "          [0.0000, 0.0000, 0.0000, 0.0000, 0.0000, 0.0000, 0.0000, 0.0000,\n",
       "           0.0000, 0.0000, 0.0000, 0.0000, 0.0000, 0.0000, 0.0000, 0.0000,\n",
       "           0.0000, 0.0000, 0.0000, 0.0000, 0.0000, 0.0000, 0.0000, 0.0000,\n",
       "           0.0000, 0.0000, 0.0000, 0.0000],\n",
       "          [0.0000, 0.0000, 0.0000, 0.0000, 0.0000, 0.0000, 0.0000, 0.0000,\n",
       "           0.0000, 0.0000, 0.0000, 0.0000, 0.0000, 0.0000, 0.0000, 0.0000,\n",
       "           0.0000, 0.0000, 0.0000, 0.0000, 0.0000, 0.0000, 0.0000, 0.0000,\n",
       "           0.0000, 0.0000, 0.0000, 0.0000],\n",
       "          [0.0000, 0.0000, 0.0000, 0.0000, 0.0000, 0.0000, 0.0000, 0.0000,\n",
       "           0.0000, 0.0000, 0.0000, 0.0000, 0.0000, 0.0000, 0.0000, 0.0000,\n",
       "           0.0000, 0.0000, 0.0000, 0.0000, 0.0000, 0.0000, 0.0000, 0.0000,\n",
       "           0.0000, 0.0000, 0.0000, 0.0000],\n",
       "          [0.0000, 0.0000, 0.0000, 0.0000, 0.0000, 0.0000, 0.0000, 0.0000,\n",
       "           0.0000, 0.0000, 0.0000, 0.0000, 0.0000, 0.0000, 0.0000, 0.0000,\n",
       "           0.0000, 0.0000, 0.0000, 0.0000, 0.0000, 0.0000, 0.0000, 0.0000,\n",
       "           0.0000, 0.0000, 0.0000, 0.0000],\n",
       "          [0.0000, 0.0000, 0.0000, 0.0000, 0.0000, 0.0000, 0.0000, 0.0000,\n",
       "           0.0000, 0.0000, 0.0000, 0.0000, 0.0118, 0.0706, 0.0706, 0.0706,\n",
       "           0.4941, 0.5333, 0.6863, 0.1020, 0.6510, 1.0000, 0.9686, 0.4980,\n",
       "           0.0000, 0.0000, 0.0000, 0.0000],\n",
       "          [0.0000, 0.0000, 0.0000, 0.0000, 0.0000, 0.0000, 0.0000, 0.0000,\n",
       "           0.1176, 0.1412, 0.3686, 0.6039, 0.6667, 0.9922, 0.9922, 0.9922,\n",
       "           0.9922, 0.9922, 0.8824, 0.6745, 0.9922, 0.9490, 0.7647, 0.2510,\n",
       "           0.0000, 0.0000, 0.0000, 0.0000],\n",
       "          [0.0000, 0.0000, 0.0000, 0.0000, 0.0000, 0.0000, 0.0000, 0.1922,\n",
       "           0.9333, 0.9922, 0.9922, 0.9922, 0.9922, 0.9922, 0.9922, 0.9922,\n",
       "           0.9922, 0.9843, 0.3647, 0.3216, 0.3216, 0.2196, 0.1529, 0.0000,\n",
       "           0.0000, 0.0000, 0.0000, 0.0000],\n",
       "          [0.0000, 0.0000, 0.0000, 0.0000, 0.0000, 0.0000, 0.0000, 0.0706,\n",
       "           0.8588, 0.9922, 0.9922, 0.9922, 0.9922, 0.9922, 0.7765, 0.7137,\n",
       "           0.9686, 0.9451, 0.0000, 0.0000, 0.0000, 0.0000, 0.0000, 0.0000,\n",
       "           0.0000, 0.0000, 0.0000, 0.0000],\n",
       "          [0.0000, 0.0000, 0.0000, 0.0000, 0.0000, 0.0000, 0.0000, 0.0000,\n",
       "           0.3137, 0.6118, 0.4196, 0.9922, 0.9922, 0.8039, 0.0431, 0.0000,\n",
       "           0.1686, 0.6039, 0.0000, 0.0000, 0.0000, 0.0000, 0.0000, 0.0000,\n",
       "           0.0000, 0.0000, 0.0000, 0.0000],\n",
       "          [0.0000, 0.0000, 0.0000, 0.0000, 0.0000, 0.0000, 0.0000, 0.0000,\n",
       "           0.0000, 0.0549, 0.0039, 0.6039, 0.9922, 0.3529, 0.0000, 0.0000,\n",
       "           0.0000, 0.0000, 0.0000, 0.0000, 0.0000, 0.0000, 0.0000, 0.0000,\n",
       "           0.0000, 0.0000, 0.0000, 0.0000],\n",
       "          [0.0000, 0.0000, 0.0000, 0.0000, 0.0000, 0.0000, 0.0000, 0.0000,\n",
       "           0.0000, 0.0000, 0.0000, 0.5451, 0.9922, 0.7451, 0.0078, 0.0000,\n",
       "           0.0000, 0.0000, 0.0000, 0.0000, 0.0000, 0.0000, 0.0000, 0.0000,\n",
       "           0.0000, 0.0000, 0.0000, 0.0000],\n",
       "          [0.0000, 0.0000, 0.0000, 0.0000, 0.0000, 0.0000, 0.0000, 0.0000,\n",
       "           0.0000, 0.0000, 0.0000, 0.0431, 0.7451, 0.9922, 0.2745, 0.0000,\n",
       "           0.0000, 0.0000, 0.0000, 0.0000, 0.0000, 0.0000, 0.0000, 0.0000,\n",
       "           0.0000, 0.0000, 0.0000, 0.0000],\n",
       "          [0.0000, 0.0000, 0.0000, 0.0000, 0.0000, 0.0000, 0.0000, 0.0000,\n",
       "           0.0000, 0.0000, 0.0000, 0.0000, 0.1373, 0.9451, 0.8824, 0.6275,\n",
       "           0.4235, 0.0039, 0.0000, 0.0000, 0.0000, 0.0000, 0.0000, 0.0000,\n",
       "           0.0000, 0.0000, 0.0000, 0.0000],\n",
       "          [0.0000, 0.0000, 0.0000, 0.0000, 0.0000, 0.0000, 0.0000, 0.0000,\n",
       "           0.0000, 0.0000, 0.0000, 0.0000, 0.0000, 0.3176, 0.9412, 0.9922,\n",
       "           0.9922, 0.4667, 0.0980, 0.0000, 0.0000, 0.0000, 0.0000, 0.0000,\n",
       "           0.0000, 0.0000, 0.0000, 0.0000],\n",
       "          [0.0000, 0.0000, 0.0000, 0.0000, 0.0000, 0.0000, 0.0000, 0.0000,\n",
       "           0.0000, 0.0000, 0.0000, 0.0000, 0.0000, 0.0000, 0.1765, 0.7294,\n",
       "           0.9922, 0.9922, 0.5882, 0.1059, 0.0000, 0.0000, 0.0000, 0.0000,\n",
       "           0.0000, 0.0000, 0.0000, 0.0000],\n",
       "          [0.0000, 0.0000, 0.0000, 0.0000, 0.0000, 0.0000, 0.0000, 0.0000,\n",
       "           0.0000, 0.0000, 0.0000, 0.0000, 0.0000, 0.0000, 0.0000, 0.0627,\n",
       "           0.3647, 0.9882, 0.9922, 0.7333, 0.0000, 0.0000, 0.0000, 0.0000,\n",
       "           0.0000, 0.0000, 0.0000, 0.0000],\n",
       "          [0.0000, 0.0000, 0.0000, 0.0000, 0.0000, 0.0000, 0.0000, 0.0000,\n",
       "           0.0000, 0.0000, 0.0000, 0.0000, 0.0000, 0.0000, 0.0000, 0.0000,\n",
       "           0.0000, 0.9765, 0.9922, 0.9765, 0.2510, 0.0000, 0.0000, 0.0000,\n",
       "           0.0000, 0.0000, 0.0000, 0.0000],\n",
       "          [0.0000, 0.0000, 0.0000, 0.0000, 0.0000, 0.0000, 0.0000, 0.0000,\n",
       "           0.0000, 0.0000, 0.0000, 0.0000, 0.0000, 0.0000, 0.1804, 0.5098,\n",
       "           0.7176, 0.9922, 0.9922, 0.8118, 0.0078, 0.0000, 0.0000, 0.0000,\n",
       "           0.0000, 0.0000, 0.0000, 0.0000],\n",
       "          [0.0000, 0.0000, 0.0000, 0.0000, 0.0000, 0.0000, 0.0000, 0.0000,\n",
       "           0.0000, 0.0000, 0.0000, 0.0000, 0.1529, 0.5804, 0.8980, 0.9922,\n",
       "           0.9922, 0.9922, 0.9804, 0.7137, 0.0000, 0.0000, 0.0000, 0.0000,\n",
       "           0.0000, 0.0000, 0.0000, 0.0000],\n",
       "          [0.0000, 0.0000, 0.0000, 0.0000, 0.0000, 0.0000, 0.0000, 0.0000,\n",
       "           0.0000, 0.0000, 0.0941, 0.4471, 0.8667, 0.9922, 0.9922, 0.9922,\n",
       "           0.9922, 0.7882, 0.3059, 0.0000, 0.0000, 0.0000, 0.0000, 0.0000,\n",
       "           0.0000, 0.0000, 0.0000, 0.0000],\n",
       "          [0.0000, 0.0000, 0.0000, 0.0000, 0.0000, 0.0000, 0.0000, 0.0000,\n",
       "           0.0902, 0.2588, 0.8353, 0.9922, 0.9922, 0.9922, 0.9922, 0.7765,\n",
       "           0.3176, 0.0078, 0.0000, 0.0000, 0.0000, 0.0000, 0.0000, 0.0000,\n",
       "           0.0000, 0.0000, 0.0000, 0.0000],\n",
       "          [0.0000, 0.0000, 0.0000, 0.0000, 0.0000, 0.0000, 0.0706, 0.6706,\n",
       "           0.8588, 0.9922, 0.9922, 0.9922, 0.9922, 0.7647, 0.3137, 0.0353,\n",
       "           0.0000, 0.0000, 0.0000, 0.0000, 0.0000, 0.0000, 0.0000, 0.0000,\n",
       "           0.0000, 0.0000, 0.0000, 0.0000],\n",
       "          [0.0000, 0.0000, 0.0000, 0.0000, 0.2157, 0.6745, 0.8863, 0.9922,\n",
       "           0.9922, 0.9922, 0.9922, 0.9569, 0.5216, 0.0431, 0.0000, 0.0000,\n",
       "           0.0000, 0.0000, 0.0000, 0.0000, 0.0000, 0.0000, 0.0000, 0.0000,\n",
       "           0.0000, 0.0000, 0.0000, 0.0000],\n",
       "          [0.0000, 0.0000, 0.0000, 0.0000, 0.5333, 0.9922, 0.9922, 0.9922,\n",
       "           0.8314, 0.5294, 0.5176, 0.0627, 0.0000, 0.0000, 0.0000, 0.0000,\n",
       "           0.0000, 0.0000, 0.0000, 0.0000, 0.0000, 0.0000, 0.0000, 0.0000,\n",
       "           0.0000, 0.0000, 0.0000, 0.0000],\n",
       "          [0.0000, 0.0000, 0.0000, 0.0000, 0.0000, 0.0000, 0.0000, 0.0000,\n",
       "           0.0000, 0.0000, 0.0000, 0.0000, 0.0000, 0.0000, 0.0000, 0.0000,\n",
       "           0.0000, 0.0000, 0.0000, 0.0000, 0.0000, 0.0000, 0.0000, 0.0000,\n",
       "           0.0000, 0.0000, 0.0000, 0.0000],\n",
       "          [0.0000, 0.0000, 0.0000, 0.0000, 0.0000, 0.0000, 0.0000, 0.0000,\n",
       "           0.0000, 0.0000, 0.0000, 0.0000, 0.0000, 0.0000, 0.0000, 0.0000,\n",
       "           0.0000, 0.0000, 0.0000, 0.0000, 0.0000, 0.0000, 0.0000, 0.0000,\n",
       "           0.0000, 0.0000, 0.0000, 0.0000],\n",
       "          [0.0000, 0.0000, 0.0000, 0.0000, 0.0000, 0.0000, 0.0000, 0.0000,\n",
       "           0.0000, 0.0000, 0.0000, 0.0000, 0.0000, 0.0000, 0.0000, 0.0000,\n",
       "           0.0000, 0.0000, 0.0000, 0.0000, 0.0000, 0.0000, 0.0000, 0.0000,\n",
       "           0.0000, 0.0000, 0.0000, 0.0000]]]),\n",
       " 5)"
      ]
     },
     "execution_count": 8,
>>>>>>> Stashed changes
     "metadata": {},
     "output_type": "execute_result"
    }
   ],
   "source": [
    "# 개별데이터 조회\n",
    "trainset[0]  # tuple: (input, output)"
   ]
  },
  {
   "cell_type": "code",
<<<<<<< Updated upstream
   "execution_count": 8,
=======
   "execution_count": 9,
>>>>>>> Stashed changes
   "metadata": {},
   "outputs": [
    {
     "data": {
<<<<<<< Updated upstream
      "image/jpeg": "/9j/4AAQSkZJRgABAQAAAQABAAD/2wBDAAgGBgcGBQgHBwcJCQgKDBQNDAsLDBkSEw8UHRofHh0aHBwgJC4nICIsIxwcKDcpLDAxNDQ0Hyc5PTgyPC4zNDL/wAALCAAcABwBAREA/8QAHwAAAQUBAQEBAQEAAAAAAAAAAAECAwQFBgcICQoL/8QAtRAAAgEDAwIEAwUFBAQAAAF9AQIDAAQRBRIhMUEGE1FhByJxFDKBkaEII0KxwRVS0fAkM2JyggkKFhcYGRolJicoKSo0NTY3ODk6Q0RFRkdISUpTVFVWV1hZWmNkZWZnaGlqc3R1dnd4eXqDhIWGh4iJipKTlJWWl5iZmqKjpKWmp6ipqrKztLW2t7i5usLDxMXGx8jJytLT1NXW19jZ2uHi4+Tl5ufo6erx8vP09fb3+Pn6/9oACAEBAAA/APAACzBVBJJwAO9dnp/wm8damu6Dw5dRjGf9IKw/+hkVPffCnWNJa7XVNV0Kxa1hErrNe/M2cnYqgElsAHpjkc1wlAODkV694W8c654t8M6n4TuvEctrrFw0cun3c0/lq+3AMJcDK5AyOeTkd+fPvGFn4gsvEtzF4m89tUG1ZJJjuMgUBVYN/EMKOe9YVXtK0bUtdvVs9LsZ7y4YgbIULYycZPoPc8V6lpfwh0/w7p66z8RdXj0y2z8llC4aWQ+mRn8lz9RXPfE3x1pvi46TYaPZTQadpMJghluWDSyrhQM9SMBe5Oc5NcBV7Tda1XRZJJNK1O8sXkG12tZ2iLD0JUjNQ3l9eahN517dT3MvTfNIXb16n6mq9Ff/2Q==",
      "image/png": "iVBORw0KGgoAAAANSUhEUgAAABwAAAAcCAAAAABXZoBIAAABAklEQVR4AWIY1IBZSEiormO91LL/3+tBDmUBESAsx2ZlIxAMYj2ZFPj54kEQixFEMDAwGO7lh7L+JX1lePb+JpQHBkK3/4LAsW3fP4L5qETAnOy/f89yM2jPQhWHAD7GWX+jIEwYyQRjMHz6/5EhBcGFi0MB976/blAmFkr548MFOTD3Y8gHfvj7t1wSQxgKdHf9/TtNGsrBoARi//zdjSEKBz///nSAcuBhC+HrhZiyMFw7BOGgkoCpT3n69+/fX9tQRcE8iaK7oOA96QfmoRDiTldBUscCMQNJaDU4Vg4HcKLoAHHM1zwC6frSyg3iITDYtYGBDAzXN//t+YAQpyULAEUXXoDz1Y8qAAAAAElFTkSuQmCC",
      "text/plain": [
       "<PIL.Image.Image image mode=L size=28x28>"
      ]
     },
     "execution_count": 8,
=======
      "text/plain": [
       "tensor([[[0.0000, 0.0000, 0.0000, 0.0000, 0.0000, 0.0000, 0.0000, 0.0000,\n",
       "          0.0000, 0.0000, 0.0000, 0.0000, 0.0000, 0.0000, 0.0000, 0.0000,\n",
       "          0.0000, 0.0000, 0.0000, 0.0000, 0.0000, 0.0000, 0.0000, 0.0000,\n",
       "          0.0000, 0.0000, 0.0000, 0.0000],\n",
       "         [0.0000, 0.0000, 0.0000, 0.0000, 0.0000, 0.0000, 0.0000, 0.0000,\n",
       "          0.0000, 0.0000, 0.0000, 0.0000, 0.0000, 0.0000, 0.0000, 0.0000,\n",
       "          0.0000, 0.0000, 0.0000, 0.0000, 0.0000, 0.0000, 0.0000, 0.0000,\n",
       "          0.0000, 0.0000, 0.0000, 0.0000],\n",
       "         [0.0000, 0.0000, 0.0000, 0.0000, 0.0000, 0.0000, 0.0000, 0.0000,\n",
       "          0.0000, 0.0000, 0.0000, 0.0000, 0.0000, 0.0000, 0.0000, 0.0000,\n",
       "          0.0000, 0.0000, 0.0000, 0.0000, 0.0000, 0.0000, 0.0000, 0.0000,\n",
       "          0.0000, 0.0000, 0.0000, 0.0000],\n",
       "         [0.0000, 0.0000, 0.0000, 0.0000, 0.0000, 0.0000, 0.0000, 0.0000,\n",
       "          0.0000, 0.0000, 0.0000, 0.0000, 0.0000, 0.0000, 0.0000, 0.0000,\n",
       "          0.0000, 0.0000, 0.0000, 0.0000, 0.0000, 0.0000, 0.0000, 0.0000,\n",
       "          0.0000, 0.0000, 0.0000, 0.0000],\n",
       "         [0.0000, 0.0000, 0.0000, 0.0000, 0.0000, 0.0000, 0.0000, 0.0000,\n",
       "          0.0000, 0.0000, 0.0000, 0.0000, 0.0000, 0.0000, 0.0000, 0.0000,\n",
       "          0.0000, 0.0000, 0.0000, 0.0000, 0.0000, 0.0000, 0.0000, 0.0000,\n",
       "          0.0000, 0.0000, 0.0000, 0.0000],\n",
       "         [0.0000, 0.0000, 0.0000, 0.0000, 0.0000, 0.0000, 0.0000, 0.0000,\n",
       "          0.0000, 0.0000, 0.0000, 0.0000, 0.0118, 0.0706, 0.0706, 0.0706,\n",
       "          0.4941, 0.5333, 0.6863, 0.1020, 0.6510, 1.0000, 0.9686, 0.4980,\n",
       "          0.0000, 0.0000, 0.0000, 0.0000],\n",
       "         [0.0000, 0.0000, 0.0000, 0.0000, 0.0000, 0.0000, 0.0000, 0.0000,\n",
       "          0.1176, 0.1412, 0.3686, 0.6039, 0.6667, 0.9922, 0.9922, 0.9922,\n",
       "          0.9922, 0.9922, 0.8824, 0.6745, 0.9922, 0.9490, 0.7647, 0.2510,\n",
       "          0.0000, 0.0000, 0.0000, 0.0000],\n",
       "         [0.0000, 0.0000, 0.0000, 0.0000, 0.0000, 0.0000, 0.0000, 0.1922,\n",
       "          0.9333, 0.9922, 0.9922, 0.9922, 0.9922, 0.9922, 0.9922, 0.9922,\n",
       "          0.9922, 0.9843, 0.3647, 0.3216, 0.3216, 0.2196, 0.1529, 0.0000,\n",
       "          0.0000, 0.0000, 0.0000, 0.0000],\n",
       "         [0.0000, 0.0000, 0.0000, 0.0000, 0.0000, 0.0000, 0.0000, 0.0706,\n",
       "          0.8588, 0.9922, 0.9922, 0.9922, 0.9922, 0.9922, 0.7765, 0.7137,\n",
       "          0.9686, 0.9451, 0.0000, 0.0000, 0.0000, 0.0000, 0.0000, 0.0000,\n",
       "          0.0000, 0.0000, 0.0000, 0.0000],\n",
       "         [0.0000, 0.0000, 0.0000, 0.0000, 0.0000, 0.0000, 0.0000, 0.0000,\n",
       "          0.3137, 0.6118, 0.4196, 0.9922, 0.9922, 0.8039, 0.0431, 0.0000,\n",
       "          0.1686, 0.6039, 0.0000, 0.0000, 0.0000, 0.0000, 0.0000, 0.0000,\n",
       "          0.0000, 0.0000, 0.0000, 0.0000],\n",
       "         [0.0000, 0.0000, 0.0000, 0.0000, 0.0000, 0.0000, 0.0000, 0.0000,\n",
       "          0.0000, 0.0549, 0.0039, 0.6039, 0.9922, 0.3529, 0.0000, 0.0000,\n",
       "          0.0000, 0.0000, 0.0000, 0.0000, 0.0000, 0.0000, 0.0000, 0.0000,\n",
       "          0.0000, 0.0000, 0.0000, 0.0000],\n",
       "         [0.0000, 0.0000, 0.0000, 0.0000, 0.0000, 0.0000, 0.0000, 0.0000,\n",
       "          0.0000, 0.0000, 0.0000, 0.5451, 0.9922, 0.7451, 0.0078, 0.0000,\n",
       "          0.0000, 0.0000, 0.0000, 0.0000, 0.0000, 0.0000, 0.0000, 0.0000,\n",
       "          0.0000, 0.0000, 0.0000, 0.0000],\n",
       "         [0.0000, 0.0000, 0.0000, 0.0000, 0.0000, 0.0000, 0.0000, 0.0000,\n",
       "          0.0000, 0.0000, 0.0000, 0.0431, 0.7451, 0.9922, 0.2745, 0.0000,\n",
       "          0.0000, 0.0000, 0.0000, 0.0000, 0.0000, 0.0000, 0.0000, 0.0000,\n",
       "          0.0000, 0.0000, 0.0000, 0.0000],\n",
       "         [0.0000, 0.0000, 0.0000, 0.0000, 0.0000, 0.0000, 0.0000, 0.0000,\n",
       "          0.0000, 0.0000, 0.0000, 0.0000, 0.1373, 0.9451, 0.8824, 0.6275,\n",
       "          0.4235, 0.0039, 0.0000, 0.0000, 0.0000, 0.0000, 0.0000, 0.0000,\n",
       "          0.0000, 0.0000, 0.0000, 0.0000],\n",
       "         [0.0000, 0.0000, 0.0000, 0.0000, 0.0000, 0.0000, 0.0000, 0.0000,\n",
       "          0.0000, 0.0000, 0.0000, 0.0000, 0.0000, 0.3176, 0.9412, 0.9922,\n",
       "          0.9922, 0.4667, 0.0980, 0.0000, 0.0000, 0.0000, 0.0000, 0.0000,\n",
       "          0.0000, 0.0000, 0.0000, 0.0000],\n",
       "         [0.0000, 0.0000, 0.0000, 0.0000, 0.0000, 0.0000, 0.0000, 0.0000,\n",
       "          0.0000, 0.0000, 0.0000, 0.0000, 0.0000, 0.0000, 0.1765, 0.7294,\n",
       "          0.9922, 0.9922, 0.5882, 0.1059, 0.0000, 0.0000, 0.0000, 0.0000,\n",
       "          0.0000, 0.0000, 0.0000, 0.0000],\n",
       "         [0.0000, 0.0000, 0.0000, 0.0000, 0.0000, 0.0000, 0.0000, 0.0000,\n",
       "          0.0000, 0.0000, 0.0000, 0.0000, 0.0000, 0.0000, 0.0000, 0.0627,\n",
       "          0.3647, 0.9882, 0.9922, 0.7333, 0.0000, 0.0000, 0.0000, 0.0000,\n",
       "          0.0000, 0.0000, 0.0000, 0.0000],\n",
       "         [0.0000, 0.0000, 0.0000, 0.0000, 0.0000, 0.0000, 0.0000, 0.0000,\n",
       "          0.0000, 0.0000, 0.0000, 0.0000, 0.0000, 0.0000, 0.0000, 0.0000,\n",
       "          0.0000, 0.9765, 0.9922, 0.9765, 0.2510, 0.0000, 0.0000, 0.0000,\n",
       "          0.0000, 0.0000, 0.0000, 0.0000],\n",
       "         [0.0000, 0.0000, 0.0000, 0.0000, 0.0000, 0.0000, 0.0000, 0.0000,\n",
       "          0.0000, 0.0000, 0.0000, 0.0000, 0.0000, 0.0000, 0.1804, 0.5098,\n",
       "          0.7176, 0.9922, 0.9922, 0.8118, 0.0078, 0.0000, 0.0000, 0.0000,\n",
       "          0.0000, 0.0000, 0.0000, 0.0000],\n",
       "         [0.0000, 0.0000, 0.0000, 0.0000, 0.0000, 0.0000, 0.0000, 0.0000,\n",
       "          0.0000, 0.0000, 0.0000, 0.0000, 0.1529, 0.5804, 0.8980, 0.9922,\n",
       "          0.9922, 0.9922, 0.9804, 0.7137, 0.0000, 0.0000, 0.0000, 0.0000,\n",
       "          0.0000, 0.0000, 0.0000, 0.0000],\n",
       "         [0.0000, 0.0000, 0.0000, 0.0000, 0.0000, 0.0000, 0.0000, 0.0000,\n",
       "          0.0000, 0.0000, 0.0941, 0.4471, 0.8667, 0.9922, 0.9922, 0.9922,\n",
       "          0.9922, 0.7882, 0.3059, 0.0000, 0.0000, 0.0000, 0.0000, 0.0000,\n",
       "          0.0000, 0.0000, 0.0000, 0.0000],\n",
       "         [0.0000, 0.0000, 0.0000, 0.0000, 0.0000, 0.0000, 0.0000, 0.0000,\n",
       "          0.0902, 0.2588, 0.8353, 0.9922, 0.9922, 0.9922, 0.9922, 0.7765,\n",
       "          0.3176, 0.0078, 0.0000, 0.0000, 0.0000, 0.0000, 0.0000, 0.0000,\n",
       "          0.0000, 0.0000, 0.0000, 0.0000],\n",
       "         [0.0000, 0.0000, 0.0000, 0.0000, 0.0000, 0.0000, 0.0706, 0.6706,\n",
       "          0.8588, 0.9922, 0.9922, 0.9922, 0.9922, 0.7647, 0.3137, 0.0353,\n",
       "          0.0000, 0.0000, 0.0000, 0.0000, 0.0000, 0.0000, 0.0000, 0.0000,\n",
       "          0.0000, 0.0000, 0.0000, 0.0000],\n",
       "         [0.0000, 0.0000, 0.0000, 0.0000, 0.2157, 0.6745, 0.8863, 0.9922,\n",
       "          0.9922, 0.9922, 0.9922, 0.9569, 0.5216, 0.0431, 0.0000, 0.0000,\n",
       "          0.0000, 0.0000, 0.0000, 0.0000, 0.0000, 0.0000, 0.0000, 0.0000,\n",
       "          0.0000, 0.0000, 0.0000, 0.0000],\n",
       "         [0.0000, 0.0000, 0.0000, 0.0000, 0.5333, 0.9922, 0.9922, 0.9922,\n",
       "          0.8314, 0.5294, 0.5176, 0.0627, 0.0000, 0.0000, 0.0000, 0.0000,\n",
       "          0.0000, 0.0000, 0.0000, 0.0000, 0.0000, 0.0000, 0.0000, 0.0000,\n",
       "          0.0000, 0.0000, 0.0000, 0.0000],\n",
       "         [0.0000, 0.0000, 0.0000, 0.0000, 0.0000, 0.0000, 0.0000, 0.0000,\n",
       "          0.0000, 0.0000, 0.0000, 0.0000, 0.0000, 0.0000, 0.0000, 0.0000,\n",
       "          0.0000, 0.0000, 0.0000, 0.0000, 0.0000, 0.0000, 0.0000, 0.0000,\n",
       "          0.0000, 0.0000, 0.0000, 0.0000],\n",
       "         [0.0000, 0.0000, 0.0000, 0.0000, 0.0000, 0.0000, 0.0000, 0.0000,\n",
       "          0.0000, 0.0000, 0.0000, 0.0000, 0.0000, 0.0000, 0.0000, 0.0000,\n",
       "          0.0000, 0.0000, 0.0000, 0.0000, 0.0000, 0.0000, 0.0000, 0.0000,\n",
       "          0.0000, 0.0000, 0.0000, 0.0000],\n",
       "         [0.0000, 0.0000, 0.0000, 0.0000, 0.0000, 0.0000, 0.0000, 0.0000,\n",
       "          0.0000, 0.0000, 0.0000, 0.0000, 0.0000, 0.0000, 0.0000, 0.0000,\n",
       "          0.0000, 0.0000, 0.0000, 0.0000, 0.0000, 0.0000, 0.0000, 0.0000,\n",
       "          0.0000, 0.0000, 0.0000, 0.0000]]])"
      ]
     },
     "execution_count": 9,
>>>>>>> Stashed changes
     "metadata": {},
     "output_type": "execute_result"
    }
   ],
   "source": [
    "trainset[0][0]"
   ]
  },
  {
   "cell_type": "code",
<<<<<<< Updated upstream
   "execution_count": 9,
   "metadata": {},
   "outputs": [
    {
     "name": "stdout",
     "output_type": "stream",
     "text": [
      "(28, 28) uint8\n"
=======
   "execution_count": 42,
   "metadata": {},
   "outputs": [
    {
     "name": "stderr",
     "output_type": "stream",
     "text": [
      "/var/folders/bq/jkbvykcn581fs5nybn133d8h0000gn/T/ipykernel_29306/3053554550.py:2: DeprecationWarning: __array__ implementation doesn't accept a copy keyword, so passing copy=False failed. __array__ must implement 'dtype' and 'copy' keyword arguments. To learn more, see the migration guide https://numpy.org/devdocs/numpy_2_0_migration_guide.html#adapting-to-changes-in-the-copy-keyword\n",
      "  a = np.array(trainset[0][0])  # PIL.Image -변환-> ndarray\n"
>>>>>>> Stashed changes
     ]
    },
    {
     "data": {
      "text/plain": [
<<<<<<< Updated upstream
       "(np.uint8(0), np.uint8(255))"
      ]
     },
     "execution_count": 9,
=======
       "(np.float32(0.0), np.float32(1.0))"
      ]
     },
     "execution_count": 42,
>>>>>>> Stashed changes
     "metadata": {},
     "output_type": "execute_result"
    }
   ],
   "source": [
    "import numpy as np\n",
    "a = np.array(trainset[0][0])  # PIL.Image -변환-> ndarray\n",
    "print(a.shape, a.dtype)\n",
    "a.min(), a.max()"
   ]
  },
  {
   "cell_type": "code",
   "execution_count": 12,
   "metadata": {},
   "outputs": [
    {
     "name": "stdout",
     "output_type": "stream",
     "text": [
      "torch.Size([1, 28, 28])\n",
      "torch.float32 torch.FloatTensor\n",
      "tensor(0.) tensor(1.)\n"
     ]
    }
   ],
   "source": [
    "################ transforms.ToTensor() 적용 후 확인################\n",
    "f1 = trainset[0][0]\n",
    "print(f1.shape)   # (1:channel-grayscale, 28: height, 28:width)\n",
    "print(f1.dtype, f1.type())\n",
    "print(f1.min(), f1.max())"
   ]
  },
  {
   "cell_type": "code",
   "execution_count": 29,
   "metadata": {},
   "outputs": [
    {
     "name": "stdout",
     "output_type": "stream",
     "text": [
      "60000\n"
     ]
    },
    {
     "data": {
      "image/png": "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",
      "text/plain": [
       "<Figure size 200x200 with 1 Axes>"
      ]
     },
     "metadata": {},
     "output_type": "display_data"
    }
   ],
   "source": [
    "import random\n",
    "print(len(trainset))\n",
    "idx = random.randint(0, len(trainset)) #0 ~ 60000 사이 랜덤 정수를 반환.\n",
    "img, label = trainset[idx]\n",
    "\n",
    "plt.figure(figsize=(2, 2))\n",
    "plt.imshow(img.squeeze(), cmap=\"gray\") # (1, 28, 28) -> (28, 28). matplotlib은 이미지를 (h, w, c) 로 전달해야함.\n",
    "plt.title(f\"{idx}\\n{label}\")\n",
    "plt.show()    "
   ]
  },
  {
   "cell_type": "markdown",
   "metadata": {},
   "source": [
    "#### DataLoader"
   ]
  },
  {
   "cell_type": "code",
   "execution_count": 13,
   "metadata": {},
   "outputs": [],
   "source": [
    "# DataLoader: Dataset의 데이터들을 모델에 제공하는 역할. 데이터들을 모델에 어떻게 제공할지 설정해서 생성.\n",
    "# Dataset: 데이터들을 가지고 있는 역할. 하나씩 조회하는 기능을 제공.\n",
    "train_loader = DataLoader(\n",
    "    trainset,              # Dataset\n",
    "    batch_size=batch_size, # batch size (256)\n",
    "    shuffle=True,   # 모델에 데이터를 제공하기 전에 섞을지 여부. (default: False) True: 한 epoch 학습 전에 섞는다.\n",
    "    drop_last=True, # 모델에 제공할 데이터의 개수가 batch_size보다 적으면 제공하지 않는다. (학습에 사용안함)\n",
    ")\n",
    "\n",
    "test_loader = DataLoader(testset, batch_size=batch_size)"
   ]
  },
  {
   "cell_type": "code",
   "execution_count": 14,
   "metadata": {},
   "outputs": [
    {
     "data": {
      "text/plain": [
       "(60000, 10000)"
      ]
     },
     "execution_count": 14,
     "metadata": {},
     "output_type": "execute_result"
    }
   ],
   "source": [
    "# 전체 데이터 개수.\n",
    "len(trainset), len(testset)"
   ]
  },
  {
   "cell_type": "code",
   "execution_count": 15,
   "metadata": {},
   "outputs": [
    {
     "data": {
      "text/plain": [
       "(234, 40)"
      ]
     },
     "execution_count": 15,
     "metadata": {},
     "output_type": "execute_result"
    }
   ],
   "source": [
    "# 1 epoch 당 step 수 조회회.\n",
    "len(train_loader), len(test_loader)"
   ]
  },
  {
   "cell_type": "code",
   "execution_count": 16,
   "metadata": {},
   "outputs": [
    {
     "data": {
      "text/plain": [
       "(tensor([[[0.0000, 0.0000, 0.0000, 0.0000, 0.0000, 0.0000, 0.0000, 0.0000,\n",
       "           0.0000, 0.0000, 0.0000, 0.0000, 0.0000, 0.0000, 0.0000, 0.0000,\n",
       "           0.0000, 0.0000, 0.0000, 0.0000, 0.0000, 0.0000, 0.0000, 0.0000,\n",
       "           0.0000, 0.0000, 0.0000, 0.0000],\n",
       "          [0.0000, 0.0000, 0.0000, 0.0000, 0.0000, 0.0000, 0.0000, 0.0000,\n",
       "           0.0000, 0.0000, 0.0000, 0.0000, 0.0000, 0.0000, 0.0000, 0.0000,\n",
       "           0.0000, 0.0000, 0.0000, 0.0000, 0.0000, 0.0000, 0.0000, 0.0000,\n",
       "           0.0000, 0.0000, 0.0000, 0.0000],\n",
       "          [0.0000, 0.0000, 0.0000, 0.0000, 0.0000, 0.0000, 0.0000, 0.0000,\n",
       "           0.0000, 0.0000, 0.0000, 0.0000, 0.0000, 0.0000, 0.0000, 0.0000,\n",
       "           0.0000, 0.0000, 0.0000, 0.0000, 0.0000, 0.0000, 0.0000, 0.0000,\n",
       "           0.0000, 0.0000, 0.0000, 0.0000],\n",
       "          [0.0000, 0.0000, 0.0000, 0.0000, 0.0000, 0.0000, 0.0000, 0.0000,\n",
       "           0.0000, 0.0000, 0.0000, 0.0000, 0.0000, 0.0000, 0.0000, 0.0000,\n",
       "           0.0000, 0.0000, 0.0000, 0.0000, 0.0000, 0.0000, 0.0000, 0.0000,\n",
       "           0.0000, 0.0000, 0.0000, 0.0000],\n",
       "          [0.0000, 0.0000, 0.0000, 0.0000, 0.0000, 0.0000, 0.0000, 0.0000,\n",
       "           0.0000, 0.0000, 0.0000, 0.0000, 0.0000, 0.0000, 0.0000, 0.0000,\n",
       "           0.0000, 0.0000, 0.0000, 0.0000, 0.0000, 0.0000, 0.0000, 0.0000,\n",
       "           0.0000, 0.0000, 0.0000, 0.0000],\n",
       "          [0.0000, 0.0000, 0.0000, 0.0000, 0.0000, 0.0000, 0.0000, 0.0000,\n",
       "           0.0000, 0.0000, 0.0000, 0.0000, 0.0118, 0.0706, 0.0706, 0.0706,\n",
       "           0.4941, 0.5333, 0.6863, 0.1020, 0.6510, 1.0000, 0.9686, 0.4980,\n",
       "           0.0000, 0.0000, 0.0000, 0.0000],\n",
       "          [0.0000, 0.0000, 0.0000, 0.0000, 0.0000, 0.0000, 0.0000, 0.0000,\n",
       "           0.1176, 0.1412, 0.3686, 0.6039, 0.6667, 0.9922, 0.9922, 0.9922,\n",
       "           0.9922, 0.9922, 0.8824, 0.6745, 0.9922, 0.9490, 0.7647, 0.2510,\n",
       "           0.0000, 0.0000, 0.0000, 0.0000],\n",
       "          [0.0000, 0.0000, 0.0000, 0.0000, 0.0000, 0.0000, 0.0000, 0.1922,\n",
       "           0.9333, 0.9922, 0.9922, 0.9922, 0.9922, 0.9922, 0.9922, 0.9922,\n",
       "           0.9922, 0.9843, 0.3647, 0.3216, 0.3216, 0.2196, 0.1529, 0.0000,\n",
       "           0.0000, 0.0000, 0.0000, 0.0000],\n",
       "          [0.0000, 0.0000, 0.0000, 0.0000, 0.0000, 0.0000, 0.0000, 0.0706,\n",
       "           0.8588, 0.9922, 0.9922, 0.9922, 0.9922, 0.9922, 0.7765, 0.7137,\n",
       "           0.9686, 0.9451, 0.0000, 0.0000, 0.0000, 0.0000, 0.0000, 0.0000,\n",
       "           0.0000, 0.0000, 0.0000, 0.0000],\n",
       "          [0.0000, 0.0000, 0.0000, 0.0000, 0.0000, 0.0000, 0.0000, 0.0000,\n",
       "           0.3137, 0.6118, 0.4196, 0.9922, 0.9922, 0.8039, 0.0431, 0.0000,\n",
       "           0.1686, 0.6039, 0.0000, 0.0000, 0.0000, 0.0000, 0.0000, 0.0000,\n",
       "           0.0000, 0.0000, 0.0000, 0.0000],\n",
       "          [0.0000, 0.0000, 0.0000, 0.0000, 0.0000, 0.0000, 0.0000, 0.0000,\n",
       "           0.0000, 0.0549, 0.0039, 0.6039, 0.9922, 0.3529, 0.0000, 0.0000,\n",
       "           0.0000, 0.0000, 0.0000, 0.0000, 0.0000, 0.0000, 0.0000, 0.0000,\n",
       "           0.0000, 0.0000, 0.0000, 0.0000],\n",
       "          [0.0000, 0.0000, 0.0000, 0.0000, 0.0000, 0.0000, 0.0000, 0.0000,\n",
       "           0.0000, 0.0000, 0.0000, 0.5451, 0.9922, 0.7451, 0.0078, 0.0000,\n",
       "           0.0000, 0.0000, 0.0000, 0.0000, 0.0000, 0.0000, 0.0000, 0.0000,\n",
       "           0.0000, 0.0000, 0.0000, 0.0000],\n",
       "          [0.0000, 0.0000, 0.0000, 0.0000, 0.0000, 0.0000, 0.0000, 0.0000,\n",
       "           0.0000, 0.0000, 0.0000, 0.0431, 0.7451, 0.9922, 0.2745, 0.0000,\n",
       "           0.0000, 0.0000, 0.0000, 0.0000, 0.0000, 0.0000, 0.0000, 0.0000,\n",
       "           0.0000, 0.0000, 0.0000, 0.0000],\n",
       "          [0.0000, 0.0000, 0.0000, 0.0000, 0.0000, 0.0000, 0.0000, 0.0000,\n",
       "           0.0000, 0.0000, 0.0000, 0.0000, 0.1373, 0.9451, 0.8824, 0.6275,\n",
       "           0.4235, 0.0039, 0.0000, 0.0000, 0.0000, 0.0000, 0.0000, 0.0000,\n",
       "           0.0000, 0.0000, 0.0000, 0.0000],\n",
       "          [0.0000, 0.0000, 0.0000, 0.0000, 0.0000, 0.0000, 0.0000, 0.0000,\n",
       "           0.0000, 0.0000, 0.0000, 0.0000, 0.0000, 0.3176, 0.9412, 0.9922,\n",
       "           0.9922, 0.4667, 0.0980, 0.0000, 0.0000, 0.0000, 0.0000, 0.0000,\n",
       "           0.0000, 0.0000, 0.0000, 0.0000],\n",
       "          [0.0000, 0.0000, 0.0000, 0.0000, 0.0000, 0.0000, 0.0000, 0.0000,\n",
       "           0.0000, 0.0000, 0.0000, 0.0000, 0.0000, 0.0000, 0.1765, 0.7294,\n",
       "           0.9922, 0.9922, 0.5882, 0.1059, 0.0000, 0.0000, 0.0000, 0.0000,\n",
       "           0.0000, 0.0000, 0.0000, 0.0000],\n",
       "          [0.0000, 0.0000, 0.0000, 0.0000, 0.0000, 0.0000, 0.0000, 0.0000,\n",
       "           0.0000, 0.0000, 0.0000, 0.0000, 0.0000, 0.0000, 0.0000, 0.0627,\n",
       "           0.3647, 0.9882, 0.9922, 0.7333, 0.0000, 0.0000, 0.0000, 0.0000,\n",
       "           0.0000, 0.0000, 0.0000, 0.0000],\n",
       "          [0.0000, 0.0000, 0.0000, 0.0000, 0.0000, 0.0000, 0.0000, 0.0000,\n",
       "           0.0000, 0.0000, 0.0000, 0.0000, 0.0000, 0.0000, 0.0000, 0.0000,\n",
       "           0.0000, 0.9765, 0.9922, 0.9765, 0.2510, 0.0000, 0.0000, 0.0000,\n",
       "           0.0000, 0.0000, 0.0000, 0.0000],\n",
       "          [0.0000, 0.0000, 0.0000, 0.0000, 0.0000, 0.0000, 0.0000, 0.0000,\n",
       "           0.0000, 0.0000, 0.0000, 0.0000, 0.0000, 0.0000, 0.1804, 0.5098,\n",
       "           0.7176, 0.9922, 0.9922, 0.8118, 0.0078, 0.0000, 0.0000, 0.0000,\n",
       "           0.0000, 0.0000, 0.0000, 0.0000],\n",
       "          [0.0000, 0.0000, 0.0000, 0.0000, 0.0000, 0.0000, 0.0000, 0.0000,\n",
       "           0.0000, 0.0000, 0.0000, 0.0000, 0.1529, 0.5804, 0.8980, 0.9922,\n",
       "           0.9922, 0.9922, 0.9804, 0.7137, 0.0000, 0.0000, 0.0000, 0.0000,\n",
       "           0.0000, 0.0000, 0.0000, 0.0000],\n",
       "          [0.0000, 0.0000, 0.0000, 0.0000, 0.0000, 0.0000, 0.0000, 0.0000,\n",
       "           0.0000, 0.0000, 0.0941, 0.4471, 0.8667, 0.9922, 0.9922, 0.9922,\n",
       "           0.9922, 0.7882, 0.3059, 0.0000, 0.0000, 0.0000, 0.0000, 0.0000,\n",
       "           0.0000, 0.0000, 0.0000, 0.0000],\n",
       "          [0.0000, 0.0000, 0.0000, 0.0000, 0.0000, 0.0000, 0.0000, 0.0000,\n",
       "           0.0902, 0.2588, 0.8353, 0.9922, 0.9922, 0.9922, 0.9922, 0.7765,\n",
       "           0.3176, 0.0078, 0.0000, 0.0000, 0.0000, 0.0000, 0.0000, 0.0000,\n",
       "           0.0000, 0.0000, 0.0000, 0.0000],\n",
       "          [0.0000, 0.0000, 0.0000, 0.0000, 0.0000, 0.0000, 0.0706, 0.6706,\n",
       "           0.8588, 0.9922, 0.9922, 0.9922, 0.9922, 0.7647, 0.3137, 0.0353,\n",
       "           0.0000, 0.0000, 0.0000, 0.0000, 0.0000, 0.0000, 0.0000, 0.0000,\n",
       "           0.0000, 0.0000, 0.0000, 0.0000],\n",
       "          [0.0000, 0.0000, 0.0000, 0.0000, 0.2157, 0.6745, 0.8863, 0.9922,\n",
       "           0.9922, 0.9922, 0.9922, 0.9569, 0.5216, 0.0431, 0.0000, 0.0000,\n",
       "           0.0000, 0.0000, 0.0000, 0.0000, 0.0000, 0.0000, 0.0000, 0.0000,\n",
       "           0.0000, 0.0000, 0.0000, 0.0000],\n",
       "          [0.0000, 0.0000, 0.0000, 0.0000, 0.5333, 0.9922, 0.9922, 0.9922,\n",
       "           0.8314, 0.5294, 0.5176, 0.0627, 0.0000, 0.0000, 0.0000, 0.0000,\n",
       "           0.0000, 0.0000, 0.0000, 0.0000, 0.0000, 0.0000, 0.0000, 0.0000,\n",
       "           0.0000, 0.0000, 0.0000, 0.0000],\n",
       "          [0.0000, 0.0000, 0.0000, 0.0000, 0.0000, 0.0000, 0.0000, 0.0000,\n",
       "           0.0000, 0.0000, 0.0000, 0.0000, 0.0000, 0.0000, 0.0000, 0.0000,\n",
       "           0.0000, 0.0000, 0.0000, 0.0000, 0.0000, 0.0000, 0.0000, 0.0000,\n",
       "           0.0000, 0.0000, 0.0000, 0.0000],\n",
       "          [0.0000, 0.0000, 0.0000, 0.0000, 0.0000, 0.0000, 0.0000, 0.0000,\n",
       "           0.0000, 0.0000, 0.0000, 0.0000, 0.0000, 0.0000, 0.0000, 0.0000,\n",
       "           0.0000, 0.0000, 0.0000, 0.0000, 0.0000, 0.0000, 0.0000, 0.0000,\n",
       "           0.0000, 0.0000, 0.0000, 0.0000],\n",
       "          [0.0000, 0.0000, 0.0000, 0.0000, 0.0000, 0.0000, 0.0000, 0.0000,\n",
       "           0.0000, 0.0000, 0.0000, 0.0000, 0.0000, 0.0000, 0.0000, 0.0000,\n",
       "           0.0000, 0.0000, 0.0000, 0.0000, 0.0000, 0.0000, 0.0000, 0.0000,\n",
       "           0.0000, 0.0000, 0.0000, 0.0000]]]),\n",
       " 5)"
      ]
     },
     "execution_count": 16,
     "metadata": {},
     "output_type": "execute_result"
    }
   ],
   "source": [
    "trainset[0]"
   ]
  },
  {
   "cell_type": "markdown",
   "metadata": {
    "slideshow": {
     "slide_type": "slide"
    }
   },
   "source": [
    "### 모델 정의"
   ]
  },
  {
   "cell_type": "code",
   "execution_count": 17,
   "metadata": {},
   "outputs": [],
   "source": [
    "# subclass(상속) 방식\n",
    "## - nn.Module 상속한 클래스를 정의.\n",
    "## - __init__(): 입력값을 추론(순전파 연산)하는데 필요한 layer객체들을 생성.\n",
    "## - forward(): __init__() 에서 생성한 layer들을 이용해 연산 로직을 정의"
   ]
  },
  {
   "cell_type": "code",
   "execution_count": 18,
   "metadata": {},
   "outputs": [],
   "source": [
    "class MNISTModel(nn.Module):\n",
    "    \n",
    "    def __init__(self):\n",
    "        super().__init__()  # 상위클래스 nn.Module 을 초기화.\n",
    "        \n",
    "        # Linear(input feature 개수, output feature 개수)\n",
    "        self.lr1 = nn.Linear(784, 128) # (784:(28*28): MNIST 이미지의 pixcel수, 출력: 128)\n",
    "        self.lr2 = nn.Linear(128, 64)  # (128: lr1의 출력개수, 출력: 64)\n",
    "        self.lr3 = nn.Linear(64, 32)   # (64:  lr2의 출력개수, 출력: 32)\n",
    "        self.lr4 = nn.Linear(32, 10)   # (32:  lr3의 출력개수, 출력: 10)\n",
    "        # 마지막 Linear()의 출력 개수(10) - 분류할 class개수(0 ~ 9)\n",
    "\n",
    "    def forward(self, X):\n",
    "        \"\"\"\n",
    "        X를 입력 받아서 y를 추론하는 계산로직을 정의\n",
    "        initializer에서 정의한 Linear들을 이용해서 계산.\n",
    "        Args:\n",
    "            X(torch.FloatTensor) - 추론할 MNIST 이미지들. shape: (batch_size, 1, 28, 28)\n",
    "        \"\"\"\n",
    "        # (batch_size, 1, 28, 28) 를 (batch_size, 784) feature들을 1차원으로 변환.\n",
    "        X = torch.flatten(X, start_dim=1) # 다차원 배열을 1차원 배열로 변환. (start_dim=1, Flatten 시킬 시작 axis지정. 0축은 놔두고 1축 부터 flatten시킨다.)\n",
    "        X = self.lr1(X)  # Linear: 선형함수\n",
    "        X = nn.ReLU()(X) # Activation(활성) 함수. 비선형함수. ReLU(x): max(x, 0)\n",
    "        \n",
    "        X = self.lr2(X)\n",
    "        X = nn.ReLU()(X)\n",
    "        \n",
    "        X = self.lr3(X)\n",
    "        X = nn.ReLU()(X)\n",
    "        \n",
    "        output = self.lr4(X)\n",
    "        return output"
   ]
  },
  {
   "cell_type": "markdown",
   "metadata": {},
   "source": [
    "### Train"
   ]
  },
  {
   "cell_type": "markdown",
   "metadata": {},
   "source": [
    "#### 모델, loss function, optimizer 생성"
   ]
  },
  {
   "cell_type": "code",
   "execution_count": 19,
   "metadata": {},
   "outputs": [
    {
     "name": "stdout",
     "output_type": "stream",
     "text": [
      "MNISTModel(\n",
      "  (lr1): Linear(in_features=784, out_features=128, bias=True)\n",
      "  (lr2): Linear(in_features=128, out_features=64, bias=True)\n",
      "  (lr3): Linear(in_features=64, out_features=32, bias=True)\n",
      "  (lr4): Linear(in_features=32, out_features=10, bias=True)\n",
      ")\n"
     ]
    }
   ],
   "source": [
    "# 모델객체 생성\n",
    "model = MNISTModel()\n",
    "# 확인\n",
    "print(model)"
   ]
  },
  {
   "cell_type": "code",
   "execution_count": 20,
   "metadata": {},
   "outputs": [],
   "source": [
    "# Loss함수 - 학습 할 때 모델이 예측한 값과 정답간의 오차를 계산하는 함수. 이 오차를 줄이는 방향으로 파라미터를 변경한다.\n",
    "# 다중 분류 문제의 Loss함수: crossentropyloss함수. (이진분류: binary crossentropy, 회귀: mse)\n",
    "loss_fn = nn.CrossEntropyLoss()  # torch.nn.functional.cross_entropy 함수사용도 가능."
   ]
  },
  {
   "cell_type": "code",
   "execution_count": 21,
   "metadata": {},
   "outputs": [],
   "source": [
    "# optimizer 정의: 모델의 파라미터들을 업데이트하고 파라미터들의 gradient값을 초기화 한다.\n",
    "optimizer = torch.optim.Adam(model.parameters(), lr=lr)"
   ]
  },
  {
   "cell_type": "markdown",
   "metadata": {},
   "source": [
    "#### 학습(훈련-train) 및 검증"
   ]
  },
  {
   "cell_type": "code",
   "execution_count": 22,
   "metadata": {},
   "outputs": [],
   "source": [
    "# 학습시 계산에 사용되는 값들은 같은 device(cpu or cuda or mps)에 있어야 한다\n",
    "## device로 이동할 대상: Model객체, X(input), y(output)"
   ]
  },
  {
   "cell_type": "code",
   "execution_count": 23,
   "metadata": {},
   "outputs": [],
   "source": [
    "model = MNISTModel().to(device)\n",
    "loss_fn = nn.CrossEntropyLoss()\n",
    "optimizer = torch.optim.Adam(model.parameters(), lr=lr)"
   ]
  },
  {
   "cell_type": "code",
   "execution_count": 24,
   "metadata": {},
   "outputs": [
    {
     "name": "stdout",
     "output_type": "stream",
     "text": [
      "[01/20] train_loss: 0.6468924387780011, valid_loss: 0.2777626790106297, valid_acc: 0.9181\n",
      "[02/20] train_loss: 0.24289112547651315, valid_loss: 0.2003410065546632, valid_acc: 0.9402\n",
      "[03/20] train_loss: 0.17837125193486866, valid_loss: 0.1576850472483784, valid_acc: 0.9515\n",
      "[04/20] train_loss: 0.14126473961350244, valid_loss: 0.1296734821982682, valid_acc: 0.9611\n",
      "[05/20] train_loss: 0.11550142518921286, valid_loss: 0.12163150489795953, valid_acc: 0.9643\n",
      "[06/20] train_loss: 0.09893873530543512, valid_loss: 0.11112659764476121, valid_acc: 0.9651\n",
      "[07/20] train_loss: 0.08339877402744232, valid_loss: 0.09799652966030407, valid_acc: 0.9696\n",
      "[08/20] train_loss: 0.07119099342097075, valid_loss: 0.09228680991800502, valid_acc: 0.9716\n",
      "[09/20] train_loss: 0.061999433474917695, valid_loss: 0.0879482707940042, valid_acc: 0.9731\n",
      "[10/20] train_loss: 0.05362587411386462, valid_loss: 0.08438201314711477, valid_acc: 0.9736\n",
      "[11/20] train_loss: 0.04753988624637962, valid_loss: 0.0811585628121975, valid_acc: 0.9762\n",
      "[12/20] train_loss: 0.04154170716467958, valid_loss: 0.08257534644872067, valid_acc: 0.9744\n",
      "[13/20] train_loss: 0.037220080202031464, valid_loss: 0.08534728292615909, valid_acc: 0.9752\n",
      "[14/20] train_loss: 0.030887712923507404, valid_loss: 0.0836557732575784, valid_acc: 0.9767\n",
      "[15/20] train_loss: 0.02635527760960544, valid_loss: 0.08770316460338563, valid_acc: 0.9755\n",
      "[16/20] train_loss: 0.02282069387157153, valid_loss: 0.09527424517716554, valid_acc: 0.974\n",
      "[17/20] train_loss: 0.020524914507778026, valid_loss: 0.09297994537196246, valid_acc: 0.9745\n",
      "[18/20] train_loss: 0.01945434680654325, valid_loss: 0.09551916383825869, valid_acc: 0.9752\n",
      "[19/20] train_loss: 0.014794979308150772, valid_loss: 0.08453887520547596, valid_acc: 0.979\n",
      "[20/20] train_loss: 0.012083951127615908, valid_loss: 0.08992372600432645, valid_acc: 0.9779\n",
      "학습에 걸린 시간(초): 59.1261191368103\n"
     ]
    }
   ],
   "source": [
    "import time\n",
    "# 학습\n",
    "## 에폭별 검증결과들을 저장할 리스트\n",
    "train_loss_list = []\n",
    "valid_loss_list = []\n",
    "valid_acc_list = []\n",
    "s = time.time()\n",
    "\n",
    "# 학습-중첩 반복문: epoch 반복 -> step(batch_size) 에 대한 반복\n",
    "for epoch in range(epochs):\n",
    "    ###############################################\n",
    "    # 모델 Train - 1 epoch : Trainset\n",
    "    ###############################################\n",
    "    model.train()  # 모델을 train 모드로 변환.\n",
    "    train_loss = 0 # 현재 epoch의 train loss를 저장할 변수.\n",
    "\n",
    "    # batch 단위로 학습: 1 step - 1개 batch의 데이터로 학습.\n",
    "    for X_train, y_train  in train_loader: # 한번 반복할 때마다 1개 batch 데이터를 순서대로 제공. (X, y) 를 묶어서 제공한다.\n",
    "        # 1. X, y를 devcie로 이동\n",
    "        X_train, y_train = X_train.to(device), y_train.to(device)\n",
    "        # 2. 모델을 이용해 추론\n",
    "        pred = model(X_train) # Model.forward(X_train) 메소드 호출\n",
    "        # 3. loss 계산\n",
    "        loss = loss_fn(pred, y_train)\n",
    "        # 4. gradient 계산\n",
    "        loss.backward()\n",
    "        # 5. 모델의 파라미터들(weight, bias) update\n",
    "        optimizer.step()\n",
    "        # 6. gradient 초기화\n",
    "        optimizer.zero_grad()\n",
    "        # 학습 결과 저장및 출력을 위해 loss 저장.\n",
    "        train_loss = train_loss + loss.item() \n",
    "\n",
    "    \n",
    "    train_loss = train_loss / len(train_loader)  # 한 에폭에서 학습한 step별 loss의 평균계산.\n",
    "    train_loss_list.append(train_loss)\n",
    "    \n",
    "    ###############################################\n",
    "    # 1 epoch 학습한 결과 검증: Testset\n",
    "    ###############################################\n",
    "    model.eval()  # 모델을 evaluation() (추론, 검증) 모드로 변환.\n",
    "    valid_loss = 0\n",
    "    valid_acc = 0\n",
    "    with torch.no_grad(): # 추론만 함 -> gradient 계산할 필요 없음. -> grad_fn 구할 필요없다.\n",
    "        for X_valid, y_valid in test_loader:\n",
    "            # 1. device 로 이동\n",
    "            X_valid, y_valid = X_valid.to(device), y_valid.to(device)\n",
    "            # 2. 추론\n",
    "            pred_valid = model(X_valid)\n",
    "            # 3-1. 검증 -> loss 계산\n",
    "            valid_loss = valid_loss + loss_fn(pred_valid, y_valid).item()\n",
    "            # 3-2. 검증 -> accuracy 계산\n",
    "            ## pred_valid shape: (256, 10: class별 확률) -> 정답 class 추출\n",
    "            pred_valid_class = pred_valid.argmax(dim=-1)\n",
    "            valid_acc = valid_acc + torch.sum(y_valid == pred_valid_class).item()\n",
    "        \n",
    "        # 검증결과 누적값의 평균\n",
    "        valid_loss = valid_loss / len(test_loader)  # loss는 step수 나눔.\n",
    "        valid_acc = valid_acc / len(testset)        # accuracy는 데이터 개수로 나눔.\n",
    "        valid_loss_list.append(valid_loss)\n",
    "        valid_acc_list.append(valid_acc)\n",
    "\n",
    "        # 검증 결과 출력\n",
    "        print(f\"[{epoch+1:02d}/{epochs}] train_loss: {train_loss}, valid_loss: {valid_loss}, valid_acc: {valid_acc}\")\n",
    "\n",
    "e = time.time()\n",
    "print('학습에 걸린 시간(초):', e-s)"
   ]
  },
  {
   "cell_type": "markdown",
   "metadata": {},
   "source": [
    "#### 학습 로그 시각화"
   ]
  },
  {
   "cell_type": "code",
   "execution_count": 25,
   "metadata": {},
   "outputs": [
    {
     "data": {
      "image/png": "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",
      "text/plain": [
       "<Figure size 1000x500 with 2 Axes>"
      ]
     },
     "metadata": {},
     "output_type": "display_data"
    }
   ],
   "source": [
    "# train loss, valid loss, valid acc 를 epoch 별로 어떻게 변하는지 시각화.\n",
    "plt.figure(figsize=(10, 5))\n",
    "plt.subplot(1, 2, 1)\n",
    "plt.plot(range(1, epochs+1), train_loss_list, label=\"train loss\")\n",
    "plt.plot(range(1, epochs+1), valid_loss_list, label=\"valid loss\")\n",
    "plt.title(\"Loss\")\n",
    "plt.legend()\n",
    "plt.grid(True, linestyle=\":\")\n",
    "\n",
    "plt.subplot(1, 2, 2)\n",
    "plt.plot(range(1, epochs+1), valid_acc_list)\n",
    "plt.title(\"valid accuracy\")\n",
    "\n",
    "plt.tight_layout()\n",
    "plt.grid(True, linestyle=\":\")\n",
    "plt.show()\n"
   ]
  },
  {
   "cell_type": "markdown",
   "metadata": {},
   "source": [
    "### 학습된 모델 저장 및 불러오기"
   ]
  },
  {
   "cell_type": "code",
   "execution_count": 26,
   "metadata": {},
   "outputs": [
    {
     "data": {
      "text/plain": [
       "'models/mnist_model.pt'"
      ]
     },
     "execution_count": 26,
     "metadata": {},
     "output_type": "execute_result"
    }
   ],
   "source": [
    "import os\n",
    "saved_dir = \"models\"\n",
    "os.makedirs(saved_dir, exist_ok=True)\n",
    "\n",
    "save_path = os.path.join(saved_dir, \"mnist_model.pt\")\n",
    "save_path"
   ]
  },
  {
   "cell_type": "code",
   "execution_count": 27,
   "metadata": {},
   "outputs": [],
   "source": [
    "# 모델 저장: 파일 확장자 - pt, pth\n",
    "torch.save(model, save_path)  #  (저장할 모델, 저장할 파일 경로)"
   ]
  },
  {
   "cell_type": "code",
   "execution_count": 29,
   "metadata": {},
   "outputs": [
    {
     "name": "stdout",
     "output_type": "stream",
     "text": [
      "MNISTModel(\n",
      "  (lr1): Linear(in_features=784, out_features=128, bias=True)\n",
      "  (lr2): Linear(in_features=128, out_features=64, bias=True)\n",
      "  (lr3): Linear(in_features=64, out_features=32, bias=True)\n",
      "  (lr4): Linear(in_features=32, out_features=10, bias=True)\n",
      ")\n"
     ]
    }
   ],
   "source": [
    "# 저장된 모델 load(불러오기)\n",
    "load_model = torch.load(save_path, weights_only=False)\n",
    "print(load_model)"
   ]
  },
  {
   "cell_type": "markdown",
   "metadata": {},
   "source": [
    "## 모델 성능 최종 평가"
   ]
  },
  {
   "cell_type": "code",
   "execution_count": 30,
   "metadata": {},
   "outputs": [],
   "source": [
    "load_model = load_model.to(device)\n",
    "load_model.eval() # 평가모드\n",
    "\n",
    "test_loss = test_acc = 0\n",
    "with torch.no_grad():\n",
    "    for X_test, y_test in test_loader:\n",
    "        # device 이동\n",
    "        X_test, y_test = X_test.to(device), y_test.to(device)\n",
    "        # 추론\n",
    "        pred_test = load_model(X_test)\n",
    "        # 검증 - loss\n",
    "        loss_test = loss_fn(pred_test, y_test)\n",
    "        test_loss += loss_test.item()\n",
    "        # 검증 - accuracy\n",
    "        ## class\n",
    "        pred_test_class = pred_test.argmax(dim=-1)\n",
    "        test_acc += torch.sum(pred_test_class == y_test).item()\n",
    "\n",
    "    test_loss = test_loss / len(test_loader)\n",
    "    test_acc = test_acc / len(testset)"
   ]
  },
  {
   "cell_type": "code",
   "execution_count": 31,
   "metadata": {},
   "outputs": [
    {
     "name": "stdout",
     "output_type": "stream",
     "text": [
      "0.08992372600432645 0.9779\n"
     ]
    }
   ],
   "source": [
    "print(test_loss, test_acc)"
   ]
  },
  {
   "cell_type": "code",
   "execution_count": 32,
   "metadata": {},
   "outputs": [
    {
     "name": "stdout",
     "output_type": "stream",
     "text": [
      "torch.Size([16])\n"
     ]
    },
    {
     "data": {
      "text/plain": [
       "tensor([1, 2, 3, 4, 5, 6, 7, 8, 9, 0, 1, 2, 3, 4, 5, 6], device='mps:0')"
      ]
     },
     "execution_count": 32,
     "metadata": {},
     "output_type": "execute_result"
    }
   ],
   "source": [
    "print(y_test.shape)\n",
    "y_test"
   ]
  },
  {
   "cell_type": "code",
   "execution_count": 33,
   "metadata": {},
   "outputs": [
    {
     "data": {
      "text/plain": [
       "torch.Size([16, 10])"
      ]
     },
     "execution_count": 33,
     "metadata": {},
     "output_type": "execute_result"
    }
   ],
   "source": [
    "p = load_model(X_test)\n",
    "p.shape"
   ]
  },
  {
   "cell_type": "code",
   "execution_count": 34,
   "metadata": {},
   "outputs": [],
   "source": [
    "p_class = p.argmax(dim=-1)"
   ]
  },
  {
   "cell_type": "code",
   "execution_count": 35,
   "metadata": {},
   "outputs": [
    {
     "data": {
      "text/plain": [
       "16"
      ]
     },
     "execution_count": 35,
     "metadata": {},
     "output_type": "execute_result"
    }
   ],
   "source": [
    "torch.sum(y_test == p_class).item() # 맞은 것의 개수."
   ]
  },
  {
   "cell_type": "markdown",
   "metadata": {
    "slideshow": {
     "slide_type": "slide"
    }
   },
   "source": [
    "## 새로운 데이터 추론"
   ]
  },
  {
   "cell_type": "code",
   "execution_count": 36,
   "metadata": {},
   "outputs": [],
   "source": [
    "from PIL import Image\n",
    "\n",
    "def load_data(device=\"mps\", *path):\n",
    "    \"\"\"\n",
    "    받은 경로의 이미지들을 읽어서 Tensor로 변환해 반환한다.\n",
    "\n",
    "    1. 전달받은 경로의 이미지 파일들을 읽는다.\n",
    "    2. 28 x 28 로 resize\n",
    "    3. torch.Tensor로 변환 + 전처리\n",
    "    4. devcie로 이동시킨 뒤 반환한다다.\n",
    "    \"\"\"\n",
    "    input_tensors = []\n",
    "    for p in path:\n",
    "        img = Image.open(p)\n",
    "        img = img.convert('L')     # grayscale로 변환.\n",
    "        img = img.resize((28, 28)) # 모델이 학습한 데이터 size(28, 28)로 변환.\n",
    "        img = transforms.ToTensor()(img)\n",
    "        input_tensors.append(img)\n",
    "        \n",
    "    return torch.stack(input_tensors).to(device)"
   ]
  },
  {
   "cell_type": "code",
   "execution_count": 37,
   "metadata": {},
   "outputs": [],
   "source": [
    "def predict(model, inputs, device=\"mps\"):\n",
    "    \"\"\"\n",
    "    받은 model에 inputs를 추론하여 그 결과 class들을 반환한다.\n",
    "    \"\"\"\n",
    "    with torch.no_grad():\n",
    "        model = model.to(device)\n",
    "        model.eval()\n",
    "        pred = model(inputs)\n",
    "        pred_class = pred.argmax(dim=-1)\n",
    "        return pred_class"
   ]
  },
  {
   "cell_type": "code",
   "execution_count": 38,
   "metadata": {},
   "outputs": [
    {
     "data": {
      "text/plain": [
       "['test_img/num/three.png',\n",
       " 'test_img/num/eight2.png',\n",
       " 'test_img/num/three2.png',\n",
       " 'test_img/num/two.png',\n",
       " 'test_img/num/four.png',\n",
       " 'test_img/num/two2.png',\n",
       " 'test_img/num/eight.png',\n",
       " 'test_img/num/five.png',\n",
       " 'test_img/num/one.png',\n",
       " 'test_img/num/four2.png',\n",
       " 'test_img/num/seven.png',\n",
       " 'test_img/num/seven3.png',\n",
       " 'test_img/num/seven2.png']"
      ]
     },
     "execution_count": 38,
     "metadata": {},
     "output_type": "execute_result"
    }
   ],
   "source": [
    "# glob을 이용해 테스트 이미지들의 경로 조회.\n",
    "from glob import glob\n",
    "file_list = glob(\"test_img/**/*.png\")\n",
    "file_list"
   ]
  },
  {
   "cell_type": "code",
   "execution_count": 39,
   "metadata": {},
   "outputs": [
    {
     "data": {
      "text/plain": [
       "tensor([3, 8, 3, 2, 4, 2, 2, 5, 6, 4, 7, 8, 3], device='mps:0')"
      ]
     },
     "execution_count": 39,
     "metadata": {},
     "output_type": "execute_result"
    }
   ],
   "source": [
    "r = load_data(device, *file_list)\n",
    "result_pred = predict(load_model, r)\n",
    "result_pred"
   ]
  },
  {
   "cell_type": "code",
   "execution_count": 41,
   "metadata": {},
   "outputs": [
    {
     "data": {
      "image/png": "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",
      "text/plain": [
       "<Figure size 1000x500 with 13 Axes>"
      ]
     },
     "metadata": {},
     "output_type": "display_data"
    }
   ],
   "source": [
    "# 확인\n",
    "\n",
    "plt.figure(figsize=(10, 5))\n",
    "for idx, (path, label) in enumerate(zip(file_list, result_pred)):\n",
    "    # print(idx, path, label, sep=\" , \")\n",
    "    img = Image.open(path).convert('L')\n",
    "    plt.subplot(3, 5, idx+1)  #3, 4\n",
    "    plt.imshow(img, cmap=\"gray\")\n",
    "    plt.title(f\"predict: {label}\")\n",
    "    plt.axis(\"off\")\n",
    "\n",
    "plt.tight_layout()\n",
    "plt.show()"
   ]
  },
  {
   "cell_type": "code",
   "execution_count": null,
   "metadata": {},
   "outputs": [],
   "source": []
  }
 ],
 "metadata": {
  "kernelspec": {
   "display_name": "ml",
   "language": "python",
   "name": "python3"
  },
  "language_info": {
   "codemirror_mode": {
    "name": "ipython",
    "version": 3
   },
   "file_extension": ".py",
   "mimetype": "text/x-python",
   "name": "python",
   "nbconvert_exporter": "python",
   "pygments_lexer": "ipython3",
<<<<<<< Updated upstream
   "version": "3.12.10"
=======
   "version": "3.13.2"
>>>>>>> Stashed changes
  },
  "toc": {
   "base_numbering": 1,
   "nav_menu": {},
   "number_sections": false,
   "sideBar": true,
   "skip_h1_title": false,
   "title_cell": "Table of Contents",
   "title_sidebar": "Contents",
   "toc_cell": false,
   "toc_position": {},
   "toc_section_display": true,
   "toc_window_display": false
  },
  "varInspector": {
   "cols": {
    "lenName": 16,
    "lenType": 16,
    "lenVar": 40
   },
   "kernels_config": {
    "python": {
     "delete_cmd_postfix": "",
     "delete_cmd_prefix": "del ",
     "library": "var_list.py",
     "varRefreshCmd": "print(var_dic_list())"
    },
    "r": {
     "delete_cmd_postfix": ") ",
     "delete_cmd_prefix": "rm(",
     "library": "var_list.r",
     "varRefreshCmd": "cat(var_dic_list()) "
    }
   },
   "position": {
    "height": "347.844px",
    "left": "1891px",
    "right": "20px",
    "top": "361px",
    "width": "486px"
   },
   "types_to_exclude": [
    "module",
    "function",
    "builtin_function_or_method",
    "instance",
    "_Feature"
   ],
   "window_display": false
  }
 },
 "nbformat": 4,
 "nbformat_minor": 4
}
