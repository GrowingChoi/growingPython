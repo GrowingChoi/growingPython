{
 "cells": [
  {
   "cell_type": "markdown",
   "metadata": {
    "slideshow": {
     "slide_type": "slide"
    }
   },
   "source": [
    "# 선형회귀 개요\n",
    "\n",
    "선형 회귀(線型回歸, Linear regression)는 종속 변수 y와 한 개 이상의 독립 변수X와의 선형 상관 관계를 모델링하는 회귀분석 기법. [위키백과](https://ko.wikipedia.org/wiki/%EC%84%A0%ED%98%95_%ED%9A%8C%EA%B7%80)"
   ]
  },
  {
   "cell_type": "markdown",
   "metadata": {
    "slideshow": {
     "slide_type": "fragment"
    }
   },
   "source": [
    "## 선형회귀 모델\n",
    "- 각 Feature들에 가중치(Weight)를 곱하고 편향(bias)를 더해 예측 결과를 출력한다.\n",
    "- Weight와 bias는 선형 회귀 모델 학습 과정에서 최적화해야 하는 파라미터다.\n",
    "  - 가중치는 각 feature(X) 가 target(y)에 미치는 영향도를 나타내는 값이다.\n",
    "  - 양수 가중치는 target값을 증가시키고, 음수 가중치는 감소시킨다. 0에서 멀 수록 target에 큰 영향을 미치는 feature이며, 0에 가까울수록 target과의 연관성이 적은 feature다.\n",
    "  - bias는 모든 feature가 0일 때의 target 값이다. \n",
    "- $\\hat{y_i} = w_1 x_{i1} + w_2 x_{i2}... + w_{p} x_{ip} + b$\n",
    "    - $\\hat{y_i}$: 예측값\n",
    "    - $x$: 특성(feature-컬럼)\n",
    "    - $w$: 가중치(weight), 회귀계수(regression coefficient). 특성이 $\\hat{y_i}$ 에 얼마나 영향을 주는지 정도\n",
    "    - $b$: 절편\n",
    "    - $p$: p 번째 특성(feature)/p번째 가중치\n",
    "    - $i$: i번째 관측치(sample)"
   ]
  },
  {
   "cell_type": "markdown",
   "metadata": {},
   "source": [
    "## 실습\n",
    "#### Boston housing dataset loading"
   ]
  },
  {
   "cell_type": "code",
   "execution_count": 10,
   "metadata": {},
   "outputs": [
    {
     "data": {
      "text/plain": [
       "((404, 13), (102, 13), (404,), (102,))"
      ]
     },
     "execution_count": 10,
     "metadata": {},
     "output_type": "execute_result"
    }
   ],
   "source": [
    "import pandas as pd\n",
    "from sklearn.model_selection import train_test_split\n",
    "\n",
    "# Load data, x,y 분리\n",
    "df = pd.read_csv(\"data/boston_dataset.csv\")\n",
    "X = df.drop(columns='MEDV')\n",
    "y = df['MEDV']\n",
    "\n",
    "# train/test set 분리\n",
    "X_train, X_test, y_train, y_test = train_test_split(X, y, test_size=0.2, random_state=0)\n",
    "X_train.shape, X_test.shape, y_train.shape, y_test.shape"
   ]
  },
  {
   "cell_type": "markdown",
   "metadata": {
    "slideshow": {
     "slide_type": "slide"
    }
   },
   "source": [
    "## LinearRegression\n",
    "- 가장 기본적인 선형 회귀 모델\n",
    "- 각 Feauture에 가중합으로 Y값을 추론한다.\n",
    "- 학습 결과 속성(Instance 변수)\n",
    "    - **coef_**: 각 Feature에 곱하는 가중치\n",
    "    - **intercept_**: y절편. 모든 Feature가 0일때 예측값\n",
    "    \n",
    "### 데이터 전처리\n",
    "\n",
    "- **선형회귀 모델사용시 전처리**\n",
    "    - **범주형 Feature**\n",
    "        - : 원핫 인코딩\n",
    "    - **연속형 Feature**\n",
    "        - Feature Scaling을 통해서 각 컬럼들의 값의 단위를 맞춰준다.\n",
    "        - StandardScaler를 사용할 때 성능이 더 잘나오는 경향이 있다."
   ]
  },
  {
   "cell_type": "code",
   "execution_count": 11,
   "metadata": {
    "ExecuteTime": {
     "end_time": "2022-12-16T05:43:20.067827Z",
     "start_time": "2022-12-16T05:43:20.051167Z"
    }
   },
   "outputs": [],
   "source": [
    "# 전처리\n",
    "from sklearn.preprocessing import StandardScaler\n",
    "scaler = StandardScaler()\n",
    "X_train_scaled = scaler.fit_transform(X_train)\n",
    "X_test_scaled = scaler.transform(X_test)"
   ]
  },
  {
   "cell_type": "markdown",
   "metadata": {
    "slideshow": {
     "slide_type": "fragment"
    }
   },
   "source": [
    "##### 모델 생성, 학습"
   ]
  },
  {
   "cell_type": "code",
   "execution_count": 12,
   "metadata": {},
   "outputs": [
    {
     "data": {
      "text/html": [
       "<style>#sk-container-id-1 {\n",
       "  /* Definition of color scheme common for light and dark mode */\n",
       "  --sklearn-color-text: #000;\n",
       "  --sklearn-color-text-muted: #666;\n",
       "  --sklearn-color-line: gray;\n",
       "  /* Definition of color scheme for unfitted estimators */\n",
       "  --sklearn-color-unfitted-level-0: #fff5e6;\n",
       "  --sklearn-color-unfitted-level-1: #f6e4d2;\n",
       "  --sklearn-color-unfitted-level-2: #ffe0b3;\n",
       "  --sklearn-color-unfitted-level-3: chocolate;\n",
       "  /* Definition of color scheme for fitted estimators */\n",
       "  --sklearn-color-fitted-level-0: #f0f8ff;\n",
       "  --sklearn-color-fitted-level-1: #d4ebff;\n",
       "  --sklearn-color-fitted-level-2: #b3dbfd;\n",
       "  --sklearn-color-fitted-level-3: cornflowerblue;\n",
       "\n",
       "  /* Specific color for light theme */\n",
       "  --sklearn-color-text-on-default-background: var(--sg-text-color, var(--theme-code-foreground, var(--jp-content-font-color1, black)));\n",
       "  --sklearn-color-background: var(--sg-background-color, var(--theme-background, var(--jp-layout-color0, white)));\n",
       "  --sklearn-color-border-box: var(--sg-text-color, var(--theme-code-foreground, var(--jp-content-font-color1, black)));\n",
       "  --sklearn-color-icon: #696969;\n",
       "\n",
       "  @media (prefers-color-scheme: dark) {\n",
       "    /* Redefinition of color scheme for dark theme */\n",
       "    --sklearn-color-text-on-default-background: var(--sg-text-color, var(--theme-code-foreground, var(--jp-content-font-color1, white)));\n",
       "    --sklearn-color-background: var(--sg-background-color, var(--theme-background, var(--jp-layout-color0, #111)));\n",
       "    --sklearn-color-border-box: var(--sg-text-color, var(--theme-code-foreground, var(--jp-content-font-color1, white)));\n",
       "    --sklearn-color-icon: #878787;\n",
       "  }\n",
       "}\n",
       "\n",
       "#sk-container-id-1 {\n",
       "  color: var(--sklearn-color-text);\n",
       "}\n",
       "\n",
       "#sk-container-id-1 pre {\n",
       "  padding: 0;\n",
       "}\n",
       "\n",
       "#sk-container-id-1 input.sk-hidden--visually {\n",
       "  border: 0;\n",
       "  clip: rect(1px 1px 1px 1px);\n",
       "  clip: rect(1px, 1px, 1px, 1px);\n",
       "  height: 1px;\n",
       "  margin: -1px;\n",
       "  overflow: hidden;\n",
       "  padding: 0;\n",
       "  position: absolute;\n",
       "  width: 1px;\n",
       "}\n",
       "\n",
       "#sk-container-id-1 div.sk-dashed-wrapped {\n",
       "  border: 1px dashed var(--sklearn-color-line);\n",
       "  margin: 0 0.4em 0.5em 0.4em;\n",
       "  box-sizing: border-box;\n",
       "  padding-bottom: 0.4em;\n",
       "  background-color: var(--sklearn-color-background);\n",
       "}\n",
       "\n",
       "#sk-container-id-1 div.sk-container {\n",
       "  /* jupyter's `normalize.less` sets `[hidden] { display: none; }`\n",
       "     but bootstrap.min.css set `[hidden] { display: none !important; }`\n",
       "     so we also need the `!important` here to be able to override the\n",
       "     default hidden behavior on the sphinx rendered scikit-learn.org.\n",
       "     See: https://github.com/scikit-learn/scikit-learn/issues/21755 */\n",
       "  display: inline-block !important;\n",
       "  position: relative;\n",
       "}\n",
       "\n",
       "#sk-container-id-1 div.sk-text-repr-fallback {\n",
       "  display: none;\n",
       "}\n",
       "\n",
       "div.sk-parallel-item,\n",
       "div.sk-serial,\n",
       "div.sk-item {\n",
       "  /* draw centered vertical line to link estimators */\n",
       "  background-image: linear-gradient(var(--sklearn-color-text-on-default-background), var(--sklearn-color-text-on-default-background));\n",
       "  background-size: 2px 100%;\n",
       "  background-repeat: no-repeat;\n",
       "  background-position: center center;\n",
       "}\n",
       "\n",
       "/* Parallel-specific style estimator block */\n",
       "\n",
       "#sk-container-id-1 div.sk-parallel-item::after {\n",
       "  content: \"\";\n",
       "  width: 100%;\n",
       "  border-bottom: 2px solid var(--sklearn-color-text-on-default-background);\n",
       "  flex-grow: 1;\n",
       "}\n",
       "\n",
       "#sk-container-id-1 div.sk-parallel {\n",
       "  display: flex;\n",
       "  align-items: stretch;\n",
       "  justify-content: center;\n",
       "  background-color: var(--sklearn-color-background);\n",
       "  position: relative;\n",
       "}\n",
       "\n",
       "#sk-container-id-1 div.sk-parallel-item {\n",
       "  display: flex;\n",
       "  flex-direction: column;\n",
       "}\n",
       "\n",
       "#sk-container-id-1 div.sk-parallel-item:first-child::after {\n",
       "  align-self: flex-end;\n",
       "  width: 50%;\n",
       "}\n",
       "\n",
       "#sk-container-id-1 div.sk-parallel-item:last-child::after {\n",
       "  align-self: flex-start;\n",
       "  width: 50%;\n",
       "}\n",
       "\n",
       "#sk-container-id-1 div.sk-parallel-item:only-child::after {\n",
       "  width: 0;\n",
       "}\n",
       "\n",
       "/* Serial-specific style estimator block */\n",
       "\n",
       "#sk-container-id-1 div.sk-serial {\n",
       "  display: flex;\n",
       "  flex-direction: column;\n",
       "  align-items: center;\n",
       "  background-color: var(--sklearn-color-background);\n",
       "  padding-right: 1em;\n",
       "  padding-left: 1em;\n",
       "}\n",
       "\n",
       "\n",
       "/* Toggleable style: style used for estimator/Pipeline/ColumnTransformer box that is\n",
       "clickable and can be expanded/collapsed.\n",
       "- Pipeline and ColumnTransformer use this feature and define the default style\n",
       "- Estimators will overwrite some part of the style using the `sk-estimator` class\n",
       "*/\n",
       "\n",
       "/* Pipeline and ColumnTransformer style (default) */\n",
       "\n",
       "#sk-container-id-1 div.sk-toggleable {\n",
       "  /* Default theme specific background. It is overwritten whether we have a\n",
       "  specific estimator or a Pipeline/ColumnTransformer */\n",
       "  background-color: var(--sklearn-color-background);\n",
       "}\n",
       "\n",
       "/* Toggleable label */\n",
       "#sk-container-id-1 label.sk-toggleable__label {\n",
       "  cursor: pointer;\n",
       "  display: flex;\n",
       "  width: 100%;\n",
       "  margin-bottom: 0;\n",
       "  padding: 0.5em;\n",
       "  box-sizing: border-box;\n",
       "  text-align: center;\n",
       "  align-items: start;\n",
       "  justify-content: space-between;\n",
       "  gap: 0.5em;\n",
       "}\n",
       "\n",
       "#sk-container-id-1 label.sk-toggleable__label .caption {\n",
       "  font-size: 0.6rem;\n",
       "  font-weight: lighter;\n",
       "  color: var(--sklearn-color-text-muted);\n",
       "}\n",
       "\n",
       "#sk-container-id-1 label.sk-toggleable__label-arrow:before {\n",
       "  /* Arrow on the left of the label */\n",
       "  content: \"▸\";\n",
       "  float: left;\n",
       "  margin-right: 0.25em;\n",
       "  color: var(--sklearn-color-icon);\n",
       "}\n",
       "\n",
       "#sk-container-id-1 label.sk-toggleable__label-arrow:hover:before {\n",
       "  color: var(--sklearn-color-text);\n",
       "}\n",
       "\n",
       "/* Toggleable content - dropdown */\n",
       "\n",
       "#sk-container-id-1 div.sk-toggleable__content {\n",
       "  max-height: 0;\n",
       "  max-width: 0;\n",
       "  overflow: hidden;\n",
       "  text-align: left;\n",
       "  /* unfitted */\n",
       "  background-color: var(--sklearn-color-unfitted-level-0);\n",
       "}\n",
       "\n",
       "#sk-container-id-1 div.sk-toggleable__content.fitted {\n",
       "  /* fitted */\n",
       "  background-color: var(--sklearn-color-fitted-level-0);\n",
       "}\n",
       "\n",
       "#sk-container-id-1 div.sk-toggleable__content pre {\n",
       "  margin: 0.2em;\n",
       "  border-radius: 0.25em;\n",
       "  color: var(--sklearn-color-text);\n",
       "  /* unfitted */\n",
       "  background-color: var(--sklearn-color-unfitted-level-0);\n",
       "}\n",
       "\n",
       "#sk-container-id-1 div.sk-toggleable__content.fitted pre {\n",
       "  /* unfitted */\n",
       "  background-color: var(--sklearn-color-fitted-level-0);\n",
       "}\n",
       "\n",
       "#sk-container-id-1 input.sk-toggleable__control:checked~div.sk-toggleable__content {\n",
       "  /* Expand drop-down */\n",
       "  max-height: 200px;\n",
       "  max-width: 100%;\n",
       "  overflow: auto;\n",
       "}\n",
       "\n",
       "#sk-container-id-1 input.sk-toggleable__control:checked~label.sk-toggleable__label-arrow:before {\n",
       "  content: \"▾\";\n",
       "}\n",
       "\n",
       "/* Pipeline/ColumnTransformer-specific style */\n",
       "\n",
       "#sk-container-id-1 div.sk-label input.sk-toggleable__control:checked~label.sk-toggleable__label {\n",
       "  color: var(--sklearn-color-text);\n",
       "  background-color: var(--sklearn-color-unfitted-level-2);\n",
       "}\n",
       "\n",
       "#sk-container-id-1 div.sk-label.fitted input.sk-toggleable__control:checked~label.sk-toggleable__label {\n",
       "  background-color: var(--sklearn-color-fitted-level-2);\n",
       "}\n",
       "\n",
       "/* Estimator-specific style */\n",
       "\n",
       "/* Colorize estimator box */\n",
       "#sk-container-id-1 div.sk-estimator input.sk-toggleable__control:checked~label.sk-toggleable__label {\n",
       "  /* unfitted */\n",
       "  background-color: var(--sklearn-color-unfitted-level-2);\n",
       "}\n",
       "\n",
       "#sk-container-id-1 div.sk-estimator.fitted input.sk-toggleable__control:checked~label.sk-toggleable__label {\n",
       "  /* fitted */\n",
       "  background-color: var(--sklearn-color-fitted-level-2);\n",
       "}\n",
       "\n",
       "#sk-container-id-1 div.sk-label label.sk-toggleable__label,\n",
       "#sk-container-id-1 div.sk-label label {\n",
       "  /* The background is the default theme color */\n",
       "  color: var(--sklearn-color-text-on-default-background);\n",
       "}\n",
       "\n",
       "/* On hover, darken the color of the background */\n",
       "#sk-container-id-1 div.sk-label:hover label.sk-toggleable__label {\n",
       "  color: var(--sklearn-color-text);\n",
       "  background-color: var(--sklearn-color-unfitted-level-2);\n",
       "}\n",
       "\n",
       "/* Label box, darken color on hover, fitted */\n",
       "#sk-container-id-1 div.sk-label.fitted:hover label.sk-toggleable__label.fitted {\n",
       "  color: var(--sklearn-color-text);\n",
       "  background-color: var(--sklearn-color-fitted-level-2);\n",
       "}\n",
       "\n",
       "/* Estimator label */\n",
       "\n",
       "#sk-container-id-1 div.sk-label label {\n",
       "  font-family: monospace;\n",
       "  font-weight: bold;\n",
       "  display: inline-block;\n",
       "  line-height: 1.2em;\n",
       "}\n",
       "\n",
       "#sk-container-id-1 div.sk-label-container {\n",
       "  text-align: center;\n",
       "}\n",
       "\n",
       "/* Estimator-specific */\n",
       "#sk-container-id-1 div.sk-estimator {\n",
       "  font-family: monospace;\n",
       "  border: 1px dotted var(--sklearn-color-border-box);\n",
       "  border-radius: 0.25em;\n",
       "  box-sizing: border-box;\n",
       "  margin-bottom: 0.5em;\n",
       "  /* unfitted */\n",
       "  background-color: var(--sklearn-color-unfitted-level-0);\n",
       "}\n",
       "\n",
       "#sk-container-id-1 div.sk-estimator.fitted {\n",
       "  /* fitted */\n",
       "  background-color: var(--sklearn-color-fitted-level-0);\n",
       "}\n",
       "\n",
       "/* on hover */\n",
       "#sk-container-id-1 div.sk-estimator:hover {\n",
       "  /* unfitted */\n",
       "  background-color: var(--sklearn-color-unfitted-level-2);\n",
       "}\n",
       "\n",
       "#sk-container-id-1 div.sk-estimator.fitted:hover {\n",
       "  /* fitted */\n",
       "  background-color: var(--sklearn-color-fitted-level-2);\n",
       "}\n",
       "\n",
       "/* Specification for estimator info (e.g. \"i\" and \"?\") */\n",
       "\n",
       "/* Common style for \"i\" and \"?\" */\n",
       "\n",
       ".sk-estimator-doc-link,\n",
       "a:link.sk-estimator-doc-link,\n",
       "a:visited.sk-estimator-doc-link {\n",
       "  float: right;\n",
       "  font-size: smaller;\n",
       "  line-height: 1em;\n",
       "  font-family: monospace;\n",
       "  background-color: var(--sklearn-color-background);\n",
       "  border-radius: 1em;\n",
       "  height: 1em;\n",
       "  width: 1em;\n",
       "  text-decoration: none !important;\n",
       "  margin-left: 0.5em;\n",
       "  text-align: center;\n",
       "  /* unfitted */\n",
       "  border: var(--sklearn-color-unfitted-level-1) 1pt solid;\n",
       "  color: var(--sklearn-color-unfitted-level-1);\n",
       "}\n",
       "\n",
       ".sk-estimator-doc-link.fitted,\n",
       "a:link.sk-estimator-doc-link.fitted,\n",
       "a:visited.sk-estimator-doc-link.fitted {\n",
       "  /* fitted */\n",
       "  border: var(--sklearn-color-fitted-level-1) 1pt solid;\n",
       "  color: var(--sklearn-color-fitted-level-1);\n",
       "}\n",
       "\n",
       "/* On hover */\n",
       "div.sk-estimator:hover .sk-estimator-doc-link:hover,\n",
       ".sk-estimator-doc-link:hover,\n",
       "div.sk-label-container:hover .sk-estimator-doc-link:hover,\n",
       ".sk-estimator-doc-link:hover {\n",
       "  /* unfitted */\n",
       "  background-color: var(--sklearn-color-unfitted-level-3);\n",
       "  color: var(--sklearn-color-background);\n",
       "  text-decoration: none;\n",
       "}\n",
       "\n",
       "div.sk-estimator.fitted:hover .sk-estimator-doc-link.fitted:hover,\n",
       ".sk-estimator-doc-link.fitted:hover,\n",
       "div.sk-label-container:hover .sk-estimator-doc-link.fitted:hover,\n",
       ".sk-estimator-doc-link.fitted:hover {\n",
       "  /* fitted */\n",
       "  background-color: var(--sklearn-color-fitted-level-3);\n",
       "  color: var(--sklearn-color-background);\n",
       "  text-decoration: none;\n",
       "}\n",
       "\n",
       "/* Span, style for the box shown on hovering the info icon */\n",
       ".sk-estimator-doc-link span {\n",
       "  display: none;\n",
       "  z-index: 9999;\n",
       "  position: relative;\n",
       "  font-weight: normal;\n",
       "  right: .2ex;\n",
       "  padding: .5ex;\n",
       "  margin: .5ex;\n",
       "  width: min-content;\n",
       "  min-width: 20ex;\n",
       "  max-width: 50ex;\n",
       "  color: var(--sklearn-color-text);\n",
       "  box-shadow: 2pt 2pt 4pt #999;\n",
       "  /* unfitted */\n",
       "  background: var(--sklearn-color-unfitted-level-0);\n",
       "  border: .5pt solid var(--sklearn-color-unfitted-level-3);\n",
       "}\n",
       "\n",
       ".sk-estimator-doc-link.fitted span {\n",
       "  /* fitted */\n",
       "  background: var(--sklearn-color-fitted-level-0);\n",
       "  border: var(--sklearn-color-fitted-level-3);\n",
       "}\n",
       "\n",
       ".sk-estimator-doc-link:hover span {\n",
       "  display: block;\n",
       "}\n",
       "\n",
       "/* \"?\"-specific style due to the `<a>` HTML tag */\n",
       "\n",
       "#sk-container-id-1 a.estimator_doc_link {\n",
       "  float: right;\n",
       "  font-size: 1rem;\n",
       "  line-height: 1em;\n",
       "  font-family: monospace;\n",
       "  background-color: var(--sklearn-color-background);\n",
       "  border-radius: 1rem;\n",
       "  height: 1rem;\n",
       "  width: 1rem;\n",
       "  text-decoration: none;\n",
       "  /* unfitted */\n",
       "  color: var(--sklearn-color-unfitted-level-1);\n",
       "  border: var(--sklearn-color-unfitted-level-1) 1pt solid;\n",
       "}\n",
       "\n",
       "#sk-container-id-1 a.estimator_doc_link.fitted {\n",
       "  /* fitted */\n",
       "  border: var(--sklearn-color-fitted-level-1) 1pt solid;\n",
       "  color: var(--sklearn-color-fitted-level-1);\n",
       "}\n",
       "\n",
       "/* On hover */\n",
       "#sk-container-id-1 a.estimator_doc_link:hover {\n",
       "  /* unfitted */\n",
       "  background-color: var(--sklearn-color-unfitted-level-3);\n",
       "  color: var(--sklearn-color-background);\n",
       "  text-decoration: none;\n",
       "}\n",
       "\n",
       "#sk-container-id-1 a.estimator_doc_link.fitted:hover {\n",
       "  /* fitted */\n",
       "  background-color: var(--sklearn-color-fitted-level-3);\n",
       "}\n",
       "</style><div id=\"sk-container-id-1\" class=\"sk-top-container\"><div class=\"sk-text-repr-fallback\"><pre>LinearRegression()</pre><b>In a Jupyter environment, please rerun this cell to show the HTML representation or trust the notebook. <br />On GitHub, the HTML representation is unable to render, please try loading this page with nbviewer.org.</b></div><div class=\"sk-container\" hidden><div class=\"sk-item\"><div class=\"sk-estimator fitted sk-toggleable\"><input class=\"sk-toggleable__control sk-hidden--visually\" id=\"sk-estimator-id-1\" type=\"checkbox\" checked><label for=\"sk-estimator-id-1\" class=\"sk-toggleable__label fitted sk-toggleable__label-arrow\"><div><div>LinearRegression</div></div><div><a class=\"sk-estimator-doc-link fitted\" rel=\"noreferrer\" target=\"_blank\" href=\"https://scikit-learn.org/1.6/modules/generated/sklearn.linear_model.LinearRegression.html\">?<span>Documentation for LinearRegression</span></a><span class=\"sk-estimator-doc-link fitted\">i<span>Fitted</span></span></div></label><div class=\"sk-toggleable__content fitted\"><pre>LinearRegression()</pre></div> </div></div></div></div>"
      ],
      "text/plain": [
       "LinearRegression()"
      ]
     },
     "execution_count": 12,
     "metadata": {},
     "output_type": "execute_result"
    }
   ],
   "source": [
    "from sklearn.linear_model import LinearRegression\n",
    "lr = LinearRegression()\n",
    "lr.fit(X_train_scaled, y_train)"
   ]
  },
  {
   "cell_type": "code",
   "execution_count": 13,
   "metadata": {
    "collapsed": true,
    "jupyter": {
     "outputs_hidden": true
    }
   },
   "outputs": [
    {
     "data": {
<<<<<<< HEAD
      "text/html": [
       "<div>\n",
       "<style scoped>\n",
       "    .dataframe tbody tr th:only-of-type {\n",
       "        vertical-align: middle;\n",
       "    }\n",
       "\n",
       "    .dataframe tbody tr th {\n",
       "        vertical-align: top;\n",
       "    }\n",
       "\n",
       "    .dataframe thead th {\n",
       "        text-align: right;\n",
       "    }\n",
       "</style>\n",
       "<table border=\"1\" class=\"dataframe\">\n",
       "  <thead>\n",
       "    <tr style=\"text-align: right;\">\n",
       "      <th></th>\n",
       "      <th>CRIM</th>\n",
       "      <th>ZN</th>\n",
       "      <th>INDUS</th>\n",
       "      <th>CHAS</th>\n",
       "      <th>NOX</th>\n",
       "      <th>RM</th>\n",
       "      <th>AGE</th>\n",
       "      <th>DIS</th>\n",
       "      <th>RAD</th>\n",
       "      <th>TAX</th>\n",
       "      <th>PTRATIO</th>\n",
       "      <th>B</th>\n",
       "      <th>LSTAT</th>\n",
       "    </tr>\n",
       "  </thead>\n",
       "  <tbody>\n",
       "    <tr>\n",
       "      <th>220</th>\n",
       "      <td>0.35809</td>\n",
       "      <td>0.0</td>\n",
       "      <td>6.20</td>\n",
       "      <td>1.0</td>\n",
       "      <td>0.507</td>\n",
       "      <td>6.951</td>\n",
       "      <td>88.5</td>\n",
       "      <td>2.8617</td>\n",
       "      <td>8.0</td>\n",
       "      <td>307.0</td>\n",
       "      <td>17.4</td>\n",
       "      <td>391.70</td>\n",
       "      <td>9.71</td>\n",
       "    </tr>\n",
       "    <tr>\n",
       "      <th>71</th>\n",
       "      <td>0.15876</td>\n",
       "      <td>0.0</td>\n",
       "      <td>10.81</td>\n",
       "      <td>0.0</td>\n",
       "      <td>0.413</td>\n",
       "      <td>5.961</td>\n",
       "      <td>17.5</td>\n",
       "      <td>5.2873</td>\n",
       "      <td>4.0</td>\n",
       "      <td>305.0</td>\n",
       "      <td>19.2</td>\n",
       "      <td>376.94</td>\n",
       "      <td>9.88</td>\n",
       "    </tr>\n",
       "    <tr>\n",
       "      <th>240</th>\n",
       "      <td>0.11329</td>\n",
       "      <td>30.0</td>\n",
       "      <td>4.93</td>\n",
       "      <td>0.0</td>\n",
       "      <td>0.428</td>\n",
       "      <td>6.897</td>\n",
       "      <td>54.3</td>\n",
       "      <td>6.3361</td>\n",
       "      <td>6.0</td>\n",
       "      <td>300.0</td>\n",
       "      <td>16.6</td>\n",
       "      <td>391.25</td>\n",
       "      <td>11.38</td>\n",
       "    </tr>\n",
       "    <tr>\n",
       "      <th>6</th>\n",
       "      <td>0.08829</td>\n",
       "      <td>12.5</td>\n",
       "      <td>7.87</td>\n",
       "      <td>0.0</td>\n",
       "      <td>0.524</td>\n",
       "      <td>6.012</td>\n",
       "      <td>66.6</td>\n",
       "      <td>5.5605</td>\n",
       "      <td>5.0</td>\n",
       "      <td>311.0</td>\n",
       "      <td>15.2</td>\n",
       "      <td>395.60</td>\n",
       "      <td>12.43</td>\n",
       "    </tr>\n",
       "    <tr>\n",
       "      <th>417</th>\n",
       "      <td>25.94060</td>\n",
       "      <td>0.0</td>\n",
       "      <td>18.10</td>\n",
       "      <td>0.0</td>\n",
       "      <td>0.679</td>\n",
       "      <td>5.304</td>\n",
       "      <td>89.1</td>\n",
       "      <td>1.6475</td>\n",
       "      <td>24.0</td>\n",
       "      <td>666.0</td>\n",
       "      <td>20.2</td>\n",
       "      <td>127.36</td>\n",
       "      <td>26.64</td>\n",
       "    </tr>\n",
       "    <tr>\n",
       "      <th>...</th>\n",
       "      <td>...</td>\n",
       "      <td>...</td>\n",
       "      <td>...</td>\n",
       "      <td>...</td>\n",
       "      <td>...</td>\n",
       "      <td>...</td>\n",
       "      <td>...</td>\n",
       "      <td>...</td>\n",
       "      <td>...</td>\n",
       "      <td>...</td>\n",
       "      <td>...</td>\n",
       "      <td>...</td>\n",
       "      <td>...</td>\n",
       "    </tr>\n",
       "    <tr>\n",
       "      <th>323</th>\n",
       "      <td>0.28392</td>\n",
       "      <td>0.0</td>\n",
       "      <td>7.38</td>\n",
       "      <td>0.0</td>\n",
       "      <td>0.493</td>\n",
       "      <td>5.708</td>\n",
       "      <td>74.3</td>\n",
       "      <td>4.7211</td>\n",
       "      <td>5.0</td>\n",
       "      <td>287.0</td>\n",
       "      <td>19.6</td>\n",
       "      <td>391.13</td>\n",
       "      <td>11.74</td>\n",
       "    </tr>\n",
       "    <tr>\n",
       "      <th>192</th>\n",
       "      <td>0.08664</td>\n",
       "      <td>45.0</td>\n",
       "      <td>3.44</td>\n",
       "      <td>0.0</td>\n",
       "      <td>0.437</td>\n",
       "      <td>7.178</td>\n",
       "      <td>26.3</td>\n",
       "      <td>6.4798</td>\n",
       "      <td>5.0</td>\n",
       "      <td>398.0</td>\n",
       "      <td>15.2</td>\n",
       "      <td>390.49</td>\n",
       "      <td>2.87</td>\n",
       "    </tr>\n",
       "    <tr>\n",
       "      <th>117</th>\n",
       "      <td>0.15098</td>\n",
       "      <td>0.0</td>\n",
       "      <td>10.01</td>\n",
       "      <td>0.0</td>\n",
       "      <td>0.547</td>\n",
       "      <td>6.021</td>\n",
       "      <td>82.6</td>\n",
       "      <td>2.7474</td>\n",
       "      <td>6.0</td>\n",
       "      <td>432.0</td>\n",
       "      <td>17.8</td>\n",
       "      <td>394.51</td>\n",
       "      <td>10.30</td>\n",
       "    </tr>\n",
       "    <tr>\n",
       "      <th>47</th>\n",
       "      <td>0.22927</td>\n",
       "      <td>0.0</td>\n",
       "      <td>6.91</td>\n",
       "      <td>0.0</td>\n",
       "      <td>0.448</td>\n",
       "      <td>6.030</td>\n",
       "      <td>85.5</td>\n",
       "      <td>5.6894</td>\n",
       "      <td>3.0</td>\n",
       "      <td>233.0</td>\n",
       "      <td>17.9</td>\n",
       "      <td>392.74</td>\n",
       "      <td>18.80</td>\n",
       "    </tr>\n",
       "    <tr>\n",
       "      <th>172</th>\n",
       "      <td>0.13914</td>\n",
       "      <td>0.0</td>\n",
       "      <td>4.05</td>\n",
       "      <td>0.0</td>\n",
       "      <td>0.510</td>\n",
       "      <td>5.572</td>\n",
       "      <td>88.5</td>\n",
       "      <td>2.5961</td>\n",
       "      <td>5.0</td>\n",
       "      <td>296.0</td>\n",
       "      <td>16.6</td>\n",
       "      <td>396.90</td>\n",
       "      <td>14.69</td>\n",
       "    </tr>\n",
       "  </tbody>\n",
       "</table>\n",
       "<p>404 rows × 13 columns</p>\n",
       "</div>"
      ],
      "text/plain": [
=======
<<<<<<< HEAD
      "text/plain": [
       "(404, 13)"
=======
      "text/html": [
       "<div>\n",
       "<style scoped>\n",
       "    .dataframe tbody tr th:only-of-type {\n",
       "        vertical-align: middle;\n",
       "    }\n",
       "\n",
       "    .dataframe tbody tr th {\n",
       "        vertical-align: top;\n",
       "    }\n",
       "\n",
       "    .dataframe thead th {\n",
       "        text-align: right;\n",
       "    }\n",
       "</style>\n",
       "<table border=\"1\" class=\"dataframe\">\n",
       "  <thead>\n",
       "    <tr style=\"text-align: right;\">\n",
       "      <th></th>\n",
       "      <th>CRIM</th>\n",
       "      <th>ZN</th>\n",
       "      <th>INDUS</th>\n",
       "      <th>CHAS</th>\n",
       "      <th>NOX</th>\n",
       "      <th>RM</th>\n",
       "      <th>AGE</th>\n",
       "      <th>DIS</th>\n",
       "      <th>RAD</th>\n",
       "      <th>TAX</th>\n",
       "      <th>PTRATIO</th>\n",
       "      <th>B</th>\n",
       "      <th>LSTAT</th>\n",
       "    </tr>\n",
       "  </thead>\n",
       "  <tbody>\n",
       "    <tr>\n",
       "      <th>220</th>\n",
       "      <td>0.35809</td>\n",
       "      <td>0.0</td>\n",
       "      <td>6.20</td>\n",
       "      <td>1.0</td>\n",
       "      <td>0.507</td>\n",
       "      <td>6.951</td>\n",
       "      <td>88.5</td>\n",
       "      <td>2.8617</td>\n",
       "      <td>8.0</td>\n",
       "      <td>307.0</td>\n",
       "      <td>17.4</td>\n",
       "      <td>391.70</td>\n",
       "      <td>9.71</td>\n",
       "    </tr>\n",
       "    <tr>\n",
       "      <th>71</th>\n",
       "      <td>0.15876</td>\n",
       "      <td>0.0</td>\n",
       "      <td>10.81</td>\n",
       "      <td>0.0</td>\n",
       "      <td>0.413</td>\n",
       "      <td>5.961</td>\n",
       "      <td>17.5</td>\n",
       "      <td>5.2873</td>\n",
       "      <td>4.0</td>\n",
       "      <td>305.0</td>\n",
       "      <td>19.2</td>\n",
       "      <td>376.94</td>\n",
       "      <td>9.88</td>\n",
       "    </tr>\n",
       "    <tr>\n",
       "      <th>240</th>\n",
       "      <td>0.11329</td>\n",
       "      <td>30.0</td>\n",
       "      <td>4.93</td>\n",
       "      <td>0.0</td>\n",
       "      <td>0.428</td>\n",
       "      <td>6.897</td>\n",
       "      <td>54.3</td>\n",
       "      <td>6.3361</td>\n",
       "      <td>6.0</td>\n",
       "      <td>300.0</td>\n",
       "      <td>16.6</td>\n",
       "      <td>391.25</td>\n",
       "      <td>11.38</td>\n",
       "    </tr>\n",
       "    <tr>\n",
       "      <th>6</th>\n",
       "      <td>0.08829</td>\n",
       "      <td>12.5</td>\n",
       "      <td>7.87</td>\n",
       "      <td>0.0</td>\n",
       "      <td>0.524</td>\n",
       "      <td>6.012</td>\n",
       "      <td>66.6</td>\n",
       "      <td>5.5605</td>\n",
       "      <td>5.0</td>\n",
       "      <td>311.0</td>\n",
       "      <td>15.2</td>\n",
       "      <td>395.60</td>\n",
       "      <td>12.43</td>\n",
       "    </tr>\n",
       "    <tr>\n",
       "      <th>417</th>\n",
       "      <td>25.94060</td>\n",
       "      <td>0.0</td>\n",
       "      <td>18.10</td>\n",
       "      <td>0.0</td>\n",
       "      <td>0.679</td>\n",
       "      <td>5.304</td>\n",
       "      <td>89.1</td>\n",
       "      <td>1.6475</td>\n",
       "      <td>24.0</td>\n",
       "      <td>666.0</td>\n",
       "      <td>20.2</td>\n",
       "      <td>127.36</td>\n",
       "      <td>26.64</td>\n",
       "    </tr>\n",
       "    <tr>\n",
       "      <th>...</th>\n",
       "      <td>...</td>\n",
       "      <td>...</td>\n",
       "      <td>...</td>\n",
       "      <td>...</td>\n",
       "      <td>...</td>\n",
       "      <td>...</td>\n",
       "      <td>...</td>\n",
       "      <td>...</td>\n",
       "      <td>...</td>\n",
       "      <td>...</td>\n",
       "      <td>...</td>\n",
       "      <td>...</td>\n",
       "      <td>...</td>\n",
       "    </tr>\n",
       "    <tr>\n",
       "      <th>323</th>\n",
       "      <td>0.28392</td>\n",
       "      <td>0.0</td>\n",
       "      <td>7.38</td>\n",
       "      <td>0.0</td>\n",
       "      <td>0.493</td>\n",
       "      <td>5.708</td>\n",
       "      <td>74.3</td>\n",
       "      <td>4.7211</td>\n",
       "      <td>5.0</td>\n",
       "      <td>287.0</td>\n",
       "      <td>19.6</td>\n",
       "      <td>391.13</td>\n",
       "      <td>11.74</td>\n",
       "    </tr>\n",
       "    <tr>\n",
       "      <th>192</th>\n",
       "      <td>0.08664</td>\n",
       "      <td>45.0</td>\n",
       "      <td>3.44</td>\n",
       "      <td>0.0</td>\n",
       "      <td>0.437</td>\n",
       "      <td>7.178</td>\n",
       "      <td>26.3</td>\n",
       "      <td>6.4798</td>\n",
       "      <td>5.0</td>\n",
       "      <td>398.0</td>\n",
       "      <td>15.2</td>\n",
       "      <td>390.49</td>\n",
       "      <td>2.87</td>\n",
       "    </tr>\n",
       "    <tr>\n",
       "      <th>117</th>\n",
       "      <td>0.15098</td>\n",
       "      <td>0.0</td>\n",
       "      <td>10.01</td>\n",
       "      <td>0.0</td>\n",
       "      <td>0.547</td>\n",
       "      <td>6.021</td>\n",
       "      <td>82.6</td>\n",
       "      <td>2.7474</td>\n",
       "      <td>6.0</td>\n",
       "      <td>432.0</td>\n",
       "      <td>17.8</td>\n",
       "      <td>394.51</td>\n",
       "      <td>10.30</td>\n",
       "    </tr>\n",
       "    <tr>\n",
       "      <th>47</th>\n",
       "      <td>0.22927</td>\n",
       "      <td>0.0</td>\n",
       "      <td>6.91</td>\n",
       "      <td>0.0</td>\n",
       "      <td>0.448</td>\n",
       "      <td>6.030</td>\n",
       "      <td>85.5</td>\n",
       "      <td>5.6894</td>\n",
       "      <td>3.0</td>\n",
       "      <td>233.0</td>\n",
       "      <td>17.9</td>\n",
       "      <td>392.74</td>\n",
       "      <td>18.80</td>\n",
       "    </tr>\n",
       "    <tr>\n",
       "      <th>172</th>\n",
       "      <td>0.13914</td>\n",
       "      <td>0.0</td>\n",
       "      <td>4.05</td>\n",
       "      <td>0.0</td>\n",
       "      <td>0.510</td>\n",
       "      <td>5.572</td>\n",
       "      <td>88.5</td>\n",
       "      <td>2.5961</td>\n",
       "      <td>5.0</td>\n",
       "      <td>296.0</td>\n",
       "      <td>16.6</td>\n",
       "      <td>396.90</td>\n",
       "      <td>14.69</td>\n",
       "    </tr>\n",
       "  </tbody>\n",
       "</table>\n",
       "<p>404 rows × 13 columns</p>\n",
       "</div>"
      ],
      "text/plain": [
>>>>>>> 5c77a2d0f4d3a07c227e0d134acfb5989827d578
       "         CRIM    ZN  INDUS  CHAS    NOX     RM   AGE     DIS   RAD    TAX  \\\n",
       "220   0.35809   0.0   6.20   1.0  0.507  6.951  88.5  2.8617   8.0  307.0   \n",
       "71    0.15876   0.0  10.81   0.0  0.413  5.961  17.5  5.2873   4.0  305.0   \n",
       "240   0.11329  30.0   4.93   0.0  0.428  6.897  54.3  6.3361   6.0  300.0   \n",
       "6     0.08829  12.5   7.87   0.0  0.524  6.012  66.6  5.5605   5.0  311.0   \n",
       "417  25.94060   0.0  18.10   0.0  0.679  5.304  89.1  1.6475  24.0  666.0   \n",
       "..        ...   ...    ...   ...    ...    ...   ...     ...   ...    ...   \n",
       "323   0.28392   0.0   7.38   0.0  0.493  5.708  74.3  4.7211   5.0  287.0   \n",
       "192   0.08664  45.0   3.44   0.0  0.437  7.178  26.3  6.4798   5.0  398.0   \n",
       "117   0.15098   0.0  10.01   0.0  0.547  6.021  82.6  2.7474   6.0  432.0   \n",
       "47    0.22927   0.0   6.91   0.0  0.448  6.030  85.5  5.6894   3.0  233.0   \n",
       "172   0.13914   0.0   4.05   0.0  0.510  5.572  88.5  2.5961   5.0  296.0   \n",
       "\n",
       "     PTRATIO       B  LSTAT  \n",
       "220     17.4  391.70   9.71  \n",
       "71      19.2  376.94   9.88  \n",
       "240     16.6  391.25  11.38  \n",
       "6       15.2  395.60  12.43  \n",
       "417     20.2  127.36  26.64  \n",
       "..       ...     ...    ...  \n",
       "323     19.6  391.13  11.74  \n",
       "192     15.2  390.49   2.87  \n",
       "117     17.8  394.51  10.30  \n",
       "47      17.9  392.74  18.80  \n",
       "172     16.6  396.90  14.69  \n",
       "\n",
       "[404 rows x 13 columns]"
<<<<<<< HEAD
=======
>>>>>>> f414b94 (공부내용 추가)
>>>>>>> 5c77a2d0f4d3a07c227e0d134acfb5989827d578
      ]
     },
     "execution_count": 13,
     "metadata": {},
     "output_type": "execute_result"
    }
   ],
   "source": [
<<<<<<< HEAD
    "X_train"
=======
<<<<<<< HEAD
    "X_train.shape"
>>>>>>> 5c77a2d0f4d3a07c227e0d134acfb5989827d578
   ]
  },
  {
   "cell_type": "code",
<<<<<<< HEAD
   "execution_count": 14,
=======
   "execution_count": 6,
   "metadata": {},
   "outputs": [
    {
     "data": {
      "text/plain": [
       "Index(['CRIM', 'ZN', 'INDUS', 'CHAS', 'NOX', 'RM', 'AGE', 'DIS', 'RAD', 'TAX',\n",
       "       'PTRATIO', 'B', 'LSTAT'],\n",
       "      dtype='object')"
      ]
     },
     "execution_count": 6,
     "metadata": {},
     "output_type": "execute_result"
    }
   ],
   "source": [
    "X.columns"
=======
    "X_train"
>>>>>>> f414b94 (공부내용 추가)
   ]
  },
  {
   "cell_type": "code",
   "execution_count": 5,
>>>>>>> 5c77a2d0f4d3a07c227e0d134acfb5989827d578
   "metadata": {
    "scrolled": true
   },
   "outputs": [
    {
     "name": "stdout",
     "output_type": "stream",
     "text": [
      "weights\n",
      "[-0.97082019  1.05714873  0.03831099  0.59450642 -1.8551476   2.57321942\n",
      " -0.08761547 -2.88094259  2.11224542 -1.87533131 -2.29276735  0.71817947\n",
      " -3.59245482]\n"
     ]
    }
   ],
   "source": [
    "## 학습을 통해 찾은 weights 와 bias 조회\n",
    "print(\"weights\")\n",
    "print(lr.coef_)"
   ]
  },
  {
   "cell_type": "code",
<<<<<<< HEAD
   "execution_count": 15,
=======
<<<<<<< HEAD
   "execution_count": 19,
=======
   "execution_count": 11,
>>>>>>> f414b94 (공부내용 추가)
>>>>>>> 5c77a2d0f4d3a07c227e0d134acfb5989827d578
   "metadata": {},
   "outputs": [
    {
     "data": {
      "text/plain": [
<<<<<<< HEAD
       "CRIM      -0.970820\n",
       "ZN         1.057149\n",
       "INDUS      0.038311\n",
       "CHAS       0.594506\n",
       "NOX       -1.855148\n",
       "RM         2.573219\n",
       "AGE       -0.087615\n",
       "DIS       -2.880943\n",
       "RAD        2.112245\n",
       "TAX       -1.875331\n",
       "PTRATIO   -2.292767\n",
       "B          0.718179\n",
       "LSTAT     -3.592455\n",
       "dtype: float64"
      ]
     },
     "execution_count": 15,
=======
<<<<<<< HEAD
       "((102, 13), (13,))"
      ]
     },
     "execution_count": 19,
=======
       "LSTAT     -3.592455\n",
       "DIS       -2.880943\n",
       "PTRATIO   -2.292767\n",
       "TAX       -1.875331\n",
       "NOX       -1.855148\n",
       "CRIM      -0.970820\n",
       "AGE       -0.087615\n",
       "INDUS      0.038311\n",
       "CHAS       0.594506\n",
       "B          0.718179\n",
       "ZN         1.057149\n",
       "RAD        2.112245\n",
       "RM         2.573219\n",
       "dtype: float64"
      ]
     },
     "execution_count": 11,
>>>>>>> f414b94 (공부내용 추가)
>>>>>>> 5c77a2d0f4d3a07c227e0d134acfb5989827d578
     "metadata": {},
     "output_type": "execute_result"
    }
   ],
   "source": [
<<<<<<< HEAD
    "import pandas as pd\n",
    "pd.Series(lr.coef_, index=X_train.columns)"
=======
<<<<<<< HEAD
    "X_test_scaled.shape, lr.coef_.shape"
   ]
  },
  {
   "cell_type": "code",
   "execution_count": 21,
   "metadata": {},
   "outputs": [
    {
     "data": {
      "text/plain": [
       "array([[24.88963777],\n",
       "       [23.72141085],\n",
       "       [29.36499868],\n",
       "       [12.12238621],\n",
       "       [21.44382254],\n",
       "       [19.2834443 ],\n",
       "       [20.49647539],\n",
       "       [21.36099298],\n",
       "       [18.8967118 ],\n",
       "       [19.9280658 ],\n",
       "       [ 5.12703513],\n",
       "       [16.3867396 ],\n",
       "       [17.07776485],\n",
       "       [ 5.59375659],\n",
       "       [39.99636726],\n",
       "       [32.49654668],\n",
       "       [22.45798809],\n",
       "       [36.85192327],\n",
       "       [30.86401089],\n",
       "       [23.15140009],\n",
       "       [24.77495789],\n",
       "       [24.67187756],\n",
       "       [20.59543752],\n",
       "       [30.35369168],\n",
       "       [22.41940736],\n",
       "       [10.23266565],\n",
       "       [17.64816865],\n",
       "       [18.27419652],\n",
       "       [35.53362541],\n",
       "       [20.96084724],\n",
       "       [18.30413012],\n",
       "       [17.79262072],\n",
       "       [19.96561663],\n",
       "       [24.06127231],\n",
       "       [29.10204874],\n",
       "       [19.27774123],\n",
       "       [11.15536648],\n",
       "       [24.57560579],\n",
       "       [17.5862644 ],\n",
       "       [15.49454112],\n",
       "       [26.20577527],\n",
       "       [20.86304693],\n",
       "       [22.31460516],\n",
       "       [15.60710156],\n",
       "       [23.00363104],\n",
       "       [25.17247952],\n",
       "       [20.11459464],\n",
       "       [22.90256276],\n",
       "       [10.0380507 ],\n",
       "       [24.28515123],\n",
       "       [20.94127711],\n",
       "       [17.35258791],\n",
       "       [24.52235405],\n",
       "       [29.95143046],\n",
       "       [13.42695877],\n",
       "       [21.72673066],\n",
       "       [20.7897053 ],\n",
       "       [15.49668805],\n",
       "       [13.98982601],\n",
       "       [22.18377874],\n",
       "       [17.73047814],\n",
       "       [21.58869165],\n",
       "       [32.90522136],\n",
       "       [31.11235671],\n",
       "       [17.73252635],\n",
       "       [32.76358681],\n",
       "       [18.7124637 ],\n",
       "       [19.78693475],\n",
       "       [19.02958927],\n",
       "       [22.89825374],\n",
       "       [22.96041622],\n",
       "       [24.02555703],\n",
       "       [30.72859326],\n",
       "       [28.83142691],\n",
       "       [25.89957059],\n",
       "       [ 5.23251817],\n",
       "       [36.72183202],\n",
       "       [23.77267249],\n",
       "       [27.26856352],\n",
       "       [19.29492159],\n",
       "       [28.62304496],\n",
       "       [19.17978838],\n",
       "       [18.97185995],\n",
       "       [37.82397662],\n",
       "       [39.22012647],\n",
       "       [23.71261106],\n",
       "       [24.93076217],\n",
       "       [15.88545417],\n",
       "       [26.09845751],\n",
       "       [16.68819641],\n",
       "       [15.83515991],\n",
       "       [13.10775597],\n",
       "       [24.71583588],\n",
       "       [31.25165267],\n",
       "       [22.16640989],\n",
       "       [20.25087212],\n",
       "       [ 0.59025319],\n",
       "       [25.44217132],\n",
       "       [15.57178328],\n",
       "       [17.93719475],\n",
       "       [25.30588844],\n",
       "       [22.3732326 ]])"
      ]
     },
     "execution_count": 21,
     "metadata": {},
     "output_type": "execute_result"
    }
   ],
   "source": [
    "import numpy as np\n",
    "result = X_test_scaled @ lr.coef_[..., np.newaxis] + lr.intercept_\n",
    "result"
   ]
  },
  {
   "cell_type": "code",
   "execution_count": null,
   "metadata": {},
   "outputs": [],
   "source": [
    "import pandas as pd\n",
    "pd.Series(lr.coef_, index=X_train.columns).sort_values()"
=======
    "import pandas as pd\n",
    "pd.Series(lr.coef_, index=X_train.columns).sort_values()\n"
>>>>>>> f414b94 (공부내용 추가)
>>>>>>> 5c77a2d0f4d3a07c227e0d134acfb5989827d578
   ]
  },
  {
   "cell_type": "code",
<<<<<<< HEAD
   "execution_count": 16,
=======
<<<<<<< HEAD
   "execution_count": 9,
=======
   "execution_count": 12,
>>>>>>> f414b94 (공부내용 추가)
>>>>>>> 5c77a2d0f4d3a07c227e0d134acfb5989827d578
   "metadata": {},
   "outputs": [
    {
     "name": "stdout",
     "output_type": "stream",
     "text": [
      "bias\n"
     ]
    },
    {
     "data": {
      "text/plain": [
       "np.float64(22.611881188118804)"
      ]
     },
<<<<<<< HEAD
     "execution_count": 16,
=======
<<<<<<< HEAD
     "execution_count": 9,
=======
     "execution_count": 12,
>>>>>>> f414b94 (공부내용 추가)
>>>>>>> 5c77a2d0f4d3a07c227e0d134acfb5989827d578
     "metadata": {},
     "output_type": "execute_result"
    }
   ],
   "source": [
    "print(\"bias\")\n",
    "lr.intercept_"
   ]
  },
  {
   "cell_type": "markdown",
   "metadata": {
    "slideshow": {
     "slide_type": "fragment"
    }
   },
   "source": [
    "##### 평가"
   ]
  },
  {
   "cell_type": "code",
<<<<<<< HEAD
   "execution_count": 17,
=======
<<<<<<< HEAD
   "execution_count": 22,
=======
   "execution_count": 8,
>>>>>>> f414b94 (공부내용 추가)
>>>>>>> 5c77a2d0f4d3a07c227e0d134acfb5989827d578
   "metadata": {},
   "outputs": [
    {
     "name": "stdout",
     "output_type": "stream",
     "text": [
      "Transet\n",
<<<<<<< HEAD
      "MSE: 19.326470203585725\n",
      "RMSE: 4.396188144698282\n",
      "R Squared: 0.7730135569264234\n"
=======
      "MSE: 19.32647020358573\n",
      "RMSE: 4.396188144698282\n",
      "R Squared: 0.7730135569264233\n"
>>>>>>> f414b94 (공부내용 추가)
     ]
    }
   ],
   "source": [
    "## 회귀 - mse, rmse, (ma-절대값-e), r2\n",
    "from metrics import print_regression_metrcis\n",
    "\n",
    "print_regression_metrcis(y_train, lr.predict(X_train_scaled), title=\"Transet\")"
   ]
  },
  {
   "cell_type": "code",
<<<<<<< HEAD
   "execution_count": 18,
=======
<<<<<<< HEAD
   "execution_count": 23,
=======
   "execution_count": 9,
>>>>>>> f414b94 (공부내용 추가)
>>>>>>> 5c77a2d0f4d3a07c227e0d134acfb5989827d578
   "metadata": {},
   "outputs": [
    {
     "name": "stdout",
     "output_type": "stream",
     "text": [
      "Testset\n",
<<<<<<< HEAD
      "MSE: 33.448979997676496\n",
      "RMSE: 5.783509315085133\n",
      "R Squared: 0.5892223849182512\n"
=======
      "MSE: 33.44897999767649\n",
      "RMSE: 5.783509315085132\n",
      "R Squared: 0.5892223849182513\n"
>>>>>>> f414b94 (공부내용 추가)
     ]
    }
   ],
   "source": [
    "print_regression_metrcis(y_test, lr.predict(X_test_scaled), title=\"Testset\")"
   ]
  },
  {
   "cell_type": "markdown",
   "metadata": {},
   "source": [
    "### Pipeline 이용\n",
    "- Feature Scaler -> LinearRegression"
   ]
  },
  {
   "cell_type": "code",
<<<<<<< HEAD
   "execution_count": 19,
=======
<<<<<<< HEAD
   "execution_count": 24,
=======
   "execution_count": 10,
>>>>>>> f414b94 (공부내용 추가)
>>>>>>> 5c77a2d0f4d3a07c227e0d134acfb5989827d578
   "metadata": {},
   "outputs": [
    {
     "name": "stdout",
     "output_type": "stream",
     "text": [
      "[Pipeline] ............ (step 1 of 2) Processing scaler, total=   0.0s\n",
      "[Pipeline] ............. (step 2 of 2) Processing model, total=   0.0s\n"
     ]
    },
    {
     "data": {
      "text/html": [
       "<style>#sk-container-id-2 {\n",
       "  /* Definition of color scheme common for light and dark mode */\n",
       "  --sklearn-color-text: #000;\n",
       "  --sklearn-color-text-muted: #666;\n",
       "  --sklearn-color-line: gray;\n",
       "  /* Definition of color scheme for unfitted estimators */\n",
       "  --sklearn-color-unfitted-level-0: #fff5e6;\n",
       "  --sklearn-color-unfitted-level-1: #f6e4d2;\n",
       "  --sklearn-color-unfitted-level-2: #ffe0b3;\n",
       "  --sklearn-color-unfitted-level-3: chocolate;\n",
       "  /* Definition of color scheme for fitted estimators */\n",
       "  --sklearn-color-fitted-level-0: #f0f8ff;\n",
       "  --sklearn-color-fitted-level-1: #d4ebff;\n",
       "  --sklearn-color-fitted-level-2: #b3dbfd;\n",
       "  --sklearn-color-fitted-level-3: cornflowerblue;\n",
       "\n",
       "  /* Specific color for light theme */\n",
       "  --sklearn-color-text-on-default-background: var(--sg-text-color, var(--theme-code-foreground, var(--jp-content-font-color1, black)));\n",
       "  --sklearn-color-background: var(--sg-background-color, var(--theme-background, var(--jp-layout-color0, white)));\n",
       "  --sklearn-color-border-box: var(--sg-text-color, var(--theme-code-foreground, var(--jp-content-font-color1, black)));\n",
       "  --sklearn-color-icon: #696969;\n",
       "\n",
       "  @media (prefers-color-scheme: dark) {\n",
       "    /* Redefinition of color scheme for dark theme */\n",
       "    --sklearn-color-text-on-default-background: var(--sg-text-color, var(--theme-code-foreground, var(--jp-content-font-color1, white)));\n",
       "    --sklearn-color-background: var(--sg-background-color, var(--theme-background, var(--jp-layout-color0, #111)));\n",
       "    --sklearn-color-border-box: var(--sg-text-color, var(--theme-code-foreground, var(--jp-content-font-color1, white)));\n",
       "    --sklearn-color-icon: #878787;\n",
       "  }\n",
       "}\n",
       "\n",
       "#sk-container-id-2 {\n",
       "  color: var(--sklearn-color-text);\n",
       "}\n",
       "\n",
       "#sk-container-id-2 pre {\n",
       "  padding: 0;\n",
       "}\n",
       "\n",
       "#sk-container-id-2 input.sk-hidden--visually {\n",
       "  border: 0;\n",
       "  clip: rect(1px 1px 1px 1px);\n",
       "  clip: rect(1px, 1px, 1px, 1px);\n",
       "  height: 1px;\n",
       "  margin: -1px;\n",
       "  overflow: hidden;\n",
       "  padding: 0;\n",
       "  position: absolute;\n",
       "  width: 1px;\n",
       "}\n",
       "\n",
       "#sk-container-id-2 div.sk-dashed-wrapped {\n",
       "  border: 1px dashed var(--sklearn-color-line);\n",
       "  margin: 0 0.4em 0.5em 0.4em;\n",
       "  box-sizing: border-box;\n",
       "  padding-bottom: 0.4em;\n",
       "  background-color: var(--sklearn-color-background);\n",
       "}\n",
       "\n",
       "#sk-container-id-2 div.sk-container {\n",
       "  /* jupyter's `normalize.less` sets `[hidden] { display: none; }`\n",
       "     but bootstrap.min.css set `[hidden] { display: none !important; }`\n",
       "     so we also need the `!important` here to be able to override the\n",
       "     default hidden behavior on the sphinx rendered scikit-learn.org.\n",
       "     See: https://github.com/scikit-learn/scikit-learn/issues/21755 */\n",
       "  display: inline-block !important;\n",
       "  position: relative;\n",
       "}\n",
       "\n",
       "#sk-container-id-2 div.sk-text-repr-fallback {\n",
       "  display: none;\n",
       "}\n",
       "\n",
       "div.sk-parallel-item,\n",
       "div.sk-serial,\n",
       "div.sk-item {\n",
       "  /* draw centered vertical line to link estimators */\n",
       "  background-image: linear-gradient(var(--sklearn-color-text-on-default-background), var(--sklearn-color-text-on-default-background));\n",
       "  background-size: 2px 100%;\n",
       "  background-repeat: no-repeat;\n",
       "  background-position: center center;\n",
       "}\n",
       "\n",
       "/* Parallel-specific style estimator block */\n",
       "\n",
       "#sk-container-id-2 div.sk-parallel-item::after {\n",
       "  content: \"\";\n",
       "  width: 100%;\n",
       "  border-bottom: 2px solid var(--sklearn-color-text-on-default-background);\n",
       "  flex-grow: 1;\n",
       "}\n",
       "\n",
       "#sk-container-id-2 div.sk-parallel {\n",
       "  display: flex;\n",
       "  align-items: stretch;\n",
       "  justify-content: center;\n",
       "  background-color: var(--sklearn-color-background);\n",
       "  position: relative;\n",
       "}\n",
       "\n",
       "#sk-container-id-2 div.sk-parallel-item {\n",
       "  display: flex;\n",
       "  flex-direction: column;\n",
       "}\n",
       "\n",
       "#sk-container-id-2 div.sk-parallel-item:first-child::after {\n",
       "  align-self: flex-end;\n",
       "  width: 50%;\n",
       "}\n",
       "\n",
       "#sk-container-id-2 div.sk-parallel-item:last-child::after {\n",
       "  align-self: flex-start;\n",
       "  width: 50%;\n",
       "}\n",
       "\n",
       "#sk-container-id-2 div.sk-parallel-item:only-child::after {\n",
       "  width: 0;\n",
       "}\n",
       "\n",
       "/* Serial-specific style estimator block */\n",
       "\n",
       "#sk-container-id-2 div.sk-serial {\n",
       "  display: flex;\n",
       "  flex-direction: column;\n",
       "  align-items: center;\n",
       "  background-color: var(--sklearn-color-background);\n",
       "  padding-right: 1em;\n",
       "  padding-left: 1em;\n",
       "}\n",
       "\n",
       "\n",
       "/* Toggleable style: style used for estimator/Pipeline/ColumnTransformer box that is\n",
       "clickable and can be expanded/collapsed.\n",
       "- Pipeline and ColumnTransformer use this feature and define the default style\n",
       "- Estimators will overwrite some part of the style using the `sk-estimator` class\n",
       "*/\n",
       "\n",
       "/* Pipeline and ColumnTransformer style (default) */\n",
       "\n",
       "#sk-container-id-2 div.sk-toggleable {\n",
       "  /* Default theme specific background. It is overwritten whether we have a\n",
       "  specific estimator or a Pipeline/ColumnTransformer */\n",
       "  background-color: var(--sklearn-color-background);\n",
       "}\n",
       "\n",
       "/* Toggleable label */\n",
       "#sk-container-id-2 label.sk-toggleable__label {\n",
       "  cursor: pointer;\n",
       "  display: flex;\n",
       "  width: 100%;\n",
       "  margin-bottom: 0;\n",
       "  padding: 0.5em;\n",
       "  box-sizing: border-box;\n",
       "  text-align: center;\n",
       "  align-items: start;\n",
       "  justify-content: space-between;\n",
       "  gap: 0.5em;\n",
       "}\n",
       "\n",
       "#sk-container-id-2 label.sk-toggleable__label .caption {\n",
       "  font-size: 0.6rem;\n",
       "  font-weight: lighter;\n",
       "  color: var(--sklearn-color-text-muted);\n",
       "}\n",
       "\n",
       "#sk-container-id-2 label.sk-toggleable__label-arrow:before {\n",
       "  /* Arrow on the left of the label */\n",
       "  content: \"▸\";\n",
       "  float: left;\n",
       "  margin-right: 0.25em;\n",
       "  color: var(--sklearn-color-icon);\n",
       "}\n",
       "\n",
       "#sk-container-id-2 label.sk-toggleable__label-arrow:hover:before {\n",
       "  color: var(--sklearn-color-text);\n",
       "}\n",
       "\n",
       "/* Toggleable content - dropdown */\n",
       "\n",
       "#sk-container-id-2 div.sk-toggleable__content {\n",
       "  max-height: 0;\n",
       "  max-width: 0;\n",
       "  overflow: hidden;\n",
       "  text-align: left;\n",
       "  /* unfitted */\n",
       "  background-color: var(--sklearn-color-unfitted-level-0);\n",
       "}\n",
       "\n",
       "#sk-container-id-2 div.sk-toggleable__content.fitted {\n",
       "  /* fitted */\n",
       "  background-color: var(--sklearn-color-fitted-level-0);\n",
       "}\n",
       "\n",
       "#sk-container-id-2 div.sk-toggleable__content pre {\n",
       "  margin: 0.2em;\n",
       "  border-radius: 0.25em;\n",
       "  color: var(--sklearn-color-text);\n",
       "  /* unfitted */\n",
       "  background-color: var(--sklearn-color-unfitted-level-0);\n",
       "}\n",
       "\n",
       "#sk-container-id-2 div.sk-toggleable__content.fitted pre {\n",
       "  /* unfitted */\n",
       "  background-color: var(--sklearn-color-fitted-level-0);\n",
       "}\n",
       "\n",
       "#sk-container-id-2 input.sk-toggleable__control:checked~div.sk-toggleable__content {\n",
       "  /* Expand drop-down */\n",
       "  max-height: 200px;\n",
       "  max-width: 100%;\n",
       "  overflow: auto;\n",
       "}\n",
       "\n",
       "#sk-container-id-2 input.sk-toggleable__control:checked~label.sk-toggleable__label-arrow:before {\n",
       "  content: \"▾\";\n",
       "}\n",
       "\n",
       "/* Pipeline/ColumnTransformer-specific style */\n",
       "\n",
       "#sk-container-id-2 div.sk-label input.sk-toggleable__control:checked~label.sk-toggleable__label {\n",
       "  color: var(--sklearn-color-text);\n",
       "  background-color: var(--sklearn-color-unfitted-level-2);\n",
       "}\n",
       "\n",
       "#sk-container-id-2 div.sk-label.fitted input.sk-toggleable__control:checked~label.sk-toggleable__label {\n",
       "  background-color: var(--sklearn-color-fitted-level-2);\n",
       "}\n",
       "\n",
       "/* Estimator-specific style */\n",
       "\n",
       "/* Colorize estimator box */\n",
       "#sk-container-id-2 div.sk-estimator input.sk-toggleable__control:checked~label.sk-toggleable__label {\n",
       "  /* unfitted */\n",
       "  background-color: var(--sklearn-color-unfitted-level-2);\n",
       "}\n",
       "\n",
       "#sk-container-id-2 div.sk-estimator.fitted input.sk-toggleable__control:checked~label.sk-toggleable__label {\n",
       "  /* fitted */\n",
       "  background-color: var(--sklearn-color-fitted-level-2);\n",
       "}\n",
       "\n",
       "#sk-container-id-2 div.sk-label label.sk-toggleable__label,\n",
       "#sk-container-id-2 div.sk-label label {\n",
       "  /* The background is the default theme color */\n",
       "  color: var(--sklearn-color-text-on-default-background);\n",
       "}\n",
       "\n",
       "/* On hover, darken the color of the background */\n",
       "#sk-container-id-2 div.sk-label:hover label.sk-toggleable__label {\n",
       "  color: var(--sklearn-color-text);\n",
       "  background-color: var(--sklearn-color-unfitted-level-2);\n",
       "}\n",
       "\n",
       "/* Label box, darken color on hover, fitted */\n",
       "#sk-container-id-2 div.sk-label.fitted:hover label.sk-toggleable__label.fitted {\n",
       "  color: var(--sklearn-color-text);\n",
       "  background-color: var(--sklearn-color-fitted-level-2);\n",
       "}\n",
       "\n",
       "/* Estimator label */\n",
       "\n",
       "#sk-container-id-2 div.sk-label label {\n",
       "  font-family: monospace;\n",
       "  font-weight: bold;\n",
       "  display: inline-block;\n",
       "  line-height: 1.2em;\n",
       "}\n",
       "\n",
       "#sk-container-id-2 div.sk-label-container {\n",
       "  text-align: center;\n",
       "}\n",
       "\n",
       "/* Estimator-specific */\n",
       "#sk-container-id-2 div.sk-estimator {\n",
       "  font-family: monospace;\n",
       "  border: 1px dotted var(--sklearn-color-border-box);\n",
       "  border-radius: 0.25em;\n",
       "  box-sizing: border-box;\n",
       "  margin-bottom: 0.5em;\n",
       "  /* unfitted */\n",
       "  background-color: var(--sklearn-color-unfitted-level-0);\n",
       "}\n",
       "\n",
       "#sk-container-id-2 div.sk-estimator.fitted {\n",
       "  /* fitted */\n",
       "  background-color: var(--sklearn-color-fitted-level-0);\n",
       "}\n",
       "\n",
       "/* on hover */\n",
       "#sk-container-id-2 div.sk-estimator:hover {\n",
       "  /* unfitted */\n",
       "  background-color: var(--sklearn-color-unfitted-level-2);\n",
       "}\n",
       "\n",
       "#sk-container-id-2 div.sk-estimator.fitted:hover {\n",
       "  /* fitted */\n",
       "  background-color: var(--sklearn-color-fitted-level-2);\n",
       "}\n",
       "\n",
       "/* Specification for estimator info (e.g. \"i\" and \"?\") */\n",
       "\n",
       "/* Common style for \"i\" and \"?\" */\n",
       "\n",
       ".sk-estimator-doc-link,\n",
       "a:link.sk-estimator-doc-link,\n",
       "a:visited.sk-estimator-doc-link {\n",
       "  float: right;\n",
       "  font-size: smaller;\n",
       "  line-height: 1em;\n",
       "  font-family: monospace;\n",
       "  background-color: var(--sklearn-color-background);\n",
       "  border-radius: 1em;\n",
       "  height: 1em;\n",
       "  width: 1em;\n",
       "  text-decoration: none !important;\n",
       "  margin-left: 0.5em;\n",
       "  text-align: center;\n",
       "  /* unfitted */\n",
       "  border: var(--sklearn-color-unfitted-level-1) 1pt solid;\n",
       "  color: var(--sklearn-color-unfitted-level-1);\n",
       "}\n",
       "\n",
       ".sk-estimator-doc-link.fitted,\n",
       "a:link.sk-estimator-doc-link.fitted,\n",
       "a:visited.sk-estimator-doc-link.fitted {\n",
       "  /* fitted */\n",
       "  border: var(--sklearn-color-fitted-level-1) 1pt solid;\n",
       "  color: var(--sklearn-color-fitted-level-1);\n",
       "}\n",
       "\n",
       "/* On hover */\n",
       "div.sk-estimator:hover .sk-estimator-doc-link:hover,\n",
       ".sk-estimator-doc-link:hover,\n",
       "div.sk-label-container:hover .sk-estimator-doc-link:hover,\n",
       ".sk-estimator-doc-link:hover {\n",
       "  /* unfitted */\n",
       "  background-color: var(--sklearn-color-unfitted-level-3);\n",
       "  color: var(--sklearn-color-background);\n",
       "  text-decoration: none;\n",
       "}\n",
       "\n",
       "div.sk-estimator.fitted:hover .sk-estimator-doc-link.fitted:hover,\n",
       ".sk-estimator-doc-link.fitted:hover,\n",
       "div.sk-label-container:hover .sk-estimator-doc-link.fitted:hover,\n",
       ".sk-estimator-doc-link.fitted:hover {\n",
       "  /* fitted */\n",
       "  background-color: var(--sklearn-color-fitted-level-3);\n",
       "  color: var(--sklearn-color-background);\n",
       "  text-decoration: none;\n",
       "}\n",
       "\n",
       "/* Span, style for the box shown on hovering the info icon */\n",
       ".sk-estimator-doc-link span {\n",
       "  display: none;\n",
       "  z-index: 9999;\n",
       "  position: relative;\n",
       "  font-weight: normal;\n",
       "  right: .2ex;\n",
       "  padding: .5ex;\n",
       "  margin: .5ex;\n",
       "  width: min-content;\n",
       "  min-width: 20ex;\n",
       "  max-width: 50ex;\n",
       "  color: var(--sklearn-color-text);\n",
       "  box-shadow: 2pt 2pt 4pt #999;\n",
       "  /* unfitted */\n",
       "  background: var(--sklearn-color-unfitted-level-0);\n",
       "  border: .5pt solid var(--sklearn-color-unfitted-level-3);\n",
       "}\n",
       "\n",
       ".sk-estimator-doc-link.fitted span {\n",
       "  /* fitted */\n",
       "  background: var(--sklearn-color-fitted-level-0);\n",
       "  border: var(--sklearn-color-fitted-level-3);\n",
       "}\n",
       "\n",
       ".sk-estimator-doc-link:hover span {\n",
       "  display: block;\n",
       "}\n",
       "\n",
       "/* \"?\"-specific style due to the `<a>` HTML tag */\n",
       "\n",
       "#sk-container-id-2 a.estimator_doc_link {\n",
       "  float: right;\n",
       "  font-size: 1rem;\n",
       "  line-height: 1em;\n",
       "  font-family: monospace;\n",
       "  background-color: var(--sklearn-color-background);\n",
       "  border-radius: 1rem;\n",
       "  height: 1rem;\n",
       "  width: 1rem;\n",
       "  text-decoration: none;\n",
       "  /* unfitted */\n",
       "  color: var(--sklearn-color-unfitted-level-1);\n",
       "  border: var(--sklearn-color-unfitted-level-1) 1pt solid;\n",
       "}\n",
       "\n",
       "#sk-container-id-2 a.estimator_doc_link.fitted {\n",
       "  /* fitted */\n",
       "  border: var(--sklearn-color-fitted-level-1) 1pt solid;\n",
       "  color: var(--sklearn-color-fitted-level-1);\n",
       "}\n",
       "\n",
       "/* On hover */\n",
       "#sk-container-id-2 a.estimator_doc_link:hover {\n",
       "  /* unfitted */\n",
       "  background-color: var(--sklearn-color-unfitted-level-3);\n",
       "  color: var(--sklearn-color-background);\n",
       "  text-decoration: none;\n",
       "}\n",
       "\n",
       "#sk-container-id-2 a.estimator_doc_link.fitted:hover {\n",
       "  /* fitted */\n",
       "  background-color: var(--sklearn-color-fitted-level-3);\n",
       "}\n",
       "</style><div id=\"sk-container-id-2\" class=\"sk-top-container\"><div class=\"sk-text-repr-fallback\"><pre>Pipeline(steps=[(&#x27;scaler&#x27;, StandardScaler()), (&#x27;model&#x27;, LinearRegression())],\n",
       "         verbose=True)</pre><b>In a Jupyter environment, please rerun this cell to show the HTML representation or trust the notebook. <br />On GitHub, the HTML representation is unable to render, please try loading this page with nbviewer.org.</b></div><div class=\"sk-container\" hidden><div class=\"sk-item sk-dashed-wrapped\"><div class=\"sk-label-container\"><div class=\"sk-label fitted sk-toggleable\"><input class=\"sk-toggleable__control sk-hidden--visually\" id=\"sk-estimator-id-2\" type=\"checkbox\" ><label for=\"sk-estimator-id-2\" class=\"sk-toggleable__label fitted sk-toggleable__label-arrow\"><div><div>Pipeline</div></div><div><a class=\"sk-estimator-doc-link fitted\" rel=\"noreferrer\" target=\"_blank\" href=\"https://scikit-learn.org/1.6/modules/generated/sklearn.pipeline.Pipeline.html\">?<span>Documentation for Pipeline</span></a><span class=\"sk-estimator-doc-link fitted\">i<span>Fitted</span></span></div></label><div class=\"sk-toggleable__content fitted\"><pre>Pipeline(steps=[(&#x27;scaler&#x27;, StandardScaler()), (&#x27;model&#x27;, LinearRegression())],\n",
       "         verbose=True)</pre></div> </div></div><div class=\"sk-serial\"><div class=\"sk-item\"><div class=\"sk-estimator fitted sk-toggleable\"><input class=\"sk-toggleable__control sk-hidden--visually\" id=\"sk-estimator-id-3\" type=\"checkbox\" ><label for=\"sk-estimator-id-3\" class=\"sk-toggleable__label fitted sk-toggleable__label-arrow\"><div><div>StandardScaler</div></div><div><a class=\"sk-estimator-doc-link fitted\" rel=\"noreferrer\" target=\"_blank\" href=\"https://scikit-learn.org/1.6/modules/generated/sklearn.preprocessing.StandardScaler.html\">?<span>Documentation for StandardScaler</span></a></div></label><div class=\"sk-toggleable__content fitted\"><pre>StandardScaler()</pre></div> </div></div><div class=\"sk-item\"><div class=\"sk-estimator fitted sk-toggleable\"><input class=\"sk-toggleable__control sk-hidden--visually\" id=\"sk-estimator-id-4\" type=\"checkbox\" ><label for=\"sk-estimator-id-4\" class=\"sk-toggleable__label fitted sk-toggleable__label-arrow\"><div><div>LinearRegression</div></div><div><a class=\"sk-estimator-doc-link fitted\" rel=\"noreferrer\" target=\"_blank\" href=\"https://scikit-learn.org/1.6/modules/generated/sklearn.linear_model.LinearRegression.html\">?<span>Documentation for LinearRegression</span></a></div></label><div class=\"sk-toggleable__content fitted\"><pre>LinearRegression()</pre></div> </div></div></div></div></div></div>"
      ],
      "text/plain": [
       "Pipeline(steps=[('scaler', StandardScaler()), ('model', LinearRegression())],\n",
       "         verbose=True)"
      ]
     },
<<<<<<< HEAD
     "execution_count": 19,
=======
<<<<<<< HEAD
     "execution_count": 24,
=======
     "execution_count": 10,
>>>>>>> f414b94 (공부내용 추가)
>>>>>>> 5c77a2d0f4d3a07c227e0d134acfb5989827d578
     "metadata": {},
     "output_type": "execute_result"
    }
   ],
   "source": [
    "from sklearn.pipeline import Pipeline\n",
    "\n",
    "pl = Pipeline([(\"scaler\", StandardScaler()),(\"model\", LinearRegression())], verbose=True)\n",
    "\n",
    "pl.fit(X_train, y_train)"
   ]
  },
  {
   "cell_type": "code",
<<<<<<< HEAD
   "execution_count": 20,
=======
<<<<<<< HEAD
   "execution_count": 25,
=======
   "execution_count": 13,
>>>>>>> f414b94 (공부내용 추가)
>>>>>>> 5c77a2d0f4d3a07c227e0d134acfb5989827d578
   "metadata": {},
   "outputs": [],
   "source": [
    "pred = pl.predict(X_test)"
   ]
  },
  {
   "cell_type": "code",
<<<<<<< HEAD
   "execution_count": 21,
=======
<<<<<<< HEAD
   "execution_count": null,
=======
   "execution_count": 14,
>>>>>>> f414b94 (공부내용 추가)
>>>>>>> 5c77a2d0f4d3a07c227e0d134acfb5989827d578
   "metadata": {},
   "outputs": [
    {
     "data": {
      "text/plain": [
<<<<<<< HEAD
       "np.float64(22.21960784313725)"
      ]
     },
     "execution_count": 21,
=======
<<<<<<< HEAD
       "(102,)"
      ]
     },
     "execution_count": 28,
=======
       "np.float64(22.21960784313725)"
      ]
     },
     "execution_count": 14,
>>>>>>> f414b94 (공부내용 추가)
>>>>>>> 5c77a2d0f4d3a07c227e0d134acfb5989827d578
     "metadata": {},
     "output_type": "execute_result"
    }
   ],
   "source": [
<<<<<<< HEAD
    "y_test.mean()"
=======
<<<<<<< HEAD
    "y_test.mean()s"
=======
    "y_test.mean()"
>>>>>>> f414b94 (공부내용 추가)
>>>>>>> 5c77a2d0f4d3a07c227e0d134acfb5989827d578
   ]
  },
  {
   "cell_type": "code",
<<<<<<< HEAD
   "execution_count": 22,
=======
<<<<<<< HEAD
   "execution_count": 26,
=======
   "execution_count": 15,
>>>>>>> f414b94 (공부내용 추가)
>>>>>>> 5c77a2d0f4d3a07c227e0d134acfb5989827d578
   "metadata": {},
   "outputs": [
    {
     "name": "stdout",
     "output_type": "stream",
     "text": [
<<<<<<< HEAD
      "MSE: 33.448979997676496\n",
      "RMSE: 5.783509315085133\n",
      "R Squared: 0.5892223849182512\n"
=======
      "MSE: 33.44897999767649\n",
      "RMSE: 5.783509315085132\n",
      "R Squared: 0.5892223849182513\n"
>>>>>>> f414b94 (공부내용 추가)
     ]
    }
   ],
   "source": [
    "print_regression_metrcis(y_test, pred)"
   ]
  },
  {
   "cell_type": "code",
<<<<<<< HEAD
   "execution_count": 23,
=======
<<<<<<< HEAD
   "execution_count": 29,
>>>>>>> 5c77a2d0f4d3a07c227e0d134acfb5989827d578
   "metadata": {},
   "outputs": [
    {
     "data": {
      "image/png": "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",
=======
   "execution_count": 16,
   "metadata": {},
   "outputs": [
    {
     "name": "stderr",
     "output_type": "stream",
     "text": [
      "/Users/choisungjang/IdeaProjects/growingPython/growingPython/ml/lib/python3.13/site-packages/IPython/core/pylabtools.py:170: UserWarning: Glyph 51221 (\\N{HANGUL SYLLABLE JEONG}) missing from font(s) DejaVu Sans.\n",
      "  fig.canvas.print_figure(bytes_io, **kw)\n",
      "/Users/choisungjang/IdeaProjects/growingPython/growingPython/ml/lib/python3.13/site-packages/IPython/core/pylabtools.py:170: UserWarning: Glyph 45813 (\\N{HANGUL SYLLABLE DAB}) missing from font(s) DejaVu Sans.\n",
      "  fig.canvas.print_figure(bytes_io, **kw)\n",
      "/Users/choisungjang/IdeaProjects/growingPython/growingPython/ml/lib/python3.13/site-packages/IPython/core/pylabtools.py:170: UserWarning: Glyph 50696 (\\N{HANGUL SYLLABLE YE}) missing from font(s) DejaVu Sans.\n",
      "  fig.canvas.print_figure(bytes_io, **kw)\n",
      "/Users/choisungjang/IdeaProjects/growingPython/growingPython/ml/lib/python3.13/site-packages/IPython/core/pylabtools.py:170: UserWarning: Glyph 52769 (\\N{HANGUL SYLLABLE CEUG}) missing from font(s) DejaVu Sans.\n",
      "  fig.canvas.print_figure(bytes_io, **kw)\n"
     ]
    },
    {
     "data": {
      "image/png": "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",
>>>>>>> f414b94 (공부내용 추가)
      "text/plain": [
       "<Figure size 2000x500 with 1 Axes>"
      ]
     },
     "metadata": {},
     "output_type": "display_data"
    }
   ],
   "source": [
    "### y_test 정답과 추론값 비교 - 시각화\n",
    "import matplotlib.pyplot as plt\n",
    "plt.figure(figsize=(20, 5))\n",
<<<<<<< HEAD
=======
<<<<<<< HEAD
    "# X축: 몇번째 데이터에 대한 예측인지 index\n",
    "# y축: 집값\n",
    "# 선그래프: 정답, 모델 예측한 값값\n",
=======
    "# X축 : 몇번째 데이터에 대한 예측인지 index\n",
    "# y축 : 집값\n",
    "# 선그래프 : 정답, 모델 예측한 값\n",
>>>>>>> f414b94 (공부내용 추가)
>>>>>>> 5c77a2d0f4d3a07c227e0d134acfb5989827d578
    "plt.plot(range(y_test.size), y_test, marker=\"x\", label=\"정답\")\n",
    "plt.plot(range(y_test.size), pred, marker='o', label=\"예측\")\n",
    "plt.legend()\n",
    "plt.grid(True, linestyle=\":\")\n",
    "plt.show()"
   ]
  },
  {
   "cell_type": "code",
   "execution_count": null,
   "metadata": {},
   "outputs": [],
   "source": []
  },
  {
   "cell_type": "markdown",
   "metadata": {
    "slideshow": {
     "slide_type": "slide"
    }
   },
   "source": [
    "# 다항회귀 (Polynomial Regression)\n",
    "- 전처리방식 중 하나로 Feature가 너무 적어 y의 값들을 다 설명하지 못하여 underfitting이 된 경우 Feature를 늘려준다.\n",
    "- 각 Feature들을 거듭제곱한 것과 Feature들 끼리 곱한 새로운 특성들을 추가한다.\n",
    "    - 파라미터(Coef, weight)를 기준으로는 일차식이 되어 선형모델이다. 그렇지만 input 기준으로는 N차식이 되어 비선형 데이터를 추론할 수 있는 모델이 된다.\n",
    "- `PolynomialFeatures` Transformer를 사용해서 변환한다."
   ]
  },
  {
   "cell_type": "markdown",
   "metadata": {
    "slideshow": {
     "slide_type": "slide"
    }
   },
   "source": [
    "## 예제"
   ]
  },
  {
   "cell_type": "markdown",
   "metadata": {
    "slideshow": {
     "slide_type": "fragment"
    }
   },
   "source": [
    "##### 데이터셋 만들기"
   ]
  },
  {
   "cell_type": "code",
<<<<<<< Updated upstream
   "execution_count": 42,
=======
   "execution_count": 85,
>>>>>>> Stashed changes
   "metadata": {
    "ExecuteTime": {
     "end_time": "2023-02-07T13:23:44.707240Z",
     "start_time": "2023-02-07T13:23:44.695238Z"
    },
    "tags": []
   },
   "outputs": [
    {
     "name": "stdout",
     "output_type": "stream",
     "text": [
      "(100, 1) (100,)\n"
     ]
    }
   ],
   "source": [
    "import numpy as np\n",
    "import pandas as pd\n",
    "import matplotlib.pyplot as plt\n",
    "\n",
    "np.random.seed(0)\n",
    "\n",
    "# 모델링을 통해 찾아야 하는 함수.\n",
    "def func(X):\n",
    "    return X**2 + X + 2 + np.random.normal(0,1, size=(X.size, 1))\n",
    "    \n",
    "m = 100\n",
    "X = 6 * np.random.rand(m, 1) - 3\n",
    "y = func(X)\n",
    "y = y.flatten()\n",
    "\n",
    "print(X.shape, y.shape)"
   ]
  },
  {
   "cell_type": "code",
<<<<<<< Updated upstream
   "execution_count": 43,
   "metadata": {},
   "outputs": [
    {
     "name": "stdout",
     "output_type": "stream",
     "text": [
      "[ 1.21351048  5.85899537  3.46241391  0.80557742  3.24001022  5.53751717\n",
      "  2.94453566  9.6962122  11.45061754  2.8441925 ]\n",
      "[[ 0.29288102]\n",
      " [ 1.2911362 ]\n",
      " [ 0.61658026]\n",
      " [ 0.2692991 ]\n",
      " [-0.4580712 ]]\n"
     ]
    }
   ],
   "source": [
    "print(y[:10])\n",
    "print(X[:5])"
   ]
  },
  {
   "cell_type": "code",
   "execution_count": 44,
   "metadata": {},
   "outputs": [
    {
=======
   "execution_count": 86,
   "metadata": {},
   "outputs": [
    {
>>>>>>> Stashed changes
     "data": {
      "image/png": "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",
      "text/plain": [
       "<Figure size 640x480 with 1 Axes>"
      ]
     },
     "metadata": {},
     "output_type": "display_data"
    }
   ],
   "source": [
    "import matplotlib.pyplot as plt\n",
    "plt.scatter(X,  y)\n",
    "plt.show()"
   ]
  },
  {
   "cell_type": "markdown",
   "metadata": {
    "slideshow": {
     "slide_type": "slide"
    }
   },
   "source": [
    "##### 모델생성, 학습"
   ]
  },
  {
   "cell_type": "code",
<<<<<<< Updated upstream
   "execution_count": 45,
=======
   "execution_count": 87,
>>>>>>> Stashed changes
   "metadata": {},
   "outputs": [],
   "source": [
    "from sklearn.linear_model import LinearRegression\n",
    "\n",
    "lr = LinearRegression()\n",
    "lr.fit(X, y)\n",
    "pred = lr.predict(X)"
   ]
  },
  {
   "cell_type": "code",
<<<<<<< Updated upstream
   "execution_count": 46,
=======
   "execution_count": 88,
>>>>>>> Stashed changes
   "metadata": {},
   "outputs": [
    {
     "data": {
      "image/png": "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",
      "text/plain": [
       "<Figure size 640x480 with 1 Axes>"
      ]
     },
     "metadata": {},
     "output_type": "display_data"
    }
   ],
   "source": [
    "import matplotlib.pyplot as plt\n",
    "plt.scatter(X,  y, label=\"y\")\n",
    "plt.scatter(X, pred, label='y hat(예측)')\n",
    "plt.legend()\n",
    "plt.show()"
   ]
  },
  {
   "cell_type": "code",
<<<<<<< Updated upstream
   "execution_count": 47,
=======
   "execution_count": 89,
>>>>>>> Stashed changes
   "metadata": {},
   "outputs": [
    {
     "data": {
      "text/plain": [
       "(array([0.78189543]), np.float64(5.175619278567209))"
      ]
     },
<<<<<<< Updated upstream
     "execution_count": 47,
=======
     "execution_count": 89,
>>>>>>> Stashed changes
     "metadata": {},
     "output_type": "execute_result"
    }
   ],
   "source": [
    "lr.coef_, lr.intercept_"
   ]
  },
  {
   "cell_type": "code",
<<<<<<< Updated upstream
   "execution_count": 48,
=======
   "execution_count": 90,
>>>>>>> Stashed changes
   "metadata": {},
   "outputs": [
    {
     "name": "stdout",
     "output_type": "stream",
     "text": [
      "MSE: 7.729204760808937\n",
      "RMSE: 2.7801447373848966\n",
      "R Squared: 0.19138252437306003\n"
     ]
    }
   ],
   "source": [
    "from metrics import print_regression_metrcis\n",
    "print_regression_metrcis(y, pred)"
   ]
  },
  {
   "cell_type": "markdown",
   "metadata": {
    "slideshow": {
     "slide_type": "slide"
    }
   },
   "source": [
    "##### PolynomialFeatures를 이용해 다항회귀구현"
   ]
  },
  {
   "cell_type": "code",
<<<<<<< Updated upstream
   "execution_count": 49,
=======
   "execution_count": 91,
>>>>>>> Stashed changes
   "metadata": {},
   "outputs": [
    {
     "data": {
      "text/plain": [
       "(100, 1)"
      ]
     },
<<<<<<< Updated upstream
     "execution_count": 49,
=======
     "execution_count": 91,
>>>>>>> Stashed changes
     "metadata": {},
     "output_type": "execute_result"
    }
   ],
   "source": [
    "X.shape"
   ]
  },
  {
   "cell_type": "code",
<<<<<<< Updated upstream
   "execution_count": 50,
=======
   "execution_count": 92,
>>>>>>> Stashed changes
   "metadata": {},
   "outputs": [],
   "source": [
    "from sklearn.preprocessing import PolynomialFeatures\n",
    "\n",
    "pnf = PolynomialFeatures(\n",
    "    degree=2,            # 최고차항의 차수. ex) degree=4로 하면: x(원래 컬럼), x^2, x^3, x^4  한 feature추가.\n",
    "    include_bias=False,  #True(기본값) - 상수항 feature 생성여부. (모든 값이 1인 feature 추가여부)\n",
    ")\n",
    "## 차수가 올라가면 복잡도가 올라감.\n",
    "\n",
    "# pnf.fit(X)\n",
    "# pnf.transform(X)\n",
    "\n",
    "X_poly = pnf.fit_transform(X)"
   ]
  },
  {
   "cell_type": "code",
<<<<<<< Updated upstream
   "execution_count": 51,
=======
   "execution_count": 93,
>>>>>>> Stashed changes
   "metadata": {},
   "outputs": [
    {
     "name": "stdout",
     "output_type": "stream",
     "text": [
      "(100, 1) (100, 2)\n"
     ]
    }
   ],
   "source": [
    "print(X.shape, X_poly.shape)"
   ]
  },
  {
   "cell_type": "code",
<<<<<<< Updated upstream
   "execution_count": 52,
=======
   "execution_count": 94,
>>>>>>> Stashed changes
   "metadata": {},
   "outputs": [
    {
     "data": {
      "text/plain": [
       "array([[0.29288102],\n",
       "       [1.2911362 ],\n",
       "       [0.61658026]])"
      ]
     },
<<<<<<< Updated upstream
     "execution_count": 52,
=======
     "execution_count": 94,
>>>>>>> Stashed changes
     "metadata": {},
     "output_type": "execute_result"
    }
   ],
   "source": [
    "X[:3]"
   ]
  },
  {
   "cell_type": "code",
<<<<<<< Updated upstream
   "execution_count": 53,
=======
   "execution_count": 95,
>>>>>>> Stashed changes
   "metadata": {},
   "outputs": [
    {
     "data": {
      "text/plain": [
       "array([[0.29288102, 0.08577929],\n",
       "       [1.2911362 , 1.66703268],\n",
       "       [0.61658026, 0.38017121]])"
      ]
     },
<<<<<<< Updated upstream
     "execution_count": 53,
=======
     "execution_count": 95,
>>>>>>> Stashed changes
     "metadata": {},
     "output_type": "execute_result"
    }
   ],
   "source": [
    "X_poly[:3]"
   ]
  },
  {
   "cell_type": "markdown",
   "metadata": {
    "slideshow": {
     "slide_type": "slide"
    }
   },
   "source": [
    "##### LinearRegression 모델을 이용해 평가"
   ]
  },
  {
   "cell_type": "code",
<<<<<<< Updated upstream
   "execution_count": 54,
=======
   "execution_count": 96,
>>>>>>> Stashed changes
   "metadata": {},
   "outputs": [
    {
     "data": {
      "text/html": [
<<<<<<< Updated upstream
       "<style>#sk-container-id-3 {\n",
=======
       "<style>#sk-container-id-8 {\n",
>>>>>>> Stashed changes
       "  /* Definition of color scheme common for light and dark mode */\n",
       "  --sklearn-color-text: #000;\n",
       "  --sklearn-color-text-muted: #666;\n",
       "  --sklearn-color-line: gray;\n",
       "  /* Definition of color scheme for unfitted estimators */\n",
       "  --sklearn-color-unfitted-level-0: #fff5e6;\n",
       "  --sklearn-color-unfitted-level-1: #f6e4d2;\n",
       "  --sklearn-color-unfitted-level-2: #ffe0b3;\n",
       "  --sklearn-color-unfitted-level-3: chocolate;\n",
       "  /* Definition of color scheme for fitted estimators */\n",
       "  --sklearn-color-fitted-level-0: #f0f8ff;\n",
       "  --sklearn-color-fitted-level-1: #d4ebff;\n",
       "  --sklearn-color-fitted-level-2: #b3dbfd;\n",
       "  --sklearn-color-fitted-level-3: cornflowerblue;\n",
       "\n",
       "  /* Specific color for light theme */\n",
       "  --sklearn-color-text-on-default-background: var(--sg-text-color, var(--theme-code-foreground, var(--jp-content-font-color1, black)));\n",
       "  --sklearn-color-background: var(--sg-background-color, var(--theme-background, var(--jp-layout-color0, white)));\n",
       "  --sklearn-color-border-box: var(--sg-text-color, var(--theme-code-foreground, var(--jp-content-font-color1, black)));\n",
       "  --sklearn-color-icon: #696969;\n",
       "\n",
       "  @media (prefers-color-scheme: dark) {\n",
       "    /* Redefinition of color scheme for dark theme */\n",
       "    --sklearn-color-text-on-default-background: var(--sg-text-color, var(--theme-code-foreground, var(--jp-content-font-color1, white)));\n",
       "    --sklearn-color-background: var(--sg-background-color, var(--theme-background, var(--jp-layout-color0, #111)));\n",
       "    --sklearn-color-border-box: var(--sg-text-color, var(--theme-code-foreground, var(--jp-content-font-color1, white)));\n",
       "    --sklearn-color-icon: #878787;\n",
       "  }\n",
       "}\n",
       "\n",
<<<<<<< Updated upstream
       "#sk-container-id-3 {\n",
       "  color: var(--sklearn-color-text);\n",
       "}\n",
       "\n",
       "#sk-container-id-3 pre {\n",
       "  padding: 0;\n",
       "}\n",
       "\n",
       "#sk-container-id-3 input.sk-hidden--visually {\n",
=======
       "#sk-container-id-8 {\n",
       "  color: var(--sklearn-color-text);\n",
       "}\n",
       "\n",
       "#sk-container-id-8 pre {\n",
       "  padding: 0;\n",
       "}\n",
       "\n",
       "#sk-container-id-8 input.sk-hidden--visually {\n",
>>>>>>> Stashed changes
       "  border: 0;\n",
       "  clip: rect(1px 1px 1px 1px);\n",
       "  clip: rect(1px, 1px, 1px, 1px);\n",
       "  height: 1px;\n",
       "  margin: -1px;\n",
       "  overflow: hidden;\n",
       "  padding: 0;\n",
       "  position: absolute;\n",
       "  width: 1px;\n",
       "}\n",
       "\n",
<<<<<<< Updated upstream
       "#sk-container-id-3 div.sk-dashed-wrapped {\n",
=======
       "#sk-container-id-8 div.sk-dashed-wrapped {\n",
>>>>>>> Stashed changes
       "  border: 1px dashed var(--sklearn-color-line);\n",
       "  margin: 0 0.4em 0.5em 0.4em;\n",
       "  box-sizing: border-box;\n",
       "  padding-bottom: 0.4em;\n",
       "  background-color: var(--sklearn-color-background);\n",
       "}\n",
       "\n",
<<<<<<< Updated upstream
       "#sk-container-id-3 div.sk-container {\n",
=======
       "#sk-container-id-8 div.sk-container {\n",
>>>>>>> Stashed changes
       "  /* jupyter's `normalize.less` sets `[hidden] { display: none; }`\n",
       "     but bootstrap.min.css set `[hidden] { display: none !important; }`\n",
       "     so we also need the `!important` here to be able to override the\n",
       "     default hidden behavior on the sphinx rendered scikit-learn.org.\n",
       "     See: https://github.com/scikit-learn/scikit-learn/issues/21755 */\n",
       "  display: inline-block !important;\n",
       "  position: relative;\n",
       "}\n",
       "\n",
<<<<<<< Updated upstream
       "#sk-container-id-3 div.sk-text-repr-fallback {\n",
=======
       "#sk-container-id-8 div.sk-text-repr-fallback {\n",
>>>>>>> Stashed changes
       "  display: none;\n",
       "}\n",
       "\n",
       "div.sk-parallel-item,\n",
       "div.sk-serial,\n",
       "div.sk-item {\n",
       "  /* draw centered vertical line to link estimators */\n",
       "  background-image: linear-gradient(var(--sklearn-color-text-on-default-background), var(--sklearn-color-text-on-default-background));\n",
       "  background-size: 2px 100%;\n",
       "  background-repeat: no-repeat;\n",
       "  background-position: center center;\n",
       "}\n",
       "\n",
       "/* Parallel-specific style estimator block */\n",
       "\n",
<<<<<<< Updated upstream
       "#sk-container-id-3 div.sk-parallel-item::after {\n",
=======
       "#sk-container-id-8 div.sk-parallel-item::after {\n",
>>>>>>> Stashed changes
       "  content: \"\";\n",
       "  width: 100%;\n",
       "  border-bottom: 2px solid var(--sklearn-color-text-on-default-background);\n",
       "  flex-grow: 1;\n",
       "}\n",
       "\n",
<<<<<<< Updated upstream
       "#sk-container-id-3 div.sk-parallel {\n",
=======
       "#sk-container-id-8 div.sk-parallel {\n",
>>>>>>> Stashed changes
       "  display: flex;\n",
       "  align-items: stretch;\n",
       "  justify-content: center;\n",
       "  background-color: var(--sklearn-color-background);\n",
       "  position: relative;\n",
       "}\n",
       "\n",
<<<<<<< Updated upstream
       "#sk-container-id-3 div.sk-parallel-item {\n",
=======
       "#sk-container-id-8 div.sk-parallel-item {\n",
>>>>>>> Stashed changes
       "  display: flex;\n",
       "  flex-direction: column;\n",
       "}\n",
       "\n",
<<<<<<< Updated upstream
       "#sk-container-id-3 div.sk-parallel-item:first-child::after {\n",
=======
       "#sk-container-id-8 div.sk-parallel-item:first-child::after {\n",
>>>>>>> Stashed changes
       "  align-self: flex-end;\n",
       "  width: 50%;\n",
       "}\n",
       "\n",
<<<<<<< Updated upstream
       "#sk-container-id-3 div.sk-parallel-item:last-child::after {\n",
=======
       "#sk-container-id-8 div.sk-parallel-item:last-child::after {\n",
>>>>>>> Stashed changes
       "  align-self: flex-start;\n",
       "  width: 50%;\n",
       "}\n",
       "\n",
<<<<<<< Updated upstream
       "#sk-container-id-3 div.sk-parallel-item:only-child::after {\n",
=======
       "#sk-container-id-8 div.sk-parallel-item:only-child::after {\n",
>>>>>>> Stashed changes
       "  width: 0;\n",
       "}\n",
       "\n",
       "/* Serial-specific style estimator block */\n",
       "\n",
<<<<<<< Updated upstream
       "#sk-container-id-3 div.sk-serial {\n",
=======
       "#sk-container-id-8 div.sk-serial {\n",
>>>>>>> Stashed changes
       "  display: flex;\n",
       "  flex-direction: column;\n",
       "  align-items: center;\n",
       "  background-color: var(--sklearn-color-background);\n",
       "  padding-right: 1em;\n",
       "  padding-left: 1em;\n",
       "}\n",
       "\n",
       "\n",
       "/* Toggleable style: style used for estimator/Pipeline/ColumnTransformer box that is\n",
       "clickable and can be expanded/collapsed.\n",
       "- Pipeline and ColumnTransformer use this feature and define the default style\n",
       "- Estimators will overwrite some part of the style using the `sk-estimator` class\n",
       "*/\n",
       "\n",
       "/* Pipeline and ColumnTransformer style (default) */\n",
       "\n",
<<<<<<< Updated upstream
       "#sk-container-id-3 div.sk-toggleable {\n",
=======
       "#sk-container-id-8 div.sk-toggleable {\n",
>>>>>>> Stashed changes
       "  /* Default theme specific background. It is overwritten whether we have a\n",
       "  specific estimator or a Pipeline/ColumnTransformer */\n",
       "  background-color: var(--sklearn-color-background);\n",
       "}\n",
       "\n",
       "/* Toggleable label */\n",
<<<<<<< Updated upstream
       "#sk-container-id-3 label.sk-toggleable__label {\n",
=======
       "#sk-container-id-8 label.sk-toggleable__label {\n",
>>>>>>> Stashed changes
       "  cursor: pointer;\n",
       "  display: flex;\n",
       "  width: 100%;\n",
       "  margin-bottom: 0;\n",
       "  padding: 0.5em;\n",
       "  box-sizing: border-box;\n",
       "  text-align: center;\n",
       "  align-items: start;\n",
       "  justify-content: space-between;\n",
       "  gap: 0.5em;\n",
       "}\n",
       "\n",
<<<<<<< Updated upstream
       "#sk-container-id-3 label.sk-toggleable__label .caption {\n",
=======
       "#sk-container-id-8 label.sk-toggleable__label .caption {\n",
>>>>>>> Stashed changes
       "  font-size: 0.6rem;\n",
       "  font-weight: lighter;\n",
       "  color: var(--sklearn-color-text-muted);\n",
       "}\n",
       "\n",
<<<<<<< Updated upstream
       "#sk-container-id-3 label.sk-toggleable__label-arrow:before {\n",
=======
       "#sk-container-id-8 label.sk-toggleable__label-arrow:before {\n",
>>>>>>> Stashed changes
       "  /* Arrow on the left of the label */\n",
       "  content: \"▸\";\n",
       "  float: left;\n",
       "  margin-right: 0.25em;\n",
       "  color: var(--sklearn-color-icon);\n",
       "}\n",
       "\n",
<<<<<<< Updated upstream
       "#sk-container-id-3 label.sk-toggleable__label-arrow:hover:before {\n",
=======
       "#sk-container-id-8 label.sk-toggleable__label-arrow:hover:before {\n",
>>>>>>> Stashed changes
       "  color: var(--sklearn-color-text);\n",
       "}\n",
       "\n",
       "/* Toggleable content - dropdown */\n",
       "\n",
<<<<<<< Updated upstream
       "#sk-container-id-3 div.sk-toggleable__content {\n",
=======
       "#sk-container-id-8 div.sk-toggleable__content {\n",
>>>>>>> Stashed changes
       "  max-height: 0;\n",
       "  max-width: 0;\n",
       "  overflow: hidden;\n",
       "  text-align: left;\n",
       "  /* unfitted */\n",
       "  background-color: var(--sklearn-color-unfitted-level-0);\n",
       "}\n",
       "\n",
<<<<<<< Updated upstream
       "#sk-container-id-3 div.sk-toggleable__content.fitted {\n",
=======
       "#sk-container-id-8 div.sk-toggleable__content.fitted {\n",
>>>>>>> Stashed changes
       "  /* fitted */\n",
       "  background-color: var(--sklearn-color-fitted-level-0);\n",
       "}\n",
       "\n",
<<<<<<< Updated upstream
       "#sk-container-id-3 div.sk-toggleable__content pre {\n",
=======
       "#sk-container-id-8 div.sk-toggleable__content pre {\n",
>>>>>>> Stashed changes
       "  margin: 0.2em;\n",
       "  border-radius: 0.25em;\n",
       "  color: var(--sklearn-color-text);\n",
       "  /* unfitted */\n",
       "  background-color: var(--sklearn-color-unfitted-level-0);\n",
       "}\n",
       "\n",
<<<<<<< Updated upstream
       "#sk-container-id-3 div.sk-toggleable__content.fitted pre {\n",
=======
       "#sk-container-id-8 div.sk-toggleable__content.fitted pre {\n",
>>>>>>> Stashed changes
       "  /* unfitted */\n",
       "  background-color: var(--sklearn-color-fitted-level-0);\n",
       "}\n",
       "\n",
<<<<<<< Updated upstream
       "#sk-container-id-3 input.sk-toggleable__control:checked~div.sk-toggleable__content {\n",
=======
       "#sk-container-id-8 input.sk-toggleable__control:checked~div.sk-toggleable__content {\n",
>>>>>>> Stashed changes
       "  /* Expand drop-down */\n",
       "  max-height: 200px;\n",
       "  max-width: 100%;\n",
       "  overflow: auto;\n",
       "}\n",
       "\n",
<<<<<<< Updated upstream
       "#sk-container-id-3 input.sk-toggleable__control:checked~label.sk-toggleable__label-arrow:before {\n",
=======
       "#sk-container-id-8 input.sk-toggleable__control:checked~label.sk-toggleable__label-arrow:before {\n",
>>>>>>> Stashed changes
       "  content: \"▾\";\n",
       "}\n",
       "\n",
       "/* Pipeline/ColumnTransformer-specific style */\n",
       "\n",
<<<<<<< Updated upstream
       "#sk-container-id-3 div.sk-label input.sk-toggleable__control:checked~label.sk-toggleable__label {\n",
=======
       "#sk-container-id-8 div.sk-label input.sk-toggleable__control:checked~label.sk-toggleable__label {\n",
>>>>>>> Stashed changes
       "  color: var(--sklearn-color-text);\n",
       "  background-color: var(--sklearn-color-unfitted-level-2);\n",
       "}\n",
       "\n",
<<<<<<< Updated upstream
       "#sk-container-id-3 div.sk-label.fitted input.sk-toggleable__control:checked~label.sk-toggleable__label {\n",
=======
       "#sk-container-id-8 div.sk-label.fitted input.sk-toggleable__control:checked~label.sk-toggleable__label {\n",
>>>>>>> Stashed changes
       "  background-color: var(--sklearn-color-fitted-level-2);\n",
       "}\n",
       "\n",
       "/* Estimator-specific style */\n",
       "\n",
       "/* Colorize estimator box */\n",
<<<<<<< Updated upstream
       "#sk-container-id-3 div.sk-estimator input.sk-toggleable__control:checked~label.sk-toggleable__label {\n",
=======
       "#sk-container-id-8 div.sk-estimator input.sk-toggleable__control:checked~label.sk-toggleable__label {\n",
>>>>>>> Stashed changes
       "  /* unfitted */\n",
       "  background-color: var(--sklearn-color-unfitted-level-2);\n",
       "}\n",
       "\n",
<<<<<<< Updated upstream
       "#sk-container-id-3 div.sk-estimator.fitted input.sk-toggleable__control:checked~label.sk-toggleable__label {\n",
=======
       "#sk-container-id-8 div.sk-estimator.fitted input.sk-toggleable__control:checked~label.sk-toggleable__label {\n",
>>>>>>> Stashed changes
       "  /* fitted */\n",
       "  background-color: var(--sklearn-color-fitted-level-2);\n",
       "}\n",
       "\n",
<<<<<<< Updated upstream
       "#sk-container-id-3 div.sk-label label.sk-toggleable__label,\n",
       "#sk-container-id-3 div.sk-label label {\n",
=======
       "#sk-container-id-8 div.sk-label label.sk-toggleable__label,\n",
       "#sk-container-id-8 div.sk-label label {\n",
>>>>>>> Stashed changes
       "  /* The background is the default theme color */\n",
       "  color: var(--sklearn-color-text-on-default-background);\n",
       "}\n",
       "\n",
       "/* On hover, darken the color of the background */\n",
<<<<<<< Updated upstream
       "#sk-container-id-3 div.sk-label:hover label.sk-toggleable__label {\n",
=======
       "#sk-container-id-8 div.sk-label:hover label.sk-toggleable__label {\n",
>>>>>>> Stashed changes
       "  color: var(--sklearn-color-text);\n",
       "  background-color: var(--sklearn-color-unfitted-level-2);\n",
       "}\n",
       "\n",
       "/* Label box, darken color on hover, fitted */\n",
<<<<<<< Updated upstream
       "#sk-container-id-3 div.sk-label.fitted:hover label.sk-toggleable__label.fitted {\n",
=======
       "#sk-container-id-8 div.sk-label.fitted:hover label.sk-toggleable__label.fitted {\n",
>>>>>>> Stashed changes
       "  color: var(--sklearn-color-text);\n",
       "  background-color: var(--sklearn-color-fitted-level-2);\n",
       "}\n",
       "\n",
       "/* Estimator label */\n",
       "\n",
<<<<<<< Updated upstream
       "#sk-container-id-3 div.sk-label label {\n",
=======
       "#sk-container-id-8 div.sk-label label {\n",
>>>>>>> Stashed changes
       "  font-family: monospace;\n",
       "  font-weight: bold;\n",
       "  display: inline-block;\n",
       "  line-height: 1.2em;\n",
       "}\n",
       "\n",
<<<<<<< Updated upstream
       "#sk-container-id-3 div.sk-label-container {\n",
=======
       "#sk-container-id-8 div.sk-label-container {\n",
>>>>>>> Stashed changes
       "  text-align: center;\n",
       "}\n",
       "\n",
       "/* Estimator-specific */\n",
<<<<<<< Updated upstream
       "#sk-container-id-3 div.sk-estimator {\n",
=======
       "#sk-container-id-8 div.sk-estimator {\n",
>>>>>>> Stashed changes
       "  font-family: monospace;\n",
       "  border: 1px dotted var(--sklearn-color-border-box);\n",
       "  border-radius: 0.25em;\n",
       "  box-sizing: border-box;\n",
       "  margin-bottom: 0.5em;\n",
       "  /* unfitted */\n",
       "  background-color: var(--sklearn-color-unfitted-level-0);\n",
       "}\n",
       "\n",
<<<<<<< Updated upstream
       "#sk-container-id-3 div.sk-estimator.fitted {\n",
=======
       "#sk-container-id-8 div.sk-estimator.fitted {\n",
>>>>>>> Stashed changes
       "  /* fitted */\n",
       "  background-color: var(--sklearn-color-fitted-level-0);\n",
       "}\n",
       "\n",
       "/* on hover */\n",
<<<<<<< Updated upstream
       "#sk-container-id-3 div.sk-estimator:hover {\n",
=======
       "#sk-container-id-8 div.sk-estimator:hover {\n",
>>>>>>> Stashed changes
       "  /* unfitted */\n",
       "  background-color: var(--sklearn-color-unfitted-level-2);\n",
       "}\n",
       "\n",
<<<<<<< Updated upstream
       "#sk-container-id-3 div.sk-estimator.fitted:hover {\n",
=======
       "#sk-container-id-8 div.sk-estimator.fitted:hover {\n",
>>>>>>> Stashed changes
       "  /* fitted */\n",
       "  background-color: var(--sklearn-color-fitted-level-2);\n",
       "}\n",
       "\n",
       "/* Specification for estimator info (e.g. \"i\" and \"?\") */\n",
       "\n",
       "/* Common style for \"i\" and \"?\" */\n",
       "\n",
       ".sk-estimator-doc-link,\n",
       "a:link.sk-estimator-doc-link,\n",
       "a:visited.sk-estimator-doc-link {\n",
       "  float: right;\n",
       "  font-size: smaller;\n",
       "  line-height: 1em;\n",
       "  font-family: monospace;\n",
       "  background-color: var(--sklearn-color-background);\n",
       "  border-radius: 1em;\n",
       "  height: 1em;\n",
       "  width: 1em;\n",
       "  text-decoration: none !important;\n",
       "  margin-left: 0.5em;\n",
       "  text-align: center;\n",
       "  /* unfitted */\n",
       "  border: var(--sklearn-color-unfitted-level-1) 1pt solid;\n",
       "  color: var(--sklearn-color-unfitted-level-1);\n",
       "}\n",
       "\n",
       ".sk-estimator-doc-link.fitted,\n",
       "a:link.sk-estimator-doc-link.fitted,\n",
       "a:visited.sk-estimator-doc-link.fitted {\n",
       "  /* fitted */\n",
       "  border: var(--sklearn-color-fitted-level-1) 1pt solid;\n",
       "  color: var(--sklearn-color-fitted-level-1);\n",
       "}\n",
       "\n",
       "/* On hover */\n",
       "div.sk-estimator:hover .sk-estimator-doc-link:hover,\n",
       ".sk-estimator-doc-link:hover,\n",
       "div.sk-label-container:hover .sk-estimator-doc-link:hover,\n",
       ".sk-estimator-doc-link:hover {\n",
       "  /* unfitted */\n",
       "  background-color: var(--sklearn-color-unfitted-level-3);\n",
       "  color: var(--sklearn-color-background);\n",
       "  text-decoration: none;\n",
       "}\n",
       "\n",
       "div.sk-estimator.fitted:hover .sk-estimator-doc-link.fitted:hover,\n",
       ".sk-estimator-doc-link.fitted:hover,\n",
       "div.sk-label-container:hover .sk-estimator-doc-link.fitted:hover,\n",
       ".sk-estimator-doc-link.fitted:hover {\n",
       "  /* fitted */\n",
       "  background-color: var(--sklearn-color-fitted-level-3);\n",
       "  color: var(--sklearn-color-background);\n",
       "  text-decoration: none;\n",
       "}\n",
       "\n",
       "/* Span, style for the box shown on hovering the info icon */\n",
       ".sk-estimator-doc-link span {\n",
       "  display: none;\n",
       "  z-index: 9999;\n",
       "  position: relative;\n",
       "  font-weight: normal;\n",
       "  right: .2ex;\n",
       "  padding: .5ex;\n",
       "  margin: .5ex;\n",
       "  width: min-content;\n",
       "  min-width: 20ex;\n",
       "  max-width: 50ex;\n",
       "  color: var(--sklearn-color-text);\n",
       "  box-shadow: 2pt 2pt 4pt #999;\n",
       "  /* unfitted */\n",
       "  background: var(--sklearn-color-unfitted-level-0);\n",
       "  border: .5pt solid var(--sklearn-color-unfitted-level-3);\n",
       "}\n",
       "\n",
       ".sk-estimator-doc-link.fitted span {\n",
       "  /* fitted */\n",
       "  background: var(--sklearn-color-fitted-level-0);\n",
       "  border: var(--sklearn-color-fitted-level-3);\n",
       "}\n",
       "\n",
       ".sk-estimator-doc-link:hover span {\n",
       "  display: block;\n",
       "}\n",
       "\n",
       "/* \"?\"-specific style due to the `<a>` HTML tag */\n",
       "\n",
<<<<<<< Updated upstream
       "#sk-container-id-3 a.estimator_doc_link {\n",
=======
       "#sk-container-id-8 a.estimator_doc_link {\n",
>>>>>>> Stashed changes
       "  float: right;\n",
       "  font-size: 1rem;\n",
       "  line-height: 1em;\n",
       "  font-family: monospace;\n",
       "  background-color: var(--sklearn-color-background);\n",
       "  border-radius: 1rem;\n",
       "  height: 1rem;\n",
       "  width: 1rem;\n",
       "  text-decoration: none;\n",
       "  /* unfitted */\n",
       "  color: var(--sklearn-color-unfitted-level-1);\n",
       "  border: var(--sklearn-color-unfitted-level-1) 1pt solid;\n",
       "}\n",
       "\n",
<<<<<<< Updated upstream
       "#sk-container-id-3 a.estimator_doc_link.fitted {\n",
=======
       "#sk-container-id-8 a.estimator_doc_link.fitted {\n",
>>>>>>> Stashed changes
       "  /* fitted */\n",
       "  border: var(--sklearn-color-fitted-level-1) 1pt solid;\n",
       "  color: var(--sklearn-color-fitted-level-1);\n",
       "}\n",
       "\n",
       "/* On hover */\n",
<<<<<<< Updated upstream
       "#sk-container-id-3 a.estimator_doc_link:hover {\n",
=======
       "#sk-container-id-8 a.estimator_doc_link:hover {\n",
>>>>>>> Stashed changes
       "  /* unfitted */\n",
       "  background-color: var(--sklearn-color-unfitted-level-3);\n",
       "  color: var(--sklearn-color-background);\n",
       "  text-decoration: none;\n",
       "}\n",
       "\n",
<<<<<<< Updated upstream
       "#sk-container-id-3 a.estimator_doc_link.fitted:hover {\n",
       "  /* fitted */\n",
       "  background-color: var(--sklearn-color-fitted-level-3);\n",
       "}\n",
       "</style><div id=\"sk-container-id-3\" class=\"sk-top-container\"><div class=\"sk-text-repr-fallback\"><pre>LinearRegression()</pre><b>In a Jupyter environment, please rerun this cell to show the HTML representation or trust the notebook. <br />On GitHub, the HTML representation is unable to render, please try loading this page with nbviewer.org.</b></div><div class=\"sk-container\" hidden><div class=\"sk-item\"><div class=\"sk-estimator fitted sk-toggleable\"><input class=\"sk-toggleable__control sk-hidden--visually\" id=\"sk-estimator-id-3\" type=\"checkbox\" checked><label for=\"sk-estimator-id-3\" class=\"sk-toggleable__label fitted sk-toggleable__label-arrow\"><div><div>LinearRegression</div></div><div><a class=\"sk-estimator-doc-link fitted\" rel=\"noreferrer\" target=\"_blank\" href=\"https://scikit-learn.org/1.6/modules/generated/sklearn.linear_model.LinearRegression.html\">?<span>Documentation for LinearRegression</span></a><span class=\"sk-estimator-doc-link fitted\">i<span>Fitted</span></span></div></label><div class=\"sk-toggleable__content fitted\"><pre>LinearRegression()</pre></div> </div></div></div></div>"
=======
       "#sk-container-id-8 a.estimator_doc_link.fitted:hover {\n",
       "  /* fitted */\n",
       "  background-color: var(--sklearn-color-fitted-level-3);\n",
       "}\n",
       "</style><div id=\"sk-container-id-8\" class=\"sk-top-container\"><div class=\"sk-text-repr-fallback\"><pre>LinearRegression()</pre><b>In a Jupyter environment, please rerun this cell to show the HTML representation or trust the notebook. <br />On GitHub, the HTML representation is unable to render, please try loading this page with nbviewer.org.</b></div><div class=\"sk-container\" hidden><div class=\"sk-item\"><div class=\"sk-estimator fitted sk-toggleable\"><input class=\"sk-toggleable__control sk-hidden--visually\" id=\"sk-estimator-id-14\" type=\"checkbox\" checked><label for=\"sk-estimator-id-14\" class=\"sk-toggleable__label fitted sk-toggleable__label-arrow\"><div><div>LinearRegression</div></div><div><a class=\"sk-estimator-doc-link fitted\" rel=\"noreferrer\" target=\"_blank\" href=\"https://scikit-learn.org/1.6/modules/generated/sklearn.linear_model.LinearRegression.html\">?<span>Documentation for LinearRegression</span></a><span class=\"sk-estimator-doc-link fitted\">i<span>Fitted</span></span></div></label><div class=\"sk-toggleable__content fitted\"><pre>LinearRegression()</pre></div> </div></div></div></div>"
>>>>>>> Stashed changes
      ],
      "text/plain": [
       "LinearRegression()"
      ]
     },
<<<<<<< Updated upstream
     "execution_count": 54,
=======
     "execution_count": 96,
>>>>>>> Stashed changes
     "metadata": {},
     "output_type": "execute_result"
    }
   ],
   "source": [
    "lr2 = LinearRegression()\n",
    "lr2.fit(X_poly, y)"
   ]
  },
  {
   "cell_type": "code",
<<<<<<< Updated upstream
   "execution_count": 55,
=======
   "execution_count": 97,
>>>>>>> Stashed changes
   "metadata": {},
   "outputs": [
    {
     "data": {
      "text/plain": [
       "(array([0.97906552, 0.94978823]), np.float64(2.3405007562628866))"
      ]
     },
<<<<<<< Updated upstream
     "execution_count": 55,
=======
     "execution_count": 97,
>>>>>>> Stashed changes
     "metadata": {},
     "output_type": "execute_result"
    }
   ],
   "source": [
    "lr2.coef_, lr2.intercept_"
   ]
  },
  {
   "cell_type": "code",
   "execution_count": 57,
   "metadata": {},
   "outputs": [
    {
     "data": {
      "text/plain": [
       "(np.float64(-2.9718271428447176), np.float64(2.930243028355357))"
      ]
     },
     "execution_count": 57,
     "metadata": {},
     "output_type": "execute_result"
    }
   ],
   "source": [
    "X.min(), X.max()"
   ]
  },
  {
   "cell_type": "markdown",
   "metadata": {
    "slideshow": {
     "slide_type": "slide"
    }
   },
   "source": [
    "##### 시각화"
   ]
  },
  {
   "cell_type": "code",
<<<<<<< Updated upstream
   "execution_count": 58,
=======
   "execution_count": 99,
>>>>>>> Stashed changes
   "metadata": {},
   "outputs": [],
   "source": [
    "X_new = np.linspace(-3, 3, 1000)[..., np.newaxis]  # (1000, ) -> (1000, 1)\n",
    "X_new_poly = pnf.transform(X_new)\n",
    "# X_new_poly.shape\n",
    "y_hat = lr2.predict(X_new_poly)"
   ]
  },
  {
   "cell_type": "code",
<<<<<<< Updated upstream
   "execution_count": 59,
=======
   "execution_count": 100,
>>>>>>> Stashed changes
   "metadata": {},
   "outputs": [
    {
     "data": {
      "image/png": "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",
      "text/plain": [
       "<Figure size 640x480 with 1 Axes>"
      ]
     },
     "metadata": {},
     "output_type": "display_data"
    }
   ],
   "source": [
    "import matplotlib.pyplot as plt\n",
    "# plt.rcParams['font.family'] = \"malgun gothic\"\n",
    "# plt.rcParams['axes.unicode_minus'] = False\n",
    "\n",
    "plt.scatter(X, y, label=\"정답\")\n",
    "plt.plot(X_new, y_hat, color='k', linewidth=2, label=\"Model추정\")\n",
    "plt.plot(X_new, lr.predict(X_new), color=\"r\", linewidth=2, label=\"Label 전처리전\")\n",
    "plt.legend()\n",
    "plt.show()"
   ]
  },
  {
   "cell_type": "code",
<<<<<<< Updated upstream
   "execution_count": 60,
=======
   "execution_count": 101,
>>>>>>> Stashed changes
   "metadata": {},
   "outputs": [
    {
     "name": "stdout",
     "output_type": "stream",
     "text": [
      "MSE: 0.9735576723414217\n",
      "RMSE: 0.9866902616026073\n",
      "R Squared: 0.8981478985551461\n"
     ]
    }
   ],
   "source": [
    "# 평가\n",
    "from metrics import print_regression_metrcis\n",
    "print_regression_metrcis(y, lr2.predict(X_poly))"
   ]
  },
  {
   "cell_type": "markdown",
   "metadata": {
    "slideshow": {
     "slide_type": "slide"
    }
   },
   "source": [
    "## degree를 크게\n",
    "- Feature가 너무 많으면 Overfitting 문제가 생긴다."
   ]
  },
  {
   "cell_type": "code",
<<<<<<< Updated upstream
   "execution_count": 61,
=======
   "execution_count": 102,
>>>>>>> Stashed changes
   "metadata": {},
   "outputs": [
    {
     "name": "stdout",
     "output_type": "stream",
     "text": [
      "(100, 25)\n"
     ]
    },
    {
     "data": {
      "text/html": [
<<<<<<< Updated upstream
       "<style>#sk-container-id-4 {\n",
=======
       "<style>#sk-container-id-9 {\n",
>>>>>>> Stashed changes
       "  /* Definition of color scheme common for light and dark mode */\n",
       "  --sklearn-color-text: #000;\n",
       "  --sklearn-color-text-muted: #666;\n",
       "  --sklearn-color-line: gray;\n",
       "  /* Definition of color scheme for unfitted estimators */\n",
       "  --sklearn-color-unfitted-level-0: #fff5e6;\n",
       "  --sklearn-color-unfitted-level-1: #f6e4d2;\n",
       "  --sklearn-color-unfitted-level-2: #ffe0b3;\n",
       "  --sklearn-color-unfitted-level-3: chocolate;\n",
       "  /* Definition of color scheme for fitted estimators */\n",
       "  --sklearn-color-fitted-level-0: #f0f8ff;\n",
       "  --sklearn-color-fitted-level-1: #d4ebff;\n",
       "  --sklearn-color-fitted-level-2: #b3dbfd;\n",
       "  --sklearn-color-fitted-level-3: cornflowerblue;\n",
       "\n",
       "  /* Specific color for light theme */\n",
       "  --sklearn-color-text-on-default-background: var(--sg-text-color, var(--theme-code-foreground, var(--jp-content-font-color1, black)));\n",
       "  --sklearn-color-background: var(--sg-background-color, var(--theme-background, var(--jp-layout-color0, white)));\n",
       "  --sklearn-color-border-box: var(--sg-text-color, var(--theme-code-foreground, var(--jp-content-font-color1, black)));\n",
       "  --sklearn-color-icon: #696969;\n",
       "\n",
       "  @media (prefers-color-scheme: dark) {\n",
       "    /* Redefinition of color scheme for dark theme */\n",
       "    --sklearn-color-text-on-default-background: var(--sg-text-color, var(--theme-code-foreground, var(--jp-content-font-color1, white)));\n",
       "    --sklearn-color-background: var(--sg-background-color, var(--theme-background, var(--jp-layout-color0, #111)));\n",
       "    --sklearn-color-border-box: var(--sg-text-color, var(--theme-code-foreground, var(--jp-content-font-color1, white)));\n",
       "    --sklearn-color-icon: #878787;\n",
       "  }\n",
       "}\n",
       "\n",
<<<<<<< Updated upstream
       "#sk-container-id-4 {\n",
       "  color: var(--sklearn-color-text);\n",
       "}\n",
       "\n",
       "#sk-container-id-4 pre {\n",
       "  padding: 0;\n",
       "}\n",
       "\n",
       "#sk-container-id-4 input.sk-hidden--visually {\n",
=======
       "#sk-container-id-9 {\n",
       "  color: var(--sklearn-color-text);\n",
       "}\n",
       "\n",
       "#sk-container-id-9 pre {\n",
       "  padding: 0;\n",
       "}\n",
       "\n",
       "#sk-container-id-9 input.sk-hidden--visually {\n",
>>>>>>> Stashed changes
       "  border: 0;\n",
       "  clip: rect(1px 1px 1px 1px);\n",
       "  clip: rect(1px, 1px, 1px, 1px);\n",
       "  height: 1px;\n",
       "  margin: -1px;\n",
       "  overflow: hidden;\n",
       "  padding: 0;\n",
       "  position: absolute;\n",
       "  width: 1px;\n",
       "}\n",
       "\n",
<<<<<<< Updated upstream
       "#sk-container-id-4 div.sk-dashed-wrapped {\n",
=======
       "#sk-container-id-9 div.sk-dashed-wrapped {\n",
>>>>>>> Stashed changes
       "  border: 1px dashed var(--sklearn-color-line);\n",
       "  margin: 0 0.4em 0.5em 0.4em;\n",
       "  box-sizing: border-box;\n",
       "  padding-bottom: 0.4em;\n",
       "  background-color: var(--sklearn-color-background);\n",
       "}\n",
       "\n",
<<<<<<< Updated upstream
       "#sk-container-id-4 div.sk-container {\n",
=======
       "#sk-container-id-9 div.sk-container {\n",
>>>>>>> Stashed changes
       "  /* jupyter's `normalize.less` sets `[hidden] { display: none; }`\n",
       "     but bootstrap.min.css set `[hidden] { display: none !important; }`\n",
       "     so we also need the `!important` here to be able to override the\n",
       "     default hidden behavior on the sphinx rendered scikit-learn.org.\n",
       "     See: https://github.com/scikit-learn/scikit-learn/issues/21755 */\n",
       "  display: inline-block !important;\n",
       "  position: relative;\n",
       "}\n",
       "\n",
<<<<<<< Updated upstream
       "#sk-container-id-4 div.sk-text-repr-fallback {\n",
=======
       "#sk-container-id-9 div.sk-text-repr-fallback {\n",
>>>>>>> Stashed changes
       "  display: none;\n",
       "}\n",
       "\n",
       "div.sk-parallel-item,\n",
       "div.sk-serial,\n",
       "div.sk-item {\n",
       "  /* draw centered vertical line to link estimators */\n",
       "  background-image: linear-gradient(var(--sklearn-color-text-on-default-background), var(--sklearn-color-text-on-default-background));\n",
       "  background-size: 2px 100%;\n",
       "  background-repeat: no-repeat;\n",
       "  background-position: center center;\n",
       "}\n",
       "\n",
       "/* Parallel-specific style estimator block */\n",
       "\n",
<<<<<<< Updated upstream
       "#sk-container-id-4 div.sk-parallel-item::after {\n",
=======
       "#sk-container-id-9 div.sk-parallel-item::after {\n",
>>>>>>> Stashed changes
       "  content: \"\";\n",
       "  width: 100%;\n",
       "  border-bottom: 2px solid var(--sklearn-color-text-on-default-background);\n",
       "  flex-grow: 1;\n",
       "}\n",
       "\n",
<<<<<<< Updated upstream
       "#sk-container-id-4 div.sk-parallel {\n",
=======
       "#sk-container-id-9 div.sk-parallel {\n",
>>>>>>> Stashed changes
       "  display: flex;\n",
       "  align-items: stretch;\n",
       "  justify-content: center;\n",
       "  background-color: var(--sklearn-color-background);\n",
       "  position: relative;\n",
       "}\n",
       "\n",
<<<<<<< Updated upstream
       "#sk-container-id-4 div.sk-parallel-item {\n",
=======
       "#sk-container-id-9 div.sk-parallel-item {\n",
>>>>>>> Stashed changes
       "  display: flex;\n",
       "  flex-direction: column;\n",
       "}\n",
       "\n",
<<<<<<< Updated upstream
       "#sk-container-id-4 div.sk-parallel-item:first-child::after {\n",
=======
       "#sk-container-id-9 div.sk-parallel-item:first-child::after {\n",
>>>>>>> Stashed changes
       "  align-self: flex-end;\n",
       "  width: 50%;\n",
       "}\n",
       "\n",
<<<<<<< Updated upstream
       "#sk-container-id-4 div.sk-parallel-item:last-child::after {\n",
=======
       "#sk-container-id-9 div.sk-parallel-item:last-child::after {\n",
>>>>>>> Stashed changes
       "  align-self: flex-start;\n",
       "  width: 50%;\n",
       "}\n",
       "\n",
<<<<<<< Updated upstream
       "#sk-container-id-4 div.sk-parallel-item:only-child::after {\n",
=======
       "#sk-container-id-9 div.sk-parallel-item:only-child::after {\n",
>>>>>>> Stashed changes
       "  width: 0;\n",
       "}\n",
       "\n",
       "/* Serial-specific style estimator block */\n",
       "\n",
<<<<<<< Updated upstream
       "#sk-container-id-4 div.sk-serial {\n",
=======
       "#sk-container-id-9 div.sk-serial {\n",
>>>>>>> Stashed changes
       "  display: flex;\n",
       "  flex-direction: column;\n",
       "  align-items: center;\n",
       "  background-color: var(--sklearn-color-background);\n",
       "  padding-right: 1em;\n",
       "  padding-left: 1em;\n",
       "}\n",
       "\n",
       "\n",
       "/* Toggleable style: style used for estimator/Pipeline/ColumnTransformer box that is\n",
       "clickable and can be expanded/collapsed.\n",
       "- Pipeline and ColumnTransformer use this feature and define the default style\n",
       "- Estimators will overwrite some part of the style using the `sk-estimator` class\n",
       "*/\n",
       "\n",
       "/* Pipeline and ColumnTransformer style (default) */\n",
       "\n",
<<<<<<< Updated upstream
       "#sk-container-id-4 div.sk-toggleable {\n",
=======
       "#sk-container-id-9 div.sk-toggleable {\n",
>>>>>>> Stashed changes
       "  /* Default theme specific background. It is overwritten whether we have a\n",
       "  specific estimator or a Pipeline/ColumnTransformer */\n",
       "  background-color: var(--sklearn-color-background);\n",
       "}\n",
       "\n",
       "/* Toggleable label */\n",
<<<<<<< Updated upstream
       "#sk-container-id-4 label.sk-toggleable__label {\n",
=======
       "#sk-container-id-9 label.sk-toggleable__label {\n",
>>>>>>> Stashed changes
       "  cursor: pointer;\n",
       "  display: flex;\n",
       "  width: 100%;\n",
       "  margin-bottom: 0;\n",
       "  padding: 0.5em;\n",
       "  box-sizing: border-box;\n",
       "  text-align: center;\n",
       "  align-items: start;\n",
       "  justify-content: space-between;\n",
       "  gap: 0.5em;\n",
       "}\n",
       "\n",
<<<<<<< Updated upstream
       "#sk-container-id-4 label.sk-toggleable__label .caption {\n",
=======
       "#sk-container-id-9 label.sk-toggleable__label .caption {\n",
>>>>>>> Stashed changes
       "  font-size: 0.6rem;\n",
       "  font-weight: lighter;\n",
       "  color: var(--sklearn-color-text-muted);\n",
       "}\n",
       "\n",
<<<<<<< Updated upstream
       "#sk-container-id-4 label.sk-toggleable__label-arrow:before {\n",
=======
       "#sk-container-id-9 label.sk-toggleable__label-arrow:before {\n",
>>>>>>> Stashed changes
       "  /* Arrow on the left of the label */\n",
       "  content: \"▸\";\n",
       "  float: left;\n",
       "  margin-right: 0.25em;\n",
       "  color: var(--sklearn-color-icon);\n",
       "}\n",
       "\n",
<<<<<<< Updated upstream
       "#sk-container-id-4 label.sk-toggleable__label-arrow:hover:before {\n",
=======
       "#sk-container-id-9 label.sk-toggleable__label-arrow:hover:before {\n",
>>>>>>> Stashed changes
       "  color: var(--sklearn-color-text);\n",
       "}\n",
       "\n",
       "/* Toggleable content - dropdown */\n",
       "\n",
<<<<<<< Updated upstream
       "#sk-container-id-4 div.sk-toggleable__content {\n",
=======
       "#sk-container-id-9 div.sk-toggleable__content {\n",
>>>>>>> Stashed changes
       "  max-height: 0;\n",
       "  max-width: 0;\n",
       "  overflow: hidden;\n",
       "  text-align: left;\n",
       "  /* unfitted */\n",
       "  background-color: var(--sklearn-color-unfitted-level-0);\n",
       "}\n",
       "\n",
<<<<<<< Updated upstream
       "#sk-container-id-4 div.sk-toggleable__content.fitted {\n",
=======
       "#sk-container-id-9 div.sk-toggleable__content.fitted {\n",
>>>>>>> Stashed changes
       "  /* fitted */\n",
       "  background-color: var(--sklearn-color-fitted-level-0);\n",
       "}\n",
       "\n",
<<<<<<< Updated upstream
       "#sk-container-id-4 div.sk-toggleable__content pre {\n",
=======
       "#sk-container-id-9 div.sk-toggleable__content pre {\n",
>>>>>>> Stashed changes
       "  margin: 0.2em;\n",
       "  border-radius: 0.25em;\n",
       "  color: var(--sklearn-color-text);\n",
       "  /* unfitted */\n",
       "  background-color: var(--sklearn-color-unfitted-level-0);\n",
       "}\n",
       "\n",
<<<<<<< Updated upstream
       "#sk-container-id-4 div.sk-toggleable__content.fitted pre {\n",
=======
       "#sk-container-id-9 div.sk-toggleable__content.fitted pre {\n",
>>>>>>> Stashed changes
       "  /* unfitted */\n",
       "  background-color: var(--sklearn-color-fitted-level-0);\n",
       "}\n",
       "\n",
<<<<<<< Updated upstream
       "#sk-container-id-4 input.sk-toggleable__control:checked~div.sk-toggleable__content {\n",
=======
       "#sk-container-id-9 input.sk-toggleable__control:checked~div.sk-toggleable__content {\n",
>>>>>>> Stashed changes
       "  /* Expand drop-down */\n",
       "  max-height: 200px;\n",
       "  max-width: 100%;\n",
       "  overflow: auto;\n",
       "}\n",
       "\n",
<<<<<<< Updated upstream
       "#sk-container-id-4 input.sk-toggleable__control:checked~label.sk-toggleable__label-arrow:before {\n",
=======
       "#sk-container-id-9 input.sk-toggleable__control:checked~label.sk-toggleable__label-arrow:before {\n",
>>>>>>> Stashed changes
       "  content: \"▾\";\n",
       "}\n",
       "\n",
       "/* Pipeline/ColumnTransformer-specific style */\n",
       "\n",
<<<<<<< Updated upstream
       "#sk-container-id-4 div.sk-label input.sk-toggleable__control:checked~label.sk-toggleable__label {\n",
=======
       "#sk-container-id-9 div.sk-label input.sk-toggleable__control:checked~label.sk-toggleable__label {\n",
>>>>>>> Stashed changes
       "  color: var(--sklearn-color-text);\n",
       "  background-color: var(--sklearn-color-unfitted-level-2);\n",
       "}\n",
       "\n",
<<<<<<< Updated upstream
       "#sk-container-id-4 div.sk-label.fitted input.sk-toggleable__control:checked~label.sk-toggleable__label {\n",
=======
       "#sk-container-id-9 div.sk-label.fitted input.sk-toggleable__control:checked~label.sk-toggleable__label {\n",
>>>>>>> Stashed changes
       "  background-color: var(--sklearn-color-fitted-level-2);\n",
       "}\n",
       "\n",
       "/* Estimator-specific style */\n",
       "\n",
       "/* Colorize estimator box */\n",
<<<<<<< Updated upstream
       "#sk-container-id-4 div.sk-estimator input.sk-toggleable__control:checked~label.sk-toggleable__label {\n",
=======
       "#sk-container-id-9 div.sk-estimator input.sk-toggleable__control:checked~label.sk-toggleable__label {\n",
>>>>>>> Stashed changes
       "  /* unfitted */\n",
       "  background-color: var(--sklearn-color-unfitted-level-2);\n",
       "}\n",
       "\n",
<<<<<<< Updated upstream
       "#sk-container-id-4 div.sk-estimator.fitted input.sk-toggleable__control:checked~label.sk-toggleable__label {\n",
=======
       "#sk-container-id-9 div.sk-estimator.fitted input.sk-toggleable__control:checked~label.sk-toggleable__label {\n",
>>>>>>> Stashed changes
       "  /* fitted */\n",
       "  background-color: var(--sklearn-color-fitted-level-2);\n",
       "}\n",
       "\n",
<<<<<<< Updated upstream
       "#sk-container-id-4 div.sk-label label.sk-toggleable__label,\n",
       "#sk-container-id-4 div.sk-label label {\n",
=======
       "#sk-container-id-9 div.sk-label label.sk-toggleable__label,\n",
       "#sk-container-id-9 div.sk-label label {\n",
>>>>>>> Stashed changes
       "  /* The background is the default theme color */\n",
       "  color: var(--sklearn-color-text-on-default-background);\n",
       "}\n",
       "\n",
       "/* On hover, darken the color of the background */\n",
<<<<<<< Updated upstream
       "#sk-container-id-4 div.sk-label:hover label.sk-toggleable__label {\n",
=======
       "#sk-container-id-9 div.sk-label:hover label.sk-toggleable__label {\n",
>>>>>>> Stashed changes
       "  color: var(--sklearn-color-text);\n",
       "  background-color: var(--sklearn-color-unfitted-level-2);\n",
       "}\n",
       "\n",
       "/* Label box, darken color on hover, fitted */\n",
<<<<<<< Updated upstream
       "#sk-container-id-4 div.sk-label.fitted:hover label.sk-toggleable__label.fitted {\n",
=======
       "#sk-container-id-9 div.sk-label.fitted:hover label.sk-toggleable__label.fitted {\n",
>>>>>>> Stashed changes
       "  color: var(--sklearn-color-text);\n",
       "  background-color: var(--sklearn-color-fitted-level-2);\n",
       "}\n",
       "\n",
       "/* Estimator label */\n",
       "\n",
<<<<<<< Updated upstream
       "#sk-container-id-4 div.sk-label label {\n",
=======
       "#sk-container-id-9 div.sk-label label {\n",
>>>>>>> Stashed changes
       "  font-family: monospace;\n",
       "  font-weight: bold;\n",
       "  display: inline-block;\n",
       "  line-height: 1.2em;\n",
       "}\n",
       "\n",
<<<<<<< Updated upstream
       "#sk-container-id-4 div.sk-label-container {\n",
=======
       "#sk-container-id-9 div.sk-label-container {\n",
>>>>>>> Stashed changes
       "  text-align: center;\n",
       "}\n",
       "\n",
       "/* Estimator-specific */\n",
<<<<<<< Updated upstream
       "#sk-container-id-4 div.sk-estimator {\n",
=======
       "#sk-container-id-9 div.sk-estimator {\n",
>>>>>>> Stashed changes
       "  font-family: monospace;\n",
       "  border: 1px dotted var(--sklearn-color-border-box);\n",
       "  border-radius: 0.25em;\n",
       "  box-sizing: border-box;\n",
       "  margin-bottom: 0.5em;\n",
       "  /* unfitted */\n",
       "  background-color: var(--sklearn-color-unfitted-level-0);\n",
       "}\n",
       "\n",
<<<<<<< Updated upstream
       "#sk-container-id-4 div.sk-estimator.fitted {\n",
=======
       "#sk-container-id-9 div.sk-estimator.fitted {\n",
>>>>>>> Stashed changes
       "  /* fitted */\n",
       "  background-color: var(--sklearn-color-fitted-level-0);\n",
       "}\n",
       "\n",
       "/* on hover */\n",
<<<<<<< Updated upstream
       "#sk-container-id-4 div.sk-estimator:hover {\n",
=======
       "#sk-container-id-9 div.sk-estimator:hover {\n",
>>>>>>> Stashed changes
       "  /* unfitted */\n",
       "  background-color: var(--sklearn-color-unfitted-level-2);\n",
       "}\n",
       "\n",
<<<<<<< Updated upstream
       "#sk-container-id-4 div.sk-estimator.fitted:hover {\n",
=======
       "#sk-container-id-9 div.sk-estimator.fitted:hover {\n",
>>>>>>> Stashed changes
       "  /* fitted */\n",
       "  background-color: var(--sklearn-color-fitted-level-2);\n",
       "}\n",
       "\n",
       "/* Specification for estimator info (e.g. \"i\" and \"?\") */\n",
       "\n",
       "/* Common style for \"i\" and \"?\" */\n",
       "\n",
       ".sk-estimator-doc-link,\n",
       "a:link.sk-estimator-doc-link,\n",
       "a:visited.sk-estimator-doc-link {\n",
       "  float: right;\n",
       "  font-size: smaller;\n",
       "  line-height: 1em;\n",
       "  font-family: monospace;\n",
       "  background-color: var(--sklearn-color-background);\n",
       "  border-radius: 1em;\n",
       "  height: 1em;\n",
       "  width: 1em;\n",
       "  text-decoration: none !important;\n",
       "  margin-left: 0.5em;\n",
       "  text-align: center;\n",
       "  /* unfitted */\n",
       "  border: var(--sklearn-color-unfitted-level-1) 1pt solid;\n",
       "  color: var(--sklearn-color-unfitted-level-1);\n",
       "}\n",
       "\n",
       ".sk-estimator-doc-link.fitted,\n",
       "a:link.sk-estimator-doc-link.fitted,\n",
       "a:visited.sk-estimator-doc-link.fitted {\n",
       "  /* fitted */\n",
       "  border: var(--sklearn-color-fitted-level-1) 1pt solid;\n",
       "  color: var(--sklearn-color-fitted-level-1);\n",
       "}\n",
       "\n",
       "/* On hover */\n",
       "div.sk-estimator:hover .sk-estimator-doc-link:hover,\n",
       ".sk-estimator-doc-link:hover,\n",
       "div.sk-label-container:hover .sk-estimator-doc-link:hover,\n",
       ".sk-estimator-doc-link:hover {\n",
       "  /* unfitted */\n",
       "  background-color: var(--sklearn-color-unfitted-level-3);\n",
       "  color: var(--sklearn-color-background);\n",
       "  text-decoration: none;\n",
       "}\n",
       "\n",
       "div.sk-estimator.fitted:hover .sk-estimator-doc-link.fitted:hover,\n",
       ".sk-estimator-doc-link.fitted:hover,\n",
       "div.sk-label-container:hover .sk-estimator-doc-link.fitted:hover,\n",
       ".sk-estimator-doc-link.fitted:hover {\n",
       "  /* fitted */\n",
       "  background-color: var(--sklearn-color-fitted-level-3);\n",
       "  color: var(--sklearn-color-background);\n",
       "  text-decoration: none;\n",
       "}\n",
       "\n",
       "/* Span, style for the box shown on hovering the info icon */\n",
       ".sk-estimator-doc-link span {\n",
       "  display: none;\n",
       "  z-index: 9999;\n",
       "  position: relative;\n",
       "  font-weight: normal;\n",
       "  right: .2ex;\n",
       "  padding: .5ex;\n",
       "  margin: .5ex;\n",
       "  width: min-content;\n",
       "  min-width: 20ex;\n",
       "  max-width: 50ex;\n",
       "  color: var(--sklearn-color-text);\n",
       "  box-shadow: 2pt 2pt 4pt #999;\n",
       "  /* unfitted */\n",
       "  background: var(--sklearn-color-unfitted-level-0);\n",
       "  border: .5pt solid var(--sklearn-color-unfitted-level-3);\n",
       "}\n",
       "\n",
       ".sk-estimator-doc-link.fitted span {\n",
       "  /* fitted */\n",
       "  background: var(--sklearn-color-fitted-level-0);\n",
       "  border: var(--sklearn-color-fitted-level-3);\n",
       "}\n",
       "\n",
       ".sk-estimator-doc-link:hover span {\n",
       "  display: block;\n",
       "}\n",
       "\n",
       "/* \"?\"-specific style due to the `<a>` HTML tag */\n",
       "\n",
<<<<<<< Updated upstream
       "#sk-container-id-4 a.estimator_doc_link {\n",
=======
       "#sk-container-id-9 a.estimator_doc_link {\n",
>>>>>>> Stashed changes
       "  float: right;\n",
       "  font-size: 1rem;\n",
       "  line-height: 1em;\n",
       "  font-family: monospace;\n",
       "  background-color: var(--sklearn-color-background);\n",
       "  border-radius: 1rem;\n",
       "  height: 1rem;\n",
       "  width: 1rem;\n",
       "  text-decoration: none;\n",
       "  /* unfitted */\n",
       "  color: var(--sklearn-color-unfitted-level-1);\n",
       "  border: var(--sklearn-color-unfitted-level-1) 1pt solid;\n",
       "}\n",
       "\n",
<<<<<<< Updated upstream
       "#sk-container-id-4 a.estimator_doc_link.fitted {\n",
=======
       "#sk-container-id-9 a.estimator_doc_link.fitted {\n",
>>>>>>> Stashed changes
       "  /* fitted */\n",
       "  border: var(--sklearn-color-fitted-level-1) 1pt solid;\n",
       "  color: var(--sklearn-color-fitted-level-1);\n",
       "}\n",
       "\n",
       "/* On hover */\n",
<<<<<<< Updated upstream
       "#sk-container-id-4 a.estimator_doc_link:hover {\n",
=======
       "#sk-container-id-9 a.estimator_doc_link:hover {\n",
>>>>>>> Stashed changes
       "  /* unfitted */\n",
       "  background-color: var(--sklearn-color-unfitted-level-3);\n",
       "  color: var(--sklearn-color-background);\n",
       "  text-decoration: none;\n",
       "}\n",
       "\n",
<<<<<<< Updated upstream
       "#sk-container-id-4 a.estimator_doc_link.fitted:hover {\n",
       "  /* fitted */\n",
       "  background-color: var(--sklearn-color-fitted-level-3);\n",
       "}\n",
       "</style><div id=\"sk-container-id-4\" class=\"sk-top-container\"><div class=\"sk-text-repr-fallback\"><pre>LinearRegression()</pre><b>In a Jupyter environment, please rerun this cell to show the HTML representation or trust the notebook. <br />On GitHub, the HTML representation is unable to render, please try loading this page with nbviewer.org.</b></div><div class=\"sk-container\" hidden><div class=\"sk-item\"><div class=\"sk-estimator fitted sk-toggleable\"><input class=\"sk-toggleable__control sk-hidden--visually\" id=\"sk-estimator-id-4\" type=\"checkbox\" checked><label for=\"sk-estimator-id-4\" class=\"sk-toggleable__label fitted sk-toggleable__label-arrow\"><div><div>LinearRegression</div></div><div><a class=\"sk-estimator-doc-link fitted\" rel=\"noreferrer\" target=\"_blank\" href=\"https://scikit-learn.org/1.6/modules/generated/sklearn.linear_model.LinearRegression.html\">?<span>Documentation for LinearRegression</span></a><span class=\"sk-estimator-doc-link fitted\">i<span>Fitted</span></span></div></label><div class=\"sk-toggleable__content fitted\"><pre>LinearRegression()</pre></div> </div></div></div></div>"
=======
       "#sk-container-id-9 a.estimator_doc_link.fitted:hover {\n",
       "  /* fitted */\n",
       "  background-color: var(--sklearn-color-fitted-level-3);\n",
       "}\n",
       "</style><div id=\"sk-container-id-9\" class=\"sk-top-container\"><div class=\"sk-text-repr-fallback\"><pre>LinearRegression()</pre><b>In a Jupyter environment, please rerun this cell to show the HTML representation or trust the notebook. <br />On GitHub, the HTML representation is unable to render, please try loading this page with nbviewer.org.</b></div><div class=\"sk-container\" hidden><div class=\"sk-item\"><div class=\"sk-estimator fitted sk-toggleable\"><input class=\"sk-toggleable__control sk-hidden--visually\" id=\"sk-estimator-id-15\" type=\"checkbox\" checked><label for=\"sk-estimator-id-15\" class=\"sk-toggleable__label fitted sk-toggleable__label-arrow\"><div><div>LinearRegression</div></div><div><a class=\"sk-estimator-doc-link fitted\" rel=\"noreferrer\" target=\"_blank\" href=\"https://scikit-learn.org/1.6/modules/generated/sklearn.linear_model.LinearRegression.html\">?<span>Documentation for LinearRegression</span></a><span class=\"sk-estimator-doc-link fitted\">i<span>Fitted</span></span></div></label><div class=\"sk-toggleable__content fitted\"><pre>LinearRegression()</pre></div> </div></div></div></div>"
>>>>>>> Stashed changes
      ],
      "text/plain": [
       "LinearRegression()"
      ]
     },
<<<<<<< Updated upstream
     "execution_count": 61,
=======
     "execution_count": 102,
>>>>>>> Stashed changes
     "metadata": {},
     "output_type": "execute_result"
    }
   ],
   "source": [
    "pnf3 = PolynomialFeatures(degree=25, include_bias=False)\n",
    "X_poly3 = pnf3.fit_transform(X)\n",
    "print(X_poly3.shape)\n",
    "lr3 = LinearRegression()\n",
    "lr3.fit(X_poly3, y)"
   ]
  },
  {
   "cell_type": "code",
<<<<<<< Updated upstream
   "execution_count": 62,
=======
   "execution_count": 103,
>>>>>>> Stashed changes
   "metadata": {},
   "outputs": [
    {
     "name": "stdout",
     "output_type": "stream",
     "text": [
      "MSE: 0.8369908323004677\n",
      "RMSE: 0.9148720305597213\n",
      "R Squared: 0.9124353106325441\n"
     ]
    }
   ],
   "source": [
    "pred3 = lr3.predict(X_poly3)\n",
    "print_regression_metrcis(y, pred3)"
   ]
  },
  {
   "cell_type": "code",
<<<<<<< Updated upstream
   "execution_count": 64,
=======
   "execution_count": 104,
>>>>>>> Stashed changes
   "metadata": {},
   "outputs": [
    {
     "data": {
<<<<<<< Updated upstream
      "image/png": "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",
=======
      "image/png": "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",
>>>>>>> Stashed changes
      "text/plain": [
       "<Figure size 640x480 with 1 Axes>"
      ]
     },
     "metadata": {},
     "output_type": "display_data"
    }
   ],
   "source": [
    "# degree=25 시각화\n",
    "# X_new: -3 ~ 3 사이의 실수들 \n",
    "y_hat = lr3.predict(pnf3.transform(X_new))\n",
    "plt.scatter(X, y, label=\"정답\")\n",
    "plt.plot(X_new, y_hat, color='k', linewidth=2, label=\"Model추정\")\n",
    "plt.legend()\n",
    "plt.title(\"degree=25로 전처리한 결과\")\n",
<<<<<<< Updated upstream
    "plt.ylim(-5, 20)\n",
=======
    "#plt.ylim(-5, 20)\n",
>>>>>>> Stashed changes
    "plt.show()"
   ]
  },
  {
   "cell_type": "markdown",
   "metadata": {
    "slideshow": {
     "slide_type": "slide"
    }
   },
   "source": [
    "### PolynomialFeatures 예제"
   ]
  },
  {
   "cell_type": "code",
<<<<<<< Updated upstream
   "execution_count": 65,
=======
   "execution_count": 54,
>>>>>>> Stashed changes
   "metadata": {},
   "outputs": [
    {
     "data": {
      "text/plain": [
       "array([[ 0,  1],\n",
       "       [ 2,  3],\n",
       "       [ 4,  5],\n",
       "       [ 6,  7],\n",
       "       [ 8,  9],\n",
       "       [10, 11]])"
      ]
     },
<<<<<<< Updated upstream
     "execution_count": 65,
=======
     "execution_count": 54,
>>>>>>> Stashed changes
     "metadata": {},
     "output_type": "execute_result"
    }
   ],
   "source": [
    "import numpy as np\n",
    "from sklearn.preprocessing import PolynomialFeatures\n",
    "data = np.arange(12).reshape(6, 2)\n",
    "data"
   ]
  },
  {
   "cell_type": "code",
<<<<<<< Updated upstream
   "execution_count": 67,
=======
   "execution_count": 55,
>>>>>>> Stashed changes
   "metadata": {},
   "outputs": [
    {
     "data": {
      "text/plain": [
       "(6, 5)"
      ]
     },
<<<<<<< Updated upstream
     "execution_count": 67,
=======
     "execution_count": 55,
>>>>>>> Stashed changes
     "metadata": {},
     "output_type": "execute_result"
    }
   ],
   "source": [
    "pnf = PolynomialFeatures(degree=2, include_bias=False)\n",
    "poly2 = pnf.fit_transform(data)\n",
    "poly2.shape"
   ]
  },
  {
   "cell_type": "code",
<<<<<<< Updated upstream
   "execution_count": 68,
=======
   "execution_count": 56,
>>>>>>> Stashed changes
   "metadata": {},
   "outputs": [
    {
     "data": {
      "text/plain": [
       "array(['x0', 'x1', 'x0^2', 'x0 x1', 'x1^2'], dtype=object)"
      ]
     },
<<<<<<< Updated upstream
     "execution_count": 68,
=======
     "execution_count": 56,
>>>>>>> Stashed changes
     "metadata": {},
     "output_type": "execute_result"
    }
   ],
   "source": [
    "# 변환 후 각 feature를 어떻게 계산했는지 조회\n",
    "pnf.get_feature_names_out()"
   ]
  },
  {
   "cell_type": "code",
<<<<<<< Updated upstream
   "execution_count": 69,
=======
   "execution_count": 57,
>>>>>>> Stashed changes
   "metadata": {
    "collapsed": true,
    "jupyter": {
     "outputs_hidden": true
    },
    "scrolled": true
   },
   "outputs": [
    {
     "data": {
      "text/plain": [
       "array([[  0.,   1.,   0.,   0.,   1.],\n",
       "       [  2.,   3.,   4.,   6.,   9.],\n",
       "       [  4.,   5.,  16.,  20.,  25.],\n",
       "       [  6.,   7.,  36.,  42.,  49.],\n",
       "       [  8.,   9.,  64.,  72.,  81.],\n",
       "       [ 10.,  11., 100., 110., 121.]])"
      ]
     },
<<<<<<< Updated upstream
     "execution_count": 69,
=======
     "execution_count": 57,
>>>>>>> Stashed changes
     "metadata": {},
     "output_type": "execute_result"
    }
   ],
   "source": [
    "poly2"
   ]
  },
  {
   "cell_type": "code",
<<<<<<< Updated upstream
   "execution_count": 70,
=======
   "execution_count": 58,
>>>>>>> Stashed changes
   "metadata": {},
   "outputs": [
    {
     "data": {
      "text/html": [
       "<div>\n",
       "<style scoped>\n",
       "    .dataframe tbody tr th:only-of-type {\n",
       "        vertical-align: middle;\n",
       "    }\n",
       "\n",
       "    .dataframe tbody tr th {\n",
       "        vertical-align: top;\n",
       "    }\n",
       "\n",
       "    .dataframe thead th {\n",
       "        text-align: right;\n",
       "    }\n",
       "</style>\n",
       "<table border=\"1\" class=\"dataframe\">\n",
       "  <thead>\n",
       "    <tr style=\"text-align: right;\">\n",
       "      <th></th>\n",
       "      <th>x0</th>\n",
       "      <th>x1</th>\n",
       "      <th>x0^2</th>\n",
       "      <th>x0 x1</th>\n",
       "      <th>x1^2</th>\n",
       "    </tr>\n",
       "  </thead>\n",
       "  <tbody>\n",
       "    <tr>\n",
       "      <th>0</th>\n",
       "      <td>0.0</td>\n",
       "      <td>1.0</td>\n",
       "      <td>0.0</td>\n",
       "      <td>0.0</td>\n",
       "      <td>1.0</td>\n",
       "    </tr>\n",
       "    <tr>\n",
       "      <th>1</th>\n",
       "      <td>2.0</td>\n",
       "      <td>3.0</td>\n",
       "      <td>4.0</td>\n",
       "      <td>6.0</td>\n",
       "      <td>9.0</td>\n",
       "    </tr>\n",
       "    <tr>\n",
       "      <th>2</th>\n",
       "      <td>4.0</td>\n",
       "      <td>5.0</td>\n",
       "      <td>16.0</td>\n",
       "      <td>20.0</td>\n",
       "      <td>25.0</td>\n",
       "    </tr>\n",
       "    <tr>\n",
       "      <th>3</th>\n",
       "      <td>6.0</td>\n",
       "      <td>7.0</td>\n",
       "      <td>36.0</td>\n",
       "      <td>42.0</td>\n",
       "      <td>49.0</td>\n",
       "    </tr>\n",
       "    <tr>\n",
       "      <th>4</th>\n",
       "      <td>8.0</td>\n",
       "      <td>9.0</td>\n",
       "      <td>64.0</td>\n",
       "      <td>72.0</td>\n",
       "      <td>81.0</td>\n",
       "    </tr>\n",
       "    <tr>\n",
       "      <th>5</th>\n",
       "      <td>10.0</td>\n",
       "      <td>11.0</td>\n",
       "      <td>100.0</td>\n",
       "      <td>110.0</td>\n",
       "      <td>121.0</td>\n",
       "    </tr>\n",
       "  </tbody>\n",
       "</table>\n",
       "</div>"
      ],
      "text/plain": [
       "     x0    x1   x0^2  x0 x1   x1^2\n",
       "0   0.0   1.0    0.0    0.0    1.0\n",
       "1   2.0   3.0    4.0    6.0    9.0\n",
       "2   4.0   5.0   16.0   20.0   25.0\n",
       "3   6.0   7.0   36.0   42.0   49.0\n",
       "4   8.0   9.0   64.0   72.0   81.0\n",
       "5  10.0  11.0  100.0  110.0  121.0"
      ]
     },
<<<<<<< Updated upstream
     "execution_count": 70,
=======
     "execution_count": 58,
>>>>>>> Stashed changes
     "metadata": {},
     "output_type": "execute_result"
    }
   ],
   "source": [
    "pd.DataFrame(poly2, columns=pnf.get_feature_names_out())"
   ]
  },
  {
   "cell_type": "code",
<<<<<<< Updated upstream
   "execution_count": 71,
=======
   "execution_count": 59,
>>>>>>> Stashed changes
   "metadata": {},
   "outputs": [
    {
     "data": {
      "text/plain": [
       "((6, 20), (6, 2))"
      ]
     },
<<<<<<< Updated upstream
     "execution_count": 71,
=======
     "execution_count": 59,
>>>>>>> Stashed changes
     "metadata": {},
     "output_type": "execute_result"
    }
   ],
   "source": [
    "pnf2 = PolynomialFeatures(degree=5, include_bias=False)\n",
    "poly_n = pnf2.fit_transform(data)\n",
    "poly_n.shape, data.shape"
   ]
  },
  {
   "cell_type": "code",
<<<<<<< Updated upstream
   "execution_count": 72,
=======
   "execution_count": 60,
>>>>>>> Stashed changes
   "metadata": {
    "scrolled": true
   },
   "outputs": [
    {
     "data": {
      "text/plain": [
       "array(['x0', 'x1', 'x0^2', 'x0 x1', 'x1^2', 'x0^3', 'x0^2 x1', 'x0 x1^2',\n",
       "       'x1^3', 'x0^4', 'x0^3 x1', 'x0^2 x1^2', 'x0 x1^3', 'x1^4', 'x0^5',\n",
       "       'x0^4 x1', 'x0^3 x1^2', 'x0^2 x1^3', 'x0 x1^4', 'x1^5'],\n",
       "      dtype=object)"
      ]
     },
<<<<<<< Updated upstream
     "execution_count": 72,
=======
     "execution_count": 60,
>>>>>>> Stashed changes
     "metadata": {},
     "output_type": "execute_result"
    }
   ],
   "source": [
    "pnf2.get_feature_names_out()"
   ]
  },
  {
   "cell_type": "markdown",
   "metadata": {
    "slideshow": {
     "slide_type": "slide"
    }
   },
   "source": [
    "### PolynomialFeatures를 Boston Dataset에 적용"
   ]
  },
  {
   "cell_type": "code",
<<<<<<< Updated upstream
   "execution_count": 73,
=======
   "execution_count": 61,
>>>>>>> Stashed changes
   "metadata": {},
   "outputs": [],
   "source": [
    "import pandas as pd\n",
    "from sklearn.model_selection import train_test_split\n",
    "from sklearn.preprocessing import PolynomialFeatures\n",
    "from sklearn.preprocessing import StandardScaler\n",
    "from sklearn.linear_model import LinearRegression\n",
    "from sklearn.pipeline import Pipeline\n",
    "from metrics import print_regression_metrcis\n",
    "\n",
    "df = pd.read_csv('data/boston_dataset.csv')\n",
    "X = df.drop(columns='MEDV')\n",
    "y = df['MEDV']\n",
    "X_train, X_test, y_train, y_test = train_test_split(X, y, test_size=0.2, random_state=0)"
   ]
  },
  {
   "cell_type": "code",
<<<<<<< Updated upstream
   "execution_count": 86,
=======
   "execution_count": 62,
>>>>>>> Stashed changes
   "metadata": {},
   "outputs": [],
   "source": [
    "# 전처리 pipeline\n",
    "preprocessor = Pipeline([\n",
    "    (\"poly\", PolynomialFeatures(degree=10, include_bias=False)), \n",
    "    (\"scaler\", StandardScaler()), \n",
    "    # (\"model\", LinearRegression())\n",
    "])"
   ]
  },
  {
   "cell_type": "code",
<<<<<<< Updated upstream
   "execution_count": 87,
=======
   "execution_count": 63,
>>>>>>> Stashed changes
   "metadata": {},
   "outputs": [],
   "source": [
    "tmp = preprocessor.fit_transform(X_train)"
   ]
  },
  {
   "cell_type": "code",
<<<<<<< Updated upstream
   "execution_count": 88,
=======
   "execution_count": 64,
>>>>>>> Stashed changes
   "metadata": {},
   "outputs": [
    {
     "data": {
      "text/plain": [
       "(404, 13)"
      ]
     },
<<<<<<< Updated upstream
     "execution_count": 88,
=======
     "execution_count": 64,
>>>>>>> Stashed changes
     "metadata": {},
     "output_type": "execute_result"
    }
   ],
   "source": [
    "X_train.shape"
   ]
  },
  {
   "cell_type": "code",
<<<<<<< Updated upstream
   "execution_count": 89,
=======
   "execution_count": 65,
>>>>>>> Stashed changes
   "metadata": {
    "collapsed": true,
    "jupyter": {
     "outputs_hidden": true
    },
    "scrolled": true
   },
   "outputs": [
    {
     "data": {
      "text/plain": [
<<<<<<< Updated upstream
       "(404, 1144065)"
      ]
     },
     "execution_count": 89,
=======
       "(404, 104)"
      ]
     },
     "execution_count": 65,
>>>>>>> Stashed changes
     "metadata": {},
     "output_type": "execute_result"
    }
   ],
   "source": [
    "tmp.shape"
   ]
  },
  {
   "cell_type": "code",
<<<<<<< Updated upstream
   "execution_count": 80,
=======
   "execution_count": 66,
>>>>>>> Stashed changes
   "metadata": {
    "collapsed": true,
    "jupyter": {
     "outputs_hidden": true,
     "source_hidden": true
    },
    "scrolled": true
   },
   "outputs": [
    {
     "data": {
      "text/plain": [
       "array(['CRIM', 'ZN', 'INDUS', 'CHAS', 'NOX', 'RM', 'AGE', 'DIS', 'RAD',\n",
       "       'TAX', 'PTRATIO', 'B', 'LSTAT', 'CRIM^2', 'CRIM ZN', 'CRIM INDUS',\n",
       "       'CRIM CHAS', 'CRIM NOX', 'CRIM RM', 'CRIM AGE', 'CRIM DIS',\n",
       "       'CRIM RAD', 'CRIM TAX', 'CRIM PTRATIO', 'CRIM B', 'CRIM LSTAT',\n",
       "       'ZN^2', 'ZN INDUS', 'ZN CHAS', 'ZN NOX', 'ZN RM', 'ZN AGE',\n",
       "       'ZN DIS', 'ZN RAD', 'ZN TAX', 'ZN PTRATIO', 'ZN B', 'ZN LSTAT',\n",
       "       'INDUS^2', 'INDUS CHAS', 'INDUS NOX', 'INDUS RM', 'INDUS AGE',\n",
       "       'INDUS DIS', 'INDUS RAD', 'INDUS TAX', 'INDUS PTRATIO', 'INDUS B',\n",
       "       'INDUS LSTAT', 'CHAS^2', 'CHAS NOX', 'CHAS RM', 'CHAS AGE',\n",
       "       'CHAS DIS', 'CHAS RAD', 'CHAS TAX', 'CHAS PTRATIO', 'CHAS B',\n",
       "       'CHAS LSTAT', 'NOX^2', 'NOX RM', 'NOX AGE', 'NOX DIS', 'NOX RAD',\n",
       "       'NOX TAX', 'NOX PTRATIO', 'NOX B', 'NOX LSTAT', 'RM^2', 'RM AGE',\n",
       "       'RM DIS', 'RM RAD', 'RM TAX', 'RM PTRATIO', 'RM B', 'RM LSTAT',\n",
       "       'AGE^2', 'AGE DIS', 'AGE RAD', 'AGE TAX', 'AGE PTRATIO', 'AGE B',\n",
       "       'AGE LSTAT', 'DIS^2', 'DIS RAD', 'DIS TAX', 'DIS PTRATIO', 'DIS B',\n",
       "       'DIS LSTAT', 'RAD^2', 'RAD TAX', 'RAD PTRATIO', 'RAD B',\n",
       "       'RAD LSTAT', 'TAX^2', 'TAX PTRATIO', 'TAX B', 'TAX LSTAT',\n",
       "       'PTRATIO^2', 'PTRATIO B', 'PTRATIO LSTAT', 'B^2', 'B LSTAT',\n",
       "       'LSTAT^2'], dtype=object)"
      ]
     },
<<<<<<< Updated upstream
     "execution_count": 80,
=======
     "execution_count": 66,
>>>>>>> Stashed changes
     "metadata": {},
     "output_type": "execute_result"
    }
   ],
   "source": [
    "preprocessor.steps[0][1].get_feature_names_out()"
   ]
  },
  {
   "cell_type": "markdown",
   "metadata": {},
   "source": [
    "#### 모델링"
   ]
  },
  {
   "cell_type": "code",
<<<<<<< Updated upstream
   "execution_count": 90,
=======
   "execution_count": 67,
>>>>>>> Stashed changes
   "metadata": {},
   "outputs": [],
   "source": [
    "pipeline = Pipeline([\n",
    "    (\"preprocessor\", preprocessor), \n",
    "    (\"model\", LinearRegression())\n",
    "])"
   ]
  },
  {
   "cell_type": "code",
<<<<<<< Updated upstream
   "execution_count": 91,
=======
   "execution_count": 68,
>>>>>>> Stashed changes
   "metadata": {},
   "outputs": [
    {
     "data": {
      "text/html": [
       "<style>#sk-container-id-6 {\n",
       "  /* Definition of color scheme common for light and dark mode */\n",
       "  --sklearn-color-text: #000;\n",
       "  --sklearn-color-text-muted: #666;\n",
       "  --sklearn-color-line: gray;\n",
       "  /* Definition of color scheme for unfitted estimators */\n",
       "  --sklearn-color-unfitted-level-0: #fff5e6;\n",
       "  --sklearn-color-unfitted-level-1: #f6e4d2;\n",
       "  --sklearn-color-unfitted-level-2: #ffe0b3;\n",
       "  --sklearn-color-unfitted-level-3: chocolate;\n",
       "  /* Definition of color scheme for fitted estimators */\n",
       "  --sklearn-color-fitted-level-0: #f0f8ff;\n",
       "  --sklearn-color-fitted-level-1: #d4ebff;\n",
       "  --sklearn-color-fitted-level-2: #b3dbfd;\n",
       "  --sklearn-color-fitted-level-3: cornflowerblue;\n",
       "\n",
       "  /* Specific color for light theme */\n",
       "  --sklearn-color-text-on-default-background: var(--sg-text-color, var(--theme-code-foreground, var(--jp-content-font-color1, black)));\n",
       "  --sklearn-color-background: var(--sg-background-color, var(--theme-background, var(--jp-layout-color0, white)));\n",
       "  --sklearn-color-border-box: var(--sg-text-color, var(--theme-code-foreground, var(--jp-content-font-color1, black)));\n",
       "  --sklearn-color-icon: #696969;\n",
       "\n",
       "  @media (prefers-color-scheme: dark) {\n",
       "    /* Redefinition of color scheme for dark theme */\n",
       "    --sklearn-color-text-on-default-background: var(--sg-text-color, var(--theme-code-foreground, var(--jp-content-font-color1, white)));\n",
       "    --sklearn-color-background: var(--sg-background-color, var(--theme-background, var(--jp-layout-color0, #111)));\n",
       "    --sklearn-color-border-box: var(--sg-text-color, var(--theme-code-foreground, var(--jp-content-font-color1, white)));\n",
       "    --sklearn-color-icon: #878787;\n",
       "  }\n",
       "}\n",
       "\n",
       "#sk-container-id-6 {\n",
       "  color: var(--sklearn-color-text);\n",
       "}\n",
       "\n",
       "#sk-container-id-6 pre {\n",
       "  padding: 0;\n",
       "}\n",
       "\n",
       "#sk-container-id-6 input.sk-hidden--visually {\n",
       "  border: 0;\n",
       "  clip: rect(1px 1px 1px 1px);\n",
       "  clip: rect(1px, 1px, 1px, 1px);\n",
       "  height: 1px;\n",
       "  margin: -1px;\n",
       "  overflow: hidden;\n",
       "  padding: 0;\n",
       "  position: absolute;\n",
       "  width: 1px;\n",
       "}\n",
       "\n",
       "#sk-container-id-6 div.sk-dashed-wrapped {\n",
       "  border: 1px dashed var(--sklearn-color-line);\n",
       "  margin: 0 0.4em 0.5em 0.4em;\n",
       "  box-sizing: border-box;\n",
       "  padding-bottom: 0.4em;\n",
       "  background-color: var(--sklearn-color-background);\n",
       "}\n",
       "\n",
       "#sk-container-id-6 div.sk-container {\n",
       "  /* jupyter's `normalize.less` sets `[hidden] { display: none; }`\n",
       "     but bootstrap.min.css set `[hidden] { display: none !important; }`\n",
       "     so we also need the `!important` here to be able to override the\n",
       "     default hidden behavior on the sphinx rendered scikit-learn.org.\n",
       "     See: https://github.com/scikit-learn/scikit-learn/issues/21755 */\n",
       "  display: inline-block !important;\n",
       "  position: relative;\n",
       "}\n",
       "\n",
       "#sk-container-id-6 div.sk-text-repr-fallback {\n",
       "  display: none;\n",
       "}\n",
       "\n",
       "div.sk-parallel-item,\n",
       "div.sk-serial,\n",
       "div.sk-item {\n",
       "  /* draw centered vertical line to link estimators */\n",
       "  background-image: linear-gradient(var(--sklearn-color-text-on-default-background), var(--sklearn-color-text-on-default-background));\n",
       "  background-size: 2px 100%;\n",
       "  background-repeat: no-repeat;\n",
       "  background-position: center center;\n",
       "}\n",
       "\n",
       "/* Parallel-specific style estimator block */\n",
       "\n",
       "#sk-container-id-6 div.sk-parallel-item::after {\n",
       "  content: \"\";\n",
       "  width: 100%;\n",
       "  border-bottom: 2px solid var(--sklearn-color-text-on-default-background);\n",
       "  flex-grow: 1;\n",
       "}\n",
       "\n",
       "#sk-container-id-6 div.sk-parallel {\n",
       "  display: flex;\n",
       "  align-items: stretch;\n",
       "  justify-content: center;\n",
       "  background-color: var(--sklearn-color-background);\n",
       "  position: relative;\n",
       "}\n",
       "\n",
       "#sk-container-id-6 div.sk-parallel-item {\n",
       "  display: flex;\n",
       "  flex-direction: column;\n",
       "}\n",
       "\n",
       "#sk-container-id-6 div.sk-parallel-item:first-child::after {\n",
       "  align-self: flex-end;\n",
       "  width: 50%;\n",
       "}\n",
       "\n",
       "#sk-container-id-6 div.sk-parallel-item:last-child::after {\n",
       "  align-self: flex-start;\n",
       "  width: 50%;\n",
       "}\n",
       "\n",
       "#sk-container-id-6 div.sk-parallel-item:only-child::after {\n",
       "  width: 0;\n",
       "}\n",
       "\n",
       "/* Serial-specific style estimator block */\n",
       "\n",
       "#sk-container-id-6 div.sk-serial {\n",
       "  display: flex;\n",
       "  flex-direction: column;\n",
       "  align-items: center;\n",
       "  background-color: var(--sklearn-color-background);\n",
       "  padding-right: 1em;\n",
       "  padding-left: 1em;\n",
       "}\n",
       "\n",
       "\n",
       "/* Toggleable style: style used for estimator/Pipeline/ColumnTransformer box that is\n",
       "clickable and can be expanded/collapsed.\n",
       "- Pipeline and ColumnTransformer use this feature and define the default style\n",
       "- Estimators will overwrite some part of the style using the `sk-estimator` class\n",
       "*/\n",
       "\n",
       "/* Pipeline and ColumnTransformer style (default) */\n",
       "\n",
       "#sk-container-id-6 div.sk-toggleable {\n",
       "  /* Default theme specific background. It is overwritten whether we have a\n",
       "  specific estimator or a Pipeline/ColumnTransformer */\n",
       "  background-color: var(--sklearn-color-background);\n",
       "}\n",
       "\n",
       "/* Toggleable label */\n",
       "#sk-container-id-6 label.sk-toggleable__label {\n",
       "  cursor: pointer;\n",
       "  display: flex;\n",
       "  width: 100%;\n",
       "  margin-bottom: 0;\n",
       "  padding: 0.5em;\n",
       "  box-sizing: border-box;\n",
       "  text-align: center;\n",
       "  align-items: start;\n",
       "  justify-content: space-between;\n",
       "  gap: 0.5em;\n",
       "}\n",
       "\n",
       "#sk-container-id-6 label.sk-toggleable__label .caption {\n",
       "  font-size: 0.6rem;\n",
       "  font-weight: lighter;\n",
       "  color: var(--sklearn-color-text-muted);\n",
       "}\n",
       "\n",
       "#sk-container-id-6 label.sk-toggleable__label-arrow:before {\n",
       "  /* Arrow on the left of the label */\n",
       "  content: \"▸\";\n",
       "  float: left;\n",
       "  margin-right: 0.25em;\n",
       "  color: var(--sklearn-color-icon);\n",
       "}\n",
       "\n",
       "#sk-container-id-6 label.sk-toggleable__label-arrow:hover:before {\n",
       "  color: var(--sklearn-color-text);\n",
       "}\n",
       "\n",
       "/* Toggleable content - dropdown */\n",
       "\n",
       "#sk-container-id-6 div.sk-toggleable__content {\n",
       "  max-height: 0;\n",
       "  max-width: 0;\n",
       "  overflow: hidden;\n",
       "  text-align: left;\n",
       "  /* unfitted */\n",
       "  background-color: var(--sklearn-color-unfitted-level-0);\n",
       "}\n",
       "\n",
       "#sk-container-id-6 div.sk-toggleable__content.fitted {\n",
       "  /* fitted */\n",
       "  background-color: var(--sklearn-color-fitted-level-0);\n",
       "}\n",
       "\n",
       "#sk-container-id-6 div.sk-toggleable__content pre {\n",
       "  margin: 0.2em;\n",
       "  border-radius: 0.25em;\n",
       "  color: var(--sklearn-color-text);\n",
       "  /* unfitted */\n",
       "  background-color: var(--sklearn-color-unfitted-level-0);\n",
       "}\n",
       "\n",
       "#sk-container-id-6 div.sk-toggleable__content.fitted pre {\n",
       "  /* unfitted */\n",
       "  background-color: var(--sklearn-color-fitted-level-0);\n",
       "}\n",
       "\n",
       "#sk-container-id-6 input.sk-toggleable__control:checked~div.sk-toggleable__content {\n",
       "  /* Expand drop-down */\n",
       "  max-height: 200px;\n",
       "  max-width: 100%;\n",
       "  overflow: auto;\n",
       "}\n",
       "\n",
       "#sk-container-id-6 input.sk-toggleable__control:checked~label.sk-toggleable__label-arrow:before {\n",
       "  content: \"▾\";\n",
       "}\n",
       "\n",
       "/* Pipeline/ColumnTransformer-specific style */\n",
       "\n",
       "#sk-container-id-6 div.sk-label input.sk-toggleable__control:checked~label.sk-toggleable__label {\n",
       "  color: var(--sklearn-color-text);\n",
       "  background-color: var(--sklearn-color-unfitted-level-2);\n",
       "}\n",
       "\n",
       "#sk-container-id-6 div.sk-label.fitted input.sk-toggleable__control:checked~label.sk-toggleable__label {\n",
       "  background-color: var(--sklearn-color-fitted-level-2);\n",
       "}\n",
       "\n",
       "/* Estimator-specific style */\n",
       "\n",
       "/* Colorize estimator box */\n",
       "#sk-container-id-6 div.sk-estimator input.sk-toggleable__control:checked~label.sk-toggleable__label {\n",
       "  /* unfitted */\n",
       "  background-color: var(--sklearn-color-unfitted-level-2);\n",
       "}\n",
       "\n",
       "#sk-container-id-6 div.sk-estimator.fitted input.sk-toggleable__control:checked~label.sk-toggleable__label {\n",
       "  /* fitted */\n",
       "  background-color: var(--sklearn-color-fitted-level-2);\n",
       "}\n",
       "\n",
       "#sk-container-id-6 div.sk-label label.sk-toggleable__label,\n",
       "#sk-container-id-6 div.sk-label label {\n",
       "  /* The background is the default theme color */\n",
       "  color: var(--sklearn-color-text-on-default-background);\n",
       "}\n",
       "\n",
       "/* On hover, darken the color of the background */\n",
       "#sk-container-id-6 div.sk-label:hover label.sk-toggleable__label {\n",
       "  color: var(--sklearn-color-text);\n",
       "  background-color: var(--sklearn-color-unfitted-level-2);\n",
       "}\n",
       "\n",
       "/* Label box, darken color on hover, fitted */\n",
       "#sk-container-id-6 div.sk-label.fitted:hover label.sk-toggleable__label.fitted {\n",
       "  color: var(--sklearn-color-text);\n",
       "  background-color: var(--sklearn-color-fitted-level-2);\n",
       "}\n",
       "\n",
       "/* Estimator label */\n",
       "\n",
       "#sk-container-id-6 div.sk-label label {\n",
       "  font-family: monospace;\n",
       "  font-weight: bold;\n",
       "  display: inline-block;\n",
       "  line-height: 1.2em;\n",
       "}\n",
       "\n",
       "#sk-container-id-6 div.sk-label-container {\n",
       "  text-align: center;\n",
       "}\n",
       "\n",
       "/* Estimator-specific */\n",
       "#sk-container-id-6 div.sk-estimator {\n",
       "  font-family: monospace;\n",
       "  border: 1px dotted var(--sklearn-color-border-box);\n",
       "  border-radius: 0.25em;\n",
       "  box-sizing: border-box;\n",
       "  margin-bottom: 0.5em;\n",
       "  /* unfitted */\n",
       "  background-color: var(--sklearn-color-unfitted-level-0);\n",
       "}\n",
       "\n",
       "#sk-container-id-6 div.sk-estimator.fitted {\n",
       "  /* fitted */\n",
       "  background-color: var(--sklearn-color-fitted-level-0);\n",
       "}\n",
       "\n",
       "/* on hover */\n",
       "#sk-container-id-6 div.sk-estimator:hover {\n",
       "  /* unfitted */\n",
       "  background-color: var(--sklearn-color-unfitted-level-2);\n",
       "}\n",
       "\n",
       "#sk-container-id-6 div.sk-estimator.fitted:hover {\n",
       "  /* fitted */\n",
       "  background-color: var(--sklearn-color-fitted-level-2);\n",
       "}\n",
       "\n",
       "/* Specification for estimator info (e.g. \"i\" and \"?\") */\n",
       "\n",
       "/* Common style for \"i\" and \"?\" */\n",
       "\n",
       ".sk-estimator-doc-link,\n",
       "a:link.sk-estimator-doc-link,\n",
       "a:visited.sk-estimator-doc-link {\n",
       "  float: right;\n",
       "  font-size: smaller;\n",
       "  line-height: 1em;\n",
       "  font-family: monospace;\n",
       "  background-color: var(--sklearn-color-background);\n",
       "  border-radius: 1em;\n",
       "  height: 1em;\n",
       "  width: 1em;\n",
       "  text-decoration: none !important;\n",
       "  margin-left: 0.5em;\n",
       "  text-align: center;\n",
       "  /* unfitted */\n",
       "  border: var(--sklearn-color-unfitted-level-1) 1pt solid;\n",
       "  color: var(--sklearn-color-unfitted-level-1);\n",
       "}\n",
       "\n",
       ".sk-estimator-doc-link.fitted,\n",
       "a:link.sk-estimator-doc-link.fitted,\n",
       "a:visited.sk-estimator-doc-link.fitted {\n",
       "  /* fitted */\n",
       "  border: var(--sklearn-color-fitted-level-1) 1pt solid;\n",
       "  color: var(--sklearn-color-fitted-level-1);\n",
       "}\n",
       "\n",
       "/* On hover */\n",
       "div.sk-estimator:hover .sk-estimator-doc-link:hover,\n",
       ".sk-estimator-doc-link:hover,\n",
       "div.sk-label-container:hover .sk-estimator-doc-link:hover,\n",
       ".sk-estimator-doc-link:hover {\n",
       "  /* unfitted */\n",
       "  background-color: var(--sklearn-color-unfitted-level-3);\n",
       "  color: var(--sklearn-color-background);\n",
       "  text-decoration: none;\n",
       "}\n",
       "\n",
       "div.sk-estimator.fitted:hover .sk-estimator-doc-link.fitted:hover,\n",
       ".sk-estimator-doc-link.fitted:hover,\n",
       "div.sk-label-container:hover .sk-estimator-doc-link.fitted:hover,\n",
       ".sk-estimator-doc-link.fitted:hover {\n",
       "  /* fitted */\n",
       "  background-color: var(--sklearn-color-fitted-level-3);\n",
       "  color: var(--sklearn-color-background);\n",
       "  text-decoration: none;\n",
       "}\n",
       "\n",
       "/* Span, style for the box shown on hovering the info icon */\n",
       ".sk-estimator-doc-link span {\n",
       "  display: none;\n",
       "  z-index: 9999;\n",
       "  position: relative;\n",
       "  font-weight: normal;\n",
       "  right: .2ex;\n",
       "  padding: .5ex;\n",
       "  margin: .5ex;\n",
       "  width: min-content;\n",
       "  min-width: 20ex;\n",
       "  max-width: 50ex;\n",
       "  color: var(--sklearn-color-text);\n",
       "  box-shadow: 2pt 2pt 4pt #999;\n",
       "  /* unfitted */\n",
       "  background: var(--sklearn-color-unfitted-level-0);\n",
       "  border: .5pt solid var(--sklearn-color-unfitted-level-3);\n",
       "}\n",
       "\n",
       ".sk-estimator-doc-link.fitted span {\n",
       "  /* fitted */\n",
       "  background: var(--sklearn-color-fitted-level-0);\n",
       "  border: var(--sklearn-color-fitted-level-3);\n",
       "}\n",
       "\n",
       ".sk-estimator-doc-link:hover span {\n",
       "  display: block;\n",
       "}\n",
       "\n",
       "/* \"?\"-specific style due to the `<a>` HTML tag */\n",
       "\n",
       "#sk-container-id-6 a.estimator_doc_link {\n",
       "  float: right;\n",
       "  font-size: 1rem;\n",
       "  line-height: 1em;\n",
       "  font-family: monospace;\n",
       "  background-color: var(--sklearn-color-background);\n",
       "  border-radius: 1rem;\n",
       "  height: 1rem;\n",
       "  width: 1rem;\n",
       "  text-decoration: none;\n",
       "  /* unfitted */\n",
       "  color: var(--sklearn-color-unfitted-level-1);\n",
       "  border: var(--sklearn-color-unfitted-level-1) 1pt solid;\n",
       "}\n",
       "\n",
       "#sk-container-id-6 a.estimator_doc_link.fitted {\n",
       "  /* fitted */\n",
       "  border: var(--sklearn-color-fitted-level-1) 1pt solid;\n",
       "  color: var(--sklearn-color-fitted-level-1);\n",
       "}\n",
       "\n",
       "/* On hover */\n",
       "#sk-container-id-6 a.estimator_doc_link:hover {\n",
       "  /* unfitted */\n",
       "  background-color: var(--sklearn-color-unfitted-level-3);\n",
       "  color: var(--sklearn-color-background);\n",
       "  text-decoration: none;\n",
       "}\n",
       "\n",
       "#sk-container-id-6 a.estimator_doc_link.fitted:hover {\n",
       "  /* fitted */\n",
       "  background-color: var(--sklearn-color-fitted-level-3);\n",
       "}\n",
       "</style><div id=\"sk-container-id-6\" class=\"sk-top-container\"><div class=\"sk-text-repr-fallback\"><pre>Pipeline(steps=[(&#x27;preprocessor&#x27;,\n",
       "                 Pipeline(steps=[(&#x27;poly&#x27;,\n",
<<<<<<< Updated upstream
       "                                  PolynomialFeatures(degree=10,\n",
       "                                                     include_bias=False)),\n",
       "                                 (&#x27;scaler&#x27;, StandardScaler())])),\n",
       "                (&#x27;model&#x27;, LinearRegression())])</pre><b>In a Jupyter environment, please rerun this cell to show the HTML representation or trust the notebook. <br />On GitHub, the HTML representation is unable to render, please try loading this page with nbviewer.org.</b></div><div class=\"sk-container\" hidden><div class=\"sk-item sk-dashed-wrapped\"><div class=\"sk-label-container\"><div class=\"sk-label fitted sk-toggleable\"><input class=\"sk-toggleable__control sk-hidden--visually\" id=\"sk-estimator-id-10\" type=\"checkbox\" ><label for=\"sk-estimator-id-10\" class=\"sk-toggleable__label fitted sk-toggleable__label-arrow\"><div><div>Pipeline</div></div><div><a class=\"sk-estimator-doc-link fitted\" rel=\"noreferrer\" target=\"_blank\" href=\"https://scikit-learn.org/1.6/modules/generated/sklearn.pipeline.Pipeline.html\">?<span>Documentation for Pipeline</span></a><span class=\"sk-estimator-doc-link fitted\">i<span>Fitted</span></span></div></label><div class=\"sk-toggleable__content fitted\"><pre>Pipeline(steps=[(&#x27;preprocessor&#x27;,\n",
       "                 Pipeline(steps=[(&#x27;poly&#x27;,\n",
       "                                  PolynomialFeatures(degree=10,\n",
       "                                                     include_bias=False)),\n",
       "                                 (&#x27;scaler&#x27;, StandardScaler())])),\n",
       "                (&#x27;model&#x27;, LinearRegression())])</pre></div> </div></div><div class=\"sk-serial\"><div class=\"sk-item\"><div class=\"sk-label-container\"><div class=\"sk-label fitted sk-toggleable\"><input class=\"sk-toggleable__control sk-hidden--visually\" id=\"sk-estimator-id-11\" type=\"checkbox\" ><label for=\"sk-estimator-id-11\" class=\"sk-toggleable__label fitted sk-toggleable__label-arrow\"><div><div>preprocessor: Pipeline</div></div><div><a class=\"sk-estimator-doc-link fitted\" rel=\"noreferrer\" target=\"_blank\" href=\"https://scikit-learn.org/1.6/modules/generated/sklearn.pipeline.Pipeline.html\">?<span>Documentation for preprocessor: Pipeline</span></a></div></label><div class=\"sk-toggleable__content fitted\"><pre>Pipeline(steps=[(&#x27;poly&#x27;, PolynomialFeatures(degree=10, include_bias=False)),\n",
       "                (&#x27;scaler&#x27;, StandardScaler())])</pre></div> </div></div><div class=\"sk-serial\"><div class=\"sk-item\"><div class=\"sk-estimator fitted sk-toggleable\"><input class=\"sk-toggleable__control sk-hidden--visually\" id=\"sk-estimator-id-12\" type=\"checkbox\" ><label for=\"sk-estimator-id-12\" class=\"sk-toggleable__label fitted sk-toggleable__label-arrow\"><div><div>PolynomialFeatures</div></div><div><a class=\"sk-estimator-doc-link fitted\" rel=\"noreferrer\" target=\"_blank\" href=\"https://scikit-learn.org/1.6/modules/generated/sklearn.preprocessing.PolynomialFeatures.html\">?<span>Documentation for PolynomialFeatures</span></a></div></label><div class=\"sk-toggleable__content fitted\"><pre>PolynomialFeatures(degree=10, include_bias=False)</pre></div> </div></div><div class=\"sk-item\"><div class=\"sk-estimator fitted sk-toggleable\"><input class=\"sk-toggleable__control sk-hidden--visually\" id=\"sk-estimator-id-13\" type=\"checkbox\" ><label for=\"sk-estimator-id-13\" class=\"sk-toggleable__label fitted sk-toggleable__label-arrow\"><div><div>StandardScaler</div></div><div><a class=\"sk-estimator-doc-link fitted\" rel=\"noreferrer\" target=\"_blank\" href=\"https://scikit-learn.org/1.6/modules/generated/sklearn.preprocessing.StandardScaler.html\">?<span>Documentation for StandardScaler</span></a></div></label><div class=\"sk-toggleable__content fitted\"><pre>StandardScaler()</pre></div> </div></div></div></div><div class=\"sk-item\"><div class=\"sk-estimator fitted sk-toggleable\"><input class=\"sk-toggleable__control sk-hidden--visually\" id=\"sk-estimator-id-14\" type=\"checkbox\" ><label for=\"sk-estimator-id-14\" class=\"sk-toggleable__label fitted sk-toggleable__label-arrow\"><div><div>LinearRegression</div></div><div><a class=\"sk-estimator-doc-link fitted\" rel=\"noreferrer\" target=\"_blank\" href=\"https://scikit-learn.org/1.6/modules/generated/sklearn.linear_model.LinearRegression.html\">?<span>Documentation for LinearRegression</span></a></div></label><div class=\"sk-toggleable__content fitted\"><pre>LinearRegression()</pre></div> </div></div></div></div></div></div>"
=======
       "                                  PolynomialFeatures(include_bias=False)),\n",
       "                                 (&#x27;scaler&#x27;, StandardScaler())])),\n",
       "                (&#x27;model&#x27;, LinearRegression())])</pre><b>In a Jupyter environment, please rerun this cell to show the HTML representation or trust the notebook. <br />On GitHub, the HTML representation is unable to render, please try loading this page with nbviewer.org.</b></div><div class=\"sk-container\" hidden><div class=\"sk-item sk-dashed-wrapped\"><div class=\"sk-label-container\"><div class=\"sk-label fitted sk-toggleable\"><input class=\"sk-toggleable__control sk-hidden--visually\" id=\"sk-estimator-id-8\" type=\"checkbox\" ><label for=\"sk-estimator-id-8\" class=\"sk-toggleable__label fitted sk-toggleable__label-arrow\"><div><div>Pipeline</div></div><div><a class=\"sk-estimator-doc-link fitted\" rel=\"noreferrer\" target=\"_blank\" href=\"https://scikit-learn.org/1.6/modules/generated/sklearn.pipeline.Pipeline.html\">?<span>Documentation for Pipeline</span></a><span class=\"sk-estimator-doc-link fitted\">i<span>Fitted</span></span></div></label><div class=\"sk-toggleable__content fitted\"><pre>Pipeline(steps=[(&#x27;preprocessor&#x27;,\n",
       "                 Pipeline(steps=[(&#x27;poly&#x27;,\n",
       "                                  PolynomialFeatures(include_bias=False)),\n",
       "                                 (&#x27;scaler&#x27;, StandardScaler())])),\n",
       "                (&#x27;model&#x27;, LinearRegression())])</pre></div> </div></div><div class=\"sk-serial\"><div class=\"sk-item\"><div class=\"sk-label-container\"><div class=\"sk-label fitted sk-toggleable\"><input class=\"sk-toggleable__control sk-hidden--visually\" id=\"sk-estimator-id-9\" type=\"checkbox\" ><label for=\"sk-estimator-id-9\" class=\"sk-toggleable__label fitted sk-toggleable__label-arrow\"><div><div>preprocessor: Pipeline</div></div><div><a class=\"sk-estimator-doc-link fitted\" rel=\"noreferrer\" target=\"_blank\" href=\"https://scikit-learn.org/1.6/modules/generated/sklearn.pipeline.Pipeline.html\">?<span>Documentation for preprocessor: Pipeline</span></a></div></label><div class=\"sk-toggleable__content fitted\"><pre>Pipeline(steps=[(&#x27;poly&#x27;, PolynomialFeatures(include_bias=False)),\n",
       "                (&#x27;scaler&#x27;, StandardScaler())])</pre></div> </div></div><div class=\"sk-serial\"><div class=\"sk-item\"><div class=\"sk-estimator fitted sk-toggleable\"><input class=\"sk-toggleable__control sk-hidden--visually\" id=\"sk-estimator-id-10\" type=\"checkbox\" ><label for=\"sk-estimator-id-10\" class=\"sk-toggleable__label fitted sk-toggleable__label-arrow\"><div><div>PolynomialFeatures</div></div><div><a class=\"sk-estimator-doc-link fitted\" rel=\"noreferrer\" target=\"_blank\" href=\"https://scikit-learn.org/1.6/modules/generated/sklearn.preprocessing.PolynomialFeatures.html\">?<span>Documentation for PolynomialFeatures</span></a></div></label><div class=\"sk-toggleable__content fitted\"><pre>PolynomialFeatures(include_bias=False)</pre></div> </div></div><div class=\"sk-item\"><div class=\"sk-estimator fitted sk-toggleable\"><input class=\"sk-toggleable__control sk-hidden--visually\" id=\"sk-estimator-id-11\" type=\"checkbox\" ><label for=\"sk-estimator-id-11\" class=\"sk-toggleable__label fitted sk-toggleable__label-arrow\"><div><div>StandardScaler</div></div><div><a class=\"sk-estimator-doc-link fitted\" rel=\"noreferrer\" target=\"_blank\" href=\"https://scikit-learn.org/1.6/modules/generated/sklearn.preprocessing.StandardScaler.html\">?<span>Documentation for StandardScaler</span></a></div></label><div class=\"sk-toggleable__content fitted\"><pre>StandardScaler()</pre></div> </div></div></div></div><div class=\"sk-item\"><div class=\"sk-estimator fitted sk-toggleable\"><input class=\"sk-toggleable__control sk-hidden--visually\" id=\"sk-estimator-id-12\" type=\"checkbox\" ><label for=\"sk-estimator-id-12\" class=\"sk-toggleable__label fitted sk-toggleable__label-arrow\"><div><div>LinearRegression</div></div><div><a class=\"sk-estimator-doc-link fitted\" rel=\"noreferrer\" target=\"_blank\" href=\"https://scikit-learn.org/1.6/modules/generated/sklearn.linear_model.LinearRegression.html\">?<span>Documentation for LinearRegression</span></a></div></label><div class=\"sk-toggleable__content fitted\"><pre>LinearRegression()</pre></div> </div></div></div></div></div></div>"
>>>>>>> Stashed changes
      ],
      "text/plain": [
       "Pipeline(steps=[('preprocessor',\n",
       "                 Pipeline(steps=[('poly',\n",
<<<<<<< Updated upstream
       "                                  PolynomialFeatures(degree=10,\n",
       "                                                     include_bias=False)),\n",
=======
       "                                  PolynomialFeatures(include_bias=False)),\n",
>>>>>>> Stashed changes
       "                                 ('scaler', StandardScaler())])),\n",
       "                ('model', LinearRegression())])"
      ]
     },
<<<<<<< Updated upstream
     "execution_count": 91,
=======
     "execution_count": 68,
>>>>>>> Stashed changes
     "metadata": {},
     "output_type": "execute_result"
    }
   ],
   "source": [
    "# 학습\n",
    "pipeline.fit(X_train, y_train)"
   ]
  },
  {
   "cell_type": "code",
<<<<<<< Updated upstream
   "execution_count": 92,
=======
   "execution_count": 69,
>>>>>>> Stashed changes
   "metadata": {},
   "outputs": [],
   "source": [
    "pred_train = pipeline.predict(X_train)\n",
    "pred_test = pipeline.predict(X_test)"
   ]
  },
  {
   "cell_type": "code",
<<<<<<< Updated upstream
   "execution_count": 93,
=======
   "execution_count": 70,
>>>>>>> Stashed changes
   "metadata": {},
   "outputs": [
    {
     "name": "stdout",
     "output_type": "stream",
     "text": [
      "Train set\n",
<<<<<<< Updated upstream
      "MSE: 3.088665529891567e-25\n",
      "RMSE: 5.557576387141761e-13\n",
      "R Squared: 1.0\n"
=======
      "MSE: 4.3402780520122635\n",
      "RMSE: 2.083333399149609\n",
      "R Squared: 0.9490240966612832\n"
>>>>>>> Stashed changes
     ]
    }
   ],
   "source": [
    "print_regression_metrcis(y_train, pred_train, \"Train set\")"
   ]
  },
  {
   "cell_type": "code",
<<<<<<< Updated upstream
   "execution_count": 84,
   "metadata": {},
   "outputs": [
    {
     "name": "stdout",
     "output_type": "stream",
     "text": [
      "Train set\n",
      "MSE: 4.3402780520122635\n",
      "RMSE: 2.083333399149609\n",
      "R Squared: 0.9490240966612832\n"
     ]
    }
   ],
   "source": [
    "print_regression_metrcis(y_train, pred_train, \"Train set\")"
   ]
  },
  {
   "cell_type": "code",
   "execution_count": 94,
   "metadata": {},
   "outputs": [
    {
     "name": "stdout",
     "output_type": "stream",
     "text": [
      "Test set\n",
      "MSE: 626.7043296011698\n",
      "RMSE: 25.034063385738435\n",
      "R Squared: -6.696381470910542\n"
     ]
    }
   ],
   "source": [
    "print_regression_metrcis(y_test, pred_test, \"Test set\")"
   ]
  },
  {
   "cell_type": "code",
   "execution_count": 85,
   "metadata": {},
   "outputs": [
    {
     "name": "stdout",
     "output_type": "stream",
     "text": [
      "Test set\n",
      "MSE: 31.27781497144709\n",
      "RMSE: 5.592657237078551\n",
      "R Squared: 0.6158858584078873\n"
     ]
    }
   ],
   "source": [
    "print_regression_metrcis(y_test, pred_test, \"Test set\")"
   ]
  },
  {
   "cell_type": "code",
   "execution_count": null,
=======
   "execution_count": 71,
>>>>>>> Stashed changes
   "metadata": {},
   "outputs": [
    {
     "name": "stdout",
     "output_type": "stream",
     "text": [
      "Test set\n",
      "MSE: 31.27781497144709\n",
      "RMSE: 5.592657237078551\n",
      "R Squared: 0.6158858584078873\n"
     ]
    }
   ],
   "source": [
    "# MSE: 33.448979997676496\n",
    "# RMSE: 5.783509315085133\n",
    "# R Squared: 0.5892223849182512"
   ]
  },
  {
   "cell_type": "markdown",
   "metadata": {
    "slideshow": {
     "slide_type": "slide"
    }
   },
   "source": [
    "## 규제 (Regularization)\n",
    "- 선형 회귀 모델에서 과대적합(Overfitting) 문제를 해결하기 위해 가중치(회귀계수)에 페널티 값을 적용한다.\n",
    "- 입력데이터의 Feature들이 너무 많은 경우 Overfitting이 발생.\n",
    "    - Feature수에 비해 관측치 수가 적은 경우 모델이 복잡해 지면서 Overfitting이 발생한다.\n",
    "- 해결\n",
    "    - 데이터를 더 수집한다. \n",
    "    - Feature selection\n",
    "        - 불필요한 Features들을 제거한다.\n",
    "    - 규제 (Regularization) 을 통해 Feature들에 곱해지는 가중치가 커지지 않도록 제한한다.(0에 가까운 값으로 만들어 준다.)\n",
    "        - LinearRegression의 규제는 학습시 계산하는 오차를 키워서 모델이 오차를 줄이기 위해 가중치를 0에 가까운 값으로 만들도록 하는 방식을 사용한다.\n",
    "        - L1 규제 (Lasso)\n",
    "        - L2 규제 (Ridge)\n",
    "    "
   ]
  },
  {
   "cell_type": "markdown",
   "metadata": {
    "slideshow": {
     "slide_type": "slide"
    }
   },
   "source": [
    "## Ridge Regression (L2 규제)\n",
    "- 손실함수(loss function)에 규제항으로 $\\alpha \\sum_{i=1}^{n}{w_{i}^{2}}$ (L2 Norm)을 더해준다.\n",
    "  - MSE(손실함수)는 예측값과 실제값 간의 오차를 계산한다.이때 L2 규제를 적용하면, 손실함수에 가중치의 제곱합(∑wᵢ²)을 더해 오차를 인위적으로 크게 만든다.\n",
    "      - 이로 인해 모델이 오차를 최소화하려면 가중치의 크기를 줄여야 한다.\n",
    "      - 결과적으로 가중치들이 0에 가까운 값으로 수렴하게 된다.\n",
    "      - 이는 각 feature의 영향력을 줄여서 모델이 과도하게 복잡해지는 것을 방지한다. 즉 모델의 복잡도를 낮추고 일반화 성능을 향상시킨다.\n",
    "- $\\alpha$는 하이퍼파라미터로 모델을 얼마나 많이 규제할지 조절한다. \n",
    "    - $\\alpha = 0$ 에 가까울수록 규제가 약해진다. (0일 경우 선형 회귀동일)\n",
    "    - $\\alpha$ 가 커질 수록 모든 가중치가 작아져 입력데이터의 Feature들 중 중요하지 않은 Feature의 예측에 대한 영향력이 작아지게 된다.\n",
    "\n",
    "$$\n",
    "\\text{손실함수}(w) = \\text{MSE}(w) + \\alpha \\cfrac{1}{2}\\sum_{i=1}^{n}{w_{i}^{2}}\n",
    "$$\n",
    "\n",
    "> **손실함수(Loss Function):** 모델의 예측한 값과 실제값 사이의 차이를 정의하는 함수로 모델이 학습할 때 사용된다."
   ]
  },
  {
   "cell_type": "code",
<<<<<<< Updated upstream
   "execution_count": 95,
=======
   "execution_count": 122,
>>>>>>> Stashed changes
   "metadata": {},
   "outputs": [],
   "source": [
    "import pandas as pd\n",
    "from sklearn.model_selection import train_test_split\n",
    "\n",
    "df = pd.read_csv('data/boston_dataset.csv')\n",
    "X = df.drop(columns='MEDV')\n",
    "y = df['MEDV']\n",
    "\n",
    "X_train, X_test, y_train, y_test = train_test_split(X, y, test_size=0.2, random_state=0)"
   ]
  },
  {
   "cell_type": "code",
<<<<<<< Updated upstream
   "execution_count": 96,
=======
   "execution_count": 123,
>>>>>>> Stashed changes
   "metadata": {},
   "outputs": [],
   "source": [
    "# 전처리\n",
    "## Ridge Regression은 LinearRegression 모델과 같은 공식의 모델임. 단지 최적화 방법이 다른 것 뿐이다.\n",
    "## 그래서 데이터 전처리는 연속형 Feature는 Feature Scaling을 범주형 Feature는 One Hot Encoding을 한다.\n",
    "\n",
    "from sklearn.preprocessing import StandardScaler\n",
    "scaler = StandardScaler()\n",
    "X_train_scaled = scaler.fit_transform(X_train)\n",
    "X_test_scaled = scaler.transform(X_test)"
   ]
  },
  {
   "cell_type": "markdown",
   "metadata": {
    "slideshow": {
     "slide_type": "slide"
    }
   },
   "source": [
    "## 규제 alpha 에 따른 weight 변화"
   ]
  },
  {
   "cell_type": "code",
   "execution_count": 99,
   "metadata": {},
   "outputs": [
    {
     "name": "stdout",
     "output_type": "stream",
     "text": [
      "Alpha 0.001 - Train: 0.7730135569106857, Test: 0.5892212945055595\n",
      "Alpha 0.01 - Train: 0.7730135553534744, Test: 0.5892114815046762\n",
      "Alpha 0.1 - Train: 0.7730134004374535, Test: 0.589113422273519\n",
      "Alpha 1 - Train: 0.7729986739069825, Test: 0.5881400471345535\n",
      "Alpha 10 - Train: 0.772025270378812, Test: 0.579162880787526\n",
      "Alpha 100 - Train: 0.7515163225742546, Test: 0.5272685191319559\n",
      "Alpha 500 - Train: 0.6588192082625857, Test: 0.42879808129182595\n",
      "Alpha 1000 - Train: 0.5728326430134054, Test: 0.3655172284411424\n"
     ]
    }
   ],
   "source": [
    "from sklearn.linear_model import Ridge\n",
    "from sklearn.metrics import r2_score\n",
    "\n",
<<<<<<< Updated upstream
    "# 클수록 규제를 강화. weight들이 0에 더 가깝게 변경. 더 단순한 모델을 만든다.\n",
    "# overfitting: alpha를 키운다.\n",
    "# underfitting: alpha를 작게 한다.\n",
=======
    "# alpha값은 클수록 규제를 강화. weight들이 0에 더 가깝게 \n",
>>>>>>> Stashed changes
    "alpha_list = [0.001, 0.01, 0.1, 1, 10, 100, 500, 1000]\n",
    "\n",
    "# alpha에 따른 각 feature 곱해지는 weight들을 저장할 DataFrame\n",
    "coef_df = pd.DataFrame() \n",
    "bias_list = [] #bias 들 저장할 리스트\n",
    "\n",
    "for alpha in alpha_list:\n",
    "    # 모델 생성 -> hyper parameter alpha 를 설정.\n",
    "    model = Ridge(alpha=alpha, random_state=0)\n",
    "    # 학습\n",
    "    model.fit(X_train_scaled, y_train)\n",
    "    # 학습 후 찾은 weight와 bias를 저장.\n",
    "    coef_df[f\"{alpha}\"] = model.coef_\n",
    "    bias_list.append(model.intercept_)\n",
    "    # 검증결과 출력\n",
    "    pred_train = model.predict(X_train_scaled)\n",
    "    pred_test = model.predict(X_test_scaled)\n",
    "    print(f\"Alpha {alpha} - Train: {r2_score(y_train, pred_train)}, Test: {r2_score(y_test, pred_test)}\")"
   ]
  },
  {
   "cell_type": "code",
<<<<<<< Updated upstream
   "execution_count": 101,
=======
   "execution_count": 125,
>>>>>>> Stashed changes
   "metadata": {},
   "outputs": [],
   "source": [
    "coef_df.index = X_train.columns"
   ]
  },
  {
   "cell_type": "code",
<<<<<<< Updated upstream
   "execution_count": 102,
=======
   "execution_count": 126,
>>>>>>> Stashed changes
   "metadata": {},
   "outputs": [
    {
     "data": {
      "text/html": [
       "<div>\n",
       "<style scoped>\n",
       "    .dataframe tbody tr th:only-of-type {\n",
       "        vertical-align: middle;\n",
       "    }\n",
       "\n",
       "    .dataframe tbody tr th {\n",
       "        vertical-align: top;\n",
       "    }\n",
       "\n",
       "    .dataframe thead th {\n",
       "        text-align: right;\n",
       "    }\n",
       "</style>\n",
       "<table border=\"1\" class=\"dataframe\">\n",
       "  <thead>\n",
       "    <tr style=\"text-align: right;\">\n",
       "      <th></th>\n",
       "      <th>0.001</th>\n",
       "      <th>0.01</th>\n",
       "      <th>0.1</th>\n",
       "      <th>1</th>\n",
       "      <th>10</th>\n",
       "      <th>100</th>\n",
       "      <th>500</th>\n",
       "      <th>1000</th>\n",
       "    </tr>\n",
       "  </thead>\n",
       "  <tbody>\n",
       "    <tr>\n",
       "      <th>CRIM</th>\n",
       "      <td>-0.970811</td>\n",
       "      <td>-0.970732</td>\n",
       "      <td>-0.969942</td>\n",
       "      <td>-0.962257</td>\n",
       "      <td>-0.901965</td>\n",
       "      <td>-0.708783</td>\n",
       "      <td>-0.543189</td>\n",
       "      <td>-0.453716</td>\n",
       "    </tr>\n",
       "    <tr>\n",
       "      <th>ZN</th>\n",
       "      <td>1.057132</td>\n",
       "      <td>1.056981</td>\n",
       "      <td>1.055479</td>\n",
       "      <td>1.040872</td>\n",
       "      <td>0.926287</td>\n",
       "      <td>0.602925</td>\n",
       "      <td>0.475571</td>\n",
       "      <td>0.416153</td>\n",
       "    </tr>\n",
       "    <tr>\n",
       "      <th>INDUS</th>\n",
       "      <td>0.038283</td>\n",
       "      <td>0.038034</td>\n",
       "      <td>0.035549</td>\n",
       "      <td>0.011680</td>\n",
       "      <td>-0.157051</td>\n",
       "      <td>-0.481556</td>\n",
       "      <td>-0.547926</td>\n",
       "      <td>-0.504161</td>\n",
       "    </tr>\n",
       "    <tr>\n",
       "      <th>CHAS</th>\n",
       "      <td>0.594511</td>\n",
       "      <td>0.594550</td>\n",
       "      <td>0.594942</td>\n",
       "      <td>0.598719</td>\n",
       "      <td>0.625918</td>\n",
       "      <td>0.662516</td>\n",
       "      <td>0.506250</td>\n",
       "      <td>0.369364</td>\n",
       "    </tr>\n",
       "    <tr>\n",
       "      <th>NOX</th>\n",
       "      <td>-1.855112</td>\n",
       "      <td>-1.854790</td>\n",
       "      <td>-1.851578</td>\n",
       "      <td>-1.820134</td>\n",
       "      <td>-1.560302</td>\n",
       "      <td>-0.702047</td>\n",
       "      <td>-0.405744</td>\n",
       "      <td>-0.374977</td>\n",
       "    </tr>\n",
       "    <tr>\n",
       "      <th>RM</th>\n",
       "      <td>2.573230</td>\n",
       "      <td>2.573329</td>\n",
       "      <td>2.574308</td>\n",
       "      <td>2.583786</td>\n",
       "      <td>2.653906</td>\n",
       "      <td>2.643872</td>\n",
       "      <td>1.813405</td>\n",
       "      <td>1.294925</td>\n",
       "    </tr>\n",
       "    <tr>\n",
       "      <th>AGE</th>\n",
       "      <td>-0.087623</td>\n",
       "      <td>-0.087694</td>\n",
       "      <td>-0.088395</td>\n",
       "      <td>-0.095188</td>\n",
       "      <td>-0.146581</td>\n",
       "      <td>-0.263320</td>\n",
       "      <td>-0.317919</td>\n",
       "      <td>-0.322093</td>\n",
       "    </tr>\n",
       "    <tr>\n",
       "      <th>DIS</th>\n",
       "      <td>-2.880909</td>\n",
       "      <td>-2.880612</td>\n",
       "      <td>-2.877636</td>\n",
       "      <td>-2.848263</td>\n",
       "      <td>-2.588020</td>\n",
       "      <td>-1.393256</td>\n",
       "      <td>-0.358183</td>\n",
       "      <td>-0.078157</td>\n",
       "    </tr>\n",
       "    <tr>\n",
       "      <th>RAD</th>\n",
       "      <td>2.112167</td>\n",
       "      <td>2.111458</td>\n",
       "      <td>2.104394</td>\n",
       "      <td>2.036231</td>\n",
       "      <td>1.533846</td>\n",
       "      <td>0.322752</td>\n",
       "      <td>-0.210082</td>\n",
       "      <td>-0.290222</td>\n",
       "    </tr>\n",
       "    <tr>\n",
       "      <th>TAX</th>\n",
       "      <td>-1.875259</td>\n",
       "      <td>-1.874610</td>\n",
       "      <td>-1.868146</td>\n",
       "      <td>-1.806092</td>\n",
       "      <td>-1.370452</td>\n",
       "      <td>-0.612679</td>\n",
       "      <td>-0.519593</td>\n",
       "      <td>-0.478899</td>\n",
       "    </tr>\n",
       "    <tr>\n",
       "      <th>PTRATIO</th>\n",
       "      <td>-2.292758</td>\n",
       "      <td>-2.292670</td>\n",
       "      <td>-2.291793</td>\n",
       "      <td>-2.283191</td>\n",
       "      <td>-2.209979</td>\n",
       "      <td>-1.846754</td>\n",
       "      <td>-1.238416</td>\n",
       "      <td>-0.912526</td>\n",
       "    </tr>\n",
       "    <tr>\n",
       "      <th>B</th>\n",
       "      <td>0.718180</td>\n",
       "      <td>0.718181</td>\n",
       "      <td>0.718191</td>\n",
       "      <td>0.718310</td>\n",
       "      <td>0.719940</td>\n",
       "      <td>0.695460</td>\n",
       "      <td>0.534798</td>\n",
       "      <td>0.429030</td>\n",
       "    </tr>\n",
       "    <tr>\n",
       "      <th>LSTAT</th>\n",
       "      <td>-3.592438</td>\n",
       "      <td>-3.592289</td>\n",
       "      <td>-3.590798</td>\n",
       "      <td>-3.576073</td>\n",
       "      <td>-3.444268</td>\n",
       "      <td>-2.710461</td>\n",
       "      <td>-1.657253</td>\n",
       "      <td>-1.195766</td>\n",
       "    </tr>\n",
       "  </tbody>\n",
       "</table>\n",
       "</div>"
      ],
      "text/plain": [
       "            0.001      0.01       0.1         1        10       100       500  \\\n",
       "CRIM    -0.970811 -0.970732 -0.969942 -0.962257 -0.901965 -0.708783 -0.543189   \n",
       "ZN       1.057132  1.056981  1.055479  1.040872  0.926287  0.602925  0.475571   \n",
       "INDUS    0.038283  0.038034  0.035549  0.011680 -0.157051 -0.481556 -0.547926   \n",
       "CHAS     0.594511  0.594550  0.594942  0.598719  0.625918  0.662516  0.506250   \n",
       "NOX     -1.855112 -1.854790 -1.851578 -1.820134 -1.560302 -0.702047 -0.405744   \n",
       "RM       2.573230  2.573329  2.574308  2.583786  2.653906  2.643872  1.813405   \n",
       "AGE     -0.087623 -0.087694 -0.088395 -0.095188 -0.146581 -0.263320 -0.317919   \n",
       "DIS     -2.880909 -2.880612 -2.877636 -2.848263 -2.588020 -1.393256 -0.358183   \n",
       "RAD      2.112167  2.111458  2.104394  2.036231  1.533846  0.322752 -0.210082   \n",
       "TAX     -1.875259 -1.874610 -1.868146 -1.806092 -1.370452 -0.612679 -0.519593   \n",
       "PTRATIO -2.292758 -2.292670 -2.291793 -2.283191 -2.209979 -1.846754 -1.238416   \n",
       "B        0.718180  0.718181  0.718191  0.718310  0.719940  0.695460  0.534798   \n",
       "LSTAT   -3.592438 -3.592289 -3.590798 -3.576073 -3.444268 -2.710461 -1.657253   \n",
       "\n",
       "             1000  \n",
       "CRIM    -0.453716  \n",
       "ZN       0.416153  \n",
       "INDUS   -0.504161  \n",
       "CHAS     0.369364  \n",
       "NOX     -0.374977  \n",
       "RM       1.294925  \n",
       "AGE     -0.322093  \n",
       "DIS     -0.078157  \n",
       "RAD     -0.290222  \n",
       "TAX     -0.478899  \n",
       "PTRATIO -0.912526  \n",
       "B        0.429030  \n",
       "LSTAT   -1.195766  "
      ]
     },
<<<<<<< Updated upstream
     "execution_count": 102,
=======
     "execution_count": 126,
>>>>>>> Stashed changes
     "metadata": {},
     "output_type": "execute_result"
    }
   ],
   "source": [
    "coef_df"
   ]
  },
  {
   "cell_type": "code",
   "execution_count": 103,
   "metadata": {},
   "outputs": [
    {
     "data": {
      "text/plain": [
       "[np.float64(22.611881188118804),\n",
       " np.float64(22.611881188118804),\n",
       " np.float64(22.611881188118804),\n",
       " np.float64(22.611881188118804),\n",
       " np.float64(22.611881188118804),\n",
       " np.float64(22.611881188118804),\n",
       " np.float64(22.611881188118804),\n",
       " np.float64(22.611881188118804)]"
      ]
     },
     "execution_count": 103,
     "metadata": {},
     "output_type": "execute_result"
    }
   ],
   "source": [
    "bias_list"
   ]
  },
  {
   "cell_type": "markdown",
   "metadata": {
    "slideshow": {
     "slide_type": "slide"
    }
   },
   "source": [
    "## Lasso(Least Absolut Shrinkage and Selection Operator) Regression (L1 규제)\n",
    "\n",
    "- 손실함수에 규제항으로 $\\alpha \\sum_{i=1}^{n}{\\left| w_i \\right|}$ (L1 Norm)더한다.\n",
    "  - MSE(손실함수)는 예측값과 실제값 간의 오차를 계산한다.이때 L1 규제를 적용하면, 손실함수에 가중치 절댓값의 합(∑|wᵢ|) 을 추가한다.\n",
    "    - 이로 인해 손실값이 커지고, 모델은 손실을 줄이기 위해 가중치 중 일부를 정확히 0으로 만든다.\n",
    "    - 결과적으로 불필요한 feature의 가중치가 0이 되어 모델에서 제외된다. 즉, feature selection이 자동으로 일어난다.\n",
    "    -  이는 모델 해석력을 높이고,  불필요한 특성이 개입되는 것을 막아 일반화 성능을 높이는 효과를 준다.\n",
    "\n",
    "$$\n",
    "\\text{손실함수}(w) = \\text{MSE}(w) + \\alpha \\sum_{i=1}^{n}{\\left| w_i \\right|}\n",
    "$$"
   ]
  },
  {
   "cell_type": "code",
<<<<<<< Updated upstream
   "execution_count": 104,
=======
   "execution_count": 105,
>>>>>>> Stashed changes
   "metadata": {},
   "outputs": [
    {
     "name": "stdout",
     "output_type": "stream",
     "text": [
      "Alpha 0.001 - Train: 0.7730127295116839, Test: 0.5890287763120774\n",
      "Alpha 0.01 - Train: 0.7729557113377097, Test: 0.5874763161420908\n",
      "Alpha 0.1 - Train: 0.7676692732920614, Test: 0.5663726208397636\n",
      "Alpha 1 - Train: 0.7066864437965619, Test: 0.5069663003862215\n",
      "Alpha 10 - Train: 0.0, Test: -0.001889737528507185\n",
      "Alpha 100 - Train: 0.0, Test: -0.001889737528507185\n",
      "Alpha 500 - Train: 0.0, Test: -0.001889737528507185\n",
      "Alpha 1000 - Train: 0.0, Test: -0.001889737528507185\n"
     ]
    }
   ],
   "source": [
    "from sklearn.linear_model import Lasso\n",
    "from sklearn.metrics import r2_score\n",
    "\n",
    "alpha_list = [0.001, 0.01, 0.1, 1, 10, 100, 500, 1000]\n",
    "\n",
    "# alpha에 따른 각 feature 곱해지는 weight들을 저장할 DataFrame\n",
    "coef_df2 = pd.DataFrame() \n",
    "bias_list2 = [] #bias 들 저장할 리스트\n",
    "\n",
    "for alpha in alpha_list:\n",
    "    model = Lasso(alpha=alpha, random_state=0)\n",
    "    model.fit(X_train_scaled, y_train)\n",
    "\n",
    "    coef_df2[f\"{alpha}\"] = model.coef_\n",
    "    bias_list2.append(model.intercept_)\n",
    "    \n",
    "    # 검증결과 출력\n",
    "    pred_train = model.predict(X_train_scaled)\n",
    "    pred_test = model.predict(X_test_scaled)\n",
    "    print(f\"Alpha {alpha} - Train: {r2_score(y_train, pred_train)}, Test: {r2_score(y_test, pred_test)}\")"
   ]
  },
  {
   "cell_type": "code",
<<<<<<< Updated upstream
   "execution_count": 105,
=======
   "execution_count": 106,
>>>>>>> Stashed changes
   "metadata": {},
   "outputs": [
    {
     "data": {
      "text/plain": [
       "[np.float64(22.611881188118804),\n",
       " np.float64(22.611881188118804),\n",
       " np.float64(22.611881188118804),\n",
       " np.float64(22.611881188118804),\n",
       " np.float64(22.611881188118808),\n",
       " np.float64(22.611881188118808),\n",
       " np.float64(22.611881188118808),\n",
       " np.float64(22.611881188118808)]"
      ]
     },
<<<<<<< Updated upstream
     "execution_count": 105,
=======
     "execution_count": 106,
>>>>>>> Stashed changes
     "metadata": {},
     "output_type": "execute_result"
    }
   ],
   "source": [
    "bias_list2"
   ]
  },
  {
   "cell_type": "code",
<<<<<<< Updated upstream
   "execution_count": 106,
=======
   "execution_count": 107,
>>>>>>> Stashed changes
   "metadata": {},
   "outputs": [],
   "source": [
    "coef_df2.index = X_train.columns"
   ]
  },
  {
   "cell_type": "code",
<<<<<<< Updated upstream
   "execution_count": 107,
=======
   "execution_count": 108,
>>>>>>> Stashed changes
   "metadata": {},
   "outputs": [
    {
     "data": {
      "text/html": [
       "<div>\n",
       "<style scoped>\n",
       "    .dataframe tbody tr th:only-of-type {\n",
       "        vertical-align: middle;\n",
       "    }\n",
       "\n",
       "    .dataframe tbody tr th {\n",
       "        vertical-align: top;\n",
       "    }\n",
       "\n",
       "    .dataframe thead th {\n",
       "        text-align: right;\n",
       "    }\n",
       "</style>\n",
       "<table border=\"1\" class=\"dataframe\">\n",
       "  <thead>\n",
       "    <tr style=\"text-align: right;\">\n",
       "      <th></th>\n",
       "      <th>0.001</th>\n",
       "      <th>0.01</th>\n",
       "      <th>0.1</th>\n",
       "      <th>1</th>\n",
       "      <th>10</th>\n",
       "      <th>100</th>\n",
       "      <th>500</th>\n",
       "      <th>1000</th>\n",
       "    </tr>\n",
       "  </thead>\n",
       "  <tbody>\n",
       "    <tr>\n",
       "      <th>CRIM</th>\n",
       "      <td>-0.967874</td>\n",
       "      <td>-0.940302</td>\n",
       "      <td>-0.663468</td>\n",
       "      <td>-0.000000</td>\n",
       "      <td>-0.0</td>\n",
       "      <td>-0.0</td>\n",
       "      <td>-0.0</td>\n",
       "      <td>-0.0</td>\n",
       "    </tr>\n",
       "    <tr>\n",
       "      <th>ZN</th>\n",
       "      <td>1.053234</td>\n",
       "      <td>1.021582</td>\n",
       "      <td>0.701524</td>\n",
       "      <td>0.000000</td>\n",
       "      <td>0.0</td>\n",
       "      <td>0.0</td>\n",
       "      <td>0.0</td>\n",
       "      <td>0.0</td>\n",
       "    </tr>\n",
       "    <tr>\n",
       "      <th>INDUS</th>\n",
       "      <td>0.028566</td>\n",
       "      <td>-0.000000</td>\n",
       "      <td>-0.130724</td>\n",
       "      <td>-0.000000</td>\n",
       "      <td>-0.0</td>\n",
       "      <td>-0.0</td>\n",
       "      <td>-0.0</td>\n",
       "      <td>-0.0</td>\n",
       "    </tr>\n",
       "    <tr>\n",
       "      <th>CHAS</th>\n",
       "      <td>0.594814</td>\n",
       "      <td>0.594840</td>\n",
       "      <td>0.588934</td>\n",
       "      <td>0.000000</td>\n",
       "      <td>0.0</td>\n",
       "      <td>0.0</td>\n",
       "      <td>0.0</td>\n",
       "      <td>0.0</td>\n",
       "    </tr>\n",
       "    <tr>\n",
       "      <th>NOX</th>\n",
       "      <td>-1.848201</td>\n",
       "      <td>-1.804075</td>\n",
       "      <td>-1.358749</td>\n",
       "      <td>-0.000000</td>\n",
       "      <td>-0.0</td>\n",
       "      <td>-0.0</td>\n",
       "      <td>-0.0</td>\n",
       "      <td>-0.0</td>\n",
       "    </tr>\n",
       "    <tr>\n",
       "      <th>RM</th>\n",
       "      <td>2.574014</td>\n",
       "      <td>2.585398</td>\n",
       "      <td>2.722754</td>\n",
       "      <td>2.540098</td>\n",
       "      <td>0.0</td>\n",
       "      <td>0.0</td>\n",
       "      <td>0.0</td>\n",
       "      <td>0.0</td>\n",
       "    </tr>\n",
       "    <tr>\n",
       "      <th>AGE</th>\n",
       "      <td>-0.085817</td>\n",
       "      <td>-0.069486</td>\n",
       "      <td>-0.000000</td>\n",
       "      <td>-0.000000</td>\n",
       "      <td>-0.0</td>\n",
       "      <td>-0.0</td>\n",
       "      <td>-0.0</td>\n",
       "      <td>-0.0</td>\n",
       "    </tr>\n",
       "    <tr>\n",
       "      <th>DIS</th>\n",
       "      <td>-2.874999</td>\n",
       "      <td>-2.809365</td>\n",
       "      <td>-2.140932</td>\n",
       "      <td>-0.000000</td>\n",
       "      <td>0.0</td>\n",
       "      <td>0.0</td>\n",
       "      <td>0.0</td>\n",
       "      <td>0.0</td>\n",
       "    </tr>\n",
       "    <tr>\n",
       "      <th>RAD</th>\n",
       "      <td>2.093952</td>\n",
       "      <td>1.956109</td>\n",
       "      <td>0.640853</td>\n",
       "      <td>-0.000000</td>\n",
       "      <td>-0.0</td>\n",
       "      <td>-0.0</td>\n",
       "      <td>-0.0</td>\n",
       "      <td>-0.0</td>\n",
       "    </tr>\n",
       "    <tr>\n",
       "      <th>TAX</th>\n",
       "      <td>-1.857546</td>\n",
       "      <td>-1.738284</td>\n",
       "      <td>-0.658779</td>\n",
       "      <td>-0.171527</td>\n",
       "      <td>-0.0</td>\n",
       "      <td>-0.0</td>\n",
       "      <td>-0.0</td>\n",
       "      <td>-0.0</td>\n",
       "    </tr>\n",
       "    <tr>\n",
       "      <th>PTRATIO</th>\n",
       "      <td>-2.290700</td>\n",
       "      <td>-2.278841</td>\n",
       "      <td>-2.172217</td>\n",
       "      <td>-1.784796</td>\n",
       "      <td>-0.0</td>\n",
       "      <td>-0.0</td>\n",
       "      <td>-0.0</td>\n",
       "      <td>-0.0</td>\n",
       "    </tr>\n",
       "    <tr>\n",
       "      <th>B</th>\n",
       "      <td>0.716796</td>\n",
       "      <td>0.705484</td>\n",
       "      <td>0.602666</td>\n",
       "      <td>0.110959</td>\n",
       "      <td>0.0</td>\n",
       "      <td>0.0</td>\n",
       "      <td>0.0</td>\n",
       "      <td>0.0</td>\n",
       "    </tr>\n",
       "    <tr>\n",
       "      <th>LSTAT</th>\n",
       "      <td>-3.592545</td>\n",
       "      <td>-3.596398</td>\n",
       "      <td>-3.615800</td>\n",
       "      <td>-3.585324</td>\n",
       "      <td>-0.0</td>\n",
       "      <td>-0.0</td>\n",
       "      <td>-0.0</td>\n",
       "      <td>-0.0</td>\n",
       "    </tr>\n",
       "  </tbody>\n",
       "</table>\n",
       "</div>"
      ],
      "text/plain": [
       "            0.001      0.01       0.1         1   10  100  500  1000\n",
       "CRIM    -0.967874 -0.940302 -0.663468 -0.000000 -0.0 -0.0 -0.0  -0.0\n",
       "ZN       1.053234  1.021582  0.701524  0.000000  0.0  0.0  0.0   0.0\n",
       "INDUS    0.028566 -0.000000 -0.130724 -0.000000 -0.0 -0.0 -0.0  -0.0\n",
       "CHAS     0.594814  0.594840  0.588934  0.000000  0.0  0.0  0.0   0.0\n",
       "NOX     -1.848201 -1.804075 -1.358749 -0.000000 -0.0 -0.0 -0.0  -0.0\n",
       "RM       2.574014  2.585398  2.722754  2.540098  0.0  0.0  0.0   0.0\n",
       "AGE     -0.085817 -0.069486 -0.000000 -0.000000 -0.0 -0.0 -0.0  -0.0\n",
       "DIS     -2.874999 -2.809365 -2.140932 -0.000000  0.0  0.0  0.0   0.0\n",
       "RAD      2.093952  1.956109  0.640853 -0.000000 -0.0 -0.0 -0.0  -0.0\n",
       "TAX     -1.857546 -1.738284 -0.658779 -0.171527 -0.0 -0.0 -0.0  -0.0\n",
       "PTRATIO -2.290700 -2.278841 -2.172217 -1.784796 -0.0 -0.0 -0.0  -0.0\n",
       "B        0.716796  0.705484  0.602666  0.110959  0.0  0.0  0.0   0.0\n",
       "LSTAT   -3.592545 -3.596398 -3.615800 -3.585324 -0.0 -0.0 -0.0  -0.0"
      ]
     },
<<<<<<< Updated upstream
     "execution_count": 107,
=======
     "execution_count": 108,
>>>>>>> Stashed changes
     "metadata": {},
     "output_type": "execute_result"
    }
   ],
   "source": [
    "coef_df2"
   ]
  },
  {
   "cell_type": "markdown",
   "metadata": {},
   "source": [
    "### PolynormialFeatures로 전처리한 Boston Dataset 에 Ridge, Lasso 규제 적용"
   ]
  },
  {
   "cell_type": "code",
<<<<<<< Updated upstream
   "execution_count": 108,
=======
   "execution_count": 109,
>>>>>>> Stashed changes
   "metadata": {},
   "outputs": [],
   "source": [
    "from sklearn.pipeline import Pipeline\n",
    "from sklearn.preprocessing import PolynomialFeatures, StandardScaler\n",
    "\n",
    "preprocessor = Pipeline([\n",
    "    (\"poly\", PolynomialFeatures(degree=2, include_bias=False)), \n",
    "    (\"scaler\", StandardScaler()), \n",
    "])"
   ]
  },
  {
   "cell_type": "code",
<<<<<<< Updated upstream
   "execution_count": 109,
=======
   "execution_count": 110,
>>>>>>> Stashed changes
   "metadata": {},
   "outputs": [],
   "source": [
    "X_train_poly = preprocessor.fit_transform(X_train)\n",
    "X_test_poly = preprocessor.transform(X_test)"
   ]
  },
  {
   "cell_type": "code",
<<<<<<< Updated upstream
   "execution_count": 110,
=======
   "execution_count": 111,
>>>>>>> Stashed changes
   "metadata": {},
   "outputs": [
    {
     "data": {
      "text/plain": [
       "(404, 104)"
      ]
     },
<<<<<<< Updated upstream
     "execution_count": 110,
=======
     "execution_count": 111,
>>>>>>> Stashed changes
     "metadata": {},
     "output_type": "execute_result"
    }
   ],
   "source": [
    "X_train_poly.shape"
   ]
  },
  {
   "cell_type": "markdown",
   "metadata": {
    "slideshow": {
     "slide_type": "fragment"
    }
   },
   "source": [
    "##### LinearRegression으로 평가"
   ]
  },
  {
   "cell_type": "code",
<<<<<<< Updated upstream
   "execution_count": 111,
=======
   "execution_count": 112,
>>>>>>> Stashed changes
   "metadata": {},
   "outputs": [
    {
     "name": "stdout",
     "output_type": "stream",
     "text": [
      "MSE: 4.3402780520122635\n",
      "RMSE: 2.083333399149609\n",
      "R Squared: 0.9490240966612832\n",
      "-------------------------------------\n",
      "MSE: 31.27781497144709\n",
      "RMSE: 5.592657237078551\n",
      "R Squared: 0.6158858584078873\n"
     ]
    }
   ],
   "source": [
    "from sklearn.linear_model import LinearRegression, Ridge, Lasso\n",
    "from metrics import print_regression_metrcis\n",
    "\n",
    "lr = LinearRegression()\n",
    "lr.fit(X_train_poly, y_train)\n",
    "\n",
    "print_regression_metrcis(y_train, lr.predict(X_train_poly))\n",
    "print('-------------------------------------')\n",
    "print_regression_metrcis(y_test, lr.predict(X_test_poly))"
   ]
  },
  {
   "cell_type": "markdown",
   "metadata": {
    "slideshow": {
     "slide_type": "fragment"
    }
   },
   "source": [
    "##### Ridge 의 alpha값 변화에 따른 R square 확인"
   ]
  },
  {
   "cell_type": "code",
<<<<<<< Updated upstream
   "execution_count": 114,
=======
   "execution_count": 113,
>>>>>>> Stashed changes
   "metadata": {},
   "outputs": [],
   "source": [
    "from sklearn.metrics import r2_score\n",
    "\n",
    "alpha_list = [0.001, 0.01, 0.1, 1, 10, 20, 30, 40, 50]\n",
    "train_r2 = []\n",
    "test_r2 = []\n",
    "for alpha in alpha_list:\n",
    "    ridge = Ridge(alpha=alpha, random_state=0)\n",
    "    ridge.fit(X_train_poly, y_train)\n",
    "\n",
    "    train_r2.append(r2_score(y_train, ridge.predict(X_train_poly)))\n",
    "    test_r2.append(r2_score(y_test, ridge.predict(X_test_poly)))"
   ]
  },
  {
   "cell_type": "code",
<<<<<<< Updated upstream
   "execution_count": 115,
=======
   "execution_count": 114,
>>>>>>> Stashed changes
   "metadata": {},
   "outputs": [
    {
     "data": {
      "text/html": [
       "<div>\n",
       "<style scoped>\n",
       "    .dataframe tbody tr th:only-of-type {\n",
       "        vertical-align: middle;\n",
       "    }\n",
       "\n",
       "    .dataframe tbody tr th {\n",
       "        vertical-align: top;\n",
       "    }\n",
       "\n",
       "    .dataframe thead th {\n",
       "        text-align: right;\n",
       "    }\n",
       "</style>\n",
       "<table border=\"1\" class=\"dataframe\">\n",
       "  <thead>\n",
       "    <tr style=\"text-align: right;\">\n",
       "      <th></th>\n",
       "      <th>train</th>\n",
       "      <th>test</th>\n",
       "    </tr>\n",
       "    <tr>\n",
       "      <th>alpha</th>\n",
       "      <th></th>\n",
       "      <th></th>\n",
       "    </tr>\n",
       "  </thead>\n",
       "  <tbody>\n",
       "    <tr>\n",
       "      <th>0.001</th>\n",
       "      <td>0.948809</td>\n",
       "      <td>0.623663</td>\n",
       "    </tr>\n",
       "    <tr>\n",
       "      <th>0.010</th>\n",
       "      <td>0.947669</td>\n",
       "      <td>0.636538</td>\n",
       "    </tr>\n",
       "    <tr>\n",
       "      <th>0.100</th>\n",
       "      <td>0.941685</td>\n",
       "      <td>0.667476</td>\n",
       "    </tr>\n",
       "    <tr>\n",
       "      <th>1.000</th>\n",
       "      <td>0.929584</td>\n",
       "      <td>0.742633</td>\n",
       "    </tr>\n",
       "    <tr>\n",
       "      <th>10.000</th>\n",
       "      <td>0.898313</td>\n",
       "      <td>0.740306</td>\n",
       "    </tr>\n",
       "    <tr>\n",
       "      <th>20.000</th>\n",
       "      <td>0.881200</td>\n",
       "      <td>0.718677</td>\n",
       "    </tr>\n",
<<<<<<< Updated upstream
       "    <tr>\n",
       "      <th>30.000</th>\n",
       "      <td>0.869071</td>\n",
       "      <td>0.703442</td>\n",
       "    </tr>\n",
       "    <tr>\n",
       "      <th>40.000</th>\n",
       "      <td>0.859770</td>\n",
       "      <td>0.692070</td>\n",
       "    </tr>\n",
       "    <tr>\n",
       "      <th>50.000</th>\n",
       "      <td>0.852313</td>\n",
       "      <td>0.683116</td>\n",
       "    </tr>\n",
=======
>>>>>>> Stashed changes
       "  </tbody>\n",
       "</table>\n",
       "</div>"
      ],
      "text/plain": [
       "           train      test\n",
       "alpha                     \n",
       "0.001   0.948809  0.623663\n",
       "0.010   0.947669  0.636538\n",
       "0.100   0.941685  0.667476\n",
       "1.000   0.929584  0.742633\n",
       "10.000  0.898313  0.740306\n",
<<<<<<< Updated upstream
       "20.000  0.881200  0.718677\n",
       "30.000  0.869071  0.703442\n",
       "40.000  0.859770  0.692070\n",
       "50.000  0.852313  0.683116"
      ]
     },
     "execution_count": 115,
=======
       "20.000  0.881200  0.718677"
      ]
     },
     "execution_count": 114,
>>>>>>> Stashed changes
     "metadata": {},
     "output_type": "execute_result"
    }
   ],
   "source": [
    "ridge_df = pd.DataFrame({\"alpha\":alpha_list, \"train\":train_r2, \"test\":test_r2})\n",
    "ridge_df.set_index(\"alpha\", inplace=True)\n",
    "ridge_df"
   ]
  },
  {
   "cell_type": "code",
   "execution_count": 115,
   "metadata": {},
   "outputs": [
    {
     "data": {
<<<<<<< Updated upstream
      "image/png": "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",
=======
      "image/png": "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",
>>>>>>> Stashed changes
      "text/plain": [
       "<Figure size 640x480 with 1 Axes>"
      ]
     },
     "metadata": {},
     "output_type": "display_data"
    }
   ],
   "source": [
    "ridge_df.plot();"
   ]
  },
  {
   "cell_type": "markdown",
   "metadata": {
    "slideshow": {
     "slide_type": "slide"
    }
   },
   "source": [
    "##### lasso 의 alpha값 변화에 따른 R square 확인"
   ]
  },
  {
   "cell_type": "code",
<<<<<<< Updated upstream
   "execution_count": 117,
=======
   "execution_count": 116,
>>>>>>> Stashed changes
   "metadata": {},
   "outputs": [],
   "source": [
    "import warnings\n",
    "warnings.filterwarnings('ignore')"
   ]
  },
  {
   "cell_type": "code",
<<<<<<< Updated upstream
   "execution_count": 118,
=======
   "execution_count": 117,
>>>>>>> Stashed changes
   "metadata": {},
   "outputs": [],
   "source": [
    "alpha_list = [0.001, 0.01, 0.1, 1, 10, 20]\n",
    "train_r2 = []\n",
    "test_r2 = []\n",
    "for alpha in alpha_list:\n",
    "    lasso = Lasso(alpha=alpha, random_state=0)\n",
    "    lasso.fit(X_train_poly, y_train)\n",
    "    \n",
    "    train_r2.append(r2_score(y_train, lasso.predict(X_train_poly)))\n",
    "    test_r2.append(r2_score(y_test, lasso.predict(X_test_poly)))"
   ]
  },
  {
   "cell_type": "code",
<<<<<<< Updated upstream
   "execution_count": 119,
=======
   "execution_count": 118,
>>>>>>> Stashed changes
   "metadata": {},
   "outputs": [
    {
     "data": {
      "text/html": [
       "<div>\n",
       "<style scoped>\n",
       "    .dataframe tbody tr th:only-of-type {\n",
       "        vertical-align: middle;\n",
       "    }\n",
       "\n",
       "    .dataframe tbody tr th {\n",
       "        vertical-align: top;\n",
       "    }\n",
       "\n",
       "    .dataframe thead th {\n",
       "        text-align: right;\n",
       "    }\n",
       "</style>\n",
       "<table border=\"1\" class=\"dataframe\">\n",
       "  <thead>\n",
       "    <tr style=\"text-align: right;\">\n",
       "      <th></th>\n",
       "      <th>train</th>\n",
       "      <th>test</th>\n",
       "    </tr>\n",
       "    <tr>\n",
       "      <th>alpha</th>\n",
       "      <th></th>\n",
       "      <th></th>\n",
       "    </tr>\n",
       "  </thead>\n",
       "  <tbody>\n",
       "    <tr>\n",
       "      <th>0.001</th>\n",
       "      <td>0.934216</td>\n",
       "      <td>0.600479</td>\n",
       "    </tr>\n",
       "    <tr>\n",
       "      <th>0.010</th>\n",
       "      <td>0.926367</td>\n",
       "      <td>0.678741</td>\n",
       "    </tr>\n",
       "    <tr>\n",
       "      <th>0.100</th>\n",
       "      <td>0.859929</td>\n",
       "      <td>0.706008</td>\n",
       "    </tr>\n",
       "    <tr>\n",
       "      <th>1.000</th>\n",
       "      <td>0.754489</td>\n",
       "      <td>0.586474</td>\n",
       "    </tr>\n",
       "    <tr>\n",
       "      <th>10.000</th>\n",
       "      <td>0.000000</td>\n",
       "      <td>-0.001890</td>\n",
       "    </tr>\n",
       "    <tr>\n",
       "      <th>20.000</th>\n",
       "      <td>0.000000</td>\n",
       "      <td>-0.001890</td>\n",
       "    </tr>\n",
       "  </tbody>\n",
       "</table>\n",
       "</div>"
      ],
      "text/plain": [
       "           train      test\n",
       "alpha                     \n",
       "0.001   0.934216  0.600479\n",
       "0.010   0.926367  0.678741\n",
       "0.100   0.859929  0.706008\n",
       "1.000   0.754489  0.586474\n",
       "10.000  0.000000 -0.001890\n",
       "20.000  0.000000 -0.001890"
      ]
     },
<<<<<<< Updated upstream
     "execution_count": 119,
=======
     "execution_count": 118,
>>>>>>> Stashed changes
     "metadata": {},
     "output_type": "execute_result"
    }
   ],
   "source": [
    "lasso_df = pd.DataFrame({\"alpha\":alpha_list, \"train\":train_r2, \"test\":test_r2})\n",
    "lasso_df.set_index(\"alpha\", inplace=True)\n",
    "lasso_df"
   ]
  },
  {
   "cell_type": "markdown",
   "metadata": {
    "slideshow": {
     "slide_type": "slide"
    }
   },
   "source": [
    "## ElasticNet(엘라스틱넷)\n",
    "- 릿지와 라쏘를 절충한 모델.\n",
    "- 규제항에 릿지, 라쏘 규제항을 더해서 추가한다. \n",
    "- 혼합비율 $r$을 사용해 혼합정도를 조절\n",
    "- $r=0$이면 릿지와 같고 $r=1$이면 라쏘와 같다.\n",
    "\n",
    "$$\n",
    "\\text{손실함수}(w) = \\text{MSE}(w) + r\\alpha \\sum_{i=1}^{n}{\\left| w_i \\right|}  + \\cfrac{1-r}{2}\\alpha\\sum_{i=1}^{n}{w_{i}^{2}}\n",
    "$$"
   ]
  },
  {
   "cell_type": "code",
<<<<<<< Updated upstream
   "execution_count": 120,
=======
   "execution_count": 119,
>>>>>>> Stashed changes
   "metadata": {},
   "outputs": [
    {
     "data": {
      "text/html": [
<<<<<<< Updated upstream
       "<style>#sk-container-id-7 {\n",
=======
       "<style>#sk-container-id-10 {\n",
>>>>>>> Stashed changes
       "  /* Definition of color scheme common for light and dark mode */\n",
       "  --sklearn-color-text: #000;\n",
       "  --sklearn-color-text-muted: #666;\n",
       "  --sklearn-color-line: gray;\n",
       "  /* Definition of color scheme for unfitted estimators */\n",
       "  --sklearn-color-unfitted-level-0: #fff5e6;\n",
       "  --sklearn-color-unfitted-level-1: #f6e4d2;\n",
       "  --sklearn-color-unfitted-level-2: #ffe0b3;\n",
       "  --sklearn-color-unfitted-level-3: chocolate;\n",
       "  /* Definition of color scheme for fitted estimators */\n",
       "  --sklearn-color-fitted-level-0: #f0f8ff;\n",
       "  --sklearn-color-fitted-level-1: #d4ebff;\n",
       "  --sklearn-color-fitted-level-2: #b3dbfd;\n",
       "  --sklearn-color-fitted-level-3: cornflowerblue;\n",
       "\n",
       "  /* Specific color for light theme */\n",
       "  --sklearn-color-text-on-default-background: var(--sg-text-color, var(--theme-code-foreground, var(--jp-content-font-color1, black)));\n",
       "  --sklearn-color-background: var(--sg-background-color, var(--theme-background, var(--jp-layout-color0, white)));\n",
       "  --sklearn-color-border-box: var(--sg-text-color, var(--theme-code-foreground, var(--jp-content-font-color1, black)));\n",
       "  --sklearn-color-icon: #696969;\n",
       "\n",
       "  @media (prefers-color-scheme: dark) {\n",
       "    /* Redefinition of color scheme for dark theme */\n",
       "    --sklearn-color-text-on-default-background: var(--sg-text-color, var(--theme-code-foreground, var(--jp-content-font-color1, white)));\n",
       "    --sklearn-color-background: var(--sg-background-color, var(--theme-background, var(--jp-layout-color0, #111)));\n",
       "    --sklearn-color-border-box: var(--sg-text-color, var(--theme-code-foreground, var(--jp-content-font-color1, white)));\n",
       "    --sklearn-color-icon: #878787;\n",
       "  }\n",
       "}\n",
       "\n",
<<<<<<< Updated upstream
       "#sk-container-id-7 {\n",
       "  color: var(--sklearn-color-text);\n",
       "}\n",
       "\n",
       "#sk-container-id-7 pre {\n",
       "  padding: 0;\n",
       "}\n",
       "\n",
       "#sk-container-id-7 input.sk-hidden--visually {\n",
=======
       "#sk-container-id-10 {\n",
       "  color: var(--sklearn-color-text);\n",
       "}\n",
       "\n",
       "#sk-container-id-10 pre {\n",
       "  padding: 0;\n",
       "}\n",
       "\n",
       "#sk-container-id-10 input.sk-hidden--visually {\n",
>>>>>>> Stashed changes
       "  border: 0;\n",
       "  clip: rect(1px 1px 1px 1px);\n",
       "  clip: rect(1px, 1px, 1px, 1px);\n",
       "  height: 1px;\n",
       "  margin: -1px;\n",
       "  overflow: hidden;\n",
       "  padding: 0;\n",
       "  position: absolute;\n",
       "  width: 1px;\n",
       "}\n",
       "\n",
<<<<<<< Updated upstream
       "#sk-container-id-7 div.sk-dashed-wrapped {\n",
=======
       "#sk-container-id-10 div.sk-dashed-wrapped {\n",
>>>>>>> Stashed changes
       "  border: 1px dashed var(--sklearn-color-line);\n",
       "  margin: 0 0.4em 0.5em 0.4em;\n",
       "  box-sizing: border-box;\n",
       "  padding-bottom: 0.4em;\n",
       "  background-color: var(--sklearn-color-background);\n",
       "}\n",
       "\n",
<<<<<<< Updated upstream
       "#sk-container-id-7 div.sk-container {\n",
=======
       "#sk-container-id-10 div.sk-container {\n",
>>>>>>> Stashed changes
       "  /* jupyter's `normalize.less` sets `[hidden] { display: none; }`\n",
       "     but bootstrap.min.css set `[hidden] { display: none !important; }`\n",
       "     so we also need the `!important` here to be able to override the\n",
       "     default hidden behavior on the sphinx rendered scikit-learn.org.\n",
       "     See: https://github.com/scikit-learn/scikit-learn/issues/21755 */\n",
       "  display: inline-block !important;\n",
       "  position: relative;\n",
       "}\n",
       "\n",
<<<<<<< Updated upstream
       "#sk-container-id-7 div.sk-text-repr-fallback {\n",
=======
       "#sk-container-id-10 div.sk-text-repr-fallback {\n",
>>>>>>> Stashed changes
       "  display: none;\n",
       "}\n",
       "\n",
       "div.sk-parallel-item,\n",
       "div.sk-serial,\n",
       "div.sk-item {\n",
       "  /* draw centered vertical line to link estimators */\n",
       "  background-image: linear-gradient(var(--sklearn-color-text-on-default-background), var(--sklearn-color-text-on-default-background));\n",
       "  background-size: 2px 100%;\n",
       "  background-repeat: no-repeat;\n",
       "  background-position: center center;\n",
       "}\n",
       "\n",
       "/* Parallel-specific style estimator block */\n",
       "\n",
<<<<<<< Updated upstream
       "#sk-container-id-7 div.sk-parallel-item::after {\n",
=======
       "#sk-container-id-10 div.sk-parallel-item::after {\n",
>>>>>>> Stashed changes
       "  content: \"\";\n",
       "  width: 100%;\n",
       "  border-bottom: 2px solid var(--sklearn-color-text-on-default-background);\n",
       "  flex-grow: 1;\n",
       "}\n",
       "\n",
<<<<<<< Updated upstream
       "#sk-container-id-7 div.sk-parallel {\n",
=======
       "#sk-container-id-10 div.sk-parallel {\n",
>>>>>>> Stashed changes
       "  display: flex;\n",
       "  align-items: stretch;\n",
       "  justify-content: center;\n",
       "  background-color: var(--sklearn-color-background);\n",
       "  position: relative;\n",
       "}\n",
       "\n",
<<<<<<< Updated upstream
       "#sk-container-id-7 div.sk-parallel-item {\n",
=======
       "#sk-container-id-10 div.sk-parallel-item {\n",
>>>>>>> Stashed changes
       "  display: flex;\n",
       "  flex-direction: column;\n",
       "}\n",
       "\n",
<<<<<<< Updated upstream
       "#sk-container-id-7 div.sk-parallel-item:first-child::after {\n",
=======
       "#sk-container-id-10 div.sk-parallel-item:first-child::after {\n",
>>>>>>> Stashed changes
       "  align-self: flex-end;\n",
       "  width: 50%;\n",
       "}\n",
       "\n",
<<<<<<< Updated upstream
       "#sk-container-id-7 div.sk-parallel-item:last-child::after {\n",
=======
       "#sk-container-id-10 div.sk-parallel-item:last-child::after {\n",
>>>>>>> Stashed changes
       "  align-self: flex-start;\n",
       "  width: 50%;\n",
       "}\n",
       "\n",
<<<<<<< Updated upstream
       "#sk-container-id-7 div.sk-parallel-item:only-child::after {\n",
=======
       "#sk-container-id-10 div.sk-parallel-item:only-child::after {\n",
>>>>>>> Stashed changes
       "  width: 0;\n",
       "}\n",
       "\n",
       "/* Serial-specific style estimator block */\n",
       "\n",
<<<<<<< Updated upstream
       "#sk-container-id-7 div.sk-serial {\n",
=======
       "#sk-container-id-10 div.sk-serial {\n",
>>>>>>> Stashed changes
       "  display: flex;\n",
       "  flex-direction: column;\n",
       "  align-items: center;\n",
       "  background-color: var(--sklearn-color-background);\n",
       "  padding-right: 1em;\n",
       "  padding-left: 1em;\n",
       "}\n",
       "\n",
       "\n",
       "/* Toggleable style: style used for estimator/Pipeline/ColumnTransformer box that is\n",
       "clickable and can be expanded/collapsed.\n",
       "- Pipeline and ColumnTransformer use this feature and define the default style\n",
       "- Estimators will overwrite some part of the style using the `sk-estimator` class\n",
       "*/\n",
       "\n",
       "/* Pipeline and ColumnTransformer style (default) */\n",
       "\n",
<<<<<<< Updated upstream
       "#sk-container-id-7 div.sk-toggleable {\n",
=======
       "#sk-container-id-10 div.sk-toggleable {\n",
>>>>>>> Stashed changes
       "  /* Default theme specific background. It is overwritten whether we have a\n",
       "  specific estimator or a Pipeline/ColumnTransformer */\n",
       "  background-color: var(--sklearn-color-background);\n",
       "}\n",
       "\n",
       "/* Toggleable label */\n",
<<<<<<< Updated upstream
       "#sk-container-id-7 label.sk-toggleable__label {\n",
=======
       "#sk-container-id-10 label.sk-toggleable__label {\n",
>>>>>>> Stashed changes
       "  cursor: pointer;\n",
       "  display: flex;\n",
       "  width: 100%;\n",
       "  margin-bottom: 0;\n",
       "  padding: 0.5em;\n",
       "  box-sizing: border-box;\n",
       "  text-align: center;\n",
       "  align-items: start;\n",
       "  justify-content: space-between;\n",
       "  gap: 0.5em;\n",
       "}\n",
       "\n",
<<<<<<< Updated upstream
       "#sk-container-id-7 label.sk-toggleable__label .caption {\n",
=======
       "#sk-container-id-10 label.sk-toggleable__label .caption {\n",
>>>>>>> Stashed changes
       "  font-size: 0.6rem;\n",
       "  font-weight: lighter;\n",
       "  color: var(--sklearn-color-text-muted);\n",
       "}\n",
       "\n",
<<<<<<< Updated upstream
       "#sk-container-id-7 label.sk-toggleable__label-arrow:before {\n",
=======
       "#sk-container-id-10 label.sk-toggleable__label-arrow:before {\n",
>>>>>>> Stashed changes
       "  /* Arrow on the left of the label */\n",
       "  content: \"▸\";\n",
       "  float: left;\n",
       "  margin-right: 0.25em;\n",
       "  color: var(--sklearn-color-icon);\n",
       "}\n",
       "\n",
<<<<<<< Updated upstream
       "#sk-container-id-7 label.sk-toggleable__label-arrow:hover:before {\n",
=======
       "#sk-container-id-10 label.sk-toggleable__label-arrow:hover:before {\n",
>>>>>>> Stashed changes
       "  color: var(--sklearn-color-text);\n",
       "}\n",
       "\n",
       "/* Toggleable content - dropdown */\n",
       "\n",
<<<<<<< Updated upstream
       "#sk-container-id-7 div.sk-toggleable__content {\n",
=======
       "#sk-container-id-10 div.sk-toggleable__content {\n",
>>>>>>> Stashed changes
       "  max-height: 0;\n",
       "  max-width: 0;\n",
       "  overflow: hidden;\n",
       "  text-align: left;\n",
       "  /* unfitted */\n",
       "  background-color: var(--sklearn-color-unfitted-level-0);\n",
       "}\n",
       "\n",
<<<<<<< Updated upstream
       "#sk-container-id-7 div.sk-toggleable__content.fitted {\n",
=======
       "#sk-container-id-10 div.sk-toggleable__content.fitted {\n",
>>>>>>> Stashed changes
       "  /* fitted */\n",
       "  background-color: var(--sklearn-color-fitted-level-0);\n",
       "}\n",
       "\n",
<<<<<<< Updated upstream
       "#sk-container-id-7 div.sk-toggleable__content pre {\n",
=======
       "#sk-container-id-10 div.sk-toggleable__content pre {\n",
>>>>>>> Stashed changes
       "  margin: 0.2em;\n",
       "  border-radius: 0.25em;\n",
       "  color: var(--sklearn-color-text);\n",
       "  /* unfitted */\n",
       "  background-color: var(--sklearn-color-unfitted-level-0);\n",
       "}\n",
       "\n",
<<<<<<< Updated upstream
       "#sk-container-id-7 div.sk-toggleable__content.fitted pre {\n",
=======
       "#sk-container-id-10 div.sk-toggleable__content.fitted pre {\n",
>>>>>>> Stashed changes
       "  /* unfitted */\n",
       "  background-color: var(--sklearn-color-fitted-level-0);\n",
       "}\n",
       "\n",
<<<<<<< Updated upstream
       "#sk-container-id-7 input.sk-toggleable__control:checked~div.sk-toggleable__content {\n",
=======
       "#sk-container-id-10 input.sk-toggleable__control:checked~div.sk-toggleable__content {\n",
>>>>>>> Stashed changes
       "  /* Expand drop-down */\n",
       "  max-height: 200px;\n",
       "  max-width: 100%;\n",
       "  overflow: auto;\n",
       "}\n",
       "\n",
<<<<<<< Updated upstream
       "#sk-container-id-7 input.sk-toggleable__control:checked~label.sk-toggleable__label-arrow:before {\n",
=======
       "#sk-container-id-10 input.sk-toggleable__control:checked~label.sk-toggleable__label-arrow:before {\n",
>>>>>>> Stashed changes
       "  content: \"▾\";\n",
       "}\n",
       "\n",
       "/* Pipeline/ColumnTransformer-specific style */\n",
       "\n",
<<<<<<< Updated upstream
       "#sk-container-id-7 div.sk-label input.sk-toggleable__control:checked~label.sk-toggleable__label {\n",
=======
       "#sk-container-id-10 div.sk-label input.sk-toggleable__control:checked~label.sk-toggleable__label {\n",
>>>>>>> Stashed changes
       "  color: var(--sklearn-color-text);\n",
       "  background-color: var(--sklearn-color-unfitted-level-2);\n",
       "}\n",
       "\n",
<<<<<<< Updated upstream
       "#sk-container-id-7 div.sk-label.fitted input.sk-toggleable__control:checked~label.sk-toggleable__label {\n",
=======
       "#sk-container-id-10 div.sk-label.fitted input.sk-toggleable__control:checked~label.sk-toggleable__label {\n",
>>>>>>> Stashed changes
       "  background-color: var(--sklearn-color-fitted-level-2);\n",
       "}\n",
       "\n",
       "/* Estimator-specific style */\n",
       "\n",
       "/* Colorize estimator box */\n",
<<<<<<< Updated upstream
       "#sk-container-id-7 div.sk-estimator input.sk-toggleable__control:checked~label.sk-toggleable__label {\n",
=======
       "#sk-container-id-10 div.sk-estimator input.sk-toggleable__control:checked~label.sk-toggleable__label {\n",
>>>>>>> Stashed changes
       "  /* unfitted */\n",
       "  background-color: var(--sklearn-color-unfitted-level-2);\n",
       "}\n",
       "\n",
<<<<<<< Updated upstream
       "#sk-container-id-7 div.sk-estimator.fitted input.sk-toggleable__control:checked~label.sk-toggleable__label {\n",
=======
       "#sk-container-id-10 div.sk-estimator.fitted input.sk-toggleable__control:checked~label.sk-toggleable__label {\n",
>>>>>>> Stashed changes
       "  /* fitted */\n",
       "  background-color: var(--sklearn-color-fitted-level-2);\n",
       "}\n",
       "\n",
<<<<<<< Updated upstream
       "#sk-container-id-7 div.sk-label label.sk-toggleable__label,\n",
       "#sk-container-id-7 div.sk-label label {\n",
=======
       "#sk-container-id-10 div.sk-label label.sk-toggleable__label,\n",
       "#sk-container-id-10 div.sk-label label {\n",
>>>>>>> Stashed changes
       "  /* The background is the default theme color */\n",
       "  color: var(--sklearn-color-text-on-default-background);\n",
       "}\n",
       "\n",
       "/* On hover, darken the color of the background */\n",
<<<<<<< Updated upstream
       "#sk-container-id-7 div.sk-label:hover label.sk-toggleable__label {\n",
=======
       "#sk-container-id-10 div.sk-label:hover label.sk-toggleable__label {\n",
>>>>>>> Stashed changes
       "  color: var(--sklearn-color-text);\n",
       "  background-color: var(--sklearn-color-unfitted-level-2);\n",
       "}\n",
       "\n",
       "/* Label box, darken color on hover, fitted */\n",
<<<<<<< Updated upstream
       "#sk-container-id-7 div.sk-label.fitted:hover label.sk-toggleable__label.fitted {\n",
=======
       "#sk-container-id-10 div.sk-label.fitted:hover label.sk-toggleable__label.fitted {\n",
>>>>>>> Stashed changes
       "  color: var(--sklearn-color-text);\n",
       "  background-color: var(--sklearn-color-fitted-level-2);\n",
       "}\n",
       "\n",
       "/* Estimator label */\n",
       "\n",
<<<<<<< Updated upstream
       "#sk-container-id-7 div.sk-label label {\n",
=======
       "#sk-container-id-10 div.sk-label label {\n",
>>>>>>> Stashed changes
       "  font-family: monospace;\n",
       "  font-weight: bold;\n",
       "  display: inline-block;\n",
       "  line-height: 1.2em;\n",
       "}\n",
       "\n",
<<<<<<< Updated upstream
       "#sk-container-id-7 div.sk-label-container {\n",
=======
       "#sk-container-id-10 div.sk-label-container {\n",
>>>>>>> Stashed changes
       "  text-align: center;\n",
       "}\n",
       "\n",
       "/* Estimator-specific */\n",
<<<<<<< Updated upstream
       "#sk-container-id-7 div.sk-estimator {\n",
=======
       "#sk-container-id-10 div.sk-estimator {\n",
>>>>>>> Stashed changes
       "  font-family: monospace;\n",
       "  border: 1px dotted var(--sklearn-color-border-box);\n",
       "  border-radius: 0.25em;\n",
       "  box-sizing: border-box;\n",
       "  margin-bottom: 0.5em;\n",
       "  /* unfitted */\n",
       "  background-color: var(--sklearn-color-unfitted-level-0);\n",
       "}\n",
       "\n",
<<<<<<< Updated upstream
       "#sk-container-id-7 div.sk-estimator.fitted {\n",
=======
       "#sk-container-id-10 div.sk-estimator.fitted {\n",
>>>>>>> Stashed changes
       "  /* fitted */\n",
       "  background-color: var(--sklearn-color-fitted-level-0);\n",
       "}\n",
       "\n",
       "/* on hover */\n",
<<<<<<< Updated upstream
       "#sk-container-id-7 div.sk-estimator:hover {\n",
=======
       "#sk-container-id-10 div.sk-estimator:hover {\n",
>>>>>>> Stashed changes
       "  /* unfitted */\n",
       "  background-color: var(--sklearn-color-unfitted-level-2);\n",
       "}\n",
       "\n",
<<<<<<< Updated upstream
       "#sk-container-id-7 div.sk-estimator.fitted:hover {\n",
=======
       "#sk-container-id-10 div.sk-estimator.fitted:hover {\n",
>>>>>>> Stashed changes
       "  /* fitted */\n",
       "  background-color: var(--sklearn-color-fitted-level-2);\n",
       "}\n",
       "\n",
       "/* Specification for estimator info (e.g. \"i\" and \"?\") */\n",
       "\n",
       "/* Common style for \"i\" and \"?\" */\n",
       "\n",
       ".sk-estimator-doc-link,\n",
       "a:link.sk-estimator-doc-link,\n",
       "a:visited.sk-estimator-doc-link {\n",
       "  float: right;\n",
       "  font-size: smaller;\n",
       "  line-height: 1em;\n",
       "  font-family: monospace;\n",
       "  background-color: var(--sklearn-color-background);\n",
       "  border-radius: 1em;\n",
       "  height: 1em;\n",
       "  width: 1em;\n",
       "  text-decoration: none !important;\n",
       "  margin-left: 0.5em;\n",
       "  text-align: center;\n",
       "  /* unfitted */\n",
       "  border: var(--sklearn-color-unfitted-level-1) 1pt solid;\n",
       "  color: var(--sklearn-color-unfitted-level-1);\n",
       "}\n",
       "\n",
       ".sk-estimator-doc-link.fitted,\n",
       "a:link.sk-estimator-doc-link.fitted,\n",
       "a:visited.sk-estimator-doc-link.fitted {\n",
       "  /* fitted */\n",
       "  border: var(--sklearn-color-fitted-level-1) 1pt solid;\n",
       "  color: var(--sklearn-color-fitted-level-1);\n",
       "}\n",
       "\n",
       "/* On hover */\n",
       "div.sk-estimator:hover .sk-estimator-doc-link:hover,\n",
       ".sk-estimator-doc-link:hover,\n",
       "div.sk-label-container:hover .sk-estimator-doc-link:hover,\n",
       ".sk-estimator-doc-link:hover {\n",
       "  /* unfitted */\n",
       "  background-color: var(--sklearn-color-unfitted-level-3);\n",
       "  color: var(--sklearn-color-background);\n",
       "  text-decoration: none;\n",
       "}\n",
       "\n",
       "div.sk-estimator.fitted:hover .sk-estimator-doc-link.fitted:hover,\n",
       ".sk-estimator-doc-link.fitted:hover,\n",
       "div.sk-label-container:hover .sk-estimator-doc-link.fitted:hover,\n",
       ".sk-estimator-doc-link.fitted:hover {\n",
       "  /* fitted */\n",
       "  background-color: var(--sklearn-color-fitted-level-3);\n",
       "  color: var(--sklearn-color-background);\n",
       "  text-decoration: none;\n",
       "}\n",
       "\n",
       "/* Span, style for the box shown on hovering the info icon */\n",
       ".sk-estimator-doc-link span {\n",
       "  display: none;\n",
       "  z-index: 9999;\n",
       "  position: relative;\n",
       "  font-weight: normal;\n",
       "  right: .2ex;\n",
       "  padding: .5ex;\n",
       "  margin: .5ex;\n",
       "  width: min-content;\n",
       "  min-width: 20ex;\n",
       "  max-width: 50ex;\n",
       "  color: var(--sklearn-color-text);\n",
       "  box-shadow: 2pt 2pt 4pt #999;\n",
       "  /* unfitted */\n",
       "  background: var(--sklearn-color-unfitted-level-0);\n",
       "  border: .5pt solid var(--sklearn-color-unfitted-level-3);\n",
       "}\n",
       "\n",
       ".sk-estimator-doc-link.fitted span {\n",
       "  /* fitted */\n",
       "  background: var(--sklearn-color-fitted-level-0);\n",
       "  border: var(--sklearn-color-fitted-level-3);\n",
       "}\n",
       "\n",
       ".sk-estimator-doc-link:hover span {\n",
       "  display: block;\n",
       "}\n",
       "\n",
       "/* \"?\"-specific style due to the `<a>` HTML tag */\n",
       "\n",
<<<<<<< Updated upstream
       "#sk-container-id-7 a.estimator_doc_link {\n",
=======
       "#sk-container-id-10 a.estimator_doc_link {\n",
>>>>>>> Stashed changes
       "  float: right;\n",
       "  font-size: 1rem;\n",
       "  line-height: 1em;\n",
       "  font-family: monospace;\n",
       "  background-color: var(--sklearn-color-background);\n",
       "  border-radius: 1rem;\n",
       "  height: 1rem;\n",
       "  width: 1rem;\n",
       "  text-decoration: none;\n",
       "  /* unfitted */\n",
       "  color: var(--sklearn-color-unfitted-level-1);\n",
       "  border: var(--sklearn-color-unfitted-level-1) 1pt solid;\n",
       "}\n",
       "\n",
<<<<<<< Updated upstream
       "#sk-container-id-7 a.estimator_doc_link.fitted {\n",
=======
       "#sk-container-id-10 a.estimator_doc_link.fitted {\n",
>>>>>>> Stashed changes
       "  /* fitted */\n",
       "  border: var(--sklearn-color-fitted-level-1) 1pt solid;\n",
       "  color: var(--sklearn-color-fitted-level-1);\n",
       "}\n",
       "\n",
       "/* On hover */\n",
<<<<<<< Updated upstream
       "#sk-container-id-7 a.estimator_doc_link:hover {\n",
=======
       "#sk-container-id-10 a.estimator_doc_link:hover {\n",
>>>>>>> Stashed changes
       "  /* unfitted */\n",
       "  background-color: var(--sklearn-color-unfitted-level-3);\n",
       "  color: var(--sklearn-color-background);\n",
       "  text-decoration: none;\n",
       "}\n",
       "\n",
<<<<<<< Updated upstream
       "#sk-container-id-7 a.estimator_doc_link.fitted:hover {\n",
       "  /* fitted */\n",
       "  background-color: var(--sklearn-color-fitted-level-3);\n",
       "}\n",
       "</style><div id=\"sk-container-id-7\" class=\"sk-top-container\"><div class=\"sk-text-repr-fallback\"><pre>ElasticNet(alpha=0.5, l1_ratio=0.3)</pre><b>In a Jupyter environment, please rerun this cell to show the HTML representation or trust the notebook. <br />On GitHub, the HTML representation is unable to render, please try loading this page with nbviewer.org.</b></div><div class=\"sk-container\" hidden><div class=\"sk-item\"><div class=\"sk-estimator fitted sk-toggleable\"><input class=\"sk-toggleable__control sk-hidden--visually\" id=\"sk-estimator-id-15\" type=\"checkbox\" checked><label for=\"sk-estimator-id-15\" class=\"sk-toggleable__label fitted sk-toggleable__label-arrow\"><div><div>ElasticNet</div></div><div><a class=\"sk-estimator-doc-link fitted\" rel=\"noreferrer\" target=\"_blank\" href=\"https://scikit-learn.org/1.6/modules/generated/sklearn.linear_model.ElasticNet.html\">?<span>Documentation for ElasticNet</span></a><span class=\"sk-estimator-doc-link fitted\">i<span>Fitted</span></span></div></label><div class=\"sk-toggleable__content fitted\"><pre>ElasticNet(alpha=0.5, l1_ratio=0.3)</pre></div> </div></div></div></div>"
=======
       "#sk-container-id-10 a.estimator_doc_link.fitted:hover {\n",
       "  /* fitted */\n",
       "  background-color: var(--sklearn-color-fitted-level-3);\n",
       "}\n",
       "</style><div id=\"sk-container-id-10\" class=\"sk-top-container\"><div class=\"sk-text-repr-fallback\"><pre>ElasticNet(alpha=0.5, l1_ratio=0.3)</pre><b>In a Jupyter environment, please rerun this cell to show the HTML representation or trust the notebook. <br />On GitHub, the HTML representation is unable to render, please try loading this page with nbviewer.org.</b></div><div class=\"sk-container\" hidden><div class=\"sk-item\"><div class=\"sk-estimator fitted sk-toggleable\"><input class=\"sk-toggleable__control sk-hidden--visually\" id=\"sk-estimator-id-16\" type=\"checkbox\" checked><label for=\"sk-estimator-id-16\" class=\"sk-toggleable__label fitted sk-toggleable__label-arrow\"><div><div>ElasticNet</div></div><div><a class=\"sk-estimator-doc-link fitted\" rel=\"noreferrer\" target=\"_blank\" href=\"https://scikit-learn.org/1.6/modules/generated/sklearn.linear_model.ElasticNet.html\">?<span>Documentation for ElasticNet</span></a><span class=\"sk-estimator-doc-link fitted\">i<span>Fitted</span></span></div></label><div class=\"sk-toggleable__content fitted\"><pre>ElasticNet(alpha=0.5, l1_ratio=0.3)</pre></div> </div></div></div></div>"
>>>>>>> Stashed changes
      ],
      "text/plain": [
       "ElasticNet(alpha=0.5, l1_ratio=0.3)"
      ]
     },
<<<<<<< Updated upstream
     "execution_count": 120,
=======
     "execution_count": 119,
>>>>>>> Stashed changes
     "metadata": {},
     "output_type": "execute_result"
    }
   ],
   "source": [
    "from sklearn.linear_model import ElasticNet\n",
    "\n",
    "model = ElasticNet(alpha=0.5, l1_ratio=0.3)\n",
    "model.fit(X_train_poly, y_train)"
   ]
  },
  {
   "cell_type": "code",
<<<<<<< Updated upstream
   "execution_count": 121,
=======
   "execution_count": 120,
>>>>>>> Stashed changes
   "metadata": {},
   "outputs": [
    {
     "name": "stdout",
     "output_type": "stream",
     "text": [
      "==========Trainset\n",
      "MSE: 17.932543567258534\n",
      "RMSE: 4.234683408149721\n",
      "R Squared: 0.7893850125389811\n",
      "==========Testset\n",
      "MSE: 31.77314113785274\n",
      "RMSE: 5.636766904693926\n",
      "R Squared: 0.6098028955989219\n"
     ]
    }
   ],
   "source": [
    "print_regression_metrcis(y_train, model.predict(X_train_poly), \"==========Trainset\")\n",
    "print_regression_metrcis(y_test, model.predict(X_test_poly), \"==========Testset\")"
   ]
  },
  {
   "cell_type": "markdown",
   "metadata": {
    "jp-MarkdownHeadingCollapsed": true,
    "slideshow": {
     "slide_type": "slide"
    }
   },
   "source": [
    "# 정리\n",
    "- 일반적으로 선형회귀의 경우 어느정도 규제가 있는 경우가 성능이 좋다.\n",
    "- 기본적으로 **Ridge**를 사용한다.\n",
    "- Target에 영향을 주는 Feature가 몇 개뿐일 경우 특성의 가중치를 0으로 만들어 주는 **Lasso** 사용한다. \n",
    "- 특성 수가 학습 샘플 수 보다 많거나 feature간에 연관성이 높을 때는 **ElasticNet**을 사용한다."
   ]
  },
  {
   "cell_type": "markdown",
   "metadata": {},
   "source": []
  }
 ],
 "metadata": {
  "kernelspec": {
   "display_name": "ml",
   "language": "python",
   "name": "python3"
  },
  "language_info": {
   "codemirror_mode": {
    "name": "ipython",
    "version": 3
   },
   "file_extension": ".py",
   "mimetype": "text/x-python",
   "name": "python",
   "nbconvert_exporter": "python",
   "pygments_lexer": "ipython3",
<<<<<<< HEAD
   "version": "3.12.10"
=======
   "version": "3.13.2"
>>>>>>> f414b94 (공부내용 추가)
  },
  "toc": {
   "base_numbering": 1,
   "nav_menu": {},
   "number_sections": false,
   "sideBar": true,
   "skip_h1_title": false,
   "title_cell": "Table of Contents",
   "title_sidebar": "Contents",
   "toc_cell": false,
   "toc_position": {},
   "toc_section_display": true,
   "toc_window_display": false
  },
  "varInspector": {
   "cols": {
    "lenName": 16,
    "lenType": 16,
    "lenVar": 40
   },
   "kernels_config": {
    "python": {
     "delete_cmd_postfix": "",
     "delete_cmd_prefix": "del ",
     "library": "var_list.py",
     "varRefreshCmd": "print(var_dic_list())"
    },
    "r": {
     "delete_cmd_postfix": ") ",
     "delete_cmd_prefix": "rm(",
     "library": "var_list.r",
     "varRefreshCmd": "cat(var_dic_list()) "
    }
   },
   "types_to_exclude": [
    "module",
    "function",
    "builtin_function_or_method",
    "instance",
    "_Feature"
   ],
   "window_display": false
  }
 },
 "nbformat": 4,
 "nbformat_minor": 4
}
