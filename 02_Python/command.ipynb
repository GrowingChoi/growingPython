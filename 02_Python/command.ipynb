{
 "cells": [
  {
   "cell_type": "markdown",
   "id": "f4c8d4c0-fd23-4896-b379-fab5293cb443",
   "metadata": {},
   "source": [
    "- shift + enter   : 실행한 후 다음 cell로 이동한다.\n",
    "- control + enter : 실행한 후, 실행한 셀에 머물러 있는다.\n"
   ]
  },
  {
   "cell_type": "markdown",
   "id": "29b4f533-27ba-434c-bf83-46323e950495",
   "metadata": {},
   "source": [
    "명령모드\n",
    "- a  : 누르면 위에 빈 cell을 추가\n",
    "- b  : 누르면 밑에 빈 cell을 추가\n",
    "- x  : 누르면 cell을 짤라내기\n",
    "- v  : cell을 붙여 넣기\n",
    "- dd : cell 삭제\n",
    "- y  : cell을 **코드모드**로 변경\n",
    "- m  : cell을 *마크다운*으로 변경"
   ]
  },
  {
   "cell_type": "code",
   "execution_count": 6,
   "id": "0e1bb8f9-2437-4f48-a33a-7c7765f29260",
   "metadata": {},
   "outputs": [
    {
     "name": "stdin",
     "output_type": "stream",
     "text": [
      "이름 :  기묘한 모험의 죠죠\n"
     ]
    }
   ],
   "source": [
    "name = input(\"이름 : \")"
   ]
  },
  {
   "cell_type": "code",
   "execution_count": 3,
   "id": "55be467d-5787-4812-b722-686862f0e0eb",
   "metadata": {},
   "outputs": [
    {
     "name": "stdout",
     "output_type": "stream",
     "text": [
      "기묘한 모험의 죠죠\n"
     ]
    }
   ],
   "source": [
    "print(name)"
   ]
  },
  {
   "cell_type": "code",
   "execution_count": null,
   "id": "8c2294d7-5df0-4a20-8c0d-1d7180be94aa",
   "metadata": {},
   "outputs": [],
   "source": []
  },
  {
   "cell_type": "code",
   "execution_count": 39,
   "id": "3024847f-9691-4da4-b300-5e29d70d5144",
   "metadata": {},
   "outputs": [
    {
     "name": "stdout",
     "output_type": "stream",
     "text": [
      "1파티 :  전진혁, 박현아, 최호연, 우민규, 장진슬, 고범석\n",
      "2파티 :  우지훈, 구자현, 이재범, 남궁건우, 최성장, 이석민\n",
      "3파티 :  기원준, 김지민, 김동욱, 홍채우, 민경재, 이유나\n"
     ]
    }
   ],
   "source": [
    "# 파티찾기 ㄱㄱ\n",
    "# 전진혁님 : 2\n",
    "# 기원준님 : 8 \n",
    "# 우지훈님 :10\n",
    "# 공평성을 위해서 위 세분이 더한 총합 /3번 랜덤을 돌리겠습니다.\n",
    "# (2 + 8 + 10) / 3 = 6(소수점 값 과감하게 버렸음)\n",
    "# 총 6번 돌리겠습니다.\n",
    "import random\n",
    "\n",
    "members = ['고범석','구자현','기원준','김동욱','김지민','남궁건우','민경재','박현아','우민규','우지훈','이석민','이유나','이재범','장진슬','전진혁','최성장','최호연','홍채우']\n",
    "\n",
    "leaders = ['전진혁', '우지훈', '기원준']\n",
    "\n",
    "follower= [name for name in members if name not in leaders]\n",
    "\n",
    "random.shuffle(follower)\n",
    "\n",
    "group1 = [leaders[0]] + follower[:5]\n",
    "group2 = [leaders[1]] + follower[5:10]\n",
    "group3 = [leaders[2]] + follower[10:15]\n",
    "\n",
    "print(\"1파티 : \", \", \".join(group1))\n",
    "print(\"2파티 : \", \", \".join(group2))\n",
    "print(\"3파티 : \", \", \".join(group3))"
   ]
  },
  {
   "cell_type": "code",
   "execution_count": null,
   "id": "170186e7-54c0-45b0-b556-cd52c67a7d16",
   "metadata": {},
   "outputs": [],
   "source": []
  },
  {
   "cell_type": "code",
   "execution_count": null,
   "id": "aedb8a29-ce44-48ec-b38d-3b049512579b",
   "metadata": {},
   "outputs": [],
   "source": []
  },
  {
   "cell_type": "code",
   "execution_count": 4,
   "id": "08e44f24-830a-479b-9979-8f334f087127",
   "metadata": {},
   "outputs": [
    {
     "data": {
      "text/plain": [
       "\u001b[31mInit signature:\u001b[39m\n",
       "BeautifulSoup(\n",
       "    markup: Union[str, bytes, IO[str], IO[bytes]] = \u001b[33m''\u001b[39m,\n",
       "    features: Union[str, Sequence[str], NoneType] = \u001b[38;5;28;01mNone\u001b[39;00m,\n",
       "    builder: Union[bs4.builder.TreeBuilder, Type[bs4.builder.TreeBuilder], NoneType] = \u001b[38;5;28;01mNone\u001b[39;00m,\n",
       "    parse_only: Optional[bs4.filter.SoupStrainer] = \u001b[38;5;28;01mNone\u001b[39;00m,\n",
       "    from_encoding: Optional[str] = \u001b[38;5;28;01mNone\u001b[39;00m,\n",
       "    exclude_encodings: Optional[Iterable[str]] = \u001b[38;5;28;01mNone\u001b[39;00m,\n",
       "    element_classes: Optional[Dict[Type[bs4.element.PageElement], Type[bs4.element.PageElement]]] = \u001b[38;5;28;01mNone\u001b[39;00m,\n",
       "    **kwargs: Any,\n",
       ")\n",
       "\u001b[31mDocstring:\u001b[39m     \n",
       "A data structure representing a parsed HTML or XML document.\n",
       "\n",
       "Most of the methods you'll call on a BeautifulSoup object are inherited from\n",
       "PageElement or Tag.\n",
       "\n",
       "Internally, this class defines the basic interface called by the\n",
       "tree builders when converting an HTML/XML document into a data\n",
       "structure. The interface abstracts away the differences between\n",
       "parsers. To write a new tree builder, you'll need to understand\n",
       "these methods as a whole.\n",
       "\n",
       "These methods will be called by the BeautifulSoup constructor:\n",
       "  * reset()\n",
       "  * feed(markup)\n",
       "\n",
       "The tree builder may call these methods from its feed() implementation:\n",
       "  * handle_starttag(name, attrs) # See note about return value\n",
       "  * handle_endtag(name)\n",
       "  * handle_data(data) # Appends to the current data node\n",
       "  * endData(containerClass) # Ends the current data node\n",
       "\n",
       "No matter how complicated the underlying parser is, you should be\n",
       "able to build a tree using 'start tag' events, 'end tag' events,\n",
       "'data' events, and \"done with data\" events.\n",
       "\n",
       "If you encounter an empty-element tag (aka a self-closing tag,\n",
       "like HTML's <br> tag), call handle_starttag and then\n",
       "handle_endtag.\n",
       "\u001b[31mInit docstring:\u001b[39m\n",
       "Constructor.\n",
       "\n",
       ":param markup: A string or a file-like object representing\n",
       " markup to be parsed.\n",
       "\n",
       ":param features: Desirable features of the parser to be\n",
       " used. This may be the name of a specific parser (\"lxml\",\n",
       " \"lxml-xml\", \"html.parser\", or \"html5lib\") or it may be the\n",
       " type of markup to be used (\"html\", \"html5\", \"xml\"). It's\n",
       " recommended that you name a specific parser, so that\n",
       " Beautiful Soup gives you the same results across platforms\n",
       " and virtual environments.\n",
       "\n",
       ":param builder: A TreeBuilder subclass to instantiate (or\n",
       " instance to use) instead of looking one up based on\n",
       " `features`. You only need to use this if you've implemented a\n",
       " custom TreeBuilder.\n",
       "\n",
       ":param parse_only: A SoupStrainer. Only parts of the document\n",
       " matching the SoupStrainer will be considered. This is useful\n",
       " when parsing part of a document that would otherwise be too\n",
       " large to fit into memory.\n",
       "\n",
       ":param from_encoding: A string indicating the encoding of the\n",
       " document to be parsed. Pass this in if Beautiful Soup is\n",
       " guessing wrongly about the document's encoding.\n",
       "\n",
       ":param exclude_encodings: A list of strings indicating\n",
       " encodings known to be wrong. Pass this in if you don't know\n",
       " the document's encoding but you know Beautiful Soup's guess is\n",
       " wrong.\n",
       "\n",
       ":param element_classes: A dictionary mapping BeautifulSoup\n",
       " classes like Tag and NavigableString, to other classes you'd\n",
       " like to be instantiated instead as the parse tree is\n",
       " built. This is useful for subclassing Tag or NavigableString\n",
       " to modify default behavior.\n",
       "\n",
       ":param kwargs: For backwards compatibility purposes, the\n",
       " constructor accepts certain keyword arguments used in\n",
       " Beautiful Soup 3. None of these arguments do anything in\n",
       " Beautiful Soup 4; they will result in a warning and then be\n",
       " ignored.\n",
       "\n",
       " Apart from this, any keyword arguments passed into the\n",
       " BeautifulSoup constructor are propagated to the TreeBuilder\n",
       " constructor. This makes it possible to configure a\n",
       " TreeBuilder by passing in arguments, not just by saying which\n",
       " one to use.\n",
       "\u001b[31mFile:\u001b[39m           c:\\users\\playdata\\miniconda3\\lib\\site-packages\\bs4\\__init__.py\n",
       "\u001b[31mType:\u001b[39m           type\n",
       "\u001b[31mSubclasses:\u001b[39m     BeautifulStoneSoup"
      ]
     },
     "metadata": {},
     "output_type": "display_data"
    }
   ],
   "source": [
    "BeautifulSoup?"
   ]
  },
  {
   "cell_type": "code",
   "execution_count": 12,
   "id": "d102aed2-78da-4258-bb8c-c5d995808330",
   "metadata": {},
   "outputs": [
    {
     "name": "stdout",
     "output_type": "stream",
     "text": [
      "데이터가 'results.xlsx' 파일로 저장되었습니다!\n"
     ]
    }
   ],
   "source": [
    "import requests\n",
    "from bs4 import BeautifulSoup\n",
    "import pandas as pd\n",
    "\n",
    "\n",
    "# 크롤링할 URL 설정\n",
    "url = \"https://www.naver.com\"\n",
    "\n",
    "# 요청 보내기\n",
    "response = requests.get(url)\n",
    "response.raise_for_status()\n",
    "\n",
    "# HTML 파싱\n",
    "soup = BeautifulSoup(response.text, 'html.parser')\n",
    "\n",
    "# '자동차'라는 키워드 검색\n",
    "keyword = \"자동차\"\n",
    "elements = soup.find_all(string=lambda text: keyword in text if text else False)\n",
    "\n",
    "with open(\"C:\\\\temp\\\\results1.txt\", \"w\", encoding=\"utf-8\") as file:\n",
    "    for element in elements:\n",
    "        file.write(element + \"\\n\") \n",
    "        \n",
    "print(\"데이터가 'results.xlsx' 파일로 저장되었습니다!\")"
   ]
  },
  {
   "cell_type": "code",
   "execution_count": 5,
   "id": "9e2bd138-c521-46b5-937f-57cb1b9b09b2",
   "metadata": {},
   "outputs": [
    {
     "name": "stdout",
     "output_type": "stream",
     "text": [
      "Collecting openpyxl\n",
      "  Downloading openpyxl-3.1.5-py2.py3-none-any.whl.metadata (2.5 kB)\n",
      "Collecting et-xmlfile (from openpyxl)\n",
      "  Downloading et_xmlfile-2.0.0-py3-none-any.whl.metadata (2.7 kB)\n",
      "Downloading openpyxl-3.1.5-py2.py3-none-any.whl (250 kB)\n",
      "Downloading et_xmlfile-2.0.0-py3-none-any.whl (18 kB)\n",
      "Installing collected packages: et-xmlfile, openpyxl\n",
      "Successfully installed et-xmlfile-2.0.0 openpyxl-3.1.5\n",
      "Note: you may need to restart the kernel to use updated packages.\n"
     ]
    }
   ],
   "source": [
    "pip install openpyxl"
   ]
  }
 ],
 "metadata": {
  "kernelspec": {
   "display_name": "Python 3 (ipykernel)",
   "language": "python",
   "name": "python3"
  },
  "language_info": {
   "codemirror_mode": {
    "name": "ipython",
    "version": 3
   },
   "file_extension": ".py",
   "mimetype": "text/x-python",
   "name": "python",
   "nbconvert_exporter": "python",
   "pygments_lexer": "ipython3",
   "version": "3.12.9"
  },
  "toc": {
   "base_numbering": 0
  }
 },
 "nbformat": 4,
 "nbformat_minor": 5
}
