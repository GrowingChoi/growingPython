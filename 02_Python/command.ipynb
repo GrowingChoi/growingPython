{
 "cells": [
  {
   "cell_type": "markdown",
   "id": "f4c8d4c0-fd23-4896-b379-fab5293cb443",
   "metadata": {},
   "source": [
    "- shift + enter   : 실행한 후 다음 cell로 이동한다.\n",
    "- control + enter : 실행한 후, 실행한 셀에 머물러 있는다.\n"
   ]
  },
  {
   "cell_type": "markdown",
   "id": "29b4f533-27ba-434c-bf83-46323e950495",
   "metadata": {},
   "source": [
    "명령모드\n",
    "- a  : 누르면 위에 빈 cell을 추가\n",
    "- b  : 누르면 밑에 빈 cell을 추가\n",
    "- x  : 누르면 cell을 짤라내기\n",
    "- v  : cell을 붙여 넣기\n",
    "- dd : cell 삭제\n",
    "- y  : cell을 **코드모드**로 변경\n",
    "- m  : cell을 *마크다운*으로 변경"
   ]
  },
  {
   "cell_type": "code",
   "execution_count": 6,
   "id": "0e1bb8f9-2437-4f48-a33a-7c7765f29260",
   "metadata": {},
   "outputs": [
    {
     "name": "stdin",
     "output_type": "stream",
     "text": [
      "이름 :  기묘한 모험의 죠죠\n"
     ]
    }
   ],
   "source": [
    "name = input(\"이름 : \")"
   ]
  },
  {
   "cell_type": "code",
   "execution_count": 3,
   "id": "55be467d-5787-4812-b722-686862f0e0eb",
   "metadata": {},
   "outputs": [
    {
     "name": "stdout",
     "output_type": "stream",
     "text": [
      "기묘한 모험의 죠죠\n"
     ]
    }
   ],
   "source": [
    "print(name)"
   ]
  },
  {
   "cell_type": "code",
   "execution_count": null,
   "id": "ffac9293-dc92-478a-9fdc-586886080b03",
   "metadata": {
    "editable": true,
    "slideshow": {
     "slide_type": ""
    },
    "tags": []
   },
   "outputs": [],
   "source": []
  }
 ],
 "metadata": {
  "kernelspec": {
   "display_name": "Python 3 (ipykernel)",
   "language": "python",
   "name": "python3"
  },
  "language_info": {
   "codemirror_mode": {
    "name": "ipython",
    "version": 3
   },
   "file_extension": ".py",
   "mimetype": "text/x-python",
   "name": "python",
   "nbconvert_exporter": "python",
   "pygments_lexer": "ipython3",
   "version": "3.12.9"
  },
  "toc": {
   "base_numbering": 0
  }
 },
 "nbformat": 4,
 "nbformat_minor": 5
}
