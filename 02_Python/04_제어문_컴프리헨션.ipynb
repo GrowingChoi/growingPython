{
 "cells": [
  {
   "cell_type": "markdown",
   "id": "8c49cd8e",
   "metadata": {
    "slideshow": {
     "slide_type": "slide"
    }
   },
   "source": [
    "# 제어문(Control flow statement)\n",
    "\n",
    "기본적으로 프로그램은 순차구조를 가진다. 즉 작성한 순서대로 실행이 된다.  \n",
    "이런 실행흐름을 다른 순서로 제어하기 위한 구문을 만드는 문법이 제어문이다.  \n",
    "제어문은 **조건문** 과 **반복문** 두가지 문법이 있다.\n",
    "\n",
    "-   **조건문**\n",
    "    -   if 문\n",
    "-   **반복문**\n",
    "    -   while 문\n",
    "    -   for in 문\n"
   ]
  },
  {
   "cell_type": "markdown",
   "id": "92c502ce",
   "metadata": {
    "slideshow": {
     "slide_type": "slide"
    }
   },
   "source": [
    "# 조건문/분기문 (conditional statement)\n",
    "\n",
    "-   프로그램이 명령문들을 실행하는 도중 특정 순서에서 **조건에 따라 흐름의 나눠져야 하는 경우 사용한다**\n",
    "-   파이썬은 조건문으로 **if문**이 있다.\n",
    "\n",
    "![조건문](images/ch03_01.png)\n",
    "\n",
    "<center>입력 받은 a 의 값이 0인지 여부에 따라 두가지 흐름으로 분기된다.</center>\n"
   ]
  },
  {
   "cell_type": "markdown",
   "id": "2a3c1835",
   "metadata": {
    "slideshow": {
     "slide_type": "subslide"
    }
   },
   "source": [
    "## 구문\n",
    "\n",
    "-   조건이 True일 경우만 특정 구문들을 실행 하는 조건문.\n",
    "\n",
    "```python\n",
    "if 조건:    # 조건은 bool 표현식을 기술한다. 조건선언 다음에 : 으로 선언해서 코드블록을 구분한다.\n",
    "    명령문1  # 조건이 True이면 실행할 구문들을 코드블럭에 기술한다.\n",
    "    명령문2  # 코드 블록은 들여쓰기를 이용해 묶어준다. 보통 공백 4칸으로 들여쓰기를 한다.\n",
    "    ...\n",
    "```\n",
    "\n",
    "> ### 파이썬의 코드블록(code block)\n",
    ">\n",
    "> 코드블록이란 **여러 명령문들을 묶어놓은 것을** 말한다. 코드블록으로 묶이면 실행시 같이 다 실행되고 실행이 안되면 같이 다 실행이 안된다.  \n",
    "> 파이썬에서는 코드블록을 작성할 때 **들여쓰기를 이용해 묶어준다.**  \n",
    "> 같은 칸만큼 들여쓰기를 한 명령문들이 같은 블록으로 묶인다.\n",
    "> 들여쓰기는 관례적으로 **공백 4칸을** 사용한다.\n",
    "\n",
    "> ### pass 키워드(예약어)\n",
    ">\n",
    "> -   빈 구현부를 만들때 사용\n",
    ">     -   제어문, 함수의 body 코드블럭은 비울 수 없다. 반드시 명령문을 한개 이상 작성해야한다.\n",
    ">     -   작성할 내용이 없을 경우 사용하는 키워드로 `pass`를 사용한다.\n"
   ]
  },
  {
   "cell_type": "code",
   "execution_count": 8,
   "id": "9aa311a5",
   "metadata": {
    "slideshow": {
     "slide_type": "fragment"
    }
   },
   "outputs": [
    {
     "name": "stdin",
     "output_type": "stream",
     "text": [
      "정수를 입력하세연: 0\n"
     ]
    },
    {
     "name": "stdout",
     "output_type": "stream",
     "text": [
      "이거슨 0 입니다!!!!\n"
     ]
    }
   ],
   "source": [
    "num = int(input(\"정수를 입력하세연:\"))\n",
    "\n",
    "if num == 0 :\n",
    "    print(\"이거슨 0 입니다!!!!\")\n",
    "else:\n",
    "    pass\n"
   ]
  },
  {
   "cell_type": "code",
   "execution_count": 10,
   "id": "006e9618-d632-483d-a205-fae4bdcd6afc",
   "metadata": {
    "slideshow": {
     "slide_type": "fragment"
    }
   },
   "outputs": [
    {
     "name": "stdin",
     "output_type": "stream",
     "text": [
      "정수를 입력하세연: 123\n"
     ]
    },
    {
     "name": "stdout",
     "output_type": "stream",
     "text": [
      "종 ㅡ 료 !\n"
     ]
    }
   ],
   "source": [
    "num = int(input(\"정수를 입력하세연:\"))\n",
    "\n",
    "if num == 0 :\n",
    "    print(\"이거슨 0 입니다!!!!\")\n",
    "print(\"종 ㅡ 료 !\")"
   ]
  },
  {
   "cell_type": "code",
   "execution_count": 3,
   "id": "f8cf13b6-4f74-4925-a433-38d83f8110e2",
   "metadata": {},
   "outputs": [
    {
     "name": "stdout",
     "output_type": "stream",
     "text": [
      "num은 0이 아입니다\n"
     ]
    }
   ],
   "source": [
    "#명령어가 1개일때는\n",
    "num =10\n",
    "if num ==0:print('명령문이 1개입니다')\n",
    "else :print('num은 0이 아입니다')"
   ]
  },
  {
   "cell_type": "markdown",
   "id": "09c79c35",
   "metadata": {
    "slideshow": {
     "slide_type": "subslide"
    }
   },
   "source": [
    "-   **조건이 True일 때 False일때 실행 구문이 분기되는 조건문.**\n",
    "\n",
    "```python\n",
    "if 조건:\n",
    "    명령문1_1 # 조건이 True일 경우 실행할 구문들\n",
    "    명령문1_2\n",
    "    ...\n",
    "else:\n",
    "    명령문2_1 # 조건이 False일 경우 실행할 구문들\n",
    "    명령문2_2\n",
    "    ...\n",
    "```\n"
   ]
  },
  {
   "cell_type": "code",
   "execution_count": null,
   "id": "87b51956",
   "metadata": {
    "slideshow": {
     "slide_type": "fragment"
    }
   },
   "outputs": [],
   "source": []
  },
  {
   "cell_type": "markdown",
   "id": "621eae9a",
   "metadata": {
    "slideshow": {
     "slide_type": "subslide"
    }
   },
   "source": [
    "-   **조건이 여러 개인 조건문.**\n",
    "\n",
    "```python\n",
    "if 조건1:\n",
    "    명령문1_1  # 조건1이 True일 경우 실행할 코드블록.\n",
    "    명령문1_2\n",
    "    ...\n",
    "elif 조건2:    # 다음 조건으로 앞의 조건들이 모드 False일 경우 비교한다.\n",
    "    명령문2_1  # 조건2가 True일 경우 실행할 코드블록.\n",
    "    명령문2_2\n",
    "    ...\n",
    "elif 조건3 :\n",
    "    명령문3_1\n",
    "    명령문3_2\n",
    "    ...\n",
    "else:         # 위의 모든 조건이 False일 경우 실행하는 코드블록. 생략 가능하다.\n",
    "    명령문4\n",
    "```\n"
   ]
  },
  {
   "cell_type": "code",
   "execution_count": 14,
   "id": "4c6a532d",
   "metadata": {
    "slideshow": {
     "slide_type": "fragment"
    }
   },
   "outputs": [
    {
     "name": "stdin",
     "output_type": "stream",
     "text": [
      ">>>정수하나를 입력하세용 :  5\n"
     ]
    },
    {
     "name": "stdout",
     "output_type": "stream",
     "text": [
      "입력받은숫자 : 5\n"
     ]
    }
   ],
   "source": [
    "num = int(input(\">>>정수하나를 입력하세용 : \"))\n",
    "\n",
    "if num == 0:\n",
    "    print(f\"그대의 숫자는 0이였네 (실제로 입력한 숫자 : {num})\")\n",
    "elif num <5:\n",
    "    print(f\"입력받은숫자는 5보다 작은 {num}입니다.\")\n",
    "else:\n",
    "    print(f\"입력받은숫자 : {num}\")\n"
   ]
  },
  {
   "cell_type": "markdown",
   "id": "2149b728",
   "metadata": {
    "slideshow": {
     "slide_type": "slide"
    }
   },
   "source": [
    "# 반복문 (Loop statement)\n",
    "\n",
    "특정 구문들을 반복해서 실행할 때 사용한다. 동일한 코드를 여러번 반복하거나 값이 일정하게 변하는 코드를 반복할 경우 사용한다.  \n",
    "단순 반복을 처리하는 **while문**과 iterable객체가 제공하는 값들을 반복 조회하는 **for in문** 두가지 문법이 있다.\n",
    "\n",
    "![반복문](images/ch03_02.png)\n",
    "\n",
    "<center>count의 값이 limit의 값보다 크거나 같을때 까지 count의 값을 1증가 후 출력하는 구문을 반복한다. </center>\n"
   ]
  },
  {
   "cell_type": "markdown",
   "id": "b4740a36",
   "metadata": {
    "slideshow": {
     "slide_type": "subslide"
    }
   },
   "source": [
    "## while문\n",
    "\n",
    "-   조건이 True인 동안 구문을 반복해서 실행한다.\n",
    "\n",
    "### 구문\n",
    "\n",
    "```python\n",
    "while 조건:       # 조건은 bool 표현식을 기술한다. 조건선언 다음에 : 으로 선언해서 코드블록을 구분한다\n",
    "    반복할 구문1  # 반복할 구문을 코드블록으로 작성한다.\n",
    "    반복할 구문2\n",
    "    ...\n",
    "```\n"
   ]
  },
  {
   "cell_type": "code",
   "execution_count": 5,
   "id": "6b11bde6",
   "metadata": {
    "slideshow": {
     "slide_type": "fragment"
    }
   },
   "outputs": [
    {
     "name": "stdout",
     "output_type": "stream",
     "text": [
      "안녕하세요~ 1\n",
      "안녕하세요~ 2\n",
      "안녕하세요~ 3\n",
      "안녕하세요~ 4\n",
      "안녕하세요~ 5\n",
      "안녕하세요~ 6\n",
      "안녕하세요~ 7\n",
      "안녕하세요~ 8\n",
      "안녕하세요~ 9\n",
      "안녕하세요~ 10\n",
      "종료되었습니다.\n"
     ]
    }
   ],
   "source": [
    "count = 0\n",
    "limit = 10\n",
    "while count < limit : \n",
    "    count += 1\n",
    "    print(f\"안녕하세요~ {count}\")\n",
    "print(\"종료되었습니다.\")"
   ]
  },
  {
   "cell_type": "markdown",
   "id": "04f12e55",
   "metadata": {
    "slideshow": {
     "slide_type": "subslide"
    }
   },
   "source": [
    "## for in 문\n",
    "\n",
    "-   Iterable 객체를 순환조회하는 구문\n",
    "    -   for in문은 Iterable 타입의 객체가 가지고 있는 값들을 하나씩 처리하는 구문을 작성할 때 사용한다.\n",
    "\n",
    "> -   **Iterable**\n",
    ">     -   반복가능한 객체. 반복문(for in)을 이용해 일련의 값들을 반복적으로 각각 제공하는 객체를 말한다.\n",
    ">     -   대표적으로 List, Tuple, Dictionary, Set, 문자열 등이 있다.\n",
    "\n",
    "### 구문\n",
    "\n",
    "```python\n",
    "for 변수 in Iterable: # for in 선언후 : 으로 선언부와 구현부를 나눈다.\n",
    "    반복구문          # Iterable이 반복시 제공하는 값을 가지는 \"변수\"를 이용해 값들을 처리하는 구문을 코드블록으로 작성한다.\n",
    "    반복구문\n",
    "```\n"
   ]
  },
  {
   "cell_type": "code",
   "execution_count": 30,
   "id": "da0ce0f6",
   "metadata": {
    "slideshow": {
     "slide_type": "fragment"
    }
   },
   "outputs": [
    {
     "name": "stdout",
     "output_type": "stream",
     "text": [
      "10\t20\t30\t40\t50\t33\t66\t99\t9\t12\t15\t"
     ]
    }
   ],
   "source": [
    "l =[10, 20, 30, 40, 50, 33, 66, 99, 9, 12 , 15]\n",
    "# l의 모든 원소들을 출력(Iterable(반복대상) : l, 일괄처리 : 출력)\n",
    "for v in l :\n",
    "    print(v, end=\"\\t\")\n",
    "\n",
    "\n"
   ]
  },
  {
   "cell_type": "code",
   "execution_count": 16,
   "id": "931523f8-08ca-4c7c-9d21-ba3f1f3b0b1b",
   "metadata": {},
   "outputs": [
    {
     "name": "stdout",
     "output_type": "stream",
     "text": [
      "[20, 40, 60, 80, 100]\n"
     ]
    }
   ],
   "source": [
    "# l 의 모든 값들을 두배로 늘리기 (Iterable : l, 일괄처리 : 두배)\n",
    "result = []\n",
    "for v in l:\n",
    "    result.append(v*2)\n",
    "print(result)"
   ]
  },
  {
   "cell_type": "code",
   "execution_count": 38,
   "id": "33db6dae-2301-43c8-a93a-d68d3826c3d7",
   "metadata": {},
   "outputs": [
    {
     "name": "stdout",
     "output_type": "stream",
     "text": [
      "[9, 12, 15, 30, 33, 66, 99]\n"
     ]
    }
   ],
   "source": [
    "# 3의 배수를 찾기 (Iterable : l, 일괄처리 : 3의배수 찾기)\n",
    "result2 = []\n",
    "for v in l : \n",
    "    if v % 3 == 0 :\n",
    "        result2.append(int(v))\n",
    "    else :\n",
    "        pass\n",
    "result2.sort(reverse=False)\n",
    "print(result2)\n",
    "\n"
   ]
  },
  {
   "cell_type": "code",
   "execution_count": 44,
   "id": "764e3d19-2a0a-4ef8-b46c-6217161ce76e",
   "metadata": {},
   "outputs": [
    {
     "name": "stdout",
     "output_type": "stream",
     "text": [
      "a 10\tb 20\tc 30\t"
     ]
    }
   ],
   "source": [
    "d = {'a':10, 'b':20, 'c':30}\n",
    "for key, value in d.items() : #원소가 자료구조일 때 원소 개수만큼 변수를 선언할 수 있다.\n",
    "    print(key, value, end=\"\\t\")"
   ]
  },
  {
   "cell_type": "code",
   "execution_count": 45,
   "id": "cea70efd-0df6-4e08-b901-9f72ee86ddb7",
   "metadata": {},
   "outputs": [
    {
     "name": "stdout",
     "output_type": "stream",
     "text": [
      "가, 나, 다, a, b, c, d, 1, 2, 3, 4, "
     ]
    }
   ],
   "source": [
    "# 문자열\n",
    "for char in \"가나다abcd1234\":\n",
    "    print(char,end=\", \")"
   ]
  },
  {
   "cell_type": "code",
   "execution_count": null,
   "id": "267c49c7-6aed-4281-a2a1-192e725dca56",
   "metadata": {},
   "outputs": [],
   "source": []
  },
  {
   "cell_type": "markdown",
   "id": "1f30cd6f",
   "metadata": {
    "slideshow": {
     "slide_type": "subslide"
    }
   },
   "source": [
    "## continue와 break를 이용한 반복문 제어\n",
    "\n",
    "-   **continue**\n",
    "    -   실행 블록에서 continue가 실행되면 현재 반복을 중단하고 다음 반복을 진행한다.\n",
    "    -   특정 조건에서 처리를 멈추고 다음 처리를 반복할 때 사용한다.\n",
    "-   **break**\n",
    "    -   반복문 실행을 중단한다.\n",
    "    -   특정 조건에서 반복문을 중간에 중지할때 사용한다.\n",
    "-   continue와 break는 특정 조건에서 실행되야 하는 경우가 대부분이므로 if문 안에 작성한다.\n"
   ]
  },
  {
   "cell_type": "code",
   "execution_count": 48,
   "id": "90c41e9f",
   "metadata": {
    "slideshow": {
     "slide_type": "fragment"
    }
   },
   "outputs": [
    {
     "name": "stdout",
     "output_type": "stream",
     "text": [
      "2\t4\t6\t8\t"
     ]
    }
   ],
   "source": [
    "l = [1,2,3,4,5,6,7,8,9]\n",
    "#짝수만 출력\n",
    "\n",
    "for v in l :\n",
    "    if v%2 != 0 :\n",
    "        continue\n",
    "    else:\n",
    "        print(v, end=\"\\t\")"
   ]
  },
  {
   "cell_type": "code",
   "execution_count": 49,
   "id": "a17ea028-4f4e-412c-9396-689648fcdee3",
   "metadata": {},
   "outputs": [
    {
     "name": "stdout",
     "output_type": "stream",
     "text": [
      "1\n",
      "2\n",
      "3\n",
      "4\n",
      "5\n",
      "6\n",
      "종료\n"
     ]
    }
   ],
   "source": [
    "#만약에 7이면 종료\n",
    "for v in l:\n",
    "    if v == 7:\n",
    "        break\n",
    "    print(v)\n",
    "print('종료')"
   ]
  },
  {
   "cell_type": "code",
   "execution_count": 89,
   "id": "3cfbb383-f184-4594-b746-d60c578ecf0d",
   "metadata": {},
   "outputs": [
    {
     "name": "stdout",
     "output_type": "stream",
     "text": [
      "16\n"
     ]
    }
   ],
   "source": [
    "import random\n",
    "random.randint(10,20) # 시작(10) ~ 끝(20) 범위 안에 있는 임의의 정수(난수-random값)을 반환\n",
    "v = random.randint(10,20)\n",
    "print(v)"
   ]
  },
  {
   "cell_type": "code",
   "execution_count": 103,
   "id": "7c83ad9f-6414-4749-8076-fdaf332105c6",
   "metadata": {},
   "outputs": [
    {
     "name": "stdout",
     "output_type": "stream",
     "text": [
      "[99, 36, 31, 72, 38, 100, 42, 23, 95, 34, 100, 47, 40, 92, 75, 50, 97, 10, 28, 18, 64, 70, 29, 64, 32, 32, 18, 92, 29, 25, 95, 35, 47, 17, 92, 42, 55, 7, 75, 10, 42, 100, 44, 58, 30, 45, 44, 90, 3, 61, 13, 44, 15, 20, 25, 94, 76, 83, 84, 5, 80, 27, 22, 4, 72, 99, 76, 49, 84, 92, 93, 90, 66, 61, 88, 83, 54, 45, 1, 44, 42, 20, 60, 98, 88, 4, 77, 65, 13, 59, 36, 41, 56, 75, 84, 93, 15, 80, 11, 11, 77, 54, 86, 72, 57, 27, 98, 81, 30, 75, 94, 29, 15, 21, 51, 49, 83, 48, 45, 35, 4, 25, 20, 1, 75, 88, 94, 9, 3, 28, 71, 82, 7, 53, 50, 94, 7, 53, 98, 36, 82, 27, 77, 22, 31, 90, 89, 59, 14, 61, 45, 51, 95, 42, 50, 41, 30, 52, 68, 67, 23, 100, 64, 20, 98, 86, 45, 85, 40, 51, 29, 86, 25, 60, 28, 95, 64, 54, 33, 41, 29, 86, 22, 66, 92, 48, 34, 60, 31, 89, 63, 40, 90, 58, 81, 8, 27, 82, 1, 10, 41, 78, 100, 61, 74, 30, 42, 32, 67, 85, 21, 66, 75, 80, 79, 67, 36, 16, 34, 6, 74, 38, 17, 4, 37, 67, 72, 98, 12, 65, 51, 18, 68, 56, 98, 12, 36, 74, 5, 100, 50, 42, 60, 38, 64, 92, 84, 66, 27, 23, 48, 47, 88, 38, 29, 28, 66, 24, 3, 69, 63, 85, 95, 89, 55, 19, 56, 10, 30, 20, 16, 37, 100, 28, 44, 16, 70, 20, 7, 94, 15, 55, 4, 83, 24, 25, 57, 64, 82, 9, 66, 28, 50, 42, 18, 47, 18]\n",
      "[-83, -69, -52, -6, -35, -83, -94, -10, -36, -34, -45, -97, -96, -78, -77, -3, -47, -51, -8, -84, -90, -73, -6, -100, -32, -63, -7, -91, -100, -100, -3, -22, -18, -92, -67, -57, -23, -83, -86, -44, -30, -81, -4, -2, -15, -71, -74, -99, -18, -63, -70, -24, -60, -51, -34, -63, -51, -22, -38, -69, -65, -84, -33, -71, -37, -70, -50, -99, -72, -66, -45, -34, -66, -40, -50, -3, -68, -84, -85, -86, -41, -16, -31, -72, -1, -97, -47, -83, -13, -81, -25, -91, -3, -46, -71, -67, -40, -47, -45, -21, -95, -81, -4, -2, -60, -23, -63, -39, -33, -69, -69, -32, -64, -43, -35, -5, -10, -54, -24, -84, -66, -82, -74, -33, -45, -28, -81, -79, -2, -38, -3, -97, -8, -58, -13, -86, -77, -72, -59, -15, -95, -16, -67, -98, -53, -87, -100, -70, -35, -93, -47, -79, -53, -69, -28, -33, -55, -11, -82, -20, -65, -88, -79, -42, -2, -86, -67, -90, -9, -46, -55, -72, -99, -35, -76, -82, -21, -86, -95, -13, -58, -1, -32, -81, -60, -62, -14, -62, -89, -82, -10, -44, -47, -20, -23, -33, -100, -85, -63, -100, -30, -39, -71, -1, -5, -44, -74, -9, -59, -41, -3, -6, -28, -41, -54, -66, -18, -7, -6, -77, -35, -19, -81, -62, -54, -42, -7, -62, -91, -57, -53, -64, -47, -69, -92, -38, -80, -32, -73, -18, -21, -75, -37, -40, -41, -6, -46, -60, -35, -80, -99, -42, -13, -73, -99, -99, -42, -88, -45, -40, -86, -74, -41, -50, -15, -7, -71]\n"
     ]
    }
   ],
   "source": [
    "# -100 ~ 100 범위에 정수 난수를 생성\n",
    "# 생성된 정수 중 양수는 'pos_result' 리스트에, 음수는 'reg_result'  리스트에 저장\n",
    "# 0이 생성되면 종료\n",
    "pos_result = []\n",
    "neg_result =[]\n",
    "num = random.randint(-100,100)\n",
    "while num != 0:\n",
    "    if num > 0 :\n",
    "        pos_result.append(num)\n",
    "    else :\n",
    "        neg_result.append(num)\n",
    "    num = random.randint(-100,100)\n",
    "print(pos_result)\n",
    "print(neg_result)"
   ]
  },
  {
   "cell_type": "code",
   "execution_count": 171,
   "id": "3ea24f01-25e7-4fa7-ad56-d26d43e8207c",
   "metadata": {},
   "outputs": [
    {
     "name": "stdout",
     "output_type": "stream",
     "text": [
      "[55, 32, 35, 81, 47, 70, 67, 6, 48, 65, 25, 83, 45, 88, 65, 53, 61, 82, 46, 34, 15, 29, 97, 24, 58, 94, 85, 1, 99]\n",
      "[-44, -95, -5, -77, -44, -35, -13, -19, -71, -14, -78, -50, -7, -30, -69, -99, -26, -10, -66, -88, -70, -67, -12, -87, -79, -58, -66, -63, -27, -44, -15, -14, -68, -23, -81, -88, -48, -96, -43]\n"
     ]
    }
   ],
   "source": [
    "# -100 ~ 100 범위에 정수 난수를 생성\n",
    "# 생성된 정수 중 양수는 'pos_result' 리스트에, 음수는 'reg_result'  리스트에 저장\n",
    "# 0이 생성되면 종료\n",
    "pos_result = []\n",
    "neg_result =[]\n",
    "while True :\n",
    "    num = random.randint(-100,100)\n",
    "    if num > 0 :\n",
    "        pos_result.append(num)\n",
    "    elif num < 0 :\n",
    "        neg_result.append(num)\n",
    "    else :\n",
    "        break\n",
    "print(pos_result)\n",
    "print(neg_result)"
   ]
  },
  {
   "cell_type": "code",
   "execution_count": 473,
   "id": "ec33bf65-7473-486b-9f3e-35e4d7bc90a2",
   "metadata": {},
   "outputs": [
    {
     "name": "stdout",
     "output_type": "stream",
     "text": [
      "[20, 95, 75, 21, 99, 14, 1, 49, 68, 75, 40, 52, 43, 44, 91, 50, 65]\n",
      "[-25, -94, -66, -40, -26, -16, -6, -55, -31, -85, -26, -32, -64, -94, -2, -25, -87, -33, -96, -53, -88, -39, -42, -66, -71, -57, -39, -80, -84, -37, -81]\n"
     ]
    }
   ],
   "source": [
    "pos_result = []\n",
    "neg_result =[]\n",
    "while (num := random.randint(-100,100)) != 0:\n",
    "    # := 왈러스 연산자 - 대입연산자 - if/while 조건절에서 쓴다. 단독으로 그냥 쓰면 오류!\n",
    "    #    값을 변수에 대입하고 while 조건절에서 사용!\n",
    "    #     대입연산자는 마지막에 계산되기때문에 뒤에 따로 비교를 하려면 ( ) 로 묶어줘야한다.\n",
    "    if num > 0 :\n",
    "        pos_result.append(num)\n",
    "    elif num < 0 :\n",
    "        neg_result.append(num)\n",
    "    else : \n",
    "        break\n",
    "print(pos_result)\n",
    "print(neg_result)"
   ]
  },
  {
   "cell_type": "code",
   "execution_count": 477,
   "id": "4b4afb09-81e9-4428-96c0-c1370e9e901c",
   "metadata": {},
   "outputs": [
    {
     "name": "stdout",
     "output_type": "stream",
     "text": [
      "20\n"
     ]
    }
   ],
   "source": [
    "# a := 20\n",
    "# print(a)\n",
    "(a:=20) > 0\n",
    "# a에 20을 넣고\n",
    "# a 와 0을 비교\n",
    "print(a)"
   ]
  },
  {
   "cell_type": "markdown",
   "id": "dc6099c5",
   "metadata": {
    "slideshow": {
     "slide_type": "slide"
    }
   },
   "source": [
    "## for in 문 연관 내장 함수\n",
    "\n",
    "### range()\n",
    "\n",
    "-   일정한 간격의 연속된 정수를 제공하는 반복가능 객체 생성한다.\n",
    "-   구문\n",
    "    -   `range([시작값], 멈춤값, [증감값])`\n",
    "        -   시작값, 멈춤값, 증감값 모두 정수만 가능하다.\n",
    "        -   시작값 > 멈춤값 이고 증감값이 음수이면 내림차순으로 값을 제공한다.\n",
    "        1. 전달값이 **1개: 멈춤값**.\n",
    "            - 0 ~ (멈춤값-1)까지 1씩 증가하는 정수를 제공\n",
    "        2. 전달값이 **2개: 시작값, 멈춤값**.\n",
    "            - 시작값 ~ (멈춤값-1) 까지 1씩 증가하는 정수 제공\n",
    "        3. 전달값이 **3개: 시작값, 멈춤값, 증감값(간격)**.\n",
    "            - 시작값 ~ (멈춤값-1)까지 증감값만큼 증가하는 정수를 제공.\n"
   ]
  },
  {
   "cell_type": "code",
   "execution_count": 480,
   "id": "352d937b",
   "metadata": {
    "slideshow": {
     "slide_type": "fragment"
    }
   },
   "outputs": [
    {
     "name": "stdout",
     "output_type": "stream",
     "text": [
      "10\t11\t12\t13\t14\t15\t16\t17\t18\t19\t"
     ]
    }
   ],
   "source": [
    "for v in range(10,20) :\n",
    "    print(v,end='\\t')"
   ]
  },
  {
   "cell_type": "code",
   "execution_count": 481,
   "id": "5c216f1e-2ff2-402a-bf3f-36c014629a18",
   "metadata": {
    "slideshow": {
     "slide_type": "fragment"
    }
   },
   "outputs": [
    {
     "name": "stdout",
     "output_type": "stream",
     "text": [
      "10\t13\t16\t19\t22\t25\t28\t"
     ]
    }
   ],
   "source": [
    "for v in range(10,30,3) :\n",
    "    print(v,end='\\t')"
   ]
  },
  {
   "cell_type": "code",
   "execution_count": null,
   "id": "1ed8fe06-a363-4653-8a70-43a362ae170f",
   "metadata": {},
   "outputs": [],
   "source": [
    "for v in range(20) : # 하나만 넣으면 종료값을 세팅한 것이다. range(종료값 20, 시작값 0, 간격 1)\n",
    "    print(v,end='\\t')"
   ]
  },
  {
   "cell_type": "code",
   "execution_count": 485,
   "id": "4400f319-bfc1-4224-8c5d-8573cf374655",
   "metadata": {},
   "outputs": [
    {
     "data": {
      "text/plain": [
       "(5, 6, 7, 8, 9, 10, 11, 12, 13, 14)"
      ]
     },
     "execution_count": 485,
     "metadata": {},
     "output_type": "execute_result"
    }
   ],
   "source": [
    "# range() : iterable\n",
    "l = list(range(1,11))\n",
    "l = set(range(-10,10))\n",
    "l = tuple(range(5,15))\n",
    "l"
   ]
  },
  {
   "cell_type": "code",
   "execution_count": 494,
   "id": "8180affb-7ce4-4ce7-aac4-c36768730367",
   "metadata": {},
   "outputs": [
    {
     "data": {
      "text/plain": [
       "[]"
      ]
     },
     "execution_count": 494,
     "metadata": {},
     "output_type": "execute_result"
    }
   ],
   "source": [
    "#reverse 역순\n",
    "l = list(range(10,-10))\n",
    "l"
   ]
  },
  {
   "cell_type": "code",
   "execution_count": null,
   "id": "04775f72-aaa8-429b-b172-292eb2450077",
   "metadata": {},
   "outputs": [],
   "source": [
    "for _ in range(10): #변수명을 _로 사용하는 경우 : 사용하지 않을 변수인데 문법때문에 넣어야할 경우.\n",
    "    print('안녕')"
   ]
  },
  {
   "cell_type": "code",
   "execution_count": null,
   "id": "7bdf3fc5-48c5-43e4-8e1c-d3c3f531a79c",
   "metadata": {},
   "outputs": [],
   "source": []
  },
  {
   "cell_type": "markdown",
   "id": "5de9d74e",
   "metadata": {
    "slideshow": {
     "slide_type": "subslide"
    }
   },
   "source": [
    "## enumerate()\n",
    "\n",
    "-   구문\n",
    "    -   `enumerate(Iterable,  [, start=정수])`\n",
    "        -   현재 몇번째 값을 제공하는 지(현재 몇번째 반복인지)를 나타내는 **index**와 제공하는 **원소**를 tuple로 묶어서 반환\n",
    "        -   Iterable\n",
    "            -   값을 제공할 Iterable객체\n",
    "        -   start: 정수\n",
    "            -   index 시작 값. 생략하면 0부터 시작한다.\n"
   ]
  },
  {
   "cell_type": "code",
   "execution_count": 500,
   "id": "33dd96c5",
   "metadata": {
    "slideshow": {
     "slide_type": "fragment"
    }
   },
   "outputs": [
    {
     "name": "stdout",
     "output_type": "stream",
     "text": [
      "(0, 10)\n",
      "(1, 11)\n",
      "(2, 12)\n",
      "(3, 13)\n",
      "(4, 14)\n",
      "(5, 15)\n",
      "(6, 16)\n",
      "(7, 17)\n",
      "(8, 18)\n",
      "(9, 19)\n"
     ]
    }
   ],
   "source": [
    "l = list(range(10,20))\n",
    "for v in enumerate(l) : # (index, 값) 으로 반환된다.\n",
    "    print(v)"
   ]
  },
  {
   "cell_type": "code",
   "execution_count": 501,
   "id": "e5cf3467-3a96-4bd2-b677-406e46310ffc",
   "metadata": {
    "slideshow": {
     "slide_type": "fragment"
    }
   },
   "outputs": [
    {
     "name": "stdout",
     "output_type": "stream",
     "text": [
      "0 10\t1 11\t2 12\t3 13\t4 14\t5 15\t6 16\t7 17\t8 18\t9 19\t"
     ]
    }
   ],
   "source": [
    "l = list(range(10,20))\n",
    "for idx, value in enumerate(l) : # (index, 값) 으로 반환된다.\n",
    "    print(idx,value, end='\\t')"
   ]
  },
  {
   "cell_type": "code",
   "execution_count": 503,
   "id": "6b1d56da-5f98-4bd6-84c1-c5c5e6204143",
   "metadata": {},
   "outputs": [
    {
     "name": "stdout",
     "output_type": "stream",
     "text": [
      "1000번째 결과\n",
      "2000번째 결과\n",
      "3000번째 결과\n",
      "4000번째 결과\n",
      "5000번째 결과\n",
      "6000번째 결과\n",
      "7000번째 결과\n",
      "8000번째 결과\n",
      "9000번째 결과\n",
      "10000번째 결과\n"
     ]
    }
   ],
   "source": [
    "# 10_000번 반복처리 -> 중간결과를 1_000번에 한번씩 출력\n",
    "for idx, value in enumerate(range(10000), start=1):\n",
    "    if idx % 1000 == 0 :\n",
    "        print(f\"{idx}번째 결과\")\n",
    "    \n"
   ]
  },
  {
   "cell_type": "code",
   "execution_count": null,
   "id": "ed1667d6-3f09-4317-a1ad-34800e2b8a30",
   "metadata": {},
   "outputs": [],
   "source": []
  },
  {
   "cell_type": "markdown",
   "id": "f5a5540f",
   "metadata": {
    "slideshow": {
     "slide_type": "subslide"
    }
   },
   "source": [
    "## zip()\n",
    "\n",
    "-   여러 개의 Iterable 객체를 받아 반복시 같은 index의 값끼리 튜플로 묶어 반환한다.\n",
    "-   구문\n",
    "    -   `zip(Iterable1, Iterable2, Iterable3 [, .......])`\n",
    "        -   Iterable 2개이상.전달한다.\n",
    "-   각 Iterable이 제공하는 원소의 개수가가 다를 경우 가장 적은 것의 개수에 맞춰 반복한다.\n"
   ]
  },
  {
   "cell_type": "code",
   "execution_count": 508,
   "id": "1b99057f",
   "metadata": {
    "scrolled": true,
    "slideshow": {
     "slide_type": "fragment"
    }
   },
   "outputs": [
    {
     "name": "stdout",
     "output_type": "stream",
     "text": [
      "<class 'tuple'> ('죠죠', 33, '서울')\n",
      "<class 'tuple'> ('디아크', 35, '인천')\n",
      "<class 'tuple'> ('휴즈', 56, '부산')\n"
     ]
    }
   ],
   "source": [
    "name_list = ['죠죠', '디아크', '휴즈']\n",
    "age_list = [33, 35, 56]\n",
    "addr_list = ['서울', '인천', '부산']\n",
    "# 같은 index와 같은 사람의 데이터,\n",
    "# 개별 사람의 데이터를 출력(죠죠, 33, 서울)\n",
    "for v in zip(name_list, age_list, addr_list) :\n",
    "    print(type(v), v)"
   ]
  },
  {
   "cell_type": "markdown",
   "id": "2df89dae",
   "metadata": {
    "slideshow": {
     "slide_type": "subslide"
    }
   },
   "source": [
    "# 컴프리헨션(Comprehension)\n",
    "\n",
    "-   기존 Iterable의 원소들을 이용해서 새로운 자료구조(List, Dictionary, Set)를 생성하는 구문.\n",
    "    -   기존 Iterable의 **원소들을 처리한 결과**나 **특정 조건이 True인 값들을** 새로운 자료구조에 넣을때 사용.\n",
    "    -   결과를 넣을 새로운 자료구조 타입에 따라 다음 세가지가 있다.\n",
    "        -   리스트 컴프리헨션\n",
    "        -   딕셔너리 컴프리헨션\n",
    "        -   셋 컴프리헨션\n",
    "- **튜플 컴프리헨션**은 tuple() 함수를 이용해서 만든다.\n",
    "-   **딕셔너리 컴프리헨션**과 **셋 컴프리헨션**은 파이썬 3 에 새로 추가되었다.\n",
    "-   컴프리헨션 문법은 iterable 을 타입을 넣는 곳에서는 다 적용할 수있다.\n"
   ]
  },
  {
   "cell_type": "code",
   "execution_count": 509,
   "id": "e04827d9",
   "metadata": {
    "slideshow": {
     "slide_type": "fragment"
    }
   },
   "outputs": [
    {
     "data": {
      "text/plain": [
       "[2, 4, 6]"
      ]
     },
     "execution_count": 509,
     "metadata": {},
     "output_type": "execute_result"
    }
   ],
   "source": [
    "#filtering\n",
    "l = [1, 2, 3, 4, 5, 6]\n",
    "result = []\n",
    "for v in l :\n",
    "    if v % 2 == 0 :\n",
    "        result.append(v)\n",
    "result\n"
   ]
  },
  {
   "cell_type": "code",
   "execution_count": 510,
   "id": "851885f5-7279-4c77-b959-e1d904f2e9ea",
   "metadata": {},
   "outputs": [
    {
     "data": {
      "text/plain": [
       "[2, 4, 6]"
      ]
     },
     "execution_count": 510,
     "metadata": {},
     "output_type": "execute_result"
    }
   ],
   "source": [
    "#mapping\n",
    "result2 = []\n",
    "for v in l :\n",
    "    result2.append(v*2)\n",
    "result"
   ]
  },
  {
   "cell_type": "code",
   "execution_count": 512,
   "id": "3dda2b52-0a22-45dc-8693-c064cef3e106",
   "metadata": {},
   "outputs": [
    {
     "name": "stdout",
     "output_type": "stream",
     "text": [
      "[3, 6, 9, 12, 15, 18]\n"
     ]
    }
   ],
   "source": [
    "#mapping을 컴프리헨션 문법으로 구현\n",
    "\n",
    "result3 = [v*3 for v in l ]\n",
    "print(result3)\n"
   ]
  },
  {
   "cell_type": "code",
   "execution_count": 513,
   "id": "9a6f2abc-0a47-4693-9e5b-7dce2ed89a52",
   "metadata": {},
   "outputs": [
    {
     "data": {
      "text/plain": [
       "{1: 3, 2: 6, 3: 9, 4: 12, 5: 15, 6: 18}"
      ]
     },
     "execution_count": 513,
     "metadata": {},
     "output_type": "execute_result"
    }
   ],
   "source": [
    "{v:v*3 for v in l}"
   ]
  },
  {
   "cell_type": "code",
   "execution_count": 514,
   "id": "e13a02ea-2982-47ae-bad5-3006bab0fa99",
   "metadata": {},
   "outputs": [
    {
     "data": {
      "text/plain": [
       "<generator object <genexpr> at 0x000001EA815817D0>"
      ]
     },
     "execution_count": 514,
     "metadata": {},
     "output_type": "execute_result"
    }
   ],
   "source": [
    "(v*3 for v in l) #generator 생성"
   ]
  },
  {
   "cell_type": "code",
   "execution_count": 516,
   "id": "4afaea51-d52a-42b6-8421-ee5b995defc9",
   "metadata": {},
   "outputs": [
    {
     "data": {
      "text/plain": [
       "(3, 6, 9, 12, 15, 18)"
      ]
     },
     "execution_count": 516,
     "metadata": {},
     "output_type": "execute_result"
    }
   ],
   "source": [
    "tuple(v*3 for v in l)"
   ]
  },
  {
   "cell_type": "code",
   "execution_count": 518,
   "id": "09fd89ec-1f70-44ff-9657-fcc29ec71bf2",
   "metadata": {},
   "outputs": [
    {
     "data": {
      "text/plain": [
       "[2, 4, 6]"
      ]
     },
     "execution_count": 518,
     "metadata": {},
     "output_type": "execute_result"
    }
   ],
   "source": [
    "#filtering을 컴프리헨션 문법으로 구현\n",
    "result4 = [ v for v in l if v % 2 == 0 ]\n",
    "result4"
   ]
  },
  {
   "cell_type": "code",
   "execution_count": 523,
   "id": "09e90874-aa34-4610-8bd3-192d5504e615",
   "metadata": {},
   "outputs": [
    {
     "data": {
      "text/plain": [
       "[5, 7, 3]"
      ]
     },
     "execution_count": 523,
     "metadata": {},
     "output_type": "execute_result"
    }
   ],
   "source": [
    "l2 = [\n",
    "    [10, 5, 7]\n",
    "    , [3, 50, 4]    \n",
    "]\n",
    "\n",
    "#l2 원소 중 홀수만 저장\n",
    "# result = [\n",
    "    \n",
    "    \n",
    "# ]\n",
    "result = []\n",
    "for l in l2 :\n",
    "    for v in l :\n",
    "        if v%2 != 0 :\n",
    "            result.append(v)\n",
    "result\n",
    "\n",
    "\n",
    "\n"
   ]
  },
  {
   "cell_type": "code",
   "execution_count": 525,
   "id": "91419a6f-3f52-442a-ab87-3203f18e3363",
   "metadata": {},
   "outputs": [
    {
     "data": {
      "text/plain": [
       "[5, 7, 3]"
      ]
     },
     "execution_count": 525,
     "metadata": {},
     "output_type": "execute_result"
    }
   ],
   "source": [
    "result2 = [ v for l in l2         for v in l          if v % 2 !=0  ]\n",
    "result2"
   ]
  },
  {
   "cell_type": "code",
   "execution_count": null,
   "id": "3b0281e0-1941-4c85-a1c8-17145b81c8c9",
   "metadata": {},
   "outputs": [],
   "source": []
  },
  {
   "cell_type": "code",
   "execution_count": null,
   "id": "bb969271-c115-47c1-b914-d76b65a94482",
   "metadata": {},
   "outputs": [],
   "source": []
  },
  {
   "cell_type": "markdown",
   "id": "092288d7",
   "metadata": {
    "slideshow": {
     "slide_type": "skip"
    }
   },
   "source": [
    "# TODO\n"
   ]
  },
  {
   "cell_type": "code",
   "execution_count": null,
   "id": "a0cc04fa",
   "metadata": {
    "slideshow": {
     "slide_type": "skip"
    }
   },
   "outputs": [],
   "source": [
    "# (1) 사용자로 부터 ID를 입력 받은 뒤 입력받은 ID가 5글자 이상이면 \"사용할 수 있습니다.\"를 5글자 미만이면 \"사용할 수 없는 ID입니다.\"를 출력하세요.\n",
    "\n",
    "\n",
    "# (2) 사용자로부터 우리나라 도시명을 입력 받은 뒤 입력받은 도시명이 서울이면 \"특별시\"를 인천,부산,광주,대구,대전,울산 이면 \"광역시\"를 나머지는 \"특별시나 광역시가 아닙니다.\"를 출력하세요.\n",
    "\n",
    "\n",
    "# (3-4)\n",
    "# (3) 아래 리스트의 평균을 구하시오.\n",
    "jumsu = [100, 90, 100, 80, 70, 100, 80, 90, 95, 85]\n",
    "\n",
    "\n",
    "# (4) 위 jumsu리스트에서 평균점수이상은 pass, 미만은 fail을 index번호와 함께 출력하시오. (ex: 0-pass, 1-pass, 2-fail)\n",
    "\n",
    "\n",
    "# (5) 아래 리스트 값들 중 최대값을 조회해 출력하시오.\n",
    "jumsu = [60, 90, 80, 80, 70, 55, 80, 90, 95, 85]\n",
    "\n",
    "\n",
    "# (6) 사용자로부터 정수를 입력받아 그 정수 단의 구구단을 출력하시오.\n",
    "# ex)\n",
    "# 단을 입력하시오 : 2\n",
    "# 2 x 1 = 2\n",
    "# 2 x 2 = 4\n",
    "# ..\n",
    "# 2 x 9 = 18\n",
    "\n",
    "# 컴프리헨션\n",
    "\n",
    "\n",
    "# (7) 다음 리스트의 원소들에 10배한 값을 (원래값, 10배값) 의 튜플 묶음으로 가지는 리스트를 만드시오 (리스트 컴프리헨션 이용)\n",
    "# Ex) [(10,100), (30,300), .., (35, 350)]\n",
    "lst = [10, 30, 70, 5, 5, 120, 700, 1, 35, 35]\n",
    "\n",
    "\n",
    "# (8) 다음 리스트가 가진 값들 중 3의 배수만 가지는 리스트를 만드시오. (리스트 컴프리헨션 이용)\n",
    "lst2 = [3, 20, 33, 21, 33, 8, 11, 10, 7, 17, 60, 120, 2]\n",
    "\n",
    "\n",
    "# (9)) 다음 파일이름들을 담은 리스트에서 확장자가 exe인 파일만 골라서 새로운 리스트에 담으시오.(string의 endswith()함수 이용)\n",
    "file_names = [\n",
    "    \"test.txt\",\n",
    "    \"a.exe\",\n",
    "    \"jupyter.bat\",\n",
    "    \"function.exe\",\n",
    "    \"b.exe\",\n",
    "    \"cat.jpg\",\n",
    "    \"dog.png\",\n",
    "    \"run.exe\",\n",
    "    \"i.dll\",\n",
    "]\n",
    "\n",
    "\n",
    "# (10) 다음 중 10글자 이상인 파일명(확장자포함)만 가지는 리스트를 만드시오.\n",
    "file_names = [\n",
    "    \"mystroy.txt\",\n",
    "    \"a.exe\",\n",
    "    \"jupyter.bat\",\n",
    "    \"function.exe\",\n",
    "    \"b.exe\",\n",
    "    \"cat.jpg\",\n",
    "    \"dog.png\",\n",
    "    \"run.exe\",\n",
    "    \"i.dll\",\n",
    "]"
   ]
  }
 ],
 "metadata": {
  "kernelspec": {
   "display_name": "Python 3 (ipykernel)",
   "language": "python",
   "name": "python3"
  },
  "language_info": {
   "codemirror_mode": {
    "name": "ipython",
    "version": 3
   },
   "file_extension": ".py",
   "mimetype": "text/x-python",
   "name": "python",
   "nbconvert_exporter": "python",
   "pygments_lexer": "ipython3",
   "version": "3.12.9"
  },
  "toc": {
   "base_numbering": 1,
   "nav_menu": {},
   "number_sections": true,
   "sideBar": true,
   "skip_h1_title": false,
   "title_cell": "Table of Contents",
   "title_sidebar": "Contents",
   "toc_cell": false,
   "toc_position": {},
   "toc_section_display": true,
   "toc_window_display": false
  },
  "varInspector": {
   "cols": {
    "lenName": 16,
    "lenType": 16,
    "lenVar": 40
   },
   "kernels_config": {
    "python": {
     "delete_cmd_postfix": "",
     "delete_cmd_prefix": "del ",
     "library": "var_list.py",
     "varRefreshCmd": "print(var_dic_list())"
    },
    "r": {
     "delete_cmd_postfix": ") ",
     "delete_cmd_prefix": "rm(",
     "library": "var_list.r",
     "varRefreshCmd": "cat(var_dic_list()) "
    }
   },
   "types_to_exclude": [
    "module",
    "function",
    "builtin_function_or_method",
    "instance",
    "_Feature"
   ],
   "window_display": false
  }
 },
 "nbformat": 4,
 "nbformat_minor": 5
}
